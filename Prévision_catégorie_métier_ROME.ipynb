{
  "nbformat": 4,
  "nbformat_minor": 0,
  "metadata": {
    "colab": {
      "name": "Copie de Prévision catégorie métier ROME.ipynb",
      "provenance": [],
      "collapsed_sections": [],
      "toc_visible": true,
      "include_colab_link": true
    },
    "kernelspec": {
      "display_name": "Python 3",
      "name": "python3"
    },
    "widgets": {
      "application/vnd.jupyter.widget-state+json": {
        "fde68fdaa23a439e8e95165a1838c9c2": {
          "model_module": "@jupyter-widgets/controls",
          "model_name": "HBoxModel",
          "state": {
            "_view_name": "HBoxView",
            "_dom_classes": [],
            "_model_name": "HBoxModel",
            "_view_module": "@jupyter-widgets/controls",
            "_model_module_version": "1.5.0",
            "_view_count": null,
            "_view_module_version": "1.5.0",
            "box_style": "",
            "layout": "IPY_MODEL_f6a2761ff54f46dfb4a03ff860f1752b",
            "_model_module": "@jupyter-widgets/controls",
            "children": [
              "IPY_MODEL_2fdb00e20104419595e3da1a57d04d42",
              "IPY_MODEL_922b64e65372434c8f80f23735c1b89d"
            ]
          }
        },
        "f6a2761ff54f46dfb4a03ff860f1752b": {
          "model_module": "@jupyter-widgets/base",
          "model_name": "LayoutModel",
          "state": {
            "_view_name": "LayoutView",
            "grid_template_rows": null,
            "right": null,
            "justify_content": null,
            "_view_module": "@jupyter-widgets/base",
            "overflow": null,
            "_model_module_version": "1.2.0",
            "_view_count": null,
            "flex_flow": null,
            "width": null,
            "min_width": null,
            "border": null,
            "align_items": null,
            "bottom": null,
            "_model_module": "@jupyter-widgets/base",
            "top": null,
            "grid_column": null,
            "overflow_y": null,
            "overflow_x": null,
            "grid_auto_flow": null,
            "grid_area": null,
            "grid_template_columns": null,
            "flex": null,
            "_model_name": "LayoutModel",
            "justify_items": null,
            "grid_row": null,
            "max_height": null,
            "align_content": null,
            "visibility": null,
            "align_self": null,
            "height": null,
            "min_height": null,
            "padding": null,
            "grid_auto_rows": null,
            "grid_gap": null,
            "max_width": null,
            "order": null,
            "_view_module_version": "1.2.0",
            "grid_template_areas": null,
            "object_position": null,
            "object_fit": null,
            "grid_auto_columns": null,
            "margin": null,
            "display": null,
            "left": null
          }
        },
        "2fdb00e20104419595e3da1a57d04d42": {
          "model_module": "@jupyter-widgets/controls",
          "model_name": "FloatProgressModel",
          "state": {
            "_view_name": "ProgressView",
            "style": "IPY_MODEL_d618ff3d8a374ed28d8b09612b94fae9",
            "_dom_classes": [],
            "description": "Downloading: 100%",
            "_model_name": "FloatProgressModel",
            "bar_style": "success",
            "max": 810912,
            "_view_module": "@jupyter-widgets/controls",
            "_model_module_version": "1.5.0",
            "value": 810912,
            "_view_count": null,
            "_view_module_version": "1.5.0",
            "orientation": "horizontal",
            "min": 0,
            "description_tooltip": null,
            "_model_module": "@jupyter-widgets/controls",
            "layout": "IPY_MODEL_0dbf77e494164011b0e708c435af4c14"
          }
        },
        "922b64e65372434c8f80f23735c1b89d": {
          "model_module": "@jupyter-widgets/controls",
          "model_name": "HTMLModel",
          "state": {
            "_view_name": "HTMLView",
            "style": "IPY_MODEL_d50c12bf4ecb4aba8723a3774f9c9c62",
            "_dom_classes": [],
            "description": "",
            "_model_name": "HTMLModel",
            "placeholder": "​",
            "_view_module": "@jupyter-widgets/controls",
            "_model_module_version": "1.5.0",
            "value": " 811k/811k [00:01&lt;00:00, 496kB/s]",
            "_view_count": null,
            "_view_module_version": "1.5.0",
            "description_tooltip": null,
            "_model_module": "@jupyter-widgets/controls",
            "layout": "IPY_MODEL_c326baa33d1b4f05a2db3a8392bf4af0"
          }
        },
        "d618ff3d8a374ed28d8b09612b94fae9": {
          "model_module": "@jupyter-widgets/controls",
          "model_name": "ProgressStyleModel",
          "state": {
            "_view_name": "StyleView",
            "_model_name": "ProgressStyleModel",
            "description_width": "initial",
            "_view_module": "@jupyter-widgets/base",
            "_model_module_version": "1.5.0",
            "_view_count": null,
            "_view_module_version": "1.2.0",
            "bar_color": null,
            "_model_module": "@jupyter-widgets/controls"
          }
        },
        "0dbf77e494164011b0e708c435af4c14": {
          "model_module": "@jupyter-widgets/base",
          "model_name": "LayoutModel",
          "state": {
            "_view_name": "LayoutView",
            "grid_template_rows": null,
            "right": null,
            "justify_content": null,
            "_view_module": "@jupyter-widgets/base",
            "overflow": null,
            "_model_module_version": "1.2.0",
            "_view_count": null,
            "flex_flow": null,
            "width": null,
            "min_width": null,
            "border": null,
            "align_items": null,
            "bottom": null,
            "_model_module": "@jupyter-widgets/base",
            "top": null,
            "grid_column": null,
            "overflow_y": null,
            "overflow_x": null,
            "grid_auto_flow": null,
            "grid_area": null,
            "grid_template_columns": null,
            "flex": null,
            "_model_name": "LayoutModel",
            "justify_items": null,
            "grid_row": null,
            "max_height": null,
            "align_content": null,
            "visibility": null,
            "align_self": null,
            "height": null,
            "min_height": null,
            "padding": null,
            "grid_auto_rows": null,
            "grid_gap": null,
            "max_width": null,
            "order": null,
            "_view_module_version": "1.2.0",
            "grid_template_areas": null,
            "object_position": null,
            "object_fit": null,
            "grid_auto_columns": null,
            "margin": null,
            "display": null,
            "left": null
          }
        },
        "d50c12bf4ecb4aba8723a3774f9c9c62": {
          "model_module": "@jupyter-widgets/controls",
          "model_name": "DescriptionStyleModel",
          "state": {
            "_view_name": "StyleView",
            "_model_name": "DescriptionStyleModel",
            "description_width": "",
            "_view_module": "@jupyter-widgets/base",
            "_model_module_version": "1.5.0",
            "_view_count": null,
            "_view_module_version": "1.2.0",
            "_model_module": "@jupyter-widgets/controls"
          }
        },
        "c326baa33d1b4f05a2db3a8392bf4af0": {
          "model_module": "@jupyter-widgets/base",
          "model_name": "LayoutModel",
          "state": {
            "_view_name": "LayoutView",
            "grid_template_rows": null,
            "right": null,
            "justify_content": null,
            "_view_module": "@jupyter-widgets/base",
            "overflow": null,
            "_model_module_version": "1.2.0",
            "_view_count": null,
            "flex_flow": null,
            "width": null,
            "min_width": null,
            "border": null,
            "align_items": null,
            "bottom": null,
            "_model_module": "@jupyter-widgets/base",
            "top": null,
            "grid_column": null,
            "overflow_y": null,
            "overflow_x": null,
            "grid_auto_flow": null,
            "grid_area": null,
            "grid_template_columns": null,
            "flex": null,
            "_model_name": "LayoutModel",
            "justify_items": null,
            "grid_row": null,
            "max_height": null,
            "align_content": null,
            "visibility": null,
            "align_self": null,
            "height": null,
            "min_height": null,
            "padding": null,
            "grid_auto_rows": null,
            "grid_gap": null,
            "max_width": null,
            "order": null,
            "_view_module_version": "1.2.0",
            "grid_template_areas": null,
            "object_position": null,
            "object_fit": null,
            "grid_auto_columns": null,
            "margin": null,
            "display": null,
            "left": null
          }
        },
        "61f685acb1b04ec9b45c90c61ef69e65": {
          "model_module": "@jupyter-widgets/controls",
          "model_name": "HBoxModel",
          "state": {
            "_view_name": "HBoxView",
            "_dom_classes": [],
            "_model_name": "HBoxModel",
            "_view_module": "@jupyter-widgets/controls",
            "_model_module_version": "1.5.0",
            "_view_count": null,
            "_view_module_version": "1.5.0",
            "box_style": "",
            "layout": "IPY_MODEL_d8ead0408f384c2f86aec972587f5826",
            "_model_module": "@jupyter-widgets/controls",
            "children": [
              "IPY_MODEL_68b5fd90ee0e4d1584c675f82f0979bd",
              "IPY_MODEL_fcf41bc399ff406fa2e1777031861b8a"
            ]
          }
        },
        "d8ead0408f384c2f86aec972587f5826": {
          "model_module": "@jupyter-widgets/base",
          "model_name": "LayoutModel",
          "state": {
            "_view_name": "LayoutView",
            "grid_template_rows": null,
            "right": null,
            "justify_content": null,
            "_view_module": "@jupyter-widgets/base",
            "overflow": null,
            "_model_module_version": "1.2.0",
            "_view_count": null,
            "flex_flow": null,
            "width": null,
            "min_width": null,
            "border": null,
            "align_items": null,
            "bottom": null,
            "_model_module": "@jupyter-widgets/base",
            "top": null,
            "grid_column": null,
            "overflow_y": null,
            "overflow_x": null,
            "grid_auto_flow": null,
            "grid_area": null,
            "grid_template_columns": null,
            "flex": null,
            "_model_name": "LayoutModel",
            "justify_items": null,
            "grid_row": null,
            "max_height": null,
            "align_content": null,
            "visibility": null,
            "align_self": null,
            "height": null,
            "min_height": null,
            "padding": null,
            "grid_auto_rows": null,
            "grid_gap": null,
            "max_width": null,
            "order": null,
            "_view_module_version": "1.2.0",
            "grid_template_areas": null,
            "object_position": null,
            "object_fit": null,
            "grid_auto_columns": null,
            "margin": null,
            "display": null,
            "left": null
          }
        },
        "68b5fd90ee0e4d1584c675f82f0979bd": {
          "model_module": "@jupyter-widgets/controls",
          "model_name": "FloatProgressModel",
          "state": {
            "_view_name": "ProgressView",
            "style": "IPY_MODEL_6a0c023c2554416bbce85ba61da5d86a",
            "_dom_classes": [],
            "description": "100%",
            "_model_name": "FloatProgressModel",
            "bar_style": "success",
            "max": 5,
            "_view_module": "@jupyter-widgets/controls",
            "_model_module_version": "1.5.0",
            "value": 5,
            "_view_count": null,
            "_view_module_version": "1.5.0",
            "orientation": "horizontal",
            "min": 0,
            "description_tooltip": null,
            "_model_module": "@jupyter-widgets/controls",
            "layout": "IPY_MODEL_0467a3b13bf94e55bd3dd80a9ce6748b"
          }
        },
        "fcf41bc399ff406fa2e1777031861b8a": {
          "model_module": "@jupyter-widgets/controls",
          "model_name": "HTMLModel",
          "state": {
            "_view_name": "HTMLView",
            "style": "IPY_MODEL_7ccd08f8618749069cde6b444082966b",
            "_dom_classes": [],
            "description": "",
            "_model_name": "HTMLModel",
            "placeholder": "​",
            "_view_module": "@jupyter-widgets/controls",
            "_model_module_version": "1.5.0",
            "value": " 5/5 [03:16&lt;00:00, 39.30s/it]",
            "_view_count": null,
            "_view_module_version": "1.5.0",
            "description_tooltip": null,
            "_model_module": "@jupyter-widgets/controls",
            "layout": "IPY_MODEL_ad12feb49a7947a6b48bf1b25871d7fc"
          }
        },
        "6a0c023c2554416bbce85ba61da5d86a": {
          "model_module": "@jupyter-widgets/controls",
          "model_name": "ProgressStyleModel",
          "state": {
            "_view_name": "StyleView",
            "_model_name": "ProgressStyleModel",
            "description_width": "initial",
            "_view_module": "@jupyter-widgets/base",
            "_model_module_version": "1.5.0",
            "_view_count": null,
            "_view_module_version": "1.2.0",
            "bar_color": null,
            "_model_module": "@jupyter-widgets/controls"
          }
        },
        "0467a3b13bf94e55bd3dd80a9ce6748b": {
          "model_module": "@jupyter-widgets/base",
          "model_name": "LayoutModel",
          "state": {
            "_view_name": "LayoutView",
            "grid_template_rows": null,
            "right": null,
            "justify_content": null,
            "_view_module": "@jupyter-widgets/base",
            "overflow": null,
            "_model_module_version": "1.2.0",
            "_view_count": null,
            "flex_flow": null,
            "width": null,
            "min_width": null,
            "border": null,
            "align_items": null,
            "bottom": null,
            "_model_module": "@jupyter-widgets/base",
            "top": null,
            "grid_column": null,
            "overflow_y": null,
            "overflow_x": null,
            "grid_auto_flow": null,
            "grid_area": null,
            "grid_template_columns": null,
            "flex": null,
            "_model_name": "LayoutModel",
            "justify_items": null,
            "grid_row": null,
            "max_height": null,
            "align_content": null,
            "visibility": null,
            "align_self": null,
            "height": null,
            "min_height": null,
            "padding": null,
            "grid_auto_rows": null,
            "grid_gap": null,
            "max_width": null,
            "order": null,
            "_view_module_version": "1.2.0",
            "grid_template_areas": null,
            "object_position": null,
            "object_fit": null,
            "grid_auto_columns": null,
            "margin": null,
            "display": null,
            "left": null
          }
        },
        "7ccd08f8618749069cde6b444082966b": {
          "model_module": "@jupyter-widgets/controls",
          "model_name": "DescriptionStyleModel",
          "state": {
            "_view_name": "StyleView",
            "_model_name": "DescriptionStyleModel",
            "description_width": "",
            "_view_module": "@jupyter-widgets/base",
            "_model_module_version": "1.5.0",
            "_view_count": null,
            "_view_module_version": "1.2.0",
            "_model_module": "@jupyter-widgets/controls"
          }
        },
        "ad12feb49a7947a6b48bf1b25871d7fc": {
          "model_module": "@jupyter-widgets/base",
          "model_name": "LayoutModel",
          "state": {
            "_view_name": "LayoutView",
            "grid_template_rows": null,
            "right": null,
            "justify_content": null,
            "_view_module": "@jupyter-widgets/base",
            "overflow": null,
            "_model_module_version": "1.2.0",
            "_view_count": null,
            "flex_flow": null,
            "width": null,
            "min_width": null,
            "border": null,
            "align_items": null,
            "bottom": null,
            "_model_module": "@jupyter-widgets/base",
            "top": null,
            "grid_column": null,
            "overflow_y": null,
            "overflow_x": null,
            "grid_auto_flow": null,
            "grid_area": null,
            "grid_template_columns": null,
            "flex": null,
            "_model_name": "LayoutModel",
            "justify_items": null,
            "grid_row": null,
            "max_height": null,
            "align_content": null,
            "visibility": null,
            "align_self": null,
            "height": null,
            "min_height": null,
            "padding": null,
            "grid_auto_rows": null,
            "grid_gap": null,
            "max_width": null,
            "order": null,
            "_view_module_version": "1.2.0",
            "grid_template_areas": null,
            "object_position": null,
            "object_fit": null,
            "grid_auto_columns": null,
            "margin": null,
            "display": null,
            "left": null
          }
        },
        "e75466eb2bc047c585206253ca0d2bbe": {
          "model_module": "@jupyter-widgets/controls",
          "model_name": "HBoxModel",
          "state": {
            "_view_name": "HBoxView",
            "_dom_classes": [],
            "_model_name": "HBoxModel",
            "_view_module": "@jupyter-widgets/controls",
            "_model_module_version": "1.5.0",
            "_view_count": null,
            "_view_module_version": "1.5.0",
            "box_style": "",
            "layout": "IPY_MODEL_51d5ed25ae684da48b500bca685dd9ca",
            "_model_module": "@jupyter-widgets/controls",
            "children": [
              "IPY_MODEL_85ff6390795b446194b49652bd900bea",
              "IPY_MODEL_60e5225896fe41fab1fc890e82800044"
            ]
          }
        },
        "51d5ed25ae684da48b500bca685dd9ca": {
          "model_module": "@jupyter-widgets/base",
          "model_name": "LayoutModel",
          "state": {
            "_view_name": "LayoutView",
            "grid_template_rows": null,
            "right": null,
            "justify_content": null,
            "_view_module": "@jupyter-widgets/base",
            "overflow": null,
            "_model_module_version": "1.2.0",
            "_view_count": null,
            "flex_flow": null,
            "width": null,
            "min_width": null,
            "border": null,
            "align_items": null,
            "bottom": null,
            "_model_module": "@jupyter-widgets/base",
            "top": null,
            "grid_column": null,
            "overflow_y": null,
            "overflow_x": null,
            "grid_auto_flow": null,
            "grid_area": null,
            "grid_template_columns": null,
            "flex": null,
            "_model_name": "LayoutModel",
            "justify_items": null,
            "grid_row": null,
            "max_height": null,
            "align_content": null,
            "visibility": null,
            "align_self": null,
            "height": null,
            "min_height": null,
            "padding": null,
            "grid_auto_rows": null,
            "grid_gap": null,
            "max_width": null,
            "order": null,
            "_view_module_version": "1.2.0",
            "grid_template_areas": null,
            "object_position": null,
            "object_fit": null,
            "grid_auto_columns": null,
            "margin": null,
            "display": null,
            "left": null
          }
        },
        "85ff6390795b446194b49652bd900bea": {
          "model_module": "@jupyter-widgets/controls",
          "model_name": "FloatProgressModel",
          "state": {
            "_view_name": "ProgressView",
            "style": "IPY_MODEL_da6b05f1cb07484fa415e7ce72e669b9",
            "_dom_classes": [],
            "description": "Epoch 1: 100%",
            "_model_name": "FloatProgressModel",
            "bar_style": "",
            "max": 291,
            "_view_module": "@jupyter-widgets/controls",
            "_model_module_version": "1.5.0",
            "value": 291,
            "_view_count": null,
            "_view_module_version": "1.5.0",
            "orientation": "horizontal",
            "min": 0,
            "description_tooltip": null,
            "_model_module": "@jupyter-widgets/controls",
            "layout": "IPY_MODEL_8c3bc3bb888c4afa85152d11822eb4a8"
          }
        },
        "60e5225896fe41fab1fc890e82800044": {
          "model_module": "@jupyter-widgets/controls",
          "model_name": "HTMLModel",
          "state": {
            "_view_name": "HTMLView",
            "style": "IPY_MODEL_2e80e549355d46baad94b00f01ac458c",
            "_dom_classes": [],
            "description": "",
            "_model_name": "HTMLModel",
            "placeholder": "​",
            "_view_module": "@jupyter-widgets/controls",
            "_model_module_version": "1.5.0",
            "value": " 291/291 [00:34&lt;00:00,  8.44it/s, training_loss=0.762]",
            "_view_count": null,
            "_view_module_version": "1.5.0",
            "description_tooltip": null,
            "_model_module": "@jupyter-widgets/controls",
            "layout": "IPY_MODEL_5af7c9cf3ed34c83954efee0a852319a"
          }
        },
        "da6b05f1cb07484fa415e7ce72e669b9": {
          "model_module": "@jupyter-widgets/controls",
          "model_name": "ProgressStyleModel",
          "state": {
            "_view_name": "StyleView",
            "_model_name": "ProgressStyleModel",
            "description_width": "initial",
            "_view_module": "@jupyter-widgets/base",
            "_model_module_version": "1.5.0",
            "_view_count": null,
            "_view_module_version": "1.2.0",
            "bar_color": null,
            "_model_module": "@jupyter-widgets/controls"
          }
        },
        "8c3bc3bb888c4afa85152d11822eb4a8": {
          "model_module": "@jupyter-widgets/base",
          "model_name": "LayoutModel",
          "state": {
            "_view_name": "LayoutView",
            "grid_template_rows": null,
            "right": null,
            "justify_content": null,
            "_view_module": "@jupyter-widgets/base",
            "overflow": null,
            "_model_module_version": "1.2.0",
            "_view_count": null,
            "flex_flow": null,
            "width": null,
            "min_width": null,
            "border": null,
            "align_items": null,
            "bottom": null,
            "_model_module": "@jupyter-widgets/base",
            "top": null,
            "grid_column": null,
            "overflow_y": null,
            "overflow_x": null,
            "grid_auto_flow": null,
            "grid_area": null,
            "grid_template_columns": null,
            "flex": null,
            "_model_name": "LayoutModel",
            "justify_items": null,
            "grid_row": null,
            "max_height": null,
            "align_content": null,
            "visibility": null,
            "align_self": null,
            "height": null,
            "min_height": null,
            "padding": null,
            "grid_auto_rows": null,
            "grid_gap": null,
            "max_width": null,
            "order": null,
            "_view_module_version": "1.2.0",
            "grid_template_areas": null,
            "object_position": null,
            "object_fit": null,
            "grid_auto_columns": null,
            "margin": null,
            "display": null,
            "left": null
          }
        },
        "2e80e549355d46baad94b00f01ac458c": {
          "model_module": "@jupyter-widgets/controls",
          "model_name": "DescriptionStyleModel",
          "state": {
            "_view_name": "StyleView",
            "_model_name": "DescriptionStyleModel",
            "description_width": "",
            "_view_module": "@jupyter-widgets/base",
            "_model_module_version": "1.5.0",
            "_view_count": null,
            "_view_module_version": "1.2.0",
            "_model_module": "@jupyter-widgets/controls"
          }
        },
        "5af7c9cf3ed34c83954efee0a852319a": {
          "model_module": "@jupyter-widgets/base",
          "model_name": "LayoutModel",
          "state": {
            "_view_name": "LayoutView",
            "grid_template_rows": null,
            "right": null,
            "justify_content": null,
            "_view_module": "@jupyter-widgets/base",
            "overflow": null,
            "_model_module_version": "1.2.0",
            "_view_count": null,
            "flex_flow": null,
            "width": null,
            "min_width": null,
            "border": null,
            "align_items": null,
            "bottom": null,
            "_model_module": "@jupyter-widgets/base",
            "top": null,
            "grid_column": null,
            "overflow_y": null,
            "overflow_x": null,
            "grid_auto_flow": null,
            "grid_area": null,
            "grid_template_columns": null,
            "flex": null,
            "_model_name": "LayoutModel",
            "justify_items": null,
            "grid_row": null,
            "max_height": null,
            "align_content": null,
            "visibility": null,
            "align_self": null,
            "height": null,
            "min_height": null,
            "padding": null,
            "grid_auto_rows": null,
            "grid_gap": null,
            "max_width": null,
            "order": null,
            "_view_module_version": "1.2.0",
            "grid_template_areas": null,
            "object_position": null,
            "object_fit": null,
            "grid_auto_columns": null,
            "margin": null,
            "display": null,
            "left": null
          }
        },
        "ebe5e5d90c8549319213459bf6645535": {
          "model_module": "@jupyter-widgets/controls",
          "model_name": "HBoxModel",
          "state": {
            "_view_name": "HBoxView",
            "_dom_classes": [],
            "_model_name": "HBoxModel",
            "_view_module": "@jupyter-widgets/controls",
            "_model_module_version": "1.5.0",
            "_view_count": null,
            "_view_module_version": "1.5.0",
            "box_style": "",
            "layout": "IPY_MODEL_f920180f3ce94840befb35d4c0deb0ba",
            "_model_module": "@jupyter-widgets/controls",
            "children": [
              "IPY_MODEL_5573b8cf008142118bb2505d37d67e6d",
              "IPY_MODEL_d5d95edc888d4e5ab50c2e2b8f9ab012"
            ]
          }
        },
        "f920180f3ce94840befb35d4c0deb0ba": {
          "model_module": "@jupyter-widgets/base",
          "model_name": "LayoutModel",
          "state": {
            "_view_name": "LayoutView",
            "grid_template_rows": null,
            "right": null,
            "justify_content": null,
            "_view_module": "@jupyter-widgets/base",
            "overflow": null,
            "_model_module_version": "1.2.0",
            "_view_count": null,
            "flex_flow": null,
            "width": null,
            "min_width": null,
            "border": null,
            "align_items": null,
            "bottom": null,
            "_model_module": "@jupyter-widgets/base",
            "top": null,
            "grid_column": null,
            "overflow_y": null,
            "overflow_x": null,
            "grid_auto_flow": null,
            "grid_area": null,
            "grid_template_columns": null,
            "flex": null,
            "_model_name": "LayoutModel",
            "justify_items": null,
            "grid_row": null,
            "max_height": null,
            "align_content": null,
            "visibility": null,
            "align_self": null,
            "height": null,
            "min_height": null,
            "padding": null,
            "grid_auto_rows": null,
            "grid_gap": null,
            "max_width": null,
            "order": null,
            "_view_module_version": "1.2.0",
            "grid_template_areas": null,
            "object_position": null,
            "object_fit": null,
            "grid_auto_columns": null,
            "margin": null,
            "display": null,
            "left": null
          }
        },
        "5573b8cf008142118bb2505d37d67e6d": {
          "model_module": "@jupyter-widgets/controls",
          "model_name": "FloatProgressModel",
          "state": {
            "_view_name": "ProgressView",
            "style": "IPY_MODEL_2eeb342ea9774acf8249dcfd65403e62",
            "_dom_classes": [],
            "description": "Epoch 2: 100%",
            "_model_name": "FloatProgressModel",
            "bar_style": "",
            "max": 291,
            "_view_module": "@jupyter-widgets/controls",
            "_model_module_version": "1.5.0",
            "value": 291,
            "_view_count": null,
            "_view_module_version": "1.5.0",
            "orientation": "horizontal",
            "min": 0,
            "description_tooltip": null,
            "_model_module": "@jupyter-widgets/controls",
            "layout": "IPY_MODEL_503fb691aa8c4a0d986344e0c3fcf861"
          }
        },
        "d5d95edc888d4e5ab50c2e2b8f9ab012": {
          "model_module": "@jupyter-widgets/controls",
          "model_name": "HTMLModel",
          "state": {
            "_view_name": "HTMLView",
            "style": "IPY_MODEL_230ae39c2b714a52affa4969dad9f9ba",
            "_dom_classes": [],
            "description": "",
            "_model_name": "HTMLModel",
            "placeholder": "​",
            "_view_module": "@jupyter-widgets/controls",
            "_model_module_version": "1.5.0",
            "value": " 291/291 [00:34&lt;00:00,  8.41it/s, training_loss=0.768]",
            "_view_count": null,
            "_view_module_version": "1.5.0",
            "description_tooltip": null,
            "_model_module": "@jupyter-widgets/controls",
            "layout": "IPY_MODEL_22cf2de7b10c4061a231005f6ed87ba8"
          }
        },
        "2eeb342ea9774acf8249dcfd65403e62": {
          "model_module": "@jupyter-widgets/controls",
          "model_name": "ProgressStyleModel",
          "state": {
            "_view_name": "StyleView",
            "_model_name": "ProgressStyleModel",
            "description_width": "initial",
            "_view_module": "@jupyter-widgets/base",
            "_model_module_version": "1.5.0",
            "_view_count": null,
            "_view_module_version": "1.2.0",
            "bar_color": null,
            "_model_module": "@jupyter-widgets/controls"
          }
        },
        "503fb691aa8c4a0d986344e0c3fcf861": {
          "model_module": "@jupyter-widgets/base",
          "model_name": "LayoutModel",
          "state": {
            "_view_name": "LayoutView",
            "grid_template_rows": null,
            "right": null,
            "justify_content": null,
            "_view_module": "@jupyter-widgets/base",
            "overflow": null,
            "_model_module_version": "1.2.0",
            "_view_count": null,
            "flex_flow": null,
            "width": null,
            "min_width": null,
            "border": null,
            "align_items": null,
            "bottom": null,
            "_model_module": "@jupyter-widgets/base",
            "top": null,
            "grid_column": null,
            "overflow_y": null,
            "overflow_x": null,
            "grid_auto_flow": null,
            "grid_area": null,
            "grid_template_columns": null,
            "flex": null,
            "_model_name": "LayoutModel",
            "justify_items": null,
            "grid_row": null,
            "max_height": null,
            "align_content": null,
            "visibility": null,
            "align_self": null,
            "height": null,
            "min_height": null,
            "padding": null,
            "grid_auto_rows": null,
            "grid_gap": null,
            "max_width": null,
            "order": null,
            "_view_module_version": "1.2.0",
            "grid_template_areas": null,
            "object_position": null,
            "object_fit": null,
            "grid_auto_columns": null,
            "margin": null,
            "display": null,
            "left": null
          }
        },
        "230ae39c2b714a52affa4969dad9f9ba": {
          "model_module": "@jupyter-widgets/controls",
          "model_name": "DescriptionStyleModel",
          "state": {
            "_view_name": "StyleView",
            "_model_name": "DescriptionStyleModel",
            "description_width": "",
            "_view_module": "@jupyter-widgets/base",
            "_model_module_version": "1.5.0",
            "_view_count": null,
            "_view_module_version": "1.2.0",
            "_model_module": "@jupyter-widgets/controls"
          }
        },
        "22cf2de7b10c4061a231005f6ed87ba8": {
          "model_module": "@jupyter-widgets/base",
          "model_name": "LayoutModel",
          "state": {
            "_view_name": "LayoutView",
            "grid_template_rows": null,
            "right": null,
            "justify_content": null,
            "_view_module": "@jupyter-widgets/base",
            "overflow": null,
            "_model_module_version": "1.2.0",
            "_view_count": null,
            "flex_flow": null,
            "width": null,
            "min_width": null,
            "border": null,
            "align_items": null,
            "bottom": null,
            "_model_module": "@jupyter-widgets/base",
            "top": null,
            "grid_column": null,
            "overflow_y": null,
            "overflow_x": null,
            "grid_auto_flow": null,
            "grid_area": null,
            "grid_template_columns": null,
            "flex": null,
            "_model_name": "LayoutModel",
            "justify_items": null,
            "grid_row": null,
            "max_height": null,
            "align_content": null,
            "visibility": null,
            "align_self": null,
            "height": null,
            "min_height": null,
            "padding": null,
            "grid_auto_rows": null,
            "grid_gap": null,
            "max_width": null,
            "order": null,
            "_view_module_version": "1.2.0",
            "grid_template_areas": null,
            "object_position": null,
            "object_fit": null,
            "grid_auto_columns": null,
            "margin": null,
            "display": null,
            "left": null
          }
        },
        "a04dba79fcab4ab5885467ebf1ed94e5": {
          "model_module": "@jupyter-widgets/controls",
          "model_name": "HBoxModel",
          "state": {
            "_view_name": "HBoxView",
            "_dom_classes": [],
            "_model_name": "HBoxModel",
            "_view_module": "@jupyter-widgets/controls",
            "_model_module_version": "1.5.0",
            "_view_count": null,
            "_view_module_version": "1.5.0",
            "box_style": "",
            "layout": "IPY_MODEL_4763bbbbec2a44e494d0a2396f23c01b",
            "_model_module": "@jupyter-widgets/controls",
            "children": [
              "IPY_MODEL_009ee7dce6a44eed80b372dff3d0d204",
              "IPY_MODEL_724ee4c06f9c418b921cc1063ca1ee97"
            ]
          }
        },
        "4763bbbbec2a44e494d0a2396f23c01b": {
          "model_module": "@jupyter-widgets/base",
          "model_name": "LayoutModel",
          "state": {
            "_view_name": "LayoutView",
            "grid_template_rows": null,
            "right": null,
            "justify_content": null,
            "_view_module": "@jupyter-widgets/base",
            "overflow": null,
            "_model_module_version": "1.2.0",
            "_view_count": null,
            "flex_flow": null,
            "width": null,
            "min_width": null,
            "border": null,
            "align_items": null,
            "bottom": null,
            "_model_module": "@jupyter-widgets/base",
            "top": null,
            "grid_column": null,
            "overflow_y": null,
            "overflow_x": null,
            "grid_auto_flow": null,
            "grid_area": null,
            "grid_template_columns": null,
            "flex": null,
            "_model_name": "LayoutModel",
            "justify_items": null,
            "grid_row": null,
            "max_height": null,
            "align_content": null,
            "visibility": null,
            "align_self": null,
            "height": null,
            "min_height": null,
            "padding": null,
            "grid_auto_rows": null,
            "grid_gap": null,
            "max_width": null,
            "order": null,
            "_view_module_version": "1.2.0",
            "grid_template_areas": null,
            "object_position": null,
            "object_fit": null,
            "grid_auto_columns": null,
            "margin": null,
            "display": null,
            "left": null
          }
        },
        "009ee7dce6a44eed80b372dff3d0d204": {
          "model_module": "@jupyter-widgets/controls",
          "model_name": "FloatProgressModel",
          "state": {
            "_view_name": "ProgressView",
            "style": "IPY_MODEL_70792690172d40a9a12a347c6a8ca1bf",
            "_dom_classes": [],
            "description": "Epoch 3: 100%",
            "_model_name": "FloatProgressModel",
            "bar_style": "",
            "max": 291,
            "_view_module": "@jupyter-widgets/controls",
            "_model_module_version": "1.5.0",
            "value": 291,
            "_view_count": null,
            "_view_module_version": "1.5.0",
            "orientation": "horizontal",
            "min": 0,
            "description_tooltip": null,
            "_model_module": "@jupyter-widgets/controls",
            "layout": "IPY_MODEL_ef93b2b014784cab91c71c2c3a8c3e8f"
          }
        },
        "724ee4c06f9c418b921cc1063ca1ee97": {
          "model_module": "@jupyter-widgets/controls",
          "model_name": "HTMLModel",
          "state": {
            "_view_name": "HTMLView",
            "style": "IPY_MODEL_170775295d8045fa8df81a4d918dbefd",
            "_dom_classes": [],
            "description": "",
            "_model_name": "HTMLModel",
            "placeholder": "​",
            "_view_module": "@jupyter-widgets/controls",
            "_model_module_version": "1.5.0",
            "value": " 291/291 [00:34&lt;00:00,  8.55it/s, training_loss=0.404]",
            "_view_count": null,
            "_view_module_version": "1.5.0",
            "description_tooltip": null,
            "_model_module": "@jupyter-widgets/controls",
            "layout": "IPY_MODEL_6092f57a23764cc098dbe5c7639ad373"
          }
        },
        "70792690172d40a9a12a347c6a8ca1bf": {
          "model_module": "@jupyter-widgets/controls",
          "model_name": "ProgressStyleModel",
          "state": {
            "_view_name": "StyleView",
            "_model_name": "ProgressStyleModel",
            "description_width": "initial",
            "_view_module": "@jupyter-widgets/base",
            "_model_module_version": "1.5.0",
            "_view_count": null,
            "_view_module_version": "1.2.0",
            "bar_color": null,
            "_model_module": "@jupyter-widgets/controls"
          }
        },
        "ef93b2b014784cab91c71c2c3a8c3e8f": {
          "model_module": "@jupyter-widgets/base",
          "model_name": "LayoutModel",
          "state": {
            "_view_name": "LayoutView",
            "grid_template_rows": null,
            "right": null,
            "justify_content": null,
            "_view_module": "@jupyter-widgets/base",
            "overflow": null,
            "_model_module_version": "1.2.0",
            "_view_count": null,
            "flex_flow": null,
            "width": null,
            "min_width": null,
            "border": null,
            "align_items": null,
            "bottom": null,
            "_model_module": "@jupyter-widgets/base",
            "top": null,
            "grid_column": null,
            "overflow_y": null,
            "overflow_x": null,
            "grid_auto_flow": null,
            "grid_area": null,
            "grid_template_columns": null,
            "flex": null,
            "_model_name": "LayoutModel",
            "justify_items": null,
            "grid_row": null,
            "max_height": null,
            "align_content": null,
            "visibility": null,
            "align_self": null,
            "height": null,
            "min_height": null,
            "padding": null,
            "grid_auto_rows": null,
            "grid_gap": null,
            "max_width": null,
            "order": null,
            "_view_module_version": "1.2.0",
            "grid_template_areas": null,
            "object_position": null,
            "object_fit": null,
            "grid_auto_columns": null,
            "margin": null,
            "display": null,
            "left": null
          }
        },
        "170775295d8045fa8df81a4d918dbefd": {
          "model_module": "@jupyter-widgets/controls",
          "model_name": "DescriptionStyleModel",
          "state": {
            "_view_name": "StyleView",
            "_model_name": "DescriptionStyleModel",
            "description_width": "",
            "_view_module": "@jupyter-widgets/base",
            "_model_module_version": "1.5.0",
            "_view_count": null,
            "_view_module_version": "1.2.0",
            "_model_module": "@jupyter-widgets/controls"
          }
        },
        "6092f57a23764cc098dbe5c7639ad373": {
          "model_module": "@jupyter-widgets/base",
          "model_name": "LayoutModel",
          "state": {
            "_view_name": "LayoutView",
            "grid_template_rows": null,
            "right": null,
            "justify_content": null,
            "_view_module": "@jupyter-widgets/base",
            "overflow": null,
            "_model_module_version": "1.2.0",
            "_view_count": null,
            "flex_flow": null,
            "width": null,
            "min_width": null,
            "border": null,
            "align_items": null,
            "bottom": null,
            "_model_module": "@jupyter-widgets/base",
            "top": null,
            "grid_column": null,
            "overflow_y": null,
            "overflow_x": null,
            "grid_auto_flow": null,
            "grid_area": null,
            "grid_template_columns": null,
            "flex": null,
            "_model_name": "LayoutModel",
            "justify_items": null,
            "grid_row": null,
            "max_height": null,
            "align_content": null,
            "visibility": null,
            "align_self": null,
            "height": null,
            "min_height": null,
            "padding": null,
            "grid_auto_rows": null,
            "grid_gap": null,
            "max_width": null,
            "order": null,
            "_view_module_version": "1.2.0",
            "grid_template_areas": null,
            "object_position": null,
            "object_fit": null,
            "grid_auto_columns": null,
            "margin": null,
            "display": null,
            "left": null
          }
        },
        "3105ddfa17e14b9e95129df1c610ed87": {
          "model_module": "@jupyter-widgets/controls",
          "model_name": "HBoxModel",
          "state": {
            "_view_name": "HBoxView",
            "_dom_classes": [],
            "_model_name": "HBoxModel",
            "_view_module": "@jupyter-widgets/controls",
            "_model_module_version": "1.5.0",
            "_view_count": null,
            "_view_module_version": "1.5.0",
            "box_style": "",
            "layout": "IPY_MODEL_c91b3f5656cb4d57aa487abdd4319536",
            "_model_module": "@jupyter-widgets/controls",
            "children": [
              "IPY_MODEL_0b72bc9e37164a55a9b3002418158be4",
              "IPY_MODEL_139c19fec2a6427fb38a9ef4d55630b8"
            ]
          }
        },
        "c91b3f5656cb4d57aa487abdd4319536": {
          "model_module": "@jupyter-widgets/base",
          "model_name": "LayoutModel",
          "state": {
            "_view_name": "LayoutView",
            "grid_template_rows": null,
            "right": null,
            "justify_content": null,
            "_view_module": "@jupyter-widgets/base",
            "overflow": null,
            "_model_module_version": "1.2.0",
            "_view_count": null,
            "flex_flow": null,
            "width": null,
            "min_width": null,
            "border": null,
            "align_items": null,
            "bottom": null,
            "_model_module": "@jupyter-widgets/base",
            "top": null,
            "grid_column": null,
            "overflow_y": null,
            "overflow_x": null,
            "grid_auto_flow": null,
            "grid_area": null,
            "grid_template_columns": null,
            "flex": null,
            "_model_name": "LayoutModel",
            "justify_items": null,
            "grid_row": null,
            "max_height": null,
            "align_content": null,
            "visibility": null,
            "align_self": null,
            "height": null,
            "min_height": null,
            "padding": null,
            "grid_auto_rows": null,
            "grid_gap": null,
            "max_width": null,
            "order": null,
            "_view_module_version": "1.2.0",
            "grid_template_areas": null,
            "object_position": null,
            "object_fit": null,
            "grid_auto_columns": null,
            "margin": null,
            "display": null,
            "left": null
          }
        },
        "0b72bc9e37164a55a9b3002418158be4": {
          "model_module": "@jupyter-widgets/controls",
          "model_name": "FloatProgressModel",
          "state": {
            "_view_name": "ProgressView",
            "style": "IPY_MODEL_e09c47a4002a467da52c1e52cd0bc06c",
            "_dom_classes": [],
            "description": "Epoch 4: 100%",
            "_model_name": "FloatProgressModel",
            "bar_style": "",
            "max": 291,
            "_view_module": "@jupyter-widgets/controls",
            "_model_module_version": "1.5.0",
            "value": 291,
            "_view_count": null,
            "_view_module_version": "1.5.0",
            "orientation": "horizontal",
            "min": 0,
            "description_tooltip": null,
            "_model_module": "@jupyter-widgets/controls",
            "layout": "IPY_MODEL_97eda7441f1f404cbf93f90e2a45b3ff"
          }
        },
        "139c19fec2a6427fb38a9ef4d55630b8": {
          "model_module": "@jupyter-widgets/controls",
          "model_name": "HTMLModel",
          "state": {
            "_view_name": "HTMLView",
            "style": "IPY_MODEL_3f03bb4bea4a4a61885baffaeb7b80d3",
            "_dom_classes": [],
            "description": "",
            "_model_name": "HTMLModel",
            "placeholder": "​",
            "_view_module": "@jupyter-widgets/controls",
            "_model_module_version": "1.5.0",
            "value": " 291/291 [00:34&lt;00:00,  8.40it/s, training_loss=0.629]",
            "_view_count": null,
            "_view_module_version": "1.5.0",
            "description_tooltip": null,
            "_model_module": "@jupyter-widgets/controls",
            "layout": "IPY_MODEL_4b88daa73cec499cb8ac4c8ed5ddf7f1"
          }
        },
        "e09c47a4002a467da52c1e52cd0bc06c": {
          "model_module": "@jupyter-widgets/controls",
          "model_name": "ProgressStyleModel",
          "state": {
            "_view_name": "StyleView",
            "_model_name": "ProgressStyleModel",
            "description_width": "initial",
            "_view_module": "@jupyter-widgets/base",
            "_model_module_version": "1.5.0",
            "_view_count": null,
            "_view_module_version": "1.2.0",
            "bar_color": null,
            "_model_module": "@jupyter-widgets/controls"
          }
        },
        "97eda7441f1f404cbf93f90e2a45b3ff": {
          "model_module": "@jupyter-widgets/base",
          "model_name": "LayoutModel",
          "state": {
            "_view_name": "LayoutView",
            "grid_template_rows": null,
            "right": null,
            "justify_content": null,
            "_view_module": "@jupyter-widgets/base",
            "overflow": null,
            "_model_module_version": "1.2.0",
            "_view_count": null,
            "flex_flow": null,
            "width": null,
            "min_width": null,
            "border": null,
            "align_items": null,
            "bottom": null,
            "_model_module": "@jupyter-widgets/base",
            "top": null,
            "grid_column": null,
            "overflow_y": null,
            "overflow_x": null,
            "grid_auto_flow": null,
            "grid_area": null,
            "grid_template_columns": null,
            "flex": null,
            "_model_name": "LayoutModel",
            "justify_items": null,
            "grid_row": null,
            "max_height": null,
            "align_content": null,
            "visibility": null,
            "align_self": null,
            "height": null,
            "min_height": null,
            "padding": null,
            "grid_auto_rows": null,
            "grid_gap": null,
            "max_width": null,
            "order": null,
            "_view_module_version": "1.2.0",
            "grid_template_areas": null,
            "object_position": null,
            "object_fit": null,
            "grid_auto_columns": null,
            "margin": null,
            "display": null,
            "left": null
          }
        },
        "3f03bb4bea4a4a61885baffaeb7b80d3": {
          "model_module": "@jupyter-widgets/controls",
          "model_name": "DescriptionStyleModel",
          "state": {
            "_view_name": "StyleView",
            "_model_name": "DescriptionStyleModel",
            "description_width": "",
            "_view_module": "@jupyter-widgets/base",
            "_model_module_version": "1.5.0",
            "_view_count": null,
            "_view_module_version": "1.2.0",
            "_model_module": "@jupyter-widgets/controls"
          }
        },
        "4b88daa73cec499cb8ac4c8ed5ddf7f1": {
          "model_module": "@jupyter-widgets/base",
          "model_name": "LayoutModel",
          "state": {
            "_view_name": "LayoutView",
            "grid_template_rows": null,
            "right": null,
            "justify_content": null,
            "_view_module": "@jupyter-widgets/base",
            "overflow": null,
            "_model_module_version": "1.2.0",
            "_view_count": null,
            "flex_flow": null,
            "width": null,
            "min_width": null,
            "border": null,
            "align_items": null,
            "bottom": null,
            "_model_module": "@jupyter-widgets/base",
            "top": null,
            "grid_column": null,
            "overflow_y": null,
            "overflow_x": null,
            "grid_auto_flow": null,
            "grid_area": null,
            "grid_template_columns": null,
            "flex": null,
            "_model_name": "LayoutModel",
            "justify_items": null,
            "grid_row": null,
            "max_height": null,
            "align_content": null,
            "visibility": null,
            "align_self": null,
            "height": null,
            "min_height": null,
            "padding": null,
            "grid_auto_rows": null,
            "grid_gap": null,
            "max_width": null,
            "order": null,
            "_view_module_version": "1.2.0",
            "grid_template_areas": null,
            "object_position": null,
            "object_fit": null,
            "grid_auto_columns": null,
            "margin": null,
            "display": null,
            "left": null
          }
        },
        "1569afc7e27e46619d22922223ced8a6": {
          "model_module": "@jupyter-widgets/controls",
          "model_name": "HBoxModel",
          "state": {
            "_view_name": "HBoxView",
            "_dom_classes": [],
            "_model_name": "HBoxModel",
            "_view_module": "@jupyter-widgets/controls",
            "_model_module_version": "1.5.0",
            "_view_count": null,
            "_view_module_version": "1.5.0",
            "box_style": "",
            "layout": "IPY_MODEL_4550124ece1d4bb1b363bd8568d61729",
            "_model_module": "@jupyter-widgets/controls",
            "children": [
              "IPY_MODEL_a32073f703cb45d38651dd593537e9dd",
              "IPY_MODEL_6bbf61fb2f404ecd8c5453756069d637"
            ]
          }
        },
        "4550124ece1d4bb1b363bd8568d61729": {
          "model_module": "@jupyter-widgets/base",
          "model_name": "LayoutModel",
          "state": {
            "_view_name": "LayoutView",
            "grid_template_rows": null,
            "right": null,
            "justify_content": null,
            "_view_module": "@jupyter-widgets/base",
            "overflow": null,
            "_model_module_version": "1.2.0",
            "_view_count": null,
            "flex_flow": null,
            "width": null,
            "min_width": null,
            "border": null,
            "align_items": null,
            "bottom": null,
            "_model_module": "@jupyter-widgets/base",
            "top": null,
            "grid_column": null,
            "overflow_y": null,
            "overflow_x": null,
            "grid_auto_flow": null,
            "grid_area": null,
            "grid_template_columns": null,
            "flex": null,
            "_model_name": "LayoutModel",
            "justify_items": null,
            "grid_row": null,
            "max_height": null,
            "align_content": null,
            "visibility": null,
            "align_self": null,
            "height": null,
            "min_height": null,
            "padding": null,
            "grid_auto_rows": null,
            "grid_gap": null,
            "max_width": null,
            "order": null,
            "_view_module_version": "1.2.0",
            "grid_template_areas": null,
            "object_position": null,
            "object_fit": null,
            "grid_auto_columns": null,
            "margin": null,
            "display": null,
            "left": null
          }
        },
        "a32073f703cb45d38651dd593537e9dd": {
          "model_module": "@jupyter-widgets/controls",
          "model_name": "FloatProgressModel",
          "state": {
            "_view_name": "ProgressView",
            "style": "IPY_MODEL_26902bf3ae394f69bf10fe6215315c9f",
            "_dom_classes": [],
            "description": "Epoch 5: 100%",
            "_model_name": "FloatProgressModel",
            "bar_style": "",
            "max": 291,
            "_view_module": "@jupyter-widgets/controls",
            "_model_module_version": "1.5.0",
            "value": 291,
            "_view_count": null,
            "_view_module_version": "1.5.0",
            "orientation": "horizontal",
            "min": 0,
            "description_tooltip": null,
            "_model_module": "@jupyter-widgets/controls",
            "layout": "IPY_MODEL_3632e78cb8b9465aace179aff545b4d7"
          }
        },
        "6bbf61fb2f404ecd8c5453756069d637": {
          "model_module": "@jupyter-widgets/controls",
          "model_name": "HTMLModel",
          "state": {
            "_view_name": "HTMLView",
            "style": "IPY_MODEL_5f8a54adea41492fbdf36a0503ea3500",
            "_dom_classes": [],
            "description": "",
            "_model_name": "HTMLModel",
            "placeholder": "​",
            "_view_module": "@jupyter-widgets/controls",
            "_model_module_version": "1.5.0",
            "value": " 291/291 [00:34&lt;00:00,  8.49it/s, training_loss=0.345]",
            "_view_count": null,
            "_view_module_version": "1.5.0",
            "description_tooltip": null,
            "_model_module": "@jupyter-widgets/controls",
            "layout": "IPY_MODEL_381c0ff47bca48459801d31545735a5d"
          }
        },
        "26902bf3ae394f69bf10fe6215315c9f": {
          "model_module": "@jupyter-widgets/controls",
          "model_name": "ProgressStyleModel",
          "state": {
            "_view_name": "StyleView",
            "_model_name": "ProgressStyleModel",
            "description_width": "initial",
            "_view_module": "@jupyter-widgets/base",
            "_model_module_version": "1.5.0",
            "_view_count": null,
            "_view_module_version": "1.2.0",
            "bar_color": null,
            "_model_module": "@jupyter-widgets/controls"
          }
        },
        "3632e78cb8b9465aace179aff545b4d7": {
          "model_module": "@jupyter-widgets/base",
          "model_name": "LayoutModel",
          "state": {
            "_view_name": "LayoutView",
            "grid_template_rows": null,
            "right": null,
            "justify_content": null,
            "_view_module": "@jupyter-widgets/base",
            "overflow": null,
            "_model_module_version": "1.2.0",
            "_view_count": null,
            "flex_flow": null,
            "width": null,
            "min_width": null,
            "border": null,
            "align_items": null,
            "bottom": null,
            "_model_module": "@jupyter-widgets/base",
            "top": null,
            "grid_column": null,
            "overflow_y": null,
            "overflow_x": null,
            "grid_auto_flow": null,
            "grid_area": null,
            "grid_template_columns": null,
            "flex": null,
            "_model_name": "LayoutModel",
            "justify_items": null,
            "grid_row": null,
            "max_height": null,
            "align_content": null,
            "visibility": null,
            "align_self": null,
            "height": null,
            "min_height": null,
            "padding": null,
            "grid_auto_rows": null,
            "grid_gap": null,
            "max_width": null,
            "order": null,
            "_view_module_version": "1.2.0",
            "grid_template_areas": null,
            "object_position": null,
            "object_fit": null,
            "grid_auto_columns": null,
            "margin": null,
            "display": null,
            "left": null
          }
        },
        "5f8a54adea41492fbdf36a0503ea3500": {
          "model_module": "@jupyter-widgets/controls",
          "model_name": "DescriptionStyleModel",
          "state": {
            "_view_name": "StyleView",
            "_model_name": "DescriptionStyleModel",
            "description_width": "",
            "_view_module": "@jupyter-widgets/base",
            "_model_module_version": "1.5.0",
            "_view_count": null,
            "_view_module_version": "1.2.0",
            "_model_module": "@jupyter-widgets/controls"
          }
        },
        "381c0ff47bca48459801d31545735a5d": {
          "model_module": "@jupyter-widgets/base",
          "model_name": "LayoutModel",
          "state": {
            "_view_name": "LayoutView",
            "grid_template_rows": null,
            "right": null,
            "justify_content": null,
            "_view_module": "@jupyter-widgets/base",
            "overflow": null,
            "_model_module_version": "1.2.0",
            "_view_count": null,
            "flex_flow": null,
            "width": null,
            "min_width": null,
            "border": null,
            "align_items": null,
            "bottom": null,
            "_model_module": "@jupyter-widgets/base",
            "top": null,
            "grid_column": null,
            "overflow_y": null,
            "overflow_x": null,
            "grid_auto_flow": null,
            "grid_area": null,
            "grid_template_columns": null,
            "flex": null,
            "_model_name": "LayoutModel",
            "justify_items": null,
            "grid_row": null,
            "max_height": null,
            "align_content": null,
            "visibility": null,
            "align_self": null,
            "height": null,
            "min_height": null,
            "padding": null,
            "grid_auto_rows": null,
            "grid_gap": null,
            "max_width": null,
            "order": null,
            "_view_module_version": "1.2.0",
            "grid_template_areas": null,
            "object_position": null,
            "object_fit": null,
            "grid_auto_columns": null,
            "margin": null,
            "display": null,
            "left": null
          }
        }
      }
    },
    "accelerator": "GPU"
  },
  "cells": [
    {
      "cell_type": "markdown",
      "metadata": {
        "id": "view-in-github",
        "colab_type": "text"
      },
      "source": [
        "<a href=\"https://colab.research.google.com/github/AQLT/NLP/blob/main/Pr%C3%A9vision_cat%C3%A9gorie_m%C3%A9tier_ROME.ipynb\" target=\"_parent\"><img src=\"https://colab.research.google.com/assets/colab-badge.svg\" alt=\"Open In Colab\"/></a>"
      ]
    },
    {
      "cell_type": "markdown",
      "metadata": {
        "id": "XXQThGHdN2E5"
      },
      "source": [
        "# 1. Downloading the database [optional]\n",
        "\n",
        "All the data are gathered in a gist repository. You don't need to run the code of this section where we :\n",
        "\n",
        "1. Download description from the Onisep database with webscrapping (https://data.laregion.fr/explore/dataset/onisep-metiers-onisep/table/)\n",
        "\n",
        "2. Format Pole Emploi databases (https://www.pole-emploi.org/opendata/repertoire-operationnel-des-meti.html?type=article)\n",
        "\n",
        "Data : https://www.data.gouv.fr/fr/datasets/repertoire-operationnel-des-metiers-et-des-emplois-rome/#_\n",
        "\n",
        "Lien onisep : https://data.laregion.fr/explore/dataset/onisep-metiers-onisep/table/\n",
        "\n",
        "Lien description ROME : \n",
        "https://candidat.pole-emploi.fr/marche-du-travail/fichemetierrome?codeRome=E1301\n",
        "\n",
        "Liens entre ROME et autres bases (type PCS) : https://www.pole-emploi.org/opendata/repertoire-operationnel-des-meti.html?type=article\n",
        "\n"
      ]
    },
    {
      "cell_type": "markdown",
      "metadata": {
        "id": "bRG15JGFBGcS"
      },
      "source": [
        "## 1.1 Onisep"
      ]
    },
    {
      "cell_type": "code",
      "metadata": {
        "id": "7ChdiVrtDBOQ"
      },
      "source": [
        "import pandas as pd\n",
        "import re\n",
        "import requests\n",
        "from bs4 import BeautifulSoup"
      ],
      "execution_count": null,
      "outputs": []
    },
    {
      "cell_type": "code",
      "metadata": {
        "colab": {
          "base_uri": "https://localhost:8080/"
        },
        "id": "mzdsSo0OiCbr",
        "outputId": "ab00f438-51d6-49fd-8fd7-470181465258"
      },
      "source": [
        "!wget 'https://data.laregion.fr/explore/dataset/onisep-metiers-onisep/download/?format=csv&timezone=Europe/Berlin&lang=fr&use_labels_for_header=true&csv_separator=%3B' -O onisep.csv"
      ],
      "execution_count": null,
      "outputs": [
        {
          "output_type": "stream",
          "text": [
            "--2021-04-09 11:50:39--  https://data.laregion.fr/explore/dataset/onisep-metiers-onisep/download/?format=csv&timezone=Europe/Berlin&lang=fr&use_labels_for_header=true&csv_separator=%3B\n",
            "Resolving data.laregion.fr (data.laregion.fr)... 109.232.232.161, 171.33.103.241\n",
            "Connecting to data.laregion.fr (data.laregion.fr)|109.232.232.161|:443... connected.\n",
            "HTTP request sent, awaiting response... 200 OK\n",
            "Length: unspecified [application/csv]\n",
            "Saving to: ‘onisep.csv’\n",
            "\n",
            "onisep.csv              [     <=>            ] 460.52K   453KB/s    in 1.0s    \n",
            "\n",
            "2021-04-09 11:50:43 (453 KB/s) - ‘onisep.csv’ saved [471572]\n",
            "\n"
          ],
          "name": "stdout"
        }
      ]
    },
    {
      "cell_type": "code",
      "metadata": {
        "colab": {
          "base_uri": "https://localhost:8080/",
          "height": 864
        },
        "id": "ovo42qLIhsn3",
        "outputId": "55d0baa1-0de5-459f-f2ed-f4943e5d225a"
      },
      "source": [
        "onisep_table = pd.read_csv(\"onisep.csv\",sep=\";\")\n",
        "onisep_table = onisep_table.dropna(subset=['code ROME', 'lien site onisep.fr'])\n",
        "onisep_table = onisep_table[[\"libellé métier\", \"lien site onisep.fr\", \"GFE\", \"domaine/sous-domaine ONISEP\",\"code ROME\"]]\n",
        "onisep_table = onisep_table.rename(columns={\"libellé métier\": \"metier\",\n",
        "                                            \"lien site onisep.fr\": \"url\",\n",
        "                                            \"domaine/sous-domaine ONISEP\": \"domaine_ONISEP\",\n",
        "                                            \"code ROME\": \"rome_code\"})\n",
        "onisep_table[\"sous_domaine_ONISEP\"] = onisep_table[\"domaine_ONISEP\"].apply(lambda x: re.sub(\".*/\",\"\",x))\n",
        "onisep_table[\"domaine_ONISEP\"] = onisep_table[\"domaine_ONISEP\"].apply(lambda x: re.sub(\"/.*\",\"\",x))\n",
        "onisep_table = onisep_table.drop_duplicates(subset=['url'])\n",
        "onisep_table"
      ],
      "execution_count": null,
      "outputs": [
        {
          "output_type": "execute_result",
          "data": {
            "text/html": [
              "<div>\n",
              "<style scoped>\n",
              "    .dataframe tbody tr th:only-of-type {\n",
              "        vertical-align: middle;\n",
              "    }\n",
              "\n",
              "    .dataframe tbody tr th {\n",
              "        vertical-align: top;\n",
              "    }\n",
              "\n",
              "    .dataframe thead th {\n",
              "        text-align: right;\n",
              "    }\n",
              "</style>\n",
              "<table border=\"1\" class=\"dataframe\">\n",
              "  <thead>\n",
              "    <tr style=\"text-align: right;\">\n",
              "      <th></th>\n",
              "      <th>metier</th>\n",
              "      <th>url</th>\n",
              "      <th>GFE</th>\n",
              "      <th>domaine_ONISEP</th>\n",
              "      <th>rome_code</th>\n",
              "      <th>sous_domaine_ONISEP</th>\n",
              "    </tr>\n",
              "  </thead>\n",
              "  <tbody>\n",
              "    <tr>\n",
              "      <th>0</th>\n",
              "      <td>architecte</td>\n",
              "      <td>http://www.onisep.fr/http/redirection/metier/i...</td>\n",
              "      <td>C : Bâtiment</td>\n",
              "      <td>construction - architecture - travaux publics</td>\n",
              "      <td>F1101</td>\n",
              "      <td>architecture</td>\n",
              "    </tr>\n",
              "    <tr>\n",
              "      <th>1</th>\n",
              "      <td>géomètre-topographe</td>\n",
              "      <td>http://www.onisep.fr/http/redirection/metier/i...</td>\n",
              "      <td>C : Bâtiment</td>\n",
              "      <td>construction - architecture - travaux publics</td>\n",
              "      <td>F1108</td>\n",
              "      <td>sciences de la Terre</td>\n",
              "    </tr>\n",
              "    <tr>\n",
              "      <th>2</th>\n",
              "      <td>technicien / technicienne de maintenance en gé...</td>\n",
              "      <td>http://www.onisep.fr/http/redirection/metier/i...</td>\n",
              "      <td>H : Electricité, énergie, électronique</td>\n",
              "      <td>construction - architecture - travaux publics</td>\n",
              "      <td>I1308</td>\n",
              "      <td>énergies</td>\n",
              "    </tr>\n",
              "    <tr>\n",
              "      <th>3</th>\n",
              "      <td>menuisier / menuisière</td>\n",
              "      <td>http://www.onisep.fr/http/redirection/metier/i...</td>\n",
              "      <td>M : Travail du bois</td>\n",
              "      <td>construction - architecture - travaux publics</td>\n",
              "      <td>H2202</td>\n",
              "      <td>bois</td>\n",
              "    </tr>\n",
              "    <tr>\n",
              "      <th>4</th>\n",
              "      <td>acheteur / acheteuse</td>\n",
              "      <td>http://www.onisep.fr/http/redirection/metier/i...</td>\n",
              "      <td>Q : Commerce, gestion, finances</td>\n",
              "      <td>commerce, marketing, vente</td>\n",
              "      <td>M1101</td>\n",
              "      <td>grande distribution et petits commerces</td>\n",
              "    </tr>\n",
              "    <tr>\n",
              "      <th>...</th>\n",
              "      <td>...</td>\n",
              "      <td>...</td>\n",
              "      <td>...</td>\n",
              "      <td>...</td>\n",
              "      <td>...</td>\n",
              "      <td>...</td>\n",
              "    </tr>\n",
              "    <tr>\n",
              "      <th>1131</th>\n",
              "      <td>pédologue</td>\n",
              "      <td>http://www.onisep.fr/http/redirection/metier/i...</td>\n",
              "      <td>T : Environnement, nettoyage, sécurité</td>\n",
              "      <td>sciences</td>\n",
              "      <td>F1105</td>\n",
              "      <td>sciences de la Terre</td>\n",
              "    </tr>\n",
              "    <tr>\n",
              "      <th>1136</th>\n",
              "      <td>statisticien industriel / statisticienne indus...</td>\n",
              "      <td>http://www.onisep.fr/http/redirection/metier/i...</td>\n",
              "      <td>P : Gestion et traitement de l'information (in...</td>\n",
              "      <td>sciences</td>\n",
              "      <td>M1403</td>\n",
              "      <td>mathématiques</td>\n",
              "    </tr>\n",
              "    <tr>\n",
              "      <th>1138</th>\n",
              "      <td>ingénieur / ingénieure en caractérisation des ...</td>\n",
              "      <td>http://www.onisep.fr/http/redirection/metier/i...</td>\n",
              "      <td>J : Transformation des matériaux, procédés (bi...</td>\n",
              "      <td>matières premières, fabrication, industries</td>\n",
              "      <td>H1206</td>\n",
              "      <td>matériaux</td>\n",
              "    </tr>\n",
              "    <tr>\n",
              "      <th>1140</th>\n",
              "      <td>metteur / metteuse en scène</td>\n",
              "      <td>http://www.onisep.fr/http/redirection/metier/i...</td>\n",
              "      <td>V : Arts, spectacle, audiovisuel</td>\n",
              "      <td>arts, culture, artisanat</td>\n",
              "      <td>L1301</td>\n",
              "      <td>arts du spectacle</td>\n",
              "    </tr>\n",
              "    <tr>\n",
              "      <th>1141</th>\n",
              "      <td>expert / experte en assurances</td>\n",
              "      <td>http://www.onisep.fr/http/redirection/metier/i...</td>\n",
              "      <td>Q : Commerce, gestion, finances</td>\n",
              "      <td>banque - assurances - immobilier</td>\n",
              "      <td>C1106</td>\n",
              "      <td>assurances</td>\n",
              "    </tr>\n",
              "  </tbody>\n",
              "</table>\n",
              "<p>715 rows × 6 columns</p>\n",
              "</div>"
            ],
            "text/plain": [
              "                                                 metier  ...                      sous_domaine_ONISEP\n",
              "0                                            architecte  ...                             architecture\n",
              "1                                   géomètre-topographe  ...                     sciences de la Terre\n",
              "2     technicien / technicienne de maintenance en gé...  ...                                 énergies\n",
              "3                                menuisier / menuisière  ...                                     bois\n",
              "4                                  acheteur / acheteuse  ...  grande distribution et petits commerces\n",
              "...                                                 ...  ...                                      ...\n",
              "1131                                          pédologue  ...                     sciences de la Terre\n",
              "1136  statisticien industriel / statisticienne indus...  ...                            mathématiques\n",
              "1138  ingénieur / ingénieure en caractérisation des ...  ...                                matériaux\n",
              "1140                        metteur / metteuse en scène  ...                        arts du spectacle\n",
              "1141                     expert / experte en assurances  ...                               assurances\n",
              "\n",
              "[715 rows x 6 columns]"
            ]
          },
          "metadata": {
            "tags": []
          },
          "execution_count": 5
        }
      ]
    },
    {
      "cell_type": "code",
      "metadata": {
        "id": "z1ICbW1ykthd"
      },
      "source": [
        "#20 minutes to run\n",
        "def dl_description(url):\n",
        "  page = requests.get(url)\n",
        "  soup = BeautifulSoup(page.content, 'html.parser')\n",
        "  results = soup.find(id=\"en-quoi-consiste-ce-metier\")\n",
        "  paragraph = results.find_all('p')\n",
        "  return (\"\\n\".join([text.get_text() for text in paragraph]))\n",
        "onisep_table[\"description\"] = onisep_table.url.apply(dl_description)"
      ],
      "execution_count": null,
      "outputs": []
    },
    {
      "cell_type": "code",
      "metadata": {
        "colab": {
          "base_uri": "https://localhost:8080/",
          "height": 912
        },
        "id": "bs9Fws3Ntb54",
        "outputId": "030ae352-35bd-4327-ac82-a7413f5d2960"
      },
      "source": [
        "onisep_table[\"description\"] = onisep_table[\"description\"].apply(lambda x: re.sub(\"\\xa0\", \" \", x))\n",
        "onisep_table = onisep_table.rename(columns={\"onisep_description\": \"description\"}).drop(columns=[\"url\"])\n",
        "onisep_table.to_csv(\"onisep_description.csv\", index=False)\n",
        "onisep_table"
      ],
      "execution_count": null,
      "outputs": [
        {
          "output_type": "execute_result",
          "data": {
            "text/html": [
              "<div>\n",
              "<style scoped>\n",
              "    .dataframe tbody tr th:only-of-type {\n",
              "        vertical-align: middle;\n",
              "    }\n",
              "\n",
              "    .dataframe tbody tr th {\n",
              "        vertical-align: top;\n",
              "    }\n",
              "\n",
              "    .dataframe thead th {\n",
              "        text-align: right;\n",
              "    }\n",
              "</style>\n",
              "<table border=\"1\" class=\"dataframe\">\n",
              "  <thead>\n",
              "    <tr style=\"text-align: right;\">\n",
              "      <th></th>\n",
              "      <th>metier</th>\n",
              "      <th>GFE</th>\n",
              "      <th>domaine_ONISEP</th>\n",
              "      <th>rome_code</th>\n",
              "      <th>sous_domaine_ONISEP</th>\n",
              "      <th>description</th>\n",
              "    </tr>\n",
              "  </thead>\n",
              "  <tbody>\n",
              "    <tr>\n",
              "      <th>0</th>\n",
              "      <td>architecte</td>\n",
              "      <td>C : Bâtiment</td>\n",
              "      <td>construction - architecture - travaux publics</td>\n",
              "      <td>F1101</td>\n",
              "      <td>architecture</td>\n",
              "      <td>Construction d'un immeuble, réaménagement d'un...</td>\n",
              "    </tr>\n",
              "    <tr>\n",
              "      <th>1</th>\n",
              "      <td>géomètre-topographe</td>\n",
              "      <td>C : Bâtiment</td>\n",
              "      <td>construction - architecture - travaux publics</td>\n",
              "      <td>F1108</td>\n",
              "      <td>sciences de la Terre</td>\n",
              "      <td>L'oeil rivé dans le viseur de son tachéomètre,...</td>\n",
              "    </tr>\n",
              "    <tr>\n",
              "      <th>2</th>\n",
              "      <td>technicien / technicienne de maintenance en gé...</td>\n",
              "      <td>H : Electricité, énergie, électronique</td>\n",
              "      <td>construction - architecture - travaux publics</td>\n",
              "      <td>I1308</td>\n",
              "      <td>énergies</td>\n",
              "      <td>Professionnel de l'ambiance et du confort, le ...</td>\n",
              "    </tr>\n",
              "    <tr>\n",
              "      <th>3</th>\n",
              "      <td>menuisier / menuisière</td>\n",
              "      <td>M : Travail du bois</td>\n",
              "      <td>construction - architecture - travaux publics</td>\n",
              "      <td>H2202</td>\n",
              "      <td>bois</td>\n",
              "      <td>Travailler le bois, lui donner une seconde vie...</td>\n",
              "    </tr>\n",
              "    <tr>\n",
              "      <th>4</th>\n",
              "      <td>acheteur / acheteuse</td>\n",
              "      <td>Q : Commerce, gestion, finances</td>\n",
              "      <td>commerce, marketing, vente</td>\n",
              "      <td>M1101</td>\n",
              "      <td>grande distribution et petits commerces</td>\n",
              "      <td>Le rôle d'un acheteur est d'acheter des produi...</td>\n",
              "    </tr>\n",
              "    <tr>\n",
              "      <th>...</th>\n",
              "      <td>...</td>\n",
              "      <td>...</td>\n",
              "      <td>...</td>\n",
              "      <td>...</td>\n",
              "      <td>...</td>\n",
              "      <td>...</td>\n",
              "    </tr>\n",
              "    <tr>\n",
              "      <th>1131</th>\n",
              "      <td>pédologue</td>\n",
              "      <td>T : Environnement, nettoyage, sécurité</td>\n",
              "      <td>sciences</td>\n",
              "      <td>F1105</td>\n",
              "      <td>sciences de la Terre</td>\n",
              "      <td>Le pédologue est un scientifique spécialiste d...</td>\n",
              "    </tr>\n",
              "    <tr>\n",
              "      <th>1136</th>\n",
              "      <td>statisticien industriel / statisticienne indus...</td>\n",
              "      <td>P : Gestion et traitement de l'information (in...</td>\n",
              "      <td>sciences</td>\n",
              "      <td>M1403</td>\n",
              "      <td>mathématiques</td>\n",
              "      <td>Prévoir la durée de vie d'un produit industrie...</td>\n",
              "    </tr>\n",
              "    <tr>\n",
              "      <th>1138</th>\n",
              "      <td>ingénieur / ingénieure en caractérisation des ...</td>\n",
              "      <td>J : Transformation des matériaux, procédés (bi...</td>\n",
              "      <td>matières premières, fabrication, industries</td>\n",
              "      <td>H1206</td>\n",
              "      <td>matériaux</td>\n",
              "      <td>L'ingénieur en caractérisation des matériaux c...</td>\n",
              "    </tr>\n",
              "    <tr>\n",
              "      <th>1140</th>\n",
              "      <td>metteur / metteuse en scène</td>\n",
              "      <td>V : Arts, spectacle, audiovisuel</td>\n",
              "      <td>arts, culture, artisanat</td>\n",
              "      <td>L1301</td>\n",
              "      <td>arts du spectacle</td>\n",
              "      <td>Quand les 3 coups résonnent dans la salle et q...</td>\n",
              "    </tr>\n",
              "    <tr>\n",
              "      <th>1141</th>\n",
              "      <td>expert / experte en assurances</td>\n",
              "      <td>Q : Commerce, gestion, finances</td>\n",
              "      <td>banque - assurances - immobilier</td>\n",
              "      <td>C1106</td>\n",
              "      <td>assurances</td>\n",
              "      <td>Conseiller technique et souvent arbitre, l'exp...</td>\n",
              "    </tr>\n",
              "  </tbody>\n",
              "</table>\n",
              "<p>715 rows × 6 columns</p>\n",
              "</div>"
            ],
            "text/plain": [
              "                                                 metier  ...                                        description\n",
              "0                                            architecte  ...  Construction d'un immeuble, réaménagement d'un...\n",
              "1                                   géomètre-topographe  ...  L'oeil rivé dans le viseur de son tachéomètre,...\n",
              "2     technicien / technicienne de maintenance en gé...  ...  Professionnel de l'ambiance et du confort, le ...\n",
              "3                                menuisier / menuisière  ...  Travailler le bois, lui donner une seconde vie...\n",
              "4                                  acheteur / acheteuse  ...  Le rôle d'un acheteur est d'acheter des produi...\n",
              "...                                                 ...  ...                                                ...\n",
              "1131                                          pédologue  ...  Le pédologue est un scientifique spécialiste d...\n",
              "1136  statisticien industriel / statisticienne indus...  ...  Prévoir la durée de vie d'un produit industrie...\n",
              "1138  ingénieur / ingénieure en caractérisation des ...  ...  L'ingénieur en caractérisation des matériaux c...\n",
              "1140                        metteur / metteuse en scène  ...  Quand les 3 coups résonnent dans la salle et q...\n",
              "1141                     expert / experte en assurances  ...  Conseiller technique et souvent arbitre, l'exp...\n",
              "\n",
              "[715 rows x 6 columns]"
            ]
          },
          "metadata": {
            "tags": []
          },
          "execution_count": 7
        }
      ]
    },
    {
      "cell_type": "code",
      "metadata": {
        "colab": {
          "base_uri": "https://localhost:8080/"
        },
        "id": "6lNFQkiqC1VU",
        "outputId": "b12d3e2b-acfd-46d1-915f-89183616265f"
      },
      "source": [
        "!wget https://gist.githubusercontent.com/AQLT/fcc36e58fc92cb976920a2bff7291d49/raw/3f50f6eb07e9076d54d30d9b4607d98fae7cb546/onisep_description.csv -O onisep_description.csv"
      ],
      "execution_count": null,
      "outputs": [
        {
          "output_type": "stream",
          "text": [
            "--2021-04-04 12:51:38--  https://gist.githubusercontent.com/AQLT/48429076bb8bde9d3f66e3e278ef5c8b/raw/3e5a681284899b508f6a837551a264b98aee0dc5/onisep_description.csv\n",
            "Resolving gist.githubusercontent.com (gist.githubusercontent.com)... 185.199.110.133, 185.199.108.133, 185.199.111.133, ...\n",
            "Connecting to gist.githubusercontent.com (gist.githubusercontent.com)|185.199.110.133|:443... connected.\n",
            "HTTP request sent, awaiting response... 200 OK\n",
            "Length: 1309416 (1.2M) [text/plain]\n",
            "Saving to: ‘onisep_description.csv’\n",
            "\n",
            "onisep_description. 100%[===================>]   1.25M  --.-KB/s    in 0.07s   \n",
            "\n",
            "2021-04-04 12:51:38 (18.9 MB/s) - ‘onisep_description.csv’ saved [1309416/1309416]\n",
            "\n"
          ],
          "name": "stdout"
        }
      ]
    },
    {
      "cell_type": "code",
      "metadata": {
        "colab": {
          "base_uri": "https://localhost:8080/",
          "height": 597
        },
        "id": "gzjYDN-yDOiK",
        "outputId": "90f1be85-c2ea-4216-c677-0a7dd6a61ba7"
      },
      "source": [
        "onisep = pd.read_csv(\"onisep_description.csv\",index_col=0)\n",
        "onisep"
      ],
      "execution_count": null,
      "outputs": [
        {
          "output_type": "execute_result",
          "data": {
            "text/html": [
              "<div>\n",
              "<style scoped>\n",
              "    .dataframe tbody tr th:only-of-type {\n",
              "        vertical-align: middle;\n",
              "    }\n",
              "\n",
              "    .dataframe tbody tr th {\n",
              "        vertical-align: top;\n",
              "    }\n",
              "\n",
              "    .dataframe thead th {\n",
              "        text-align: right;\n",
              "    }\n",
              "</style>\n",
              "<table border=\"1\" class=\"dataframe\">\n",
              "  <thead>\n",
              "    <tr style=\"text-align: right;\">\n",
              "      <th></th>\n",
              "      <th>metier</th>\n",
              "      <th>url</th>\n",
              "      <th>GFE</th>\n",
              "      <th>domaine_ONISEP</th>\n",
              "      <th>code_rome</th>\n",
              "      <th>description</th>\n",
              "    </tr>\n",
              "  </thead>\n",
              "  <tbody>\n",
              "    <tr>\n",
              "      <th>0</th>\n",
              "      <td>architecte</td>\n",
              "      <td>http://www.onisep.fr/http/redirection/metier/i...</td>\n",
              "      <td>C : Bâtiment</td>\n",
              "      <td>construction - architecture - travaux publics/...</td>\n",
              "      <td>F1101</td>\n",
              "      <td>Construction d'un immeuble, réaménagement d'un...</td>\n",
              "    </tr>\n",
              "    <tr>\n",
              "      <th>1</th>\n",
              "      <td>géomètre-topographe</td>\n",
              "      <td>http://www.onisep.fr/http/redirection/metier/i...</td>\n",
              "      <td>C : Bâtiment</td>\n",
              "      <td>construction - architecture - travaux publics/...</td>\n",
              "      <td>F1108</td>\n",
              "      <td>L'oeil rivé dans le viseur de son tachéomètre,...</td>\n",
              "    </tr>\n",
              "    <tr>\n",
              "      <th>2</th>\n",
              "      <td>technicien / technicienne de maintenance en gé...</td>\n",
              "      <td>http://www.onisep.fr/http/redirection/metier/i...</td>\n",
              "      <td>H : Electricité, énergie, électronique</td>\n",
              "      <td>construction - architecture - travaux publics/...</td>\n",
              "      <td>I1308</td>\n",
              "      <td>Professionnel de l'ambiance et du confort, le ...</td>\n",
              "    </tr>\n",
              "    <tr>\n",
              "      <th>3</th>\n",
              "      <td>menuisier / menuisière</td>\n",
              "      <td>http://www.onisep.fr/http/redirection/metier/i...</td>\n",
              "      <td>M : Travail du bois</td>\n",
              "      <td>construction - architecture - travaux publics/...</td>\n",
              "      <td>H2202</td>\n",
              "      <td>Travailler le bois, lui donner une seconde vie...</td>\n",
              "    </tr>\n",
              "    <tr>\n",
              "      <th>4</th>\n",
              "      <td>acheteur / acheteuse</td>\n",
              "      <td>http://www.onisep.fr/http/redirection/metier/i...</td>\n",
              "      <td>Q : Commerce, gestion, finances</td>\n",
              "      <td>commerce, marketing, vente/achat, approvisionn...</td>\n",
              "      <td>M1101</td>\n",
              "      <td>Le rôle d'un acheteur est d'acheter des produi...</td>\n",
              "    </tr>\n",
              "    <tr>\n",
              "      <th>...</th>\n",
              "      <td>...</td>\n",
              "      <td>...</td>\n",
              "      <td>...</td>\n",
              "      <td>...</td>\n",
              "      <td>...</td>\n",
              "      <td>...</td>\n",
              "    </tr>\n",
              "    <tr>\n",
              "      <th>1137</th>\n",
              "      <td>data manager</td>\n",
              "      <td>http://www.onisep.fr/http/redirection/metier/i...</td>\n",
              "      <td>P : Gestion et traitement de l'information (in...</td>\n",
              "      <td>informatique, internet/informatique (généralit...</td>\n",
              "      <td>M1802</td>\n",
              "      <td>Né de l'explosion des données dans les entrepr...</td>\n",
              "    </tr>\n",
              "    <tr>\n",
              "      <th>1138</th>\n",
              "      <td>ingénieur / ingénieure en caractérisation des ...</td>\n",
              "      <td>http://www.onisep.fr/http/redirection/metier/i...</td>\n",
              "      <td>J : Transformation des matériaux, procédés (bi...</td>\n",
              "      <td>matières premières, fabrication, industries/ma...</td>\n",
              "      <td>H1206</td>\n",
              "      <td>L'ingénieur en caractérisation des matériaux c...</td>\n",
              "    </tr>\n",
              "    <tr>\n",
              "      <th>1139</th>\n",
              "      <td>ingénieur / ingénieure de maintenance industri...</td>\n",
              "      <td>http://www.onisep.fr/http/redirection/metier/i...</td>\n",
              "      <td>F : Mécanique</td>\n",
              "      <td>électricité - électronique - robotique/électro...</td>\n",
              "      <td>I1102</td>\n",
              "      <td>Grâce à cet expert en maintenance industrielle...</td>\n",
              "    </tr>\n",
              "    <tr>\n",
              "      <th>1140</th>\n",
              "      <td>metteur / metteuse en scène</td>\n",
              "      <td>http://www.onisep.fr/http/redirection/metier/i...</td>\n",
              "      <td>V : Arts, spectacle, audiovisuel</td>\n",
              "      <td>arts, culture, artisanat/arts du spectacle</td>\n",
              "      <td>L1301</td>\n",
              "      <td>Quand les 3 coups résonnent dans la salle et q...</td>\n",
              "    </tr>\n",
              "    <tr>\n",
              "      <th>1141</th>\n",
              "      <td>expert / experte en assurances</td>\n",
              "      <td>http://www.onisep.fr/http/redirection/metier/i...</td>\n",
              "      <td>Q : Commerce, gestion, finances</td>\n",
              "      <td>banque - assurances - immobilier/assurances</td>\n",
              "      <td>C1106</td>\n",
              "      <td>Conseiller technique et souvent arbitre, l'exp...</td>\n",
              "    </tr>\n",
              "  </tbody>\n",
              "</table>\n",
              "<p>1064 rows × 6 columns</p>\n",
              "</div>"
            ],
            "text/plain": [
              "                                                 metier  ...                                        description\n",
              "0                                            architecte  ...  Construction d'un immeuble, réaménagement d'un...\n",
              "1                                   géomètre-topographe  ...  L'oeil rivé dans le viseur de son tachéomètre,...\n",
              "2     technicien / technicienne de maintenance en gé...  ...  Professionnel de l'ambiance et du confort, le ...\n",
              "3                                menuisier / menuisière  ...  Travailler le bois, lui donner une seconde vie...\n",
              "4                                  acheteur / acheteuse  ...  Le rôle d'un acheteur est d'acheter des produi...\n",
              "...                                                 ...  ...                                                ...\n",
              "1137                                       data manager  ...  Né de l'explosion des données dans les entrepr...\n",
              "1138  ingénieur / ingénieure en caractérisation des ...  ...  L'ingénieur en caractérisation des matériaux c...\n",
              "1139  ingénieur / ingénieure de maintenance industri...  ...  Grâce à cet expert en maintenance industrielle...\n",
              "1140                        metteur / metteuse en scène  ...  Quand les 3 coups résonnent dans la salle et q...\n",
              "1141                     expert / experte en assurances  ...  Conseiller technique et souvent arbitre, l'exp...\n",
              "\n",
              "[1064 rows x 6 columns]"
            ]
          },
          "metadata": {
            "tags": []
          },
          "execution_count": 29
        }
      ]
    },
    {
      "cell_type": "markdown",
      "metadata": {
        "id": "ANuV5ccwBMqi"
      },
      "source": [
        "## 1.2 Pole Emploi"
      ]
    },
    {
      "cell_type": "code",
      "metadata": {
        "id": "j0Zj6izxPRsp"
      },
      "source": [
        "import pandas as pd\n",
        "import re"
      ],
      "execution_count": null,
      "outputs": []
    },
    {
      "cell_type": "code",
      "metadata": {
        "colab": {
          "base_uri": "https://localhost:8080/"
        },
        "id": "6z09KLJgfZ6f",
        "outputId": "3d215137-294f-43c2-e8e2-412b19b0568c"
      },
      "source": [
        "!wget https://api.emploi-store.fr/api/docs/romeopen/REF_ROME_CSV/1/RefRomeCsv.zip -O metadata.zip\n",
        "!unzip metadata.zip\n",
        "!rm metadata.zip"
      ],
      "execution_count": null,
      "outputs": [
        {
          "output_type": "stream",
          "text": [
            "--2021-04-09 12:42:25--  https://api.emploi-store.fr/api/docs/romeopen/REF_ROME_CSV/1/RefRomeCsv.zip\n",
            "Resolving api.emploi-store.fr (api.emploi-store.fr)... 185.215.64.15\n",
            "Connecting to api.emploi-store.fr (api.emploi-store.fr)|185.215.64.15|:443... connected.\n",
            "HTTP request sent, awaiting response... 200 \n",
            "Length: 1509706 (1.4M) [application/zip]\n",
            "Saving to: ‘metadata.zip’\n",
            "\n",
            "metadata.zip        100%[===================>]   1.44M   235KB/s    in 6.3s    \n",
            "\n",
            "2021-04-09 12:42:33 (233 KB/s) - ‘metadata.zip’ saved [1509706/1509706]\n",
            "\n",
            "Archive:  metadata.zip\n",
            "  inflating: unix_coherence_item_v346_utf8.csv  \n",
            "  inflating: unix_composition_bloc_v346_utf8.csv  \n",
            "  inflating: unix_cr_gd_dp_appellations_v346_utf8.csv  \n",
            "  inflating: unix_cr_gd_dp_v346_utf8.csv  \n",
            "  inflating: unix_descriptif_rubrique_v346_utf8.csv  \n",
            "  inflating: unix_domaine_professionnel_v346_utf8.csv  \n",
            "  inflating: unix_grand_domaine_v346_utf8.csv  \n",
            "  inflating: unix_item_arborescence_v346_utf8.csv  \n",
            "  inflating: unix_item_v346_utf8.csv  \n",
            "  inflating: unix_liens_rome_referentiels_v346_utf8.csv  \n",
            "  inflating: unix_referentiel_activite_riasec_v346_utf8.csv  \n",
            "  inflating: unix_referentiel_activite_v346_utf8.csv  \n",
            "  inflating: unix_referentiel_appellation_v346_utf8.csv  \n",
            "  inflating: unix_referentiel_code_rome_riasec_v346_utf8.csv  \n",
            "  inflating: unix_referentiel_code_rome_v346_utf8.csv  \n",
            "  inflating: unix_referentiel_competence_v346_utf8.csv  \n",
            "  inflating: unix_referentiel_env_travail_v346_utf8.csv  \n",
            "  inflating: unix_rubrique_mobilite_v346_utf8.csv  \n",
            "  inflating: unix_texte_v346_utf8.csv  \n",
            "  inflating: unix_type_referentiel_v346_utf8.csv  \n"
          ],
          "name": "stdout"
        }
      ]
    },
    {
      "cell_type": "markdown",
      "metadata": {
        "id": "xLL3VA6ECwh2"
      },
      "source": [
        "In the ROME database, there are two tree views:\n",
        "\n",
        "- The principal one (`code_type_referentiel = 6`) organised in 4 levels:\n",
        "  * 14 major fields (*grands domaines*)\n",
        "  * 110 professional fields (*domaines professionnels*)\n",
        "  * 532 ROME forms (*fiches ROME*)\n",
        "  * 11 112 job names (*appellations métier*)\n",
        "- The thematic one (`code_type_referentiel = 7`) with 17 main fields associated to 509 ROME forms: not all ROME forms are included in this tree and some of them are in several main fields at the same time (in total, 295 different ROME forms are used). That's why we will mainly focus on major the principal tree.\n",
        "\n",
        "In the Pole Emploi database we have exhaustive description of the ROME jobs (532 observations), whereas in the Onisep database we have non exhaustive description of 715 jobs (with the associated ROME forms, 354 ROME forms are observed)."
      ]
    },
    {
      "cell_type": "code",
      "metadata": {
        "id": "PMKsWu7CHbBl"
      },
      "source": [
        "arbo = pd.read_csv(\"unix_item_arborescence_v346_utf8.csv\")"
      ],
      "execution_count": null,
      "outputs": []
    },
    {
      "cell_type": "code",
      "metadata": {
        "colab": {
          "base_uri": "https://localhost:8080/",
          "height": 1000
        },
        "id": "UTB58cvZFLVV",
        "outputId": "64b50539-bfd8-408f-9933-68ae39c045ea"
      },
      "source": [
        "thematic_tree = arbo[(arbo[\"code_type_noeud\"]==3)&(arbo[\"code_type_referentiel\"]==7)]\n",
        "thematic_tree = thematic_tree.rename(columns={\"code_noeud\": \"rome_code\",\n",
        "                                              \"code_pere\": \"thematic_code\",\n",
        "                                              \"libelle_item_arbo\": \"rome_title\"})\n",
        "thematic_tree = thematic_tree.drop(columns = ['code_ogr', 'code_item_arbo_associe', 'code_type_noeud',\n",
        "       'libelle_type_noeud', 'statut',\"code_type_referentiel\"])\n",
        "print(thematic_tree)\n",
        "th_tree_desc = arbo[(arbo[\"code_type_noeud\"]==2)&(arbo[\"code_type_referentiel\"]==7)]\n",
        "th_tree_desc = th_tree_desc.drop(columns = ['code_ogr', 'code_item_arbo_associe', 'code_type_noeud',\n",
        "       'libelle_type_noeud', 'code_pere',\"statut\",\"code_type_referentiel\"])\n",
        "th_tree_desc = th_tree_desc.rename(columns={\"code_noeud\": \"thematic_code\",\n",
        "                                            \"libelle_item_arbo\": \"thematic_title\"})\n",
        "print(th_tree_desc)\n",
        "thematic_tree = pd.merge(th_tree_desc,thematic_tree)\n",
        "thematic_tree"
      ],
      "execution_count": null,
      "outputs": [
        {
          "output_type": "stream",
          "text": [
            "     thematic_code rome_code                                         rome_title\n",
            "675            001     A1201                            Bûcheronnage et élagage\n",
            "676            001     A1202                     Entretien des espaces naturels\n",
            "677            001     A1203         Aménagement et entretien des espaces verts\n",
            "678            014     A1203         Aménagement et entretien des espaces verts\n",
            "679            003     A1204                   Protection du patrimoine naturel\n",
            "...            ...       ...                                                ...\n",
            "1179           017     N4104                      Courses et livraisons express\n",
            "1180           013     N4104                      Courses et livraisons express\n",
            "1181           014     N4105  Conduite et livraison par tournées sur courte ...\n",
            "1182           017     N4105  Conduite et livraison par tournées sur courte ...\n",
            "1183           013     N4402  Exploitation et manoeuvre des remontées mécani...\n",
            "\n",
            "[509 rows x 3 columns]\n",
            "    thematic_code                                     thematic_title\n",
            "658           001  Métiers de l'environnement et du développement...\n",
            "659           002  Métiers de la défense et de la sécurité publiq...\n",
            "660           003  Métiers du patrimoine et de la restauration d'...\n",
            "661           004               Métiers de l'intelligence économique\n",
            "662           005                            Métiers de la recherche\n",
            "663           006  Métiers de la mer, du nautisme et de la constr...\n",
            "664           007                          Métiers de l'aéronautique\n",
            "665           008          Métiers de la sécurité publique et privée\n",
            "666           009                              Métiers du multimédia\n",
            "667           010  Métiers de l'humanitaire (hors santé et tertia...\n",
            "668           011                               Métiers du nucléaire\n",
            "669           012                         Métiers auprès des enfants\n",
            "670           013      Métiers saisonniers, de vacances / Jobs d'été\n",
            "671           014      Métiers des services à la personne à domicile\n",
            "672           015                Métiers du sport et autour du sport\n",
            "673           016                            Métiers de l'ingénierie\n",
            "674           017  Métiers accessibles sans diplôme et sans expér...\n"
          ],
          "name": "stdout"
        },
        {
          "output_type": "execute_result",
          "data": {
            "text/html": [
              "<div>\n",
              "<style scoped>\n",
              "    .dataframe tbody tr th:only-of-type {\n",
              "        vertical-align: middle;\n",
              "    }\n",
              "\n",
              "    .dataframe tbody tr th {\n",
              "        vertical-align: top;\n",
              "    }\n",
              "\n",
              "    .dataframe thead th {\n",
              "        text-align: right;\n",
              "    }\n",
              "</style>\n",
              "<table border=\"1\" class=\"dataframe\">\n",
              "  <thead>\n",
              "    <tr style=\"text-align: right;\">\n",
              "      <th></th>\n",
              "      <th>thematic_code</th>\n",
              "      <th>thematic_title</th>\n",
              "      <th>rome_code</th>\n",
              "      <th>rome_title</th>\n",
              "    </tr>\n",
              "  </thead>\n",
              "  <tbody>\n",
              "    <tr>\n",
              "      <th>0</th>\n",
              "      <td>001</td>\n",
              "      <td>Métiers de l'environnement et du développement...</td>\n",
              "      <td>A1201</td>\n",
              "      <td>Bûcheronnage et élagage</td>\n",
              "    </tr>\n",
              "    <tr>\n",
              "      <th>1</th>\n",
              "      <td>001</td>\n",
              "      <td>Métiers de l'environnement et du développement...</td>\n",
              "      <td>A1202</td>\n",
              "      <td>Entretien des espaces naturels</td>\n",
              "    </tr>\n",
              "    <tr>\n",
              "      <th>2</th>\n",
              "      <td>001</td>\n",
              "      <td>Métiers de l'environnement et du développement...</td>\n",
              "      <td>A1203</td>\n",
              "      <td>Aménagement et entretien des espaces verts</td>\n",
              "    </tr>\n",
              "    <tr>\n",
              "      <th>3</th>\n",
              "      <td>001</td>\n",
              "      <td>Métiers de l'environnement et du développement...</td>\n",
              "      <td>A1204</td>\n",
              "      <td>Protection du patrimoine naturel</td>\n",
              "    </tr>\n",
              "    <tr>\n",
              "      <th>4</th>\n",
              "      <td>001</td>\n",
              "      <td>Métiers de l'environnement et du développement...</td>\n",
              "      <td>A1205</td>\n",
              "      <td>Sylviculture</td>\n",
              "    </tr>\n",
              "    <tr>\n",
              "      <th>...</th>\n",
              "      <td>...</td>\n",
              "      <td>...</td>\n",
              "      <td>...</td>\n",
              "      <td>...</td>\n",
              "    </tr>\n",
              "    <tr>\n",
              "      <th>504</th>\n",
              "      <td>017</td>\n",
              "      <td>Métiers accessibles sans diplôme et sans expér...</td>\n",
              "      <td>N4101</td>\n",
              "      <td>Conduite de transport de marchandises sur long...</td>\n",
              "    </tr>\n",
              "    <tr>\n",
              "      <th>505</th>\n",
              "      <td>017</td>\n",
              "      <td>Métiers accessibles sans diplôme et sans expér...</td>\n",
              "      <td>N4102</td>\n",
              "      <td>Conduite de transport de particuliers</td>\n",
              "    </tr>\n",
              "    <tr>\n",
              "      <th>506</th>\n",
              "      <td>017</td>\n",
              "      <td>Métiers accessibles sans diplôme et sans expér...</td>\n",
              "      <td>N4103</td>\n",
              "      <td>Conduite de transport en commun sur route</td>\n",
              "    </tr>\n",
              "    <tr>\n",
              "      <th>507</th>\n",
              "      <td>017</td>\n",
              "      <td>Métiers accessibles sans diplôme et sans expér...</td>\n",
              "      <td>N4104</td>\n",
              "      <td>Courses et livraisons express</td>\n",
              "    </tr>\n",
              "    <tr>\n",
              "      <th>508</th>\n",
              "      <td>017</td>\n",
              "      <td>Métiers accessibles sans diplôme et sans expér...</td>\n",
              "      <td>N4105</td>\n",
              "      <td>Conduite et livraison par tournées sur courte ...</td>\n",
              "    </tr>\n",
              "  </tbody>\n",
              "</table>\n",
              "<p>509 rows × 4 columns</p>\n",
              "</div>"
            ],
            "text/plain": [
              "    thematic_code  ...                                         rome_title\n",
              "0             001  ...                            Bûcheronnage et élagage\n",
              "1             001  ...                     Entretien des espaces naturels\n",
              "2             001  ...         Aménagement et entretien des espaces verts\n",
              "3             001  ...                   Protection du patrimoine naturel\n",
              "4             001  ...                                       Sylviculture\n",
              "..            ...  ...                                                ...\n",
              "504           017  ...  Conduite de transport de marchandises sur long...\n",
              "505           017  ...              Conduite de transport de particuliers\n",
              "506           017  ...          Conduite de transport en commun sur route\n",
              "507           017  ...                      Courses et livraisons express\n",
              "508           017  ...  Conduite et livraison par tournées sur courte ...\n",
              "\n",
              "[509 rows x 4 columns]"
            ]
          },
          "metadata": {
            "tags": []
          },
          "execution_count": 27
        }
      ]
    },
    {
      "cell_type": "code",
      "metadata": {
        "colab": {
          "base_uri": "https://localhost:8080/",
          "height": 1000
        },
        "id": "20h9GKBJFSF7",
        "outputId": "3150e7cc-70db-4159-d497-a204a011df24"
      },
      "source": [
        "principal_tree = arbo[(arbo[\"code_type_noeud\"]==3)&(arbo[\"code_type_referentiel\"]==6)]\n",
        "principal_tree = principal_tree.rename(columns={\"code_noeud\": \"rome_code\",\n",
        "                                              \"code_pere\": \"professional_code\",\n",
        "                                              \"libelle_item_arbo\": \"rome_title\"})\n",
        "principal_tree = principal_tree.drop(columns = ['code_ogr', 'code_item_arbo_associe', 'code_type_noeud',\n",
        "       'libelle_type_noeud', 'statut',\"code_type_referentiel\"])\n",
        "print(principal_tree)\n",
        "pr_tree_desc = arbo[(arbo[\"code_type_noeud\"]==2)&(arbo[\"code_type_referentiel\"]==6)&(arbo[\"code_pere\"]!=\"Racine AP\")]\n",
        "pr_tree_desc = pr_tree_desc.drop(columns = ['code_ogr', 'code_item_arbo_associe', 'code_type_noeud',\n",
        "       'libelle_type_noeud',\"statut\",\"code_type_referentiel\"])\n",
        "pr_tree_desc = pr_tree_desc.rename(columns={\"code_noeud\": \"professional_code\",\n",
        "                                            \"code_pere\": \"major_code\",\n",
        "                                            \"libelle_item_arbo\": \"professional_title\",})\n",
        "print(pr_tree_desc)\n",
        "maj_tree_desc = arbo[(arbo[\"code_type_noeud\"]==2)&(arbo[\"code_type_referentiel\"]==6)&(arbo[\"code_pere\"]==\"Racine AP\")]\n",
        "maj_tree_desc = maj_tree_desc.drop(columns = ['code_ogr', 'code_item_arbo_associe', 'code_type_noeud',\n",
        "       'libelle_type_noeud',\"statut\",\"code_type_referentiel\", \"code_pere\"])\n",
        "maj_tree_desc = maj_tree_desc.rename(columns={\"code_noeud\": \"major_code\",\n",
        "                                            \"libelle_item_arbo\": \"major_title\"})\n",
        "print(principal_tree)\n",
        "principal_tree = pd.merge(pd.merge(maj_tree_desc,pr_tree_desc),\n",
        "                          principal_tree)\n",
        "principal_tree"
      ],
      "execution_count": null,
      "outputs": [
        {
          "output_type": "stream",
          "text": [
            "    professional_code  ...                                         rome_title\n",
            "125               A11  ...          Conduite d'engins agricoles et forestiers\n",
            "126               A12  ...                            Bûcheronnage et élagage\n",
            "127               A12  ...                     Entretien des espaces naturels\n",
            "128               A12  ...         Aménagement et entretien des espaces verts\n",
            "129               A12  ...                   Protection du patrimoine naturel\n",
            "..                ...  ...                                                ...\n",
            "652               N43  ...                                 Conduite sur rails\n",
            "653               N43  ...                  Contrôle des transports en commun\n",
            "654               N44  ...                        Circulation du réseau ferré\n",
            "655               N44  ...  Exploitation et manoeuvre des remontées mécani...\n",
            "656               N44  ...                          Manoeuvre du réseau ferré\n",
            "\n",
            "[532 rows x 3 columns]\n",
            "    major_code  ...                                 professional_title\n",
            "2            A  ...                     Engins agricoles et forestiers\n",
            "3            A  ...                  Espaces naturels et espaces verts\n",
            "4            A  ...                     Etudes et assistance technique\n",
            "5            A  ...                                         Production\n",
            "6            A  ...                                  Soins aux animaux\n",
            "..         ...  ...                                                ...\n",
            "120          N  ...  Personnel sédentaire du transport maritime et ...\n",
            "121          N  ...         Personnel de conduite du transport routier\n",
            "122          N  ...       Personnel d'encadrement du transport routier\n",
            "123          N  ...          Personnel navigant du transport terrestre\n",
            "124          N  ...  Personnel sédentaire du transport ferroviaire ...\n",
            "\n",
            "[110 rows x 3 columns]\n",
            "    professional_code  ...                                         rome_title\n",
            "125               A11  ...          Conduite d'engins agricoles et forestiers\n",
            "126               A12  ...                            Bûcheronnage et élagage\n",
            "127               A12  ...                     Entretien des espaces naturels\n",
            "128               A12  ...         Aménagement et entretien des espaces verts\n",
            "129               A12  ...                   Protection du patrimoine naturel\n",
            "..                ...  ...                                                ...\n",
            "652               N43  ...                                 Conduite sur rails\n",
            "653               N43  ...                  Contrôle des transports en commun\n",
            "654               N44  ...                        Circulation du réseau ferré\n",
            "655               N44  ...  Exploitation et manoeuvre des remontées mécani...\n",
            "656               N44  ...                          Manoeuvre du réseau ferré\n",
            "\n",
            "[532 rows x 3 columns]\n"
          ],
          "name": "stdout"
        },
        {
          "output_type": "execute_result",
          "data": {
            "text/html": [
              "<div>\n",
              "<style scoped>\n",
              "    .dataframe tbody tr th:only-of-type {\n",
              "        vertical-align: middle;\n",
              "    }\n",
              "\n",
              "    .dataframe tbody tr th {\n",
              "        vertical-align: top;\n",
              "    }\n",
              "\n",
              "    .dataframe thead th {\n",
              "        text-align: right;\n",
              "    }\n",
              "</style>\n",
              "<table border=\"1\" class=\"dataframe\">\n",
              "  <thead>\n",
              "    <tr style=\"text-align: right;\">\n",
              "      <th></th>\n",
              "      <th>major_code</th>\n",
              "      <th>major_title</th>\n",
              "      <th>professional_code</th>\n",
              "      <th>professional_title</th>\n",
              "      <th>rome_code</th>\n",
              "      <th>rome_title</th>\n",
              "    </tr>\n",
              "  </thead>\n",
              "  <tbody>\n",
              "    <tr>\n",
              "      <th>0</th>\n",
              "      <td>A</td>\n",
              "      <td>Agriculture et Pêche, Espaces naturels et Espa...</td>\n",
              "      <td>A11</td>\n",
              "      <td>Engins agricoles et forestiers</td>\n",
              "      <td>A1101</td>\n",
              "      <td>Conduite d'engins agricoles et forestiers</td>\n",
              "    </tr>\n",
              "    <tr>\n",
              "      <th>1</th>\n",
              "      <td>A</td>\n",
              "      <td>Agriculture et Pêche, Espaces naturels et Espa...</td>\n",
              "      <td>A12</td>\n",
              "      <td>Espaces naturels et espaces verts</td>\n",
              "      <td>A1201</td>\n",
              "      <td>Bûcheronnage et élagage</td>\n",
              "    </tr>\n",
              "    <tr>\n",
              "      <th>2</th>\n",
              "      <td>A</td>\n",
              "      <td>Agriculture et Pêche, Espaces naturels et Espa...</td>\n",
              "      <td>A12</td>\n",
              "      <td>Espaces naturels et espaces verts</td>\n",
              "      <td>A1202</td>\n",
              "      <td>Entretien des espaces naturels</td>\n",
              "    </tr>\n",
              "    <tr>\n",
              "      <th>3</th>\n",
              "      <td>A</td>\n",
              "      <td>Agriculture et Pêche, Espaces naturels et Espa...</td>\n",
              "      <td>A12</td>\n",
              "      <td>Espaces naturels et espaces verts</td>\n",
              "      <td>A1203</td>\n",
              "      <td>Aménagement et entretien des espaces verts</td>\n",
              "    </tr>\n",
              "    <tr>\n",
              "      <th>4</th>\n",
              "      <td>A</td>\n",
              "      <td>Agriculture et Pêche, Espaces naturels et Espa...</td>\n",
              "      <td>A12</td>\n",
              "      <td>Espaces naturels et espaces verts</td>\n",
              "      <td>A1204</td>\n",
              "      <td>Protection du patrimoine naturel</td>\n",
              "    </tr>\n",
              "    <tr>\n",
              "      <th>...</th>\n",
              "      <td>...</td>\n",
              "      <td>...</td>\n",
              "      <td>...</td>\n",
              "      <td>...</td>\n",
              "      <td>...</td>\n",
              "      <td>...</td>\n",
              "    </tr>\n",
              "    <tr>\n",
              "      <th>527</th>\n",
              "      <td>N</td>\n",
              "      <td>Transport et Logistique</td>\n",
              "      <td>N43</td>\n",
              "      <td>Personnel navigant du transport terrestre</td>\n",
              "      <td>N4301</td>\n",
              "      <td>Conduite sur rails</td>\n",
              "    </tr>\n",
              "    <tr>\n",
              "      <th>528</th>\n",
              "      <td>N</td>\n",
              "      <td>Transport et Logistique</td>\n",
              "      <td>N43</td>\n",
              "      <td>Personnel navigant du transport terrestre</td>\n",
              "      <td>N4302</td>\n",
              "      <td>Contrôle des transports en commun</td>\n",
              "    </tr>\n",
              "    <tr>\n",
              "      <th>529</th>\n",
              "      <td>N</td>\n",
              "      <td>Transport et Logistique</td>\n",
              "      <td>N44</td>\n",
              "      <td>Personnel sédentaire du transport ferroviaire ...</td>\n",
              "      <td>N4401</td>\n",
              "      <td>Circulation du réseau ferré</td>\n",
              "    </tr>\n",
              "    <tr>\n",
              "      <th>530</th>\n",
              "      <td>N</td>\n",
              "      <td>Transport et Logistique</td>\n",
              "      <td>N44</td>\n",
              "      <td>Personnel sédentaire du transport ferroviaire ...</td>\n",
              "      <td>N4402</td>\n",
              "      <td>Exploitation et manoeuvre des remontées mécani...</td>\n",
              "    </tr>\n",
              "    <tr>\n",
              "      <th>531</th>\n",
              "      <td>N</td>\n",
              "      <td>Transport et Logistique</td>\n",
              "      <td>N44</td>\n",
              "      <td>Personnel sédentaire du transport ferroviaire ...</td>\n",
              "      <td>N4403</td>\n",
              "      <td>Manoeuvre du réseau ferré</td>\n",
              "    </tr>\n",
              "  </tbody>\n",
              "</table>\n",
              "<p>532 rows × 6 columns</p>\n",
              "</div>"
            ],
            "text/plain": [
              "    major_code  ...                                         rome_title\n",
              "0            A  ...          Conduite d'engins agricoles et forestiers\n",
              "1            A  ...                            Bûcheronnage et élagage\n",
              "2            A  ...                     Entretien des espaces naturels\n",
              "3            A  ...         Aménagement et entretien des espaces verts\n",
              "4            A  ...                   Protection du patrimoine naturel\n",
              "..         ...  ...                                                ...\n",
              "527          N  ...                                 Conduite sur rails\n",
              "528          N  ...                  Contrôle des transports en commun\n",
              "529          N  ...                        Circulation du réseau ferré\n",
              "530          N  ...  Exploitation et manoeuvre des remontées mécani...\n",
              "531          N  ...                          Manoeuvre du réseau ferré\n",
              "\n",
              "[532 rows x 6 columns]"
            ]
          },
          "metadata": {
            "tags": []
          },
          "execution_count": 29
        }
      ]
    },
    {
      "cell_type": "code",
      "metadata": {
        "id": "W0QqK02UJogF"
      },
      "source": [
        "principal_tree.to_csv(\"principal_tree.csv\", index=False)\n",
        "thematic_tree.to_csv(\"thematic_tree.csv\", index=False)"
      ],
      "execution_count": null,
      "outputs": []
    },
    {
      "cell_type": "markdown",
      "metadata": {
        "id": "7dugeYglHtXR"
      },
      "source": [
        "In the Pole Emploi database, there are many kind of texts associated to a ROME form. In the `unix_texte_v346_utf8.csv` database, you have three categories:\n",
        "\n",
        "1. `definition`: a description of the job\n",
        "2. `acces_a_em`: the required experience/diploma \n",
        "3. `cond_exercice_activite`: condition for exercising activity (for example \"The activity may involve handling loads\")."
      ]
    },
    {
      "cell_type": "code",
      "metadata": {
        "colab": {
          "base_uri": "https://localhost:8080/",
          "height": 423
        },
        "id": "R93asmTYgfCZ",
        "outputId": "18779697-2ac2-4ce1-9bbf-9ede106174de"
      },
      "source": [
        "rome_text = pd.read_csv(\"unix_texte_v346_utf8.csv\")\n",
        "rome_def = rome_text[rome_text[\"libelle_type_texte\"]=='definition']\n",
        "rome_def= rome_def.rename(columns={\"libelle_texte\": \"description\",\n",
        "                                   \"code_rome\": \"rome_code\"}).drop(columns = [\"position_libelle_txt\",\"code_type_texte\",\"libelle_type_texte\"])\n",
        "rome_def"
      ],
      "execution_count": null,
      "outputs": [
        {
          "output_type": "execute_result",
          "data": {
            "text/html": [
              "<div>\n",
              "<style scoped>\n",
              "    .dataframe tbody tr th:only-of-type {\n",
              "        vertical-align: middle;\n",
              "    }\n",
              "\n",
              "    .dataframe tbody tr th {\n",
              "        vertical-align: top;\n",
              "    }\n",
              "\n",
              "    .dataframe thead th {\n",
              "        text-align: right;\n",
              "    }\n",
              "</style>\n",
              "<table border=\"1\" class=\"dataframe\">\n",
              "  <thead>\n",
              "    <tr style=\"text-align: right;\">\n",
              "      <th></th>\n",
              "      <th>rome_code</th>\n",
              "      <th>description</th>\n",
              "    </tr>\n",
              "  </thead>\n",
              "  <tbody>\n",
              "    <tr>\n",
              "      <th>0</th>\n",
              "      <td>A1101</td>\n",
              "      <td>Réalise des travaux mécanisés agricoles, sylvi...</td>\n",
              "    </tr>\n",
              "    <tr>\n",
              "      <th>1</th>\n",
              "      <td>A1201</td>\n",
              "      <td>Réalise des opérations de coupe et d''entretie...</td>\n",
              "    </tr>\n",
              "    <tr>\n",
              "      <th>2</th>\n",
              "      <td>A1201</td>\n",
              "      <td>Peut débarder les grumes. Peut estimer la vale...</td>\n",
              "    </tr>\n",
              "    <tr>\n",
              "      <th>3</th>\n",
              "      <td>A1201</td>\n",
              "      <td>Peut diriger une équipe ou diriger une entrepr...</td>\n",
              "    </tr>\n",
              "    <tr>\n",
              "      <th>4</th>\n",
              "      <td>A1202</td>\n",
              "      <td>Aménage et entretient des écosystèmes (espaces...</td>\n",
              "    </tr>\n",
              "    <tr>\n",
              "      <th>...</th>\n",
              "      <td>...</td>\n",
              "      <td>...</td>\n",
              "    </tr>\n",
              "    <tr>\n",
              "      <th>1497</th>\n",
              "      <td>N4402</td>\n",
              "      <td>Peut informer les clients sur les caractéristi...</td>\n",
              "    </tr>\n",
              "    <tr>\n",
              "      <th>1498</th>\n",
              "      <td>N4402</td>\n",
              "      <td>Peut coordonner l''activité d''une équipe.</td>\n",
              "    </tr>\n",
              "    <tr>\n",
              "      <th>1499</th>\n",
              "      <td>N4403</td>\n",
              "      <td>Réalise des opérations de formation de trains ...</td>\n",
              "    </tr>\n",
              "    <tr>\n",
              "      <th>1500</th>\n",
              "      <td>N4403</td>\n",
              "      <td>Peut acheminer une rame dans un périmètre limité.</td>\n",
              "    </tr>\n",
              "    <tr>\n",
              "      <th>1501</th>\n",
              "      <td>N4403</td>\n",
              "      <td>Peut coordonner l''activité de plusieurs salar...</td>\n",
              "    </tr>\n",
              "  </tbody>\n",
              "</table>\n",
              "<p>1502 rows × 2 columns</p>\n",
              "</div>"
            ],
            "text/plain": [
              "     rome_code                                        description\n",
              "0        A1101  Réalise des travaux mécanisés agricoles, sylvi...\n",
              "1        A1201  Réalise des opérations de coupe et d''entretie...\n",
              "2        A1201  Peut débarder les grumes. Peut estimer la vale...\n",
              "3        A1201  Peut diriger une équipe ou diriger une entrepr...\n",
              "4        A1202  Aménage et entretient des écosystèmes (espaces...\n",
              "...        ...                                                ...\n",
              "1497     N4402  Peut informer les clients sur les caractéristi...\n",
              "1498     N4402         Peut coordonner l''activité d''une équipe.\n",
              "1499     N4403  Réalise des opérations de formation de trains ...\n",
              "1500     N4403  Peut acheminer une rame dans un périmètre limité.\n",
              "1501     N4403  Peut coordonner l''activité de plusieurs salar...\n",
              "\n",
              "[1502 rows x 2 columns]"
            ]
          },
          "metadata": {
            "tags": []
          },
          "execution_count": 112
        }
      ]
    },
    {
      "cell_type": "code",
      "metadata": {
        "colab": {
          "base_uri": "https://localhost:8080/",
          "height": 423
        },
        "id": "Qf1SW1Xh51fi",
        "outputId": "6afce197-7e1d-4a8a-b4ab-6836b22df0ec"
      },
      "source": [
        "# Concatenation of multiple phrases\n",
        "rome_def = rome_def.groupby(['rome_code'])[\"description\"].apply(lambda x: '\\n'.join(x)).reset_index()\n",
        "rome_def"
      ],
      "execution_count": null,
      "outputs": [
        {
          "output_type": "execute_result",
          "data": {
            "text/html": [
              "<div>\n",
              "<style scoped>\n",
              "    .dataframe tbody tr th:only-of-type {\n",
              "        vertical-align: middle;\n",
              "    }\n",
              "\n",
              "    .dataframe tbody tr th {\n",
              "        vertical-align: top;\n",
              "    }\n",
              "\n",
              "    .dataframe thead th {\n",
              "        text-align: right;\n",
              "    }\n",
              "</style>\n",
              "<table border=\"1\" class=\"dataframe\">\n",
              "  <thead>\n",
              "    <tr style=\"text-align: right;\">\n",
              "      <th></th>\n",
              "      <th>rome_code</th>\n",
              "      <th>description</th>\n",
              "    </tr>\n",
              "  </thead>\n",
              "  <tbody>\n",
              "    <tr>\n",
              "      <th>0</th>\n",
              "      <td>A1101</td>\n",
              "      <td>Réalise des travaux mécanisés agricoles, sylvi...</td>\n",
              "    </tr>\n",
              "    <tr>\n",
              "      <th>1</th>\n",
              "      <td>A1201</td>\n",
              "      <td>Réalise des opérations de coupe et d''entretie...</td>\n",
              "    </tr>\n",
              "    <tr>\n",
              "      <th>2</th>\n",
              "      <td>A1202</td>\n",
              "      <td>Aménage et entretient des écosystèmes (espaces...</td>\n",
              "    </tr>\n",
              "    <tr>\n",
              "      <th>3</th>\n",
              "      <td>A1203</td>\n",
              "      <td>Aménage et entretient des espaces verts (parcs...</td>\n",
              "    </tr>\n",
              "    <tr>\n",
              "      <th>4</th>\n",
              "      <td>A1204</td>\n",
              "      <td>Effectue la surveillance de site (espaces natu...</td>\n",
              "    </tr>\n",
              "    <tr>\n",
              "      <th>...</th>\n",
              "      <td>...</td>\n",
              "      <td>...</td>\n",
              "    </tr>\n",
              "    <tr>\n",
              "      <th>527</th>\n",
              "      <td>N4301</td>\n",
              "      <td>Conduit un véhicule sur rails (train, métro, ....</td>\n",
              "    </tr>\n",
              "    <tr>\n",
              "      <th>528</th>\n",
              "      <td>N4302</td>\n",
              "      <td>Contrôle les droits d''accès des voyageurs aux...</td>\n",
              "    </tr>\n",
              "    <tr>\n",
              "      <th>529</th>\n",
              "      <td>N4401</td>\n",
              "      <td>Surveille et coordonne les mouvements des trai...</td>\n",
              "    </tr>\n",
              "    <tr>\n",
              "      <th>530</th>\n",
              "      <td>N4402</td>\n",
              "      <td>Réalise des opérations de mise en fonction, de...</td>\n",
              "    </tr>\n",
              "    <tr>\n",
              "      <th>531</th>\n",
              "      <td>N4403</td>\n",
              "      <td>Réalise des opérations de formation de trains ...</td>\n",
              "    </tr>\n",
              "  </tbody>\n",
              "</table>\n",
              "<p>532 rows × 2 columns</p>\n",
              "</div>"
            ],
            "text/plain": [
              "    rome_code                                        description\n",
              "0       A1101  Réalise des travaux mécanisés agricoles, sylvi...\n",
              "1       A1201  Réalise des opérations de coupe et d''entretie...\n",
              "2       A1202  Aménage et entretient des écosystèmes (espaces...\n",
              "3       A1203  Aménage et entretient des espaces verts (parcs...\n",
              "4       A1204  Effectue la surveillance de site (espaces natu...\n",
              "..        ...                                                ...\n",
              "527     N4301  Conduit un véhicule sur rails (train, métro, ....\n",
              "528     N4302  Contrôle les droits d''accès des voyageurs aux...\n",
              "529     N4401  Surveille et coordonne les mouvements des trai...\n",
              "530     N4402  Réalise des opérations de mise en fonction, de...\n",
              "531     N4403  Réalise des opérations de formation de trains ...\n",
              "\n",
              "[532 rows x 2 columns]"
            ]
          },
          "metadata": {
            "tags": []
          },
          "execution_count": 115
        }
      ]
    },
    {
      "cell_type": "code",
      "metadata": {
        "id": "nXR8SB0kKzMB"
      },
      "source": [
        "rome_def.to_csv(\"rome_description.csv\",index=False)"
      ],
      "execution_count": null,
      "outputs": []
    },
    {
      "cell_type": "markdown",
      "metadata": {
        "id": "eNCsIk8_K4t9"
      },
      "source": [
        "# 2. Algorithms"
      ]
    },
    {
      "cell_type": "markdown",
      "metadata": {
        "id": "96KFULurob1_"
      },
      "source": [
        "## 2.1 Import of the data and the packages\n"
      ]
    },
    {
      "cell_type": "markdown",
      "metadata": {
        "id": "CGVQ7JoCCe-f"
      },
      "source": [
        "### Import and installation of packages"
      ]
    },
    {
      "cell_type": "code",
      "metadata": {
        "colab": {
          "base_uri": "https://localhost:8080/"
        },
        "id": "oW9nVzT-yxjT",
        "outputId": "96ea0f4c-edbc-4c05-cdd6-e5b319a450ee"
      },
      "source": [
        "!pip install \"transformers==2.5.1\"\n",
        "#!pip install -U torchtext==0.8.0"
      ],
      "execution_count": null,
      "outputs": [
        {
          "output_type": "stream",
          "text": [
            "Collecting transformers==2.5.1\n",
            "\u001b[?25l  Downloading https://files.pythonhosted.org/packages/13/33/ffb67897a6985a7b7d8e5e7878c3628678f553634bd3836404fef06ef19b/transformers-2.5.1-py3-none-any.whl (499kB)\n",
            "\u001b[K     |████████████████████████████████| 501kB 11.4MB/s \n",
            "\u001b[?25hRequirement already satisfied: requests in /usr/local/lib/python3.7/dist-packages (from transformers==2.5.1) (2.23.0)\n",
            "Requirement already satisfied: filelock in /usr/local/lib/python3.7/dist-packages (from transformers==2.5.1) (3.0.12)\n",
            "Requirement already satisfied: numpy in /usr/local/lib/python3.7/dist-packages (from transformers==2.5.1) (1.19.5)\n",
            "Collecting sacremoses\n",
            "\u001b[?25l  Downloading https://files.pythonhosted.org/packages/08/cd/342e584ee544d044fb573ae697404ce22ede086c9e87ce5960772084cad0/sacremoses-0.0.44.tar.gz (862kB)\n",
            "\u001b[K     |████████████████████████████████| 870kB 22.1MB/s \n",
            "\u001b[?25hRequirement already satisfied: regex!=2019.12.17 in /usr/local/lib/python3.7/dist-packages (from transformers==2.5.1) (2019.12.20)\n",
            "Requirement already satisfied: tqdm>=4.27 in /usr/local/lib/python3.7/dist-packages (from transformers==2.5.1) (4.41.1)\n",
            "Collecting boto3\n",
            "\u001b[?25l  Downloading https://files.pythonhosted.org/packages/fc/79/64c0815cbe8c6abd7fe5525ec37a2689d3cf10e387629ba4a6e44daff6d0/boto3-1.17.49-py2.py3-none-any.whl (131kB)\n",
            "\u001b[K     |████████████████████████████████| 133kB 38.9MB/s \n",
            "\u001b[?25hCollecting tokenizers==0.5.2\n",
            "\u001b[?25l  Downloading https://files.pythonhosted.org/packages/d6/e3/5e49e9a83fb605aaa34a1c1173e607302fecae529428c28696fb18f1c2c9/tokenizers-0.5.2-cp37-cp37m-manylinux1_x86_64.whl (5.6MB)\n",
            "\u001b[K     |████████████████████████████████| 5.6MB 26.8MB/s \n",
            "\u001b[?25hCollecting sentencepiece\n",
            "\u001b[?25l  Downloading https://files.pythonhosted.org/packages/f5/99/e0808cb947ba10f575839c43e8fafc9cc44e4a7a2c8f79c60db48220a577/sentencepiece-0.1.95-cp37-cp37m-manylinux2014_x86_64.whl (1.2MB)\n",
            "\u001b[K     |████████████████████████████████| 1.2MB 38.7MB/s \n",
            "\u001b[?25hRequirement already satisfied: idna<3,>=2.5 in /usr/local/lib/python3.7/dist-packages (from requests->transformers==2.5.1) (2.10)\n",
            "Requirement already satisfied: certifi>=2017.4.17 in /usr/local/lib/python3.7/dist-packages (from requests->transformers==2.5.1) (2020.12.5)\n",
            "Requirement already satisfied: urllib3!=1.25.0,!=1.25.1,<1.26,>=1.21.1 in /usr/local/lib/python3.7/dist-packages (from requests->transformers==2.5.1) (1.24.3)\n",
            "Requirement already satisfied: chardet<4,>=3.0.2 in /usr/local/lib/python3.7/dist-packages (from requests->transformers==2.5.1) (3.0.4)\n",
            "Requirement already satisfied: six in /usr/local/lib/python3.7/dist-packages (from sacremoses->transformers==2.5.1) (1.15.0)\n",
            "Requirement already satisfied: click in /usr/local/lib/python3.7/dist-packages (from sacremoses->transformers==2.5.1) (7.1.2)\n",
            "Requirement already satisfied: joblib in /usr/local/lib/python3.7/dist-packages (from sacremoses->transformers==2.5.1) (1.0.1)\n",
            "Collecting botocore<1.21.0,>=1.20.49\n",
            "\u001b[?25l  Downloading https://files.pythonhosted.org/packages/68/59/6e28ce58206039ad2592992b75ee79a8f9dbc902a9704373ddacc4f96300/botocore-1.20.49-py2.py3-none-any.whl (7.4MB)\n",
            "\u001b[K     |████████████████████████████████| 7.4MB 39.9MB/s \n",
            "\u001b[?25hCollecting s3transfer<0.4.0,>=0.3.0\n",
            "\u001b[?25l  Downloading https://files.pythonhosted.org/packages/98/14/0b4be62b65c52d6d1c442f24e02d2a9889a73d3c352002e14c70f84a679f/s3transfer-0.3.6-py2.py3-none-any.whl (73kB)\n",
            "\u001b[K     |████████████████████████████████| 81kB 7.3MB/s \n",
            "\u001b[?25hCollecting jmespath<1.0.0,>=0.7.1\n",
            "  Downloading https://files.pythonhosted.org/packages/07/cb/5f001272b6faeb23c1c9e0acc04d48eaaf5c862c17709d20e3469c6e0139/jmespath-0.10.0-py2.py3-none-any.whl\n",
            "Requirement already satisfied: python-dateutil<3.0.0,>=2.1 in /usr/local/lib/python3.7/dist-packages (from botocore<1.21.0,>=1.20.49->boto3->transformers==2.5.1) (2.8.1)\n",
            "Building wheels for collected packages: sacremoses\n",
            "  Building wheel for sacremoses (setup.py) ... \u001b[?25l\u001b[?25hdone\n",
            "  Created wheel for sacremoses: filename=sacremoses-0.0.44-cp37-none-any.whl size=886084 sha256=a36781535d872779673e4aac7cd94c503208efc39ef11759e8b055abd455c9ae\n",
            "  Stored in directory: /root/.cache/pip/wheels/3e/fb/c0/13ab4d63d537658f448366744654323077c4d90069b6512f3c\n",
            "Successfully built sacremoses\n",
            "\u001b[31mERROR: botocore 1.20.49 has requirement urllib3<1.27,>=1.25.4, but you'll have urllib3 1.24.3 which is incompatible.\u001b[0m\n",
            "Installing collected packages: sacremoses, jmespath, botocore, s3transfer, boto3, tokenizers, sentencepiece, transformers\n",
            "Successfully installed boto3-1.17.49 botocore-1.20.49 jmespath-0.10.0 s3transfer-0.3.6 sacremoses-0.0.44 sentencepiece-0.1.95 tokenizers-0.5.2 transformers-2.5.1\n"
          ],
          "name": "stdout"
        }
      ]
    },
    {
      "cell_type": "code",
      "metadata": {
        "id": "EqgZnEyuPpM5"
      },
      "source": [
        "import torch\n",
        "from tqdm.notebook import tqdm\n",
        "\n",
        "import torch\n",
        "import torch.nn as nn\n",
        "import torch.nn.functional as F\n",
        "from torch.utils.data import TensorDataset, DataLoader, RandomSampler, SequentialSampler, Dataset\n",
        "from torch.nn.utils.rnn import pack_padded_sequence, pad_packed_sequence\n",
        "\n",
        "from transformers.tokenization_camembert import CamembertTokenizer\n",
        "from transformers import CamembertForSequenceClassification, AdamW, get_linear_schedule_with_warmup\n",
        "\n",
        "from sklearn.metrics import classification_report, confusion_matrix, roc_curve, auc, plot_roc_curve, f1_score\n",
        "from sklearn.model_selection import train_test_split\n",
        "\n",
        "import matplotlib.pyplot as plt\n",
        "import seaborn as sn\n",
        "import numpy as np\n",
        "import pandas as pd\n",
        "\n",
        "from collections import Counter\n",
        "\n",
        "import nltk\n",
        "from tqdm import tqdm\n",
        "from gensim.models.phrases import Phrases, Phraser\n",
        "from nltk.tokenize import TreebankWordTokenizer, TweetTokenizer\n",
        "from gensim.models import KeyedVectors\n",
        "import random\n",
        "\n",
        "\n",
        "seed_val = 42"
      ],
      "execution_count": null,
      "outputs": []
    },
    {
      "cell_type": "markdown",
      "metadata": {
        "id": "j5WUh2WxEBq_"
      },
      "source": [
        "### Import of pretrained word2vec\n",
        "\n",
        "In this project, due to the few number of observations, we used pre-trained word embedding from a French corpus available at https://fauconnier.github.io. The model was trained in the [FrWac corpus](https://wacky.sslmit.unibo.it/doku.php?id=corpora) of  1.6 billion of words, with a skip-gram approach and an embedding size of 200."
      ]
    },
    {
      "cell_type": "code",
      "metadata": {
        "colab": {
          "base_uri": "https://localhost:8080/"
        },
        "id": "RsrH5U4cwqXg",
        "outputId": "a594f7e4-4268-4fd3-fb93-85e3e96d0486"
      },
      "source": [
        "!wget  https://s3.us-east-2.amazonaws.com/embeddings.net/embeddings/frWac_non_lem_no_postag_no_phrase_200_skip_cut100.bin"
      ],
      "execution_count": null,
      "outputs": [
        {
          "output_type": "stream",
          "text": [
            "--2021-04-12 12:43:54--  https://s3.us-east-2.amazonaws.com/embeddings.net/embeddings/frWac_non_lem_no_postag_no_phrase_200_skip_cut100.bin\n",
            "Resolving s3.us-east-2.amazonaws.com (s3.us-east-2.amazonaws.com)... 52.219.102.137\n",
            "Connecting to s3.us-east-2.amazonaws.com (s3.us-east-2.amazonaws.com)|52.219.102.137|:443... connected.\n",
            "HTTP request sent, awaiting response... 200 OK\n",
            "Length: 126052447 (120M) [application/octet-stream]\n",
            "Saving to: ‘frWac_non_lem_no_postag_no_phrase_200_skip_cut100.bin’\n",
            "\n",
            "frWac_non_lem_no_po 100%[===================>] 120.21M  31.2MB/s    in 4.4s    \n",
            "\n",
            "2021-04-12 12:43:59 (27.6 MB/s) - ‘frWac_non_lem_no_postag_no_phrase_200_skip_cut100.bin’ saved [126052447/126052447]\n",
            "\n"
          ],
          "name": "stdout"
        }
      ]
    },
    {
      "cell_type": "code",
      "metadata": {
        "id": "xEVYq-asxkyu"
      },
      "source": [
        "w2vecembedding = KeyedVectors.load_word2vec_format(\"frWac_non_lem_no_postag_no_phrase_200_skip_cut100.bin\", binary=True, unicode_errors=\"ignore\")"
      ],
      "execution_count": null,
      "outputs": []
    },
    {
      "cell_type": "markdown",
      "metadata": {
        "id": "c3YTFMaFFCMK"
      },
      "source": [
        "### Downloading the data"
      ]
    },
    {
      "cell_type": "code",
      "metadata": {
        "colab": {
          "base_uri": "https://localhost:8080/"
        },
        "id": "AKf1vfiCMs0f",
        "outputId": "aa400b2d-7a64-465a-87cb-3fca5918a1b8"
      },
      "source": [
        "!wget https://gist.github.com/AQLT/329c4af5e9418e94debe0ed721ba71ea/archive/0db14b6a9c9be77cbef12e4b3804e5e279e42aee.zip -O data.zip\n",
        "!unzip -d data/ -j  -o data.zip\n",
        "!rm data.zip"
      ],
      "execution_count": null,
      "outputs": [
        {
          "output_type": "stream",
          "text": [
            "--2021-04-12 12:44:02--  https://gist.github.com/AQLT/329c4af5e9418e94debe0ed721ba71ea/archive/0db14b6a9c9be77cbef12e4b3804e5e279e42aee.zip\n",
            "Resolving gist.github.com (gist.github.com)... 140.82.121.4\n",
            "Connecting to gist.github.com (gist.github.com)|140.82.121.4|:443... connected.\n",
            "HTTP request sent, awaiting response... 302 Found\n",
            "Location: https://codeload.github.com/gist/329c4af5e9418e94debe0ed721ba71ea/zip/0db14b6a9c9be77cbef12e4b3804e5e279e42aee [following]\n",
            "--2021-04-12 12:44:02--  https://codeload.github.com/gist/329c4af5e9418e94debe0ed721ba71ea/zip/0db14b6a9c9be77cbef12e4b3804e5e279e42aee\n",
            "Resolving codeload.github.com (codeload.github.com)... 140.82.121.10\n",
            "Connecting to codeload.github.com (codeload.github.com)|140.82.121.10|:443... connected.\n",
            "HTTP request sent, awaiting response... 200 OK\n",
            "Length: unspecified [application/zip]\n",
            "Saving to: ‘data.zip’\n",
            "\n",
            "data.zip                [ <=>                ] 329.92K  --.-KB/s    in 0.04s   \n",
            "\n",
            "2021-04-12 12:44:02 (8.93 MB/s) - ‘data.zip’ saved [337839]\n",
            "\n",
            "Archive:  data.zip\n",
            "0db14b6a9c9be77cbef12e4b3804e5e279e42aee\n",
            "  inflating: data/onisep_description.csv  \n",
            "  inflating: data/principal_tree.csv  \n",
            "  inflating: data/rome_description.csv  \n",
            "  inflating: data/thematic_tree.csv  \n"
          ],
          "name": "stdout"
        }
      ]
    },
    {
      "cell_type": "code",
      "metadata": {
        "colab": {
          "base_uri": "https://localhost:8080/",
          "height": 423
        },
        "id": "3Abf2rxOpC4f",
        "outputId": "6925301e-71ac-40cd-9784-21e7d09cdb19"
      },
      "source": [
        "principal_tree = pd.read_csv(\"data/principal_tree.csv\")\n",
        "thematic_tree = pd.read_csv(\"data/thematic_tree.csv\")\n",
        "onisep_description = pd.read_csv(\"data/onisep_description.csv\")\n",
        "rome_description = pd.read_csv(\"data/rome_description.csv\")\n",
        "rome_description[\"table\"] = \"rome\"\n",
        "onisep_description[\"table\"] = \"onisep\"\n",
        "onisep_description = onisep_description.drop(columns=[\"metier\",\"GFE\",\"domaine_ONISEP\",\"sous_domaine_ONISEP\"])\n",
        "data = pd.concat([rome_description, onisep_description])\n",
        "data"
      ],
      "execution_count": null,
      "outputs": [
        {
          "output_type": "execute_result",
          "data": {
            "text/html": [
              "<div>\n",
              "<style scoped>\n",
              "    .dataframe tbody tr th:only-of-type {\n",
              "        vertical-align: middle;\n",
              "    }\n",
              "\n",
              "    .dataframe tbody tr th {\n",
              "        vertical-align: top;\n",
              "    }\n",
              "\n",
              "    .dataframe thead th {\n",
              "        text-align: right;\n",
              "    }\n",
              "</style>\n",
              "<table border=\"1\" class=\"dataframe\">\n",
              "  <thead>\n",
              "    <tr style=\"text-align: right;\">\n",
              "      <th></th>\n",
              "      <th>rome_code</th>\n",
              "      <th>description</th>\n",
              "      <th>table</th>\n",
              "    </tr>\n",
              "  </thead>\n",
              "  <tbody>\n",
              "    <tr>\n",
              "      <th>0</th>\n",
              "      <td>A1101</td>\n",
              "      <td>Réalise des travaux mécanisés agricoles, sylvi...</td>\n",
              "      <td>rome</td>\n",
              "    </tr>\n",
              "    <tr>\n",
              "      <th>1</th>\n",
              "      <td>A1201</td>\n",
              "      <td>Réalise des opérations de coupe et d''entretie...</td>\n",
              "      <td>rome</td>\n",
              "    </tr>\n",
              "    <tr>\n",
              "      <th>2</th>\n",
              "      <td>A1202</td>\n",
              "      <td>Aménage et entretient des écosystèmes (espaces...</td>\n",
              "      <td>rome</td>\n",
              "    </tr>\n",
              "    <tr>\n",
              "      <th>3</th>\n",
              "      <td>A1203</td>\n",
              "      <td>Aménage et entretient des espaces verts (parcs...</td>\n",
              "      <td>rome</td>\n",
              "    </tr>\n",
              "    <tr>\n",
              "      <th>4</th>\n",
              "      <td>A1204</td>\n",
              "      <td>Effectue la surveillance de site (espaces natu...</td>\n",
              "      <td>rome</td>\n",
              "    </tr>\n",
              "    <tr>\n",
              "      <th>...</th>\n",
              "      <td>...</td>\n",
              "      <td>...</td>\n",
              "      <td>...</td>\n",
              "    </tr>\n",
              "    <tr>\n",
              "      <th>710</th>\n",
              "      <td>F1105</td>\n",
              "      <td>Le pédologue est un scientifique spécialiste d...</td>\n",
              "      <td>onisep</td>\n",
              "    </tr>\n",
              "    <tr>\n",
              "      <th>711</th>\n",
              "      <td>M1403</td>\n",
              "      <td>Prévoir la durée de vie d'un produit industrie...</td>\n",
              "      <td>onisep</td>\n",
              "    </tr>\n",
              "    <tr>\n",
              "      <th>712</th>\n",
              "      <td>H1206</td>\n",
              "      <td>L'ingénieur en caractérisation des matériaux c...</td>\n",
              "      <td>onisep</td>\n",
              "    </tr>\n",
              "    <tr>\n",
              "      <th>713</th>\n",
              "      <td>L1301</td>\n",
              "      <td>Quand les 3 coups résonnent dans la salle et q...</td>\n",
              "      <td>onisep</td>\n",
              "    </tr>\n",
              "    <tr>\n",
              "      <th>714</th>\n",
              "      <td>C1106</td>\n",
              "      <td>Conseiller technique et souvent arbitre, l'exp...</td>\n",
              "      <td>onisep</td>\n",
              "    </tr>\n",
              "  </tbody>\n",
              "</table>\n",
              "<p>1247 rows × 3 columns</p>\n",
              "</div>"
            ],
            "text/plain": [
              "    rome_code                                        description   table\n",
              "0       A1101  Réalise des travaux mécanisés agricoles, sylvi...    rome\n",
              "1       A1201  Réalise des opérations de coupe et d''entretie...    rome\n",
              "2       A1202  Aménage et entretient des écosystèmes (espaces...    rome\n",
              "3       A1203  Aménage et entretient des espaces verts (parcs...    rome\n",
              "4       A1204  Effectue la surveillance de site (espaces natu...    rome\n",
              "..        ...                                                ...     ...\n",
              "710     F1105  Le pédologue est un scientifique spécialiste d...  onisep\n",
              "711     M1403  Prévoir la durée de vie d'un produit industrie...  onisep\n",
              "712     H1206  L'ingénieur en caractérisation des matériaux c...  onisep\n",
              "713     L1301  Quand les 3 coups résonnent dans la salle et q...  onisep\n",
              "714     C1106  Conseiller technique et souvent arbitre, l'exp...  onisep\n",
              "\n",
              "[1247 rows x 3 columns]"
            ]
          },
          "metadata": {
            "tags": []
          },
          "execution_count": 6
        }
      ]
    },
    {
      "cell_type": "markdown",
      "metadata": {
        "id": "0z_AfhUtyhZB"
      },
      "source": [
        "As described in the section 1, we will focus on the principal tree. We will try to predict the *major_code* (there are 14 major fields) with the description obtained in of 532 ROME forms provided by Pole Emploi and 715 job descriptions provided by Onisep."
      ]
    },
    {
      "cell_type": "code",
      "metadata": {
        "colab": {
          "base_uri": "https://localhost:8080/",
          "height": 788
        },
        "id": "f8uIdojvt9oq",
        "outputId": "64a9d0ea-62d5-4f2a-9886-7ee4979f1f09"
      },
      "source": [
        "data = pd.merge(data, principal_tree)\n",
        "data = data.drop(columns = [\"professional_code\", \"code_type_referentiel\",\"professional_title\"])\n",
        "data"
      ],
      "execution_count": null,
      "outputs": [
        {
          "output_type": "execute_result",
          "data": {
            "text/html": [
              "<div>\n",
              "<style scoped>\n",
              "    .dataframe tbody tr th:only-of-type {\n",
              "        vertical-align: middle;\n",
              "    }\n",
              "\n",
              "    .dataframe tbody tr th {\n",
              "        vertical-align: top;\n",
              "    }\n",
              "\n",
              "    .dataframe thead th {\n",
              "        text-align: right;\n",
              "    }\n",
              "</style>\n",
              "<table border=\"1\" class=\"dataframe\">\n",
              "  <thead>\n",
              "    <tr style=\"text-align: right;\">\n",
              "      <th></th>\n",
              "      <th>rome_code</th>\n",
              "      <th>description</th>\n",
              "      <th>table</th>\n",
              "      <th>major_code</th>\n",
              "      <th>major_title</th>\n",
              "      <th>rome_title</th>\n",
              "    </tr>\n",
              "  </thead>\n",
              "  <tbody>\n",
              "    <tr>\n",
              "      <th>0</th>\n",
              "      <td>A1101</td>\n",
              "      <td>Réalise des travaux mécanisés agricoles, sylvi...</td>\n",
              "      <td>rome</td>\n",
              "      <td>A</td>\n",
              "      <td>Agriculture et Pêche, Espaces naturels et Espa...</td>\n",
              "      <td>Conduite d'engins agricoles et forestiers</td>\n",
              "    </tr>\n",
              "    <tr>\n",
              "      <th>1</th>\n",
              "      <td>A1101</td>\n",
              "      <td>Tracteur, moissonneuse-batteuse, ensileuse, ép...</td>\n",
              "      <td>onisep</td>\n",
              "      <td>A</td>\n",
              "      <td>Agriculture et Pêche, Espaces naturels et Espa...</td>\n",
              "      <td>Conduite d'engins agricoles et forestiers</td>\n",
              "    </tr>\n",
              "    <tr>\n",
              "      <th>2</th>\n",
              "      <td>A1101</td>\n",
              "      <td>Depuis la cabine de sa machine, le conducteur ...</td>\n",
              "      <td>onisep</td>\n",
              "      <td>A</td>\n",
              "      <td>Agriculture et Pêche, Espaces naturels et Espa...</td>\n",
              "      <td>Conduite d'engins agricoles et forestiers</td>\n",
              "    </tr>\n",
              "    <tr>\n",
              "      <th>3</th>\n",
              "      <td>A1201</td>\n",
              "      <td>Réalise des opérations de coupe et d''entretie...</td>\n",
              "      <td>rome</td>\n",
              "      <td>A</td>\n",
              "      <td>Agriculture et Pêche, Espaces naturels et Espa...</td>\n",
              "      <td>Bûcheronnage et élagage</td>\n",
              "    </tr>\n",
              "    <tr>\n",
              "      <th>4</th>\n",
              "      <td>A1201</td>\n",
              "      <td>Avec ses cordes de rappel, son harnais, ses mo...</td>\n",
              "      <td>onisep</td>\n",
              "      <td>A</td>\n",
              "      <td>Agriculture et Pêche, Espaces naturels et Espa...</td>\n",
              "      <td>Bûcheronnage et élagage</td>\n",
              "    </tr>\n",
              "    <tr>\n",
              "      <th>...</th>\n",
              "      <td>...</td>\n",
              "      <td>...</td>\n",
              "      <td>...</td>\n",
              "      <td>...</td>\n",
              "      <td>...</td>\n",
              "      <td>...</td>\n",
              "    </tr>\n",
              "    <tr>\n",
              "      <th>1242</th>\n",
              "      <td>N4401</td>\n",
              "      <td>Surveille et coordonne les mouvements des trai...</td>\n",
              "      <td>rome</td>\n",
              "      <td>N</td>\n",
              "      <td>Transport et Logistique</td>\n",
              "      <td>Circulation du réseau ferré</td>\n",
              "    </tr>\n",
              "    <tr>\n",
              "      <th>1243</th>\n",
              "      <td>N4401</td>\n",
              "      <td>Le technicien de la circulation ferroviaire SN...</td>\n",
              "      <td>onisep</td>\n",
              "      <td>N</td>\n",
              "      <td>Transport et Logistique</td>\n",
              "      <td>Circulation du réseau ferré</td>\n",
              "    </tr>\n",
              "    <tr>\n",
              "      <th>1244</th>\n",
              "      <td>N4402</td>\n",
              "      <td>Réalise des opérations de mise en fonction, de...</td>\n",
              "      <td>rome</td>\n",
              "      <td>N</td>\n",
              "      <td>Transport et Logistique</td>\n",
              "      <td>Exploitation et manoeuvre des remontées mécani...</td>\n",
              "    </tr>\n",
              "    <tr>\n",
              "      <th>1245</th>\n",
              "      <td>N4402</td>\n",
              "      <td>Sur les pistes de ski, une panne d'une télécab...</td>\n",
              "      <td>onisep</td>\n",
              "      <td>N</td>\n",
              "      <td>Transport et Logistique</td>\n",
              "      <td>Exploitation et manoeuvre des remontées mécani...</td>\n",
              "    </tr>\n",
              "    <tr>\n",
              "      <th>1246</th>\n",
              "      <td>N4403</td>\n",
              "      <td>Réalise des opérations de formation de trains ...</td>\n",
              "      <td>rome</td>\n",
              "      <td>N</td>\n",
              "      <td>Transport et Logistique</td>\n",
              "      <td>Manoeuvre du réseau ferré</td>\n",
              "    </tr>\n",
              "  </tbody>\n",
              "</table>\n",
              "<p>1247 rows × 6 columns</p>\n",
              "</div>"
            ],
            "text/plain": [
              "     rome_code  ...                                         rome_title\n",
              "0        A1101  ...          Conduite d'engins agricoles et forestiers\n",
              "1        A1101  ...          Conduite d'engins agricoles et forestiers\n",
              "2        A1101  ...          Conduite d'engins agricoles et forestiers\n",
              "3        A1201  ...                            Bûcheronnage et élagage\n",
              "4        A1201  ...                            Bûcheronnage et élagage\n",
              "...        ...  ...                                                ...\n",
              "1242     N4401  ...                        Circulation du réseau ferré\n",
              "1243     N4401  ...                        Circulation du réseau ferré\n",
              "1244     N4402  ...  Exploitation et manoeuvre des remontées mécani...\n",
              "1245     N4402  ...  Exploitation et manoeuvre des remontées mécani...\n",
              "1246     N4403  ...                          Manoeuvre du réseau ferré\n",
              "\n",
              "[1247 rows x 6 columns]"
            ]
          },
          "metadata": {
            "tags": []
          },
          "execution_count": 7
        }
      ]
    },
    {
      "cell_type": "markdown",
      "metadata": {
        "id": "NLN0XAx4gN1w"
      },
      "source": [
        "We can notice that the dataset is not perfectly balanced :"
      ]
    },
    {
      "cell_type": "code",
      "metadata": {
        "colab": {
          "base_uri": "https://localhost:8080/",
          "height": 948
        },
        "id": "yaMnW_zmgKgW",
        "outputId": "c46911d1-f7df-42dc-e2d7-8c9398629852"
      },
      "source": [
        "data[['major_code', 'table',\"rome_code\"]].groupby(['major_code', 'table']).count()"
      ],
      "execution_count": null,
      "outputs": [
        {
          "output_type": "execute_result",
          "data": {
            "text/html": [
              "<div>\n",
              "<style scoped>\n",
              "    .dataframe tbody tr th:only-of-type {\n",
              "        vertical-align: middle;\n",
              "    }\n",
              "\n",
              "    .dataframe tbody tr th {\n",
              "        vertical-align: top;\n",
              "    }\n",
              "\n",
              "    .dataframe thead th {\n",
              "        text-align: right;\n",
              "    }\n",
              "</style>\n",
              "<table border=\"1\" class=\"dataframe\">\n",
              "  <thead>\n",
              "    <tr style=\"text-align: right;\">\n",
              "      <th></th>\n",
              "      <th></th>\n",
              "      <th>rome_code</th>\n",
              "    </tr>\n",
              "    <tr>\n",
              "      <th>major_code</th>\n",
              "      <th>table</th>\n",
              "      <th></th>\n",
              "    </tr>\n",
              "  </thead>\n",
              "  <tbody>\n",
              "    <tr>\n",
              "      <th rowspan=\"2\" valign=\"top\">A</th>\n",
              "      <th>onisep</th>\n",
              "      <td>44</td>\n",
              "    </tr>\n",
              "    <tr>\n",
              "      <th>rome</th>\n",
              "      <td>30</td>\n",
              "    </tr>\n",
              "    <tr>\n",
              "      <th rowspan=\"2\" valign=\"top\">B</th>\n",
              "      <th>onisep</th>\n",
              "      <td>21</td>\n",
              "    </tr>\n",
              "    <tr>\n",
              "      <th>rome</th>\n",
              "      <td>19</td>\n",
              "    </tr>\n",
              "    <tr>\n",
              "      <th rowspan=\"2\" valign=\"top\">C</th>\n",
              "      <th>onisep</th>\n",
              "      <td>19</td>\n",
              "    </tr>\n",
              "    <tr>\n",
              "      <th>rome</th>\n",
              "      <td>25</td>\n",
              "    </tr>\n",
              "    <tr>\n",
              "      <th rowspan=\"2\" valign=\"top\">D</th>\n",
              "      <th>onisep</th>\n",
              "      <td>35</td>\n",
              "    </tr>\n",
              "    <tr>\n",
              "      <th>rome</th>\n",
              "      <td>39</td>\n",
              "    </tr>\n",
              "    <tr>\n",
              "      <th rowspan=\"2\" valign=\"top\">E</th>\n",
              "      <th>onisep</th>\n",
              "      <td>43</td>\n",
              "    </tr>\n",
              "    <tr>\n",
              "      <th>rome</th>\n",
              "      <td>23</td>\n",
              "    </tr>\n",
              "    <tr>\n",
              "      <th rowspan=\"2\" valign=\"top\">F</th>\n",
              "      <th>onisep</th>\n",
              "      <td>58</td>\n",
              "    </tr>\n",
              "    <tr>\n",
              "      <th>rome</th>\n",
              "      <td>38</td>\n",
              "    </tr>\n",
              "    <tr>\n",
              "      <th rowspan=\"2\" valign=\"top\">G</th>\n",
              "      <th>onisep</th>\n",
              "      <td>34</td>\n",
              "    </tr>\n",
              "    <tr>\n",
              "      <th>rome</th>\n",
              "      <td>30</td>\n",
              "    </tr>\n",
              "    <tr>\n",
              "      <th rowspan=\"2\" valign=\"top\">H</th>\n",
              "      <th>onisep</th>\n",
              "      <td>122</td>\n",
              "    </tr>\n",
              "    <tr>\n",
              "      <th>rome</th>\n",
              "      <td>94</td>\n",
              "    </tr>\n",
              "    <tr>\n",
              "      <th rowspan=\"2\" valign=\"top\">I</th>\n",
              "      <th>onisep</th>\n",
              "      <td>31</td>\n",
              "    </tr>\n",
              "    <tr>\n",
              "      <th>rome</th>\n",
              "      <td>28</td>\n",
              "    </tr>\n",
              "    <tr>\n",
              "      <th rowspan=\"2\" valign=\"top\">J</th>\n",
              "      <th>onisep</th>\n",
              "      <td>38</td>\n",
              "    </tr>\n",
              "    <tr>\n",
              "      <th>rome</th>\n",
              "      <td>32</td>\n",
              "    </tr>\n",
              "    <tr>\n",
              "      <th rowspan=\"2\" valign=\"top\">K</th>\n",
              "      <th>onisep</th>\n",
              "      <td>132</td>\n",
              "    </tr>\n",
              "    <tr>\n",
              "      <th>rome</th>\n",
              "      <td>71</td>\n",
              "    </tr>\n",
              "    <tr>\n",
              "      <th rowspan=\"2\" valign=\"top\">L</th>\n",
              "      <th>onisep</th>\n",
              "      <td>33</td>\n",
              "    </tr>\n",
              "    <tr>\n",
              "      <th>rome</th>\n",
              "      <td>22</td>\n",
              "    </tr>\n",
              "    <tr>\n",
              "      <th rowspan=\"2\" valign=\"top\">M</th>\n",
              "      <th>onisep</th>\n",
              "      <td>78</td>\n",
              "    </tr>\n",
              "    <tr>\n",
              "      <th>rome</th>\n",
              "      <td>44</td>\n",
              "    </tr>\n",
              "    <tr>\n",
              "      <th rowspan=\"2\" valign=\"top\">N</th>\n",
              "      <th>onisep</th>\n",
              "      <td>27</td>\n",
              "    </tr>\n",
              "    <tr>\n",
              "      <th>rome</th>\n",
              "      <td>37</td>\n",
              "    </tr>\n",
              "  </tbody>\n",
              "</table>\n",
              "</div>"
            ],
            "text/plain": [
              "                   rome_code\n",
              "major_code table            \n",
              "A          onisep         44\n",
              "           rome           30\n",
              "B          onisep         21\n",
              "           rome           19\n",
              "C          onisep         19\n",
              "           rome           25\n",
              "D          onisep         35\n",
              "           rome           39\n",
              "E          onisep         43\n",
              "           rome           23\n",
              "F          onisep         58\n",
              "           rome           38\n",
              "G          onisep         34\n",
              "           rome           30\n",
              "H          onisep        122\n",
              "           rome           94\n",
              "I          onisep         31\n",
              "           rome           28\n",
              "J          onisep         38\n",
              "           rome           32\n",
              "K          onisep        132\n",
              "           rome           71\n",
              "L          onisep         33\n",
              "           rome           22\n",
              "M          onisep         78\n",
              "           rome           44\n",
              "N          onisep         27\n",
              "           rome           37"
            ]
          },
          "metadata": {
            "tags": []
          },
          "execution_count": 17
        }
      ]
    },
    {
      "cell_type": "markdown",
      "metadata": {
        "id": "yFii0Rg1Cxt0"
      },
      "source": [
        "## 2.2 Baseline\n",
        "word2vec: https://fauconnier.github.io"
      ]
    },
    {
      "cell_type": "code",
      "metadata": {
        "colab": {
          "base_uri": "https://localhost:8080/",
          "height": 419
        },
        "id": "-xVqrxRV0w85",
        "outputId": "2bacb91c-6b49-4f08-b3d2-7f591bd76e24"
      },
      "source": [
        "# We keep only the relevant columns\n",
        "y_variable = \"major_code\"\n",
        "data_baseline = data[[\"description\", y_variable]].copy()\n",
        "data_baseline"
      ],
      "execution_count": null,
      "outputs": [
        {
          "output_type": "execute_result",
          "data": {
            "text/html": [
              "<div>\n",
              "<style scoped>\n",
              "    .dataframe tbody tr th:only-of-type {\n",
              "        vertical-align: middle;\n",
              "    }\n",
              "\n",
              "    .dataframe tbody tr th {\n",
              "        vertical-align: top;\n",
              "    }\n",
              "\n",
              "    .dataframe thead th {\n",
              "        text-align: right;\n",
              "    }\n",
              "</style>\n",
              "<table border=\"1\" class=\"dataframe\">\n",
              "  <thead>\n",
              "    <tr style=\"text-align: right;\">\n",
              "      <th></th>\n",
              "      <th>description</th>\n",
              "      <th>major_code</th>\n",
              "    </tr>\n",
              "  </thead>\n",
              "  <tbody>\n",
              "    <tr>\n",
              "      <th>0</th>\n",
              "      <td>Réalise des travaux mécanisés agricoles, sylvi...</td>\n",
              "      <td>A</td>\n",
              "    </tr>\n",
              "    <tr>\n",
              "      <th>1</th>\n",
              "      <td>Tracteur, moissonneuse-batteuse, ensileuse, ép...</td>\n",
              "      <td>A</td>\n",
              "    </tr>\n",
              "    <tr>\n",
              "      <th>2</th>\n",
              "      <td>Depuis la cabine de sa machine, le conducteur ...</td>\n",
              "      <td>A</td>\n",
              "    </tr>\n",
              "    <tr>\n",
              "      <th>3</th>\n",
              "      <td>Réalise des opérations de coupe et d''entretie...</td>\n",
              "      <td>A</td>\n",
              "    </tr>\n",
              "    <tr>\n",
              "      <th>4</th>\n",
              "      <td>Avec ses cordes de rappel, son harnais, ses mo...</td>\n",
              "      <td>A</td>\n",
              "    </tr>\n",
              "    <tr>\n",
              "      <th>...</th>\n",
              "      <td>...</td>\n",
              "      <td>...</td>\n",
              "    </tr>\n",
              "    <tr>\n",
              "      <th>1242</th>\n",
              "      <td>Surveille et coordonne les mouvements des trai...</td>\n",
              "      <td>N</td>\n",
              "    </tr>\n",
              "    <tr>\n",
              "      <th>1243</th>\n",
              "      <td>Le technicien de la circulation ferroviaire SN...</td>\n",
              "      <td>N</td>\n",
              "    </tr>\n",
              "    <tr>\n",
              "      <th>1244</th>\n",
              "      <td>Réalise des opérations de mise en fonction, de...</td>\n",
              "      <td>N</td>\n",
              "    </tr>\n",
              "    <tr>\n",
              "      <th>1245</th>\n",
              "      <td>Sur les pistes de ski, une panne d'une télécab...</td>\n",
              "      <td>N</td>\n",
              "    </tr>\n",
              "    <tr>\n",
              "      <th>1246</th>\n",
              "      <td>Réalise des opérations de formation de trains ...</td>\n",
              "      <td>N</td>\n",
              "    </tr>\n",
              "  </tbody>\n",
              "</table>\n",
              "<p>1247 rows × 2 columns</p>\n",
              "</div>"
            ],
            "text/plain": [
              "                                            description major_code\n",
              "0     Réalise des travaux mécanisés agricoles, sylvi...          A\n",
              "1     Tracteur, moissonneuse-batteuse, ensileuse, ép...          A\n",
              "2     Depuis la cabine de sa machine, le conducteur ...          A\n",
              "3     Réalise des opérations de coupe et d''entretie...          A\n",
              "4     Avec ses cordes de rappel, son harnais, ses mo...          A\n",
              "...                                                 ...        ...\n",
              "1242  Surveille et coordonne les mouvements des trai...          N\n",
              "1243  Le technicien de la circulation ferroviaire SN...          N\n",
              "1244  Réalise des opérations de mise en fonction, de...          N\n",
              "1245  Sur les pistes de ski, une panne d'une télécab...          N\n",
              "1246  Réalise des opérations de formation de trains ...          N\n",
              "\n",
              "[1247 rows x 2 columns]"
            ]
          },
          "metadata": {
            "tags": []
          },
          "execution_count": 24
        }
      ]
    },
    {
      "cell_type": "code",
      "metadata": {
        "colab": {
          "base_uri": "https://localhost:8080/"
        },
        "id": "3b02b0EI0w86",
        "outputId": "9109ba63-9579-4e2c-db34-b930edfb05b4"
      },
      "source": [
        "# we change the grades to 0-numbering\n",
        "tag_to_ix = {}\n",
        "i=0\n",
        "for code in data_baseline[y_variable].unique():\n",
        "  tag_to_ix[code]=i\n",
        "  i += 1\n",
        "print(tag_to_ix)\n",
        "data_baseline['label'] = data_baseline[y_variable].replace(tag_to_ix)"
      ],
      "execution_count": null,
      "outputs": [
        {
          "output_type": "stream",
          "text": [
            "{'A': 0, 'B': 1, 'C': 2, 'D': 3, 'E': 4, 'F': 5, 'G': 6, 'H': 7, 'I': 8, 'J': 9, 'K': 10, 'L': 11, 'M': 12, 'N': 13}\n"
          ],
          "name": "stdout"
        }
      ]
    },
    {
      "cell_type": "code",
      "metadata": {
        "id": "n_nDgNbx0w86"
      },
      "source": [
        "tokenizer = TweetTokenizer()\n",
        "def tokenize (text):\n",
        "  tokens = tokenizer.tokenize(text)\n",
        "  tokens = list(map(lambda x: x.lower(), tokens))\n",
        "  return tokens"
      ],
      "execution_count": null,
      "outputs": []
    },
    {
      "cell_type": "code",
      "metadata": {
        "colab": {
          "base_uri": "https://localhost:8080/"
        },
        "id": "tF4fpcmY0w87",
        "outputId": "a03e4734-0f82-4170-e748-e708fc7e5b03"
      },
      "source": [
        "#count number of occurences of each word\n",
        "counts = Counter()\n",
        "for index, row in data_baseline.iterrows():\n",
        "    counts.update(tokenize(row['description']))\n",
        "#deleting infrequent words\n",
        "print(\"num_words before:\",len(counts.keys()))\n",
        "for word in list(counts):\n",
        "    if counts[word] < 2:\n",
        "        del counts[word]\n",
        "print(\"num_words after:\",len(counts.keys()))"
      ],
      "execution_count": null,
      "outputs": [
        {
          "output_type": "stream",
          "text": [
            "num_words before: 12834\n",
            "num_words after: 6924\n"
          ],
          "name": "stdout"
        }
      ]
    },
    {
      "cell_type": "markdown",
      "metadata": {
        "id": "olyrs7nT0w87"
      },
      "source": [
        "We lost about 4 000 words! This is expected because our corpus is quite small, the chance of having repeated words is quite small."
      ]
    },
    {
      "cell_type": "code",
      "metadata": {
        "id": "RiQquGpX3_7m"
      },
      "source": [
        "def get_emb_matrix(pretrained, word_counts):\n",
        "    \"\"\" Creates embedding matrix from word vectors\"\"\"\n",
        "    emb_size = pretrained.vector_size\n",
        "    vocab_size = len(word_counts) + 2\n",
        "    vocab_to_idx = {}\n",
        "    vocab = [\"\", \"UNK\"]\n",
        "    W = np.zeros((vocab_size, emb_size), dtype=\"float32\")\n",
        "    W[0] = np.zeros(emb_size, dtype='float32') # adding a vector for padding\n",
        "    W[1] = np.random.uniform(-0.25, 0.25, emb_size) # adding a vector for unknown words \n",
        "    vocab_to_idx[\"UNK\"] = 1\n",
        "    i = 2\n",
        "    for word in word_counts:\n",
        "        if word in pretrained.vocab:\n",
        "            W[i] = pretrained[word]\n",
        "        else:\n",
        "            W[i] = np.random.uniform(-0.25,0.25, emb_size)\n",
        "        vocab_to_idx[word] = i\n",
        "        vocab.append(word)\n",
        "        i += 1   \n",
        "    return W, np.array(vocab), vocab_to_idx"
      ],
      "execution_count": null,
      "outputs": []
    },
    {
      "cell_type": "code",
      "metadata": {
        "id": "l5xS3GXW4mxW"
      },
      "source": [
        "pretrained_weights, vocab, vocab2index = get_emb_matrix(w2vecembedding, counts)"
      ],
      "execution_count": null,
      "outputs": []
    },
    {
      "cell_type": "code",
      "metadata": {
        "id": "op0xtnn64vAb"
      },
      "source": [
        "def encode_sentence(text,vocab2index,pretrained_weights, emb_size):\n",
        "    tokenized = tokenize(text)\n",
        "    encoded = np.zeros(emb_size)\n",
        "    for w in tokenized:\n",
        "      encoded+= pretrained_weights[vocab2index.get(w, vocab2index[\"UNK\"])]\n",
        "    encoded = encoded/len(tokenized)\n",
        "    return encoded#.tolist()"
      ],
      "execution_count": null,
      "outputs": []
    },
    {
      "cell_type": "code",
      "metadata": {
        "colab": {
          "base_uri": "https://localhost:8080/",
          "height": 289
        },
        "id": "W75-cVSB0w88",
        "outputId": "9aa628ae-134b-4936-91a7-30d190db07cc"
      },
      "source": [
        "data_baseline['encoded'] = data_baseline['description'].apply(lambda x: encode_sentence(x,\n",
        "                                                                                vocab2index,\n",
        "                                                                                pretrained_weights,\n",
        "                                                                                w2vecembedding.vector_size))\n",
        "data_baseline.head()"
      ],
      "execution_count": null,
      "outputs": [
        {
          "output_type": "execute_result",
          "data": {
            "text/html": [
              "<div>\n",
              "<style scoped>\n",
              "    .dataframe tbody tr th:only-of-type {\n",
              "        vertical-align: middle;\n",
              "    }\n",
              "\n",
              "    .dataframe tbody tr th {\n",
              "        vertical-align: top;\n",
              "    }\n",
              "\n",
              "    .dataframe thead th {\n",
              "        text-align: right;\n",
              "    }\n",
              "</style>\n",
              "<table border=\"1\" class=\"dataframe\">\n",
              "  <thead>\n",
              "    <tr style=\"text-align: right;\">\n",
              "      <th></th>\n",
              "      <th>description</th>\n",
              "      <th>major_code</th>\n",
              "      <th>label</th>\n",
              "      <th>encoded</th>\n",
              "    </tr>\n",
              "  </thead>\n",
              "  <tbody>\n",
              "    <tr>\n",
              "      <th>0</th>\n",
              "      <td>Réalise des travaux mécanisés agricoles, sylvi...</td>\n",
              "      <td>A</td>\n",
              "      <td>0</td>\n",
              "      <td>[0.08579311804631008, 0.019259324382381655, 0....</td>\n",
              "    </tr>\n",
              "    <tr>\n",
              "      <th>1</th>\n",
              "      <td>Tracteur, moissonneuse-batteuse, ensileuse, ép...</td>\n",
              "      <td>A</td>\n",
              "      <td>0</td>\n",
              "      <td>[0.04696813193689762, -0.05014419727081406, 0....</td>\n",
              "    </tr>\n",
              "    <tr>\n",
              "      <th>2</th>\n",
              "      <td>Depuis la cabine de sa machine, le conducteur ...</td>\n",
              "      <td>A</td>\n",
              "      <td>0</td>\n",
              "      <td>[0.020716173192706598, -0.07610241523199886, 0...</td>\n",
              "    </tr>\n",
              "    <tr>\n",
              "      <th>3</th>\n",
              "      <td>Réalise des opérations de coupe et d''entretie...</td>\n",
              "      <td>A</td>\n",
              "      <td>0</td>\n",
              "      <td>[0.034823785563989816, -0.004209627571244595, ...</td>\n",
              "    </tr>\n",
              "    <tr>\n",
              "      <th>4</th>\n",
              "      <td>Avec ses cordes de rappel, son harnais, ses mo...</td>\n",
              "      <td>A</td>\n",
              "      <td>0</td>\n",
              "      <td>[0.05025939148170157, -0.043358645188765456, 0...</td>\n",
              "    </tr>\n",
              "  </tbody>\n",
              "</table>\n",
              "</div>"
            ],
            "text/plain": [
              "                                         description  ...                                            encoded\n",
              "0  Réalise des travaux mécanisés agricoles, sylvi...  ...  [0.08579311804631008, 0.019259324382381655, 0....\n",
              "1  Tracteur, moissonneuse-batteuse, ensileuse, ép...  ...  [0.04696813193689762, -0.05014419727081406, 0....\n",
              "2  Depuis la cabine de sa machine, le conducteur ...  ...  [0.020716173192706598, -0.07610241523199886, 0...\n",
              "3  Réalise des opérations de coupe et d''entretie...  ...  [0.034823785563989816, -0.004209627571244595, ...\n",
              "4  Avec ses cordes de rappel, son harnais, ses mo...  ...  [0.05025939148170157, -0.043358645188765456, 0...\n",
              "\n",
              "[5 rows x 4 columns]"
            ]
          },
          "metadata": {
            "tags": []
          },
          "execution_count": 70
        }
      ]
    },
    {
      "cell_type": "code",
      "metadata": {
        "id": "x4ss0Q-9zPT8"
      },
      "source": [
        "X=data_baseline[\"encoded\"]\n",
        "y = data_baseline[\"label\"]"
      ],
      "execution_count": null,
      "outputs": []
    },
    {
      "cell_type": "code",
      "metadata": {
        "colab": {
          "base_uri": "https://localhost:8080/"
        },
        "id": "Nr_XTa6A7T0g",
        "outputId": "fbe06577-2227-48ba-bb8d-cb372ae99c85"
      },
      "source": [
        "# create train 60% \n",
        "X_train, X_devtest, y_train, y_devtest = train_test_split(X, y, test_size=0.4, random_state=42)\n",
        "print(X_train)\n",
        "print(y_train)\n",
        "# create dev 20% test 20% (hence 50% from the 40%)\n",
        "X_dev, X_test, y_dev, y_test = train_test_split(X_devtest, y_devtest, test_size=0.5, random_state=42)\n",
        "print(X_dev)\n",
        "print(y_dev)"
      ],
      "execution_count": null,
      "outputs": [
        {
          "output_type": "stream",
          "text": [
            "137     [0.04962757446535645, -0.07981195574765035, 0....\n",
            "1204    [0.044622473956309784, -0.023323024315583817, ...\n",
            "1066    [0.03813775856186576, -0.056701380971873654, 0...\n",
            "1097    [0.021401629326593816, -0.059946505386762106, ...\n",
            "80      [0.0313555990004189, -0.051011844672948906, 0....\n",
            "                              ...                        \n",
            "1044    [0.03726043569622561, 0.0006541441702707248, 0...\n",
            "1095    [0.03926644565078103, -0.04910881836196417, 0....\n",
            "1130    [0.047774494264740494, -0.0331734246108681, 0....\n",
            "860     [0.056163883710933775, -0.03176526996629456, 0...\n",
            "1126    [0.03913058587172798, -0.038909994693392, 0.03...\n",
            "Name: encoded, Length: 748, dtype: object\n",
            "137      2\n",
            "1204    13\n",
            "1066    12\n",
            "1097    12\n",
            "80       1\n",
            "        ..\n",
            "1044    11\n",
            "1095    12\n",
            "1130    12\n",
            "860     10\n",
            "1126    12\n",
            "Name: label, Length: 748, dtype: int64\n",
            "1004    [0.043263365565635786, -0.06518236601729305, 0...\n",
            "290     [0.027857367614633404, -0.040515921080950645, ...\n",
            "409     [0.027940901124884197, -0.032684829248457524, ...\n",
            "1072    [0.037826630695123376, -0.07158768908694794, 0...\n",
            "754     [0.015615667390692848, -0.07161242467134823, 0...\n",
            "                              ...                        \n",
            "548     [0.012057481694547647, -0.0180015065375319, -0...\n",
            "453     [0.009336657008412769, -0.05820658931151891, 0...\n",
            "802     [0.012060162023020288, -0.0429982373276208, 0....\n",
            "410     [0.0005291070918449097, -0.041345484766902196,...\n",
            "289     [0.03678650882544129, -0.054779421452188955, 0...\n",
            "Name: encoded, Length: 249, dtype: object\n",
            "1004    10\n",
            "290      4\n",
            "409      6\n",
            "1072    12\n",
            "754      9\n",
            "        ..\n",
            "548      7\n",
            "453      6\n",
            "802      9\n",
            "410      6\n",
            "289      4\n",
            "Name: label, Length: 249, dtype: int64\n"
          ],
          "name": "stdout"
        }
      ]
    },
    {
      "cell_type": "code",
      "metadata": {
        "colab": {
          "base_uri": "https://localhost:8080/"
        },
        "id": "MLtGnW6d7T0h",
        "outputId": "c9e6084c-060e-4d00-fcf5-bcf30af406fa"
      },
      "source": [
        "X_train_cv = np.vstack(np.array(X_train))\n",
        "X_train_cv.shape"
      ],
      "execution_count": null,
      "outputs": [
        {
          "output_type": "execute_result",
          "data": {
            "text/plain": [
              "(748, 200)"
            ]
          },
          "metadata": {
            "tags": []
          },
          "execution_count": 74
        }
      ]
    },
    {
      "cell_type": "code",
      "metadata": {
        "colab": {
          "base_uri": "https://localhost:8080/"
        },
        "id": "ubLvNI287T0i",
        "outputId": "70f70597-31bb-4756-d7c0-288743ec0f1a"
      },
      "source": [
        "# for dev set\n",
        "X_dev_cv = np.vstack(np.array(X_dev))\n",
        "X_dev_cv.shape"
      ],
      "execution_count": null,
      "outputs": [
        {
          "output_type": "execute_result",
          "data": {
            "text/plain": [
              "(249, 200)"
            ]
          },
          "metadata": {
            "tags": []
          },
          "execution_count": 75
        }
      ]
    },
    {
      "cell_type": "markdown",
      "metadata": {
        "id": "lceYgstu7T0i"
      },
      "source": [
        "You need to do the same for labels. A binarization is the way to go as we want a matrix representing each label. \n",
        "\n",
        "https://scikit-learn.org/stable/modules/generated/sklearn.preprocessing.LabelBinarizer.html"
      ]
    },
    {
      "cell_type": "markdown",
      "metadata": {
        "id": "aPUl2x0h7T0j"
      },
      "source": [
        "Processing Labels (y)"
      ]
    },
    {
      "cell_type": "code",
      "metadata": {
        "colab": {
          "base_uri": "https://localhost:8080/"
        },
        "id": "YTht8lWu7T0j",
        "outputId": "f1a82900-3371-40e7-d43e-900219f042f5"
      },
      "source": [
        "from sklearn import preprocessing\n",
        "lb = preprocessing.LabelBinarizer()\n",
        "lb_trained = lb.fit(y_train)\n",
        "y_train_lb = lb_trained.transform(y_train)\n",
        "y_dev_lb = lb_trained.transform(y_dev)\n",
        "print(y_train_lb.shape, y_dev_lb.shape)"
      ],
      "execution_count": null,
      "outputs": [
        {
          "output_type": "stream",
          "text": [
            "(748, 14) (249, 14)\n"
          ],
          "name": "stdout"
        }
      ]
    },
    {
      "cell_type": "code",
      "metadata": {
        "id": "xznRdfDM7T0j"
      },
      "source": [
        "from sklearn.multiclass import OneVsRestClassifier\n",
        "from sklearn.svm import LinearSVC\n",
        "from sklearn import svm\n",
        "svc = LinearSVC(verbose=1, random_state=42)\n",
        "clf_svm = OneVsRestClassifier(svc, n_jobs=-1 ).fit(X_train_cv, y_train_lb)"
      ],
      "execution_count": null,
      "outputs": []
    },
    {
      "cell_type": "code",
      "metadata": {
        "colab": {
          "base_uri": "https://localhost:8080/"
        },
        "id": "MXbVxa5q7T0j",
        "outputId": "eeae690b-6380-48b0-ffbf-0465dadc7cfc"
      },
      "source": [
        "y_pred_svm = clf_svm.predict(X_dev_cv)\n",
        "print(y_pred_svm.shape)\n",
        "y_score_svm = clf_svm.decision_function(X_dev_cv)"
      ],
      "execution_count": null,
      "outputs": [
        {
          "output_type": "stream",
          "text": [
            "(249, 14)\n"
          ],
          "name": "stdout"
        }
      ]
    },
    {
      "cell_type": "code",
      "metadata": {
        "id": "oZCXVQ6l-jfC"
      },
      "source": [
        "key_list = list(tag_to_ix.keys())\n",
        "val_list = list(tag_to_ix.values())"
      ],
      "execution_count": null,
      "outputs": []
    },
    {
      "cell_type": "code",
      "metadata": {
        "id": "9RWhTHcM7T0k"
      },
      "source": [
        "from sklearn.metrics import classification_report, confusion_matrix, roc_curve, auc, plot_roc_curve\n",
        "import matplotlib.pyplot as plt\n",
        "import seaborn as sn\n",
        "\n",
        "def show_eval(y_true, y_pred, lb_trained, clf):\n",
        "  ''' \n",
        "  Show eval metrics.  Takes binarized y true and pred along with trained binarizer for label names\n",
        "  '''\n",
        "  y_true_names = lb_trained.inverse_transform(y_true)\n",
        "  y_pred_names = lb_trained.inverse_transform(y_pred)\n",
        "  y_pred_names = [key_list[val_list.index(i)] for i in y_pred_names]\n",
        "  y_true_names = [key_list[val_list.index(i)] for i in y_true_names]\n",
        "  print( classification_report(y_true_names, y_pred_names) )\n",
        "  labels = list(tag_to_ix.keys())\n",
        "  cm = confusion_matrix(y_true_names, y_pred_names , labels = key_list) \n",
        "  \n",
        "  df_cm = pd.DataFrame(cm, index=labels, columns=labels)\n",
        "  # config plot sizes\n",
        "  sn.set(font_scale=1.2)\n",
        "  sn.heatmap(df_cm, annot=True, annot_kws={\"size\": 18}, cmap='coolwarm', linewidth=0.5, fmt=\"\")\n",
        "  plt.tick_params(axis='both', which='major', labelsize=10, labelbottom = False, bottom=False, top = False, labeltop=True)\n",
        "  plt.show()"
      ],
      "execution_count": null,
      "outputs": []
    },
    {
      "cell_type": "code",
      "metadata": {
        "colab": {
          "base_uri": "https://localhost:8080/"
        },
        "id": "J6bZkG1p-ziD",
        "outputId": "3b712360-cfcf-4476-9caf-9dd586f5b707"
      },
      "source": [
        "y_true_names = lb_trained.inverse_transform(y_dev_lb)\n",
        "y_true_names"
      ],
      "execution_count": null,
      "outputs": [
        {
          "output_type": "execute_result",
          "data": {
            "text/plain": [
              "array([10,  4,  6, 12,  9,  5,  6, 10,  9,  8, 10, 13,  6,  8, 10, 12, 13,\n",
              "        8,  2,  0,  7, 11,  7,  7,  0, 10, 10,  7,  0,  4,  1,  7, 13, 12,\n",
              "        0,  0,  0, 10,  2,  6,  7,  6,  7,  7,  4,  7, 12, 10,  1, 12,  7,\n",
              "        3, 10, 11, 10,  7,  5, 13,  0,  7,  3,  9,  2, 13,  6, 10,  8,  0,\n",
              "        5,  5,  8, 11, 12,  8,  7, 13,  4, 10, 12, 10, 10,  7, 13,  9,  9,\n",
              "        7, 13,  7,  1,  7,  5,  9,  7,  7, 10,  0, 12,  5, 10, 11,  7,  5,\n",
              "        7,  5,  5,  3, 10,  8, 12,  7, 10,  4,  1,  6,  3,  7,  5,  7,  7,\n",
              "        7,  7, 11,  3, 11, 10,  5,  4,  0,  8,  7,  7,  0, 13, 10, 13,  2,\n",
              "       10, 13, 10, 12,  8,  8,  4,  8,  8,  3,  5,  3,  5,  7,  4,  7, 11,\n",
              "        3, 12,  2,  5,  6,  2,  6,  9,  0,  7,  7, 10, 10,  1,  0, 12, 12,\n",
              "        9,  5,  7,  4, 10,  6,  7,  4,  0, 10,  1,  7, 10,  8, 12,  7,  6,\n",
              "        3,  5,  5, 13, 12, 10,  5, 12, 12, 10,  7,  7,  5, 10,  5, 11, 12,\n",
              "        6, 12, 13,  8, 12,  7, 10,  9,  7,  4, 12,  7, 10,  6, 10,  0,  7,\n",
              "       10, 10, 10,  9,  1,  8,  9,  4, 10,  7,  7,  3,  3, 10,  0, 10, 12,\n",
              "        4, 12,  3, 12, 13,  7,  7,  6,  9,  6,  4])"
            ]
          },
          "metadata": {
            "tags": []
          },
          "execution_count": 87
        }
      ]
    },
    {
      "cell_type": "code",
      "metadata": {
        "colab": {
          "base_uri": "https://localhost:8080/",
          "height": 687
        },
        "id": "NMBPZ1AY7T0k",
        "outputId": "75ebd8f0-c765-416a-f03c-6448fa3afe60"
      },
      "source": [
        "show_eval(y_dev_lb, y_pred_svm, lb_trained, clf_svm)"
      ],
      "execution_count": null,
      "outputs": [
        {
          "output_type": "stream",
          "text": [
            "/usr/local/lib/python3.7/dist-packages/sklearn/metrics/_classification.py:1272: UndefinedMetricWarning: Precision and F-score are ill-defined and being set to 0.0 in labels with no predicted samples. Use `zero_division` parameter to control this behavior.\n",
            "  _warn_prf(average, modifier, msg_start, len(result))\n"
          ],
          "name": "stderr"
        },
        {
          "output_type": "stream",
          "text": [
            "              precision    recall  f1-score   support\n",
            "\n",
            "           A       0.09      0.94      0.16        16\n",
            "           B       0.00      0.00      0.00         7\n",
            "           C       1.00      0.33      0.50         6\n",
            "           D       1.00      0.08      0.15        12\n",
            "           E       0.00      0.00      0.00        14\n",
            "           F       1.00      0.15      0.26        20\n",
            "           G       1.00      0.07      0.12        15\n",
            "           H       0.80      0.60      0.68        47\n",
            "           I       0.00      0.00      0.00        15\n",
            "           J       1.00      0.25      0.40        12\n",
            "           K       0.77      0.44      0.56        39\n",
            "           L       1.00      0.25      0.40         8\n",
            "           M       1.00      0.29      0.45        24\n",
            "           N       1.00      0.43      0.60        14\n",
            "\n",
            "    accuracy                           0.34       249\n",
            "   macro avg       0.69      0.27      0.31       249\n",
            "weighted avg       0.72      0.34      0.38       249\n",
            "\n"
          ],
          "name": "stdout"
        },
        {
          "output_type": "display_data",
          "data": {
            "image/png": "[encoded data removed]",
            "text/plain": [
              "<Figure size 432x288 with 2 Axes>"
            ]
          },
          "metadata": {
            "tags": []
          }
        }
      ]
    },
    {
      "cell_type": "code",
      "metadata": {
        "colab": {
          "base_uri": "https://localhost:8080/",
          "height": 1000
        },
        "id": "HXcOmjAXwY6T",
        "outputId": "3c777731-7b36-4ba2-af00-584e68a0cc0d"
      },
      "source": [
        "import fasttext\n",
        "import fasttext.util\n",
        "fasttext.util.download_model('fr', if_exists='ignore')"
      ],
      "execution_count": null,
      "outputs": [
        {
          "output_type": "stream",
          "text": [
            "Downloading https://dl.fbaipublicfiles.com/fasttext/vectors-crawl/cc.fr.300.bin.gz\n"
          ],
          "name": "stdout"
        },
        {
          "output_type": "error",
          "ename": "KeyboardInterrupt",
          "evalue": "ignored",
          "traceback": [
            "\u001b[0;31m---------------------------------------------------------------------------\u001b[0m",
            "\u001b[0;31mKeyboardInterrupt\u001b[0m                         Traceback (most recent call last)",
            "\u001b[0;32m<ipython-input-10-a29f1029d42d>\u001b[0m in \u001b[0;36m<module>\u001b[0;34m()\u001b[0m\n\u001b[1;32m      1\u001b[0m \u001b[0;32mimport\u001b[0m \u001b[0mfasttext\u001b[0m\u001b[0;34m\u001b[0m\u001b[0;34m\u001b[0m\u001b[0m\n\u001b[1;32m      2\u001b[0m \u001b[0;32mimport\u001b[0m \u001b[0mfasttext\u001b[0m\u001b[0;34m.\u001b[0m\u001b[0mutil\u001b[0m\u001b[0;34m\u001b[0m\u001b[0;34m\u001b[0m\u001b[0m\n\u001b[0;32m----> 3\u001b[0;31m \u001b[0mfasttext\u001b[0m\u001b[0;34m.\u001b[0m\u001b[0mutil\u001b[0m\u001b[0;34m.\u001b[0m\u001b[0mdownload_model\u001b[0m\u001b[0;34m(\u001b[0m\u001b[0;34m'fr'\u001b[0m\u001b[0;34m,\u001b[0m \u001b[0mif_exists\u001b[0m\u001b[0;34m=\u001b[0m\u001b[0;34m'ignore'\u001b[0m\u001b[0;34m)\u001b[0m\u001b[0;34m\u001b[0m\u001b[0;34m\u001b[0m\u001b[0m\n\u001b[0m",
            "\u001b[0;32m/usr/local/lib/python3.7/dist-packages/fasttext/util/util.py\u001b[0m in \u001b[0;36mdownload_model\u001b[0;34m(lang_id, if_exists, dimension)\u001b[0m\n\u001b[1;32m    202\u001b[0m             \u001b[0;32mpass\u001b[0m\u001b[0;34m\u001b[0m\u001b[0;34m\u001b[0m\u001b[0m\n\u001b[1;32m    203\u001b[0m \u001b[0;34m\u001b[0m\u001b[0m\n\u001b[0;32m--> 204\u001b[0;31m     \u001b[0;32mif\u001b[0m \u001b[0m_download_gz_model\u001b[0m\u001b[0;34m(\u001b[0m\u001b[0mgz_file_name\u001b[0m\u001b[0;34m,\u001b[0m \u001b[0mif_exists\u001b[0m\u001b[0;34m)\u001b[0m\u001b[0;34m:\u001b[0m\u001b[0;34m\u001b[0m\u001b[0;34m\u001b[0m\u001b[0m\n\u001b[0m\u001b[1;32m    205\u001b[0m         \u001b[0;32mwith\u001b[0m \u001b[0mgzip\u001b[0m\u001b[0;34m.\u001b[0m\u001b[0mopen\u001b[0m\u001b[0;34m(\u001b[0m\u001b[0mgz_file_name\u001b[0m\u001b[0;34m,\u001b[0m \u001b[0;34m'rb'\u001b[0m\u001b[0;34m)\u001b[0m \u001b[0;32mas\u001b[0m \u001b[0mf\u001b[0m\u001b[0;34m:\u001b[0m\u001b[0;34m\u001b[0m\u001b[0;34m\u001b[0m\u001b[0m\n\u001b[1;32m    206\u001b[0m             \u001b[0;32mwith\u001b[0m \u001b[0mopen\u001b[0m\u001b[0;34m(\u001b[0m\u001b[0mfile_name\u001b[0m\u001b[0;34m,\u001b[0m \u001b[0;34m'wb'\u001b[0m\u001b[0;34m)\u001b[0m \u001b[0;32mas\u001b[0m \u001b[0mf_out\u001b[0m\u001b[0;34m:\u001b[0m\u001b[0;34m\u001b[0m\u001b[0;34m\u001b[0m\u001b[0m\n",
            "\u001b[0;32m/usr/local/lib/python3.7/dist-packages/fasttext/util/util.py\u001b[0m in \u001b[0;36m_download_gz_model\u001b[0;34m(gz_file_name, if_exists)\u001b[0m\n\u001b[1;32m    176\u001b[0m \u001b[0;34m\u001b[0m\u001b[0m\n\u001b[1;32m    177\u001b[0m     \u001b[0murl\u001b[0m \u001b[0;34m=\u001b[0m \u001b[0;34m\"https://dl.fbaipublicfiles.com/fasttext/vectors-crawl/%s\"\u001b[0m \u001b[0;34m%\u001b[0m \u001b[0mgz_file_name\u001b[0m\u001b[0;34m\u001b[0m\u001b[0;34m\u001b[0m\u001b[0m\n\u001b[0;32m--> 178\u001b[0;31m     \u001b[0m_download_file\u001b[0m\u001b[0;34m(\u001b[0m\u001b[0murl\u001b[0m\u001b[0;34m,\u001b[0m \u001b[0mgz_file_name\u001b[0m\u001b[0;34m)\u001b[0m\u001b[0;34m\u001b[0m\u001b[0;34m\u001b[0m\u001b[0m\n\u001b[0m\u001b[1;32m    179\u001b[0m \u001b[0;34m\u001b[0m\u001b[0m\n\u001b[1;32m    180\u001b[0m     \u001b[0;32mreturn\u001b[0m \u001b[0;32mTrue\u001b[0m\u001b[0;34m\u001b[0m\u001b[0;34m\u001b[0m\u001b[0m\n",
            "\u001b[0;32m/usr/local/lib/python3.7/dist-packages/fasttext/util/util.py\u001b[0m in \u001b[0;36m_download_file\u001b[0;34m(url, write_file_name, chunk_size)\u001b[0m\n\u001b[1;32m    160\u001b[0m                 \u001b[0;32mbreak\u001b[0m\u001b[0;34m\u001b[0m\u001b[0;34m\u001b[0m\u001b[0m\n\u001b[1;32m    161\u001b[0m             \u001b[0mf\u001b[0m\u001b[0;34m.\u001b[0m\u001b[0mwrite\u001b[0m\u001b[0;34m(\u001b[0m\u001b[0mchunk\u001b[0m\u001b[0;34m)\u001b[0m\u001b[0;34m\u001b[0m\u001b[0;34m\u001b[0m\u001b[0m\n\u001b[0;32m--> 162\u001b[0;31m             \u001b[0m_print_progress\u001b[0m\u001b[0;34m(\u001b[0m\u001b[0mdownloaded\u001b[0m\u001b[0;34m,\u001b[0m \u001b[0mfile_size\u001b[0m\u001b[0;34m)\u001b[0m\u001b[0;34m\u001b[0m\u001b[0;34m\u001b[0m\u001b[0m\n\u001b[0m\u001b[1;32m    163\u001b[0m \u001b[0;34m\u001b[0m\u001b[0m\n\u001b[1;32m    164\u001b[0m     \u001b[0mos\u001b[0m\u001b[0;34m.\u001b[0m\u001b[0mrename\u001b[0m\u001b[0;34m(\u001b[0m\u001b[0mdownload_file_name\u001b[0m\u001b[0;34m,\u001b[0m \u001b[0mwrite_file_name\u001b[0m\u001b[0;34m)\u001b[0m\u001b[0;34m\u001b[0m\u001b[0;34m\u001b[0m\u001b[0m\n",
            "\u001b[0;32m/usr/local/lib/python3.7/dist-packages/fasttext/util/util.py\u001b[0m in \u001b[0;36m_print_progress\u001b[0;34m(downloaded_bytes, total_size)\u001b[0m\n\u001b[1;32m    138\u001b[0m     \u001b[0msys\u001b[0m\u001b[0;34m.\u001b[0m\u001b[0mstdout\u001b[0m\u001b[0;34m.\u001b[0m\u001b[0mwrite\u001b[0m\u001b[0;34m(\u001b[0m\u001b[0;34m\" \"\u001b[0m \u001b[0;34m*\u001b[0m \u001b[0;34m(\u001b[0m\u001b[0mbar_size\u001b[0m \u001b[0;34m-\u001b[0m \u001b[0mbar\u001b[0m\u001b[0;34m)\u001b[0m\u001b[0;34m)\u001b[0m\u001b[0;34m\u001b[0m\u001b[0;34m\u001b[0m\u001b[0m\n\u001b[1;32m    139\u001b[0m     \u001b[0msys\u001b[0m\u001b[0;34m.\u001b[0m\u001b[0mstdout\u001b[0m\u001b[0;34m.\u001b[0m\u001b[0mwrite\u001b[0m\u001b[0;34m(\u001b[0m\u001b[0;34m\"]\\r\"\u001b[0m\u001b[0;34m)\u001b[0m\u001b[0;34m\u001b[0m\u001b[0;34m\u001b[0m\u001b[0m\n\u001b[0;32m--> 140\u001b[0;31m     \u001b[0msys\u001b[0m\u001b[0;34m.\u001b[0m\u001b[0mstdout\u001b[0m\u001b[0;34m.\u001b[0m\u001b[0mflush\u001b[0m\u001b[0;34m(\u001b[0m\u001b[0;34m)\u001b[0m\u001b[0;34m\u001b[0m\u001b[0;34m\u001b[0m\u001b[0m\n\u001b[0m\u001b[1;32m    141\u001b[0m \u001b[0;34m\u001b[0m\u001b[0m\n\u001b[1;32m    142\u001b[0m     \u001b[0;32mif\u001b[0m \u001b[0mdownloaded_bytes\u001b[0m \u001b[0;34m>=\u001b[0m \u001b[0mtotal_size\u001b[0m\u001b[0;34m:\u001b[0m\u001b[0;34m\u001b[0m\u001b[0;34m\u001b[0m\u001b[0m\n",
            "\u001b[0;32m/usr/local/lib/python3.7/dist-packages/ipykernel/iostream.py\u001b[0m in \u001b[0;36mflush\u001b[0;34m(self)\u001b[0m\n\u001b[1;32m    347\u001b[0m                 \u001b[0mself\u001b[0m\u001b[0;34m.\u001b[0m\u001b[0mpub_thread\u001b[0m\u001b[0;34m.\u001b[0m\u001b[0mschedule\u001b[0m\u001b[0;34m(\u001b[0m\u001b[0mevt\u001b[0m\u001b[0;34m.\u001b[0m\u001b[0mset\u001b[0m\u001b[0;34m)\u001b[0m\u001b[0;34m\u001b[0m\u001b[0;34m\u001b[0m\u001b[0m\n\u001b[1;32m    348\u001b[0m                 \u001b[0;31m# and give a timeout to avoid\u001b[0m\u001b[0;34m\u001b[0m\u001b[0;34m\u001b[0m\u001b[0;34m\u001b[0m\u001b[0m\n\u001b[0;32m--> 349\u001b[0;31m                 \u001b[0;32mif\u001b[0m \u001b[0;32mnot\u001b[0m \u001b[0mevt\u001b[0m\u001b[0;34m.\u001b[0m\u001b[0mwait\u001b[0m\u001b[0;34m(\u001b[0m\u001b[0mself\u001b[0m\u001b[0;34m.\u001b[0m\u001b[0mflush_timeout\u001b[0m\u001b[0;34m)\u001b[0m\u001b[0;34m:\u001b[0m\u001b[0;34m\u001b[0m\u001b[0;34m\u001b[0m\u001b[0m\n\u001b[0m\u001b[1;32m    350\u001b[0m                     \u001b[0;31m# write directly to __stderr__ instead of warning because\u001b[0m\u001b[0;34m\u001b[0m\u001b[0;34m\u001b[0m\u001b[0;34m\u001b[0m\u001b[0m\n\u001b[1;32m    351\u001b[0m                     \u001b[0;31m# if this is happening sys.stderr may be the problem.\u001b[0m\u001b[0;34m\u001b[0m\u001b[0;34m\u001b[0m\u001b[0;34m\u001b[0m\u001b[0m\n",
            "\u001b[0;32m/usr/lib/python3.7/threading.py\u001b[0m in \u001b[0;36mwait\u001b[0;34m(self, timeout)\u001b[0m\n\u001b[1;32m    550\u001b[0m             \u001b[0msignaled\u001b[0m \u001b[0;34m=\u001b[0m \u001b[0mself\u001b[0m\u001b[0;34m.\u001b[0m\u001b[0m_flag\u001b[0m\u001b[0;34m\u001b[0m\u001b[0;34m\u001b[0m\u001b[0m\n\u001b[1;32m    551\u001b[0m             \u001b[0;32mif\u001b[0m \u001b[0;32mnot\u001b[0m \u001b[0msignaled\u001b[0m\u001b[0;34m:\u001b[0m\u001b[0;34m\u001b[0m\u001b[0;34m\u001b[0m\u001b[0m\n\u001b[0;32m--> 552\u001b[0;31m                 \u001b[0msignaled\u001b[0m \u001b[0;34m=\u001b[0m \u001b[0mself\u001b[0m\u001b[0;34m.\u001b[0m\u001b[0m_cond\u001b[0m\u001b[0;34m.\u001b[0m\u001b[0mwait\u001b[0m\u001b[0;34m(\u001b[0m\u001b[0mtimeout\u001b[0m\u001b[0;34m)\u001b[0m\u001b[0;34m\u001b[0m\u001b[0;34m\u001b[0m\u001b[0m\n\u001b[0m\u001b[1;32m    553\u001b[0m             \u001b[0;32mreturn\u001b[0m \u001b[0msignaled\u001b[0m\u001b[0;34m\u001b[0m\u001b[0;34m\u001b[0m\u001b[0m\n\u001b[1;32m    554\u001b[0m \u001b[0;34m\u001b[0m\u001b[0m\n",
            "\u001b[0;32m/usr/lib/python3.7/threading.py\u001b[0m in \u001b[0;36mwait\u001b[0;34m(self, timeout)\u001b[0m\n\u001b[1;32m    298\u001b[0m             \u001b[0;32melse\u001b[0m\u001b[0;34m:\u001b[0m\u001b[0;34m\u001b[0m\u001b[0;34m\u001b[0m\u001b[0m\n\u001b[1;32m    299\u001b[0m                 \u001b[0;32mif\u001b[0m \u001b[0mtimeout\u001b[0m \u001b[0;34m>\u001b[0m \u001b[0;36m0\u001b[0m\u001b[0;34m:\u001b[0m\u001b[0;34m\u001b[0m\u001b[0;34m\u001b[0m\u001b[0m\n\u001b[0;32m--> 300\u001b[0;31m                     \u001b[0mgotit\u001b[0m \u001b[0;34m=\u001b[0m \u001b[0mwaiter\u001b[0m\u001b[0;34m.\u001b[0m\u001b[0macquire\u001b[0m\u001b[0;34m(\u001b[0m\u001b[0;32mTrue\u001b[0m\u001b[0;34m,\u001b[0m \u001b[0mtimeout\u001b[0m\u001b[0;34m)\u001b[0m\u001b[0;34m\u001b[0m\u001b[0;34m\u001b[0m\u001b[0m\n\u001b[0m\u001b[1;32m    301\u001b[0m                 \u001b[0;32melse\u001b[0m\u001b[0;34m:\u001b[0m\u001b[0;34m\u001b[0m\u001b[0;34m\u001b[0m\u001b[0m\n\u001b[1;32m    302\u001b[0m                     \u001b[0mgotit\u001b[0m \u001b[0;34m=\u001b[0m \u001b[0mwaiter\u001b[0m\u001b[0;34m.\u001b[0m\u001b[0macquire\u001b[0m\u001b[0;34m(\u001b[0m\u001b[0;32mFalse\u001b[0m\u001b[0;34m)\u001b[0m\u001b[0;34m\u001b[0m\u001b[0;34m\u001b[0m\u001b[0m\n",
            "\u001b[0;31mKeyboardInterrupt\u001b[0m: "
          ]
        }
      ]
    },
    {
      "cell_type": "markdown",
      "metadata": {
        "id": "L5XkLK_TzoFv"
      },
      "source": [
        "## 2.3 LSTM\n",
        "\n",
        "article : https://towardsdatascience.com/multiclass-text-classification-using-lstm-in-pytorch-eac56baed8df\n",
        "\n",
        "code : https://jovian.ai/aakanksha-ns/lstm-multiclass-text-classification\n",
        "\n",
        "pour bien comprendre les paramètes de nn.embedding : https://discuss.pytorch.org/t/how-should-i-understand-the-num-embeddings-and-embedding-dim-arguments-for-nn-embedding/60442/3\n",
        "\n",
        "À faire :\n",
        "\n",
        "- changer le tokenizer ? Pas forcément, tester en enlevant les mots peu fréquents ou non\n",
        "\n",
        "- regarder les différences entre les optimizer ? PAs forcément mais peut-être mini-tests sur les paramètres\n",
        "\n",
        "- choix des paramètres, notamment dimension, tester\n",
        "\n",
        "- qualité de la prévision sur quelques phrases, également à faire sur Bert\n",
        "\n",
        "- nombre d'epochs, c'est surement trop 500.\n"
      ]
    },
    {
      "cell_type": "code",
      "metadata": {
        "colab": {
          "base_uri": "https://localhost:8080/",
          "height": 423
        },
        "id": "kGIgPZwNf8VF",
        "outputId": "a167a2ee-6dc6-44a0-fe93-71ba40ccb665"
      },
      "source": [
        "# We keep only the relevant columns\n",
        "y_variable = \"major_code\"\n",
        "data_lstm = data[[\"description\", y_variable]].copy()\n",
        "data_lstm"
      ],
      "execution_count": null,
      "outputs": [
        {
          "output_type": "execute_result",
          "data": {
            "text/html": [
              "<div>\n",
              "<style scoped>\n",
              "    .dataframe tbody tr th:only-of-type {\n",
              "        vertical-align: middle;\n",
              "    }\n",
              "\n",
              "    .dataframe tbody tr th {\n",
              "        vertical-align: top;\n",
              "    }\n",
              "\n",
              "    .dataframe thead th {\n",
              "        text-align: right;\n",
              "    }\n",
              "</style>\n",
              "<table border=\"1\" class=\"dataframe\">\n",
              "  <thead>\n",
              "    <tr style=\"text-align: right;\">\n",
              "      <th></th>\n",
              "      <th>description</th>\n",
              "      <th>major_code</th>\n",
              "    </tr>\n",
              "  </thead>\n",
              "  <tbody>\n",
              "    <tr>\n",
              "      <th>0</th>\n",
              "      <td>Réalise des travaux mécanisés agricoles, sylvi...</td>\n",
              "      <td>A</td>\n",
              "    </tr>\n",
              "    <tr>\n",
              "      <th>1</th>\n",
              "      <td>Tracteur, moissonneuse-batteuse, ensileuse, ép...</td>\n",
              "      <td>A</td>\n",
              "    </tr>\n",
              "    <tr>\n",
              "      <th>2</th>\n",
              "      <td>Depuis la cabine de sa machine, le conducteur ...</td>\n",
              "      <td>A</td>\n",
              "    </tr>\n",
              "    <tr>\n",
              "      <th>3</th>\n",
              "      <td>Réalise des opérations de coupe et d''entretie...</td>\n",
              "      <td>A</td>\n",
              "    </tr>\n",
              "    <tr>\n",
              "      <th>4</th>\n",
              "      <td>Avec ses cordes de rappel, son harnais, ses mo...</td>\n",
              "      <td>A</td>\n",
              "    </tr>\n",
              "    <tr>\n",
              "      <th>...</th>\n",
              "      <td>...</td>\n",
              "      <td>...</td>\n",
              "    </tr>\n",
              "    <tr>\n",
              "      <th>1242</th>\n",
              "      <td>Surveille et coordonne les mouvements des trai...</td>\n",
              "      <td>N</td>\n",
              "    </tr>\n",
              "    <tr>\n",
              "      <th>1243</th>\n",
              "      <td>Le technicien de la circulation ferroviaire SN...</td>\n",
              "      <td>N</td>\n",
              "    </tr>\n",
              "    <tr>\n",
              "      <th>1244</th>\n",
              "      <td>Réalise des opérations de mise en fonction, de...</td>\n",
              "      <td>N</td>\n",
              "    </tr>\n",
              "    <tr>\n",
              "      <th>1245</th>\n",
              "      <td>Sur les pistes de ski, une panne d'une télécab...</td>\n",
              "      <td>N</td>\n",
              "    </tr>\n",
              "    <tr>\n",
              "      <th>1246</th>\n",
              "      <td>Réalise des opérations de formation de trains ...</td>\n",
              "      <td>N</td>\n",
              "    </tr>\n",
              "  </tbody>\n",
              "</table>\n",
              "<p>1247 rows × 2 columns</p>\n",
              "</div>"
            ],
            "text/plain": [
              "                                            description major_code\n",
              "0     Réalise des travaux mécanisés agricoles, sylvi...          A\n",
              "1     Tracteur, moissonneuse-batteuse, ensileuse, ép...          A\n",
              "2     Depuis la cabine de sa machine, le conducteur ...          A\n",
              "3     Réalise des opérations de coupe et d''entretie...          A\n",
              "4     Avec ses cordes de rappel, son harnais, ses mo...          A\n",
              "...                                                 ...        ...\n",
              "1242  Surveille et coordonne les mouvements des trai...          N\n",
              "1243  Le technicien de la circulation ferroviaire SN...          N\n",
              "1244  Réalise des opérations de mise en fonction, de...          N\n",
              "1245  Sur les pistes de ski, une panne d'une télécab...          N\n",
              "1246  Réalise des opérations de formation de trains ...          N\n",
              "\n",
              "[1247 rows x 2 columns]"
            ]
          },
          "metadata": {
            "tags": []
          },
          "execution_count": 9
        }
      ]
    },
    {
      "cell_type": "code",
      "metadata": {
        "colab": {
          "base_uri": "https://localhost:8080/"
        },
        "id": "kb51HnpghuT1",
        "outputId": "30c165d7-428c-4bfb-82c9-cf999fc1f7c5"
      },
      "source": [
        "# we change the grades to 0-numbering\n",
        "tag_to_ix = {}\n",
        "i=0\n",
        "for code in data_lstm[y_variable].unique():\n",
        "  tag_to_ix[code]=i\n",
        "  i += 1\n",
        "print(tag_to_ix)\n",
        "data_lstm['label'] = data_lstm[y_variable].replace(tag_to_ix)"
      ],
      "execution_count": null,
      "outputs": [
        {
          "output_type": "stream",
          "text": [
            "{'A': 0, 'B': 1, 'C': 2, 'D': 3, 'E': 4, 'F': 5, 'G': 6, 'H': 7, 'I': 8, 'J': 9, 'K': 10, 'L': 11, 'M': 12, 'N': 13}\n"
          ],
          "name": "stdout"
        }
      ]
    },
    {
      "cell_type": "code",
      "metadata": {
        "id": "Pn5CRkdZi6cH"
      },
      "source": [
        "#tokenizer = TreebankWordTokenizer()\n",
        "tokenizer = TweetTokenizer()\n",
        "\n",
        "def tokenize (text):\n",
        "  tokens = tokenizer.tokenize(text)\n",
        "  tokens = list(map(lambda x: x.lower(), tokens))\n",
        "  return tokens"
      ],
      "execution_count": null,
      "outputs": []
    },
    {
      "cell_type": "code",
      "metadata": {
        "colab": {
          "base_uri": "https://localhost:8080/"
        },
        "id": "vj_6WMs7jHLq",
        "outputId": "15aa2d1d-50f7-4152-ed7d-5456cc56d131"
      },
      "source": [
        "#count number of occurences of each word\n",
        "counts = Counter()\n",
        "for index, row in data_lstm.iterrows():\n",
        "    counts.update(tokenize(row['description']))\n",
        "#deleting infrequent words\n",
        "print(\"num_words before:\",len(counts.keys()))\n",
        "for word in list(counts):\n",
        "    if counts[word] < 2:\n",
        "        del counts[word]\n",
        "print(\"num_words after:\",len(counts.keys()))"
      ],
      "execution_count": null,
      "outputs": [
        {
          "output_type": "stream",
          "text": [
            "num_words before: 14654\n",
            "num_words after: 7274\n"
          ],
          "name": "stdout"
        }
      ]
    },
    {
      "cell_type": "markdown",
      "metadata": {
        "id": "ctS9iqdHnz5i"
      },
      "source": [
        "We lost about 4 000 words! This is expected because our corpus is quite small, the chance of having repeated words is quite small.\n",
        "We then create a vocabulary to index mapping and encode our description text using this mapping. We choose the maximum length of any description to be 130 words (function `encode_sentence`) because the average length of description was around 107: putting this value too high dramatically increases the computational time and deteriorate the quality of the models."
      ]
    },
    {
      "cell_type": "code",
      "metadata": {
        "colab": {
          "base_uri": "https://localhost:8080/"
        },
        "id": "Mn4NO8ABHlM_",
        "outputId": "25f986be-24aa-4c44-a727-669e85f14603"
      },
      "source": [
        "len_description = data_lstm.description.apply(lambda x: len(x.split()))\n",
        "print(\"mean:\",np.mean(len_description))\n",
        "np.quantile(len_description,q=[0,0.25,0.5,0.75,1])"
      ],
      "execution_count": null,
      "outputs": [
        {
          "output_type": "stream",
          "text": [
            "mean: 107.1242983159583\n"
          ],
          "name": "stdout"
        },
        {
          "output_type": "execute_result",
          "data": {
            "text/plain": [
              "array([ 21.,  56., 110., 153., 276.])"
            ]
          },
          "metadata": {
            "tags": []
          },
          "execution_count": 17
        }
      ]
    },
    {
      "cell_type": "code",
      "metadata": {
        "id": "brMn9xfBkrKD"
      },
      "source": [
        "#creating vocabulary\n",
        "vocab2index = {\"\":0, \"UNK\":1}\n",
        "words = [\"\", \"UNK\"]\n",
        "for word in counts:\n",
        "    vocab2index[word] = len(words)\n",
        "    words.append(word)"
      ],
      "execution_count": null,
      "outputs": []
    },
    {
      "cell_type": "code",
      "metadata": {
        "id": "LZJecSzvk1Cd"
      },
      "source": [
        "def encode_sentence(text, vocab2index, N=130):\n",
        "    tokenized = tokenize(text)\n",
        "    encoded = np.zeros(N, dtype=int)\n",
        "    enc1 = np.array([vocab2index.get(word, vocab2index[\"UNK\"]) for word in tokenized])\n",
        "    length = min(N, len(enc1))\n",
        "    encoded[:length] = enc1[:length]\n",
        "    return encoded, length"
      ],
      "execution_count": null,
      "outputs": []
    },
    {
      "cell_type": "code",
      "metadata": {
        "colab": {
          "base_uri": "https://localhost:8080/",
          "height": 293
        },
        "id": "qGZfuN3Vk5iL",
        "outputId": "496ccdb6-1e1d-4bbd-c801-a17e71e28e85"
      },
      "source": [
        "data_lstm['encoded'] = data_lstm['description'].apply(lambda x: np.array(encode_sentence(x,vocab2index ),dtype=object))\n",
        "data_lstm.head()"
      ],
      "execution_count": null,
      "outputs": [
        {
          "output_type": "execute_result",
          "data": {
            "text/html": [
              "<div>\n",
              "<style scoped>\n",
              "    .dataframe tbody tr th:only-of-type {\n",
              "        vertical-align: middle;\n",
              "    }\n",
              "\n",
              "    .dataframe tbody tr th {\n",
              "        vertical-align: top;\n",
              "    }\n",
              "\n",
              "    .dataframe thead th {\n",
              "        text-align: right;\n",
              "    }\n",
              "</style>\n",
              "<table border=\"1\" class=\"dataframe\">\n",
              "  <thead>\n",
              "    <tr style=\"text-align: right;\">\n",
              "      <th></th>\n",
              "      <th>description</th>\n",
              "      <th>major_code</th>\n",
              "      <th>label</th>\n",
              "      <th>encoded</th>\n",
              "      <th>data_type</th>\n",
              "    </tr>\n",
              "  </thead>\n",
              "  <tbody>\n",
              "    <tr>\n",
              "      <th>0</th>\n",
              "      <td>Réalise des travaux mécanisés agricoles, sylvi...</td>\n",
              "      <td>A</td>\n",
              "      <td>0</td>\n",
              "      <td>[[2, 3, 4, 5, 6, 7, 8, 9, 10, 11, 12, 3, 13, 7...</td>\n",
              "      <td>train</td>\n",
              "    </tr>\n",
              "    <tr>\n",
              "      <th>1</th>\n",
              "      <td>Tracteur, moissonneuse-batteuse, ensileuse, ép...</td>\n",
              "      <td>A</td>\n",
              "      <td>0</td>\n",
              "      <td>[[40, 7, 41, 7, 1, 7, 1, 1, 7, 42, 43, 44, 45,...</td>\n",
              "      <td>val</td>\n",
              "    </tr>\n",
              "    <tr>\n",
              "      <th>2</th>\n",
              "      <td>Depuis la cabine de sa machine, le conducteur ...</td>\n",
              "      <td>A</td>\n",
              "      <td>0</td>\n",
              "      <td>[[105, 29, 106, 25, 107, 108, 7, 44, 45, 109, ...</td>\n",
              "      <td>val</td>\n",
              "    </tr>\n",
              "    <tr>\n",
              "      <th>3</th>\n",
              "      <td>Réalise des opérations de coupe et d''entretie...</td>\n",
              "      <td>A</td>\n",
              "      <td>0</td>\n",
              "      <td>[[2, 3, 172, 25, 110, 36, 17, 18, 173, 17, 18,...</td>\n",
              "      <td>train</td>\n",
              "    </tr>\n",
              "    <tr>\n",
              "      <th>4</th>\n",
              "      <td>Avec ses cordes de rappel, son harnais, ses mo...</td>\n",
              "      <td>A</td>\n",
              "      <td>0</td>\n",
              "      <td>[[141, 157, 191, 25, 1, 7, 133, 192, 7, 157, 1...</td>\n",
              "      <td>train</td>\n",
              "    </tr>\n",
              "  </tbody>\n",
              "</table>\n",
              "</div>"
            ],
            "text/plain": [
              "                                         description  ... data_type\n",
              "0  Réalise des travaux mécanisés agricoles, sylvi...  ...     train\n",
              "1  Tracteur, moissonneuse-batteuse, ensileuse, ép...  ...       val\n",
              "2  Depuis la cabine de sa machine, le conducteur ...  ...       val\n",
              "3  Réalise des opérations de coupe et d''entretie...  ...     train\n",
              "4  Avec ses cordes de rappel, son harnais, ses mo...  ...     train\n",
              "\n",
              "[5 rows x 5 columns]"
            ]
          },
          "metadata": {
            "tags": []
          },
          "execution_count": 92
        }
      ]
    },
    {
      "cell_type": "code",
      "metadata": {
        "colab": {
          "base_uri": "https://localhost:8080/",
          "height": 959
        },
        "id": "zHDBSMwyK_oy",
        "outputId": "4f330e98-0af4-43f4-c1ea-d7a911d8451a"
      },
      "source": [
        "X_tr, X_val, y_train, y_valid = train_test_split(data_lstm.index.values, \n",
        "                                                  data_lstm.label.values, \n",
        "                                                  test_size=0.3, \n",
        "                                                  random_state=seed_val, \n",
        "                                                  stratify=data_lstm.label.values)\n",
        "\n",
        "data_lstm['data_type'] = 'not_set'\n",
        "data_lstm.loc[X_tr, 'data_type'] = 'train'\n",
        "data_lstm.loc[X_val, 'data_type'] = 'val'\n",
        "X_train = list(data_lstm.loc[X_tr,'encoded'])\n",
        "X_valid = list(data_lstm.loc[X_val,'encoded'])\n",
        "data_lstm.groupby(['major_code', 'label', 'data_type']).count()"
      ],
      "execution_count": null,
      "outputs": [
        {
          "output_type": "execute_result",
          "data": {
            "text/html": [
              "<div>\n",
              "<style scoped>\n",
              "    .dataframe tbody tr th:only-of-type {\n",
              "        vertical-align: middle;\n",
              "    }\n",
              "\n",
              "    .dataframe tbody tr th {\n",
              "        vertical-align: top;\n",
              "    }\n",
              "\n",
              "    .dataframe thead th {\n",
              "        text-align: right;\n",
              "    }\n",
              "</style>\n",
              "<table border=\"1\" class=\"dataframe\">\n",
              "  <thead>\n",
              "    <tr style=\"text-align: right;\">\n",
              "      <th></th>\n",
              "      <th></th>\n",
              "      <th></th>\n",
              "      <th>description</th>\n",
              "      <th>encoded</th>\n",
              "    </tr>\n",
              "    <tr>\n",
              "      <th>major_code</th>\n",
              "      <th>label</th>\n",
              "      <th>data_type</th>\n",
              "      <th></th>\n",
              "      <th></th>\n",
              "    </tr>\n",
              "  </thead>\n",
              "  <tbody>\n",
              "    <tr>\n",
              "      <th rowspan=\"2\" valign=\"top\">A</th>\n",
              "      <th rowspan=\"2\" valign=\"top\">0</th>\n",
              "      <th>train</th>\n",
              "      <td>52</td>\n",
              "      <td>52</td>\n",
              "    </tr>\n",
              "    <tr>\n",
              "      <th>val</th>\n",
              "      <td>22</td>\n",
              "      <td>22</td>\n",
              "    </tr>\n",
              "    <tr>\n",
              "      <th rowspan=\"2\" valign=\"top\">B</th>\n",
              "      <th rowspan=\"2\" valign=\"top\">1</th>\n",
              "      <th>train</th>\n",
              "      <td>28</td>\n",
              "      <td>28</td>\n",
              "    </tr>\n",
              "    <tr>\n",
              "      <th>val</th>\n",
              "      <td>12</td>\n",
              "      <td>12</td>\n",
              "    </tr>\n",
              "    <tr>\n",
              "      <th rowspan=\"2\" valign=\"top\">C</th>\n",
              "      <th rowspan=\"2\" valign=\"top\">2</th>\n",
              "      <th>train</th>\n",
              "      <td>31</td>\n",
              "      <td>31</td>\n",
              "    </tr>\n",
              "    <tr>\n",
              "      <th>val</th>\n",
              "      <td>13</td>\n",
              "      <td>13</td>\n",
              "    </tr>\n",
              "    <tr>\n",
              "      <th rowspan=\"2\" valign=\"top\">D</th>\n",
              "      <th rowspan=\"2\" valign=\"top\">3</th>\n",
              "      <th>train</th>\n",
              "      <td>52</td>\n",
              "      <td>52</td>\n",
              "    </tr>\n",
              "    <tr>\n",
              "      <th>val</th>\n",
              "      <td>22</td>\n",
              "      <td>22</td>\n",
              "    </tr>\n",
              "    <tr>\n",
              "      <th rowspan=\"2\" valign=\"top\">E</th>\n",
              "      <th rowspan=\"2\" valign=\"top\">4</th>\n",
              "      <th>train</th>\n",
              "      <td>46</td>\n",
              "      <td>46</td>\n",
              "    </tr>\n",
              "    <tr>\n",
              "      <th>val</th>\n",
              "      <td>20</td>\n",
              "      <td>20</td>\n",
              "    </tr>\n",
              "    <tr>\n",
              "      <th rowspan=\"2\" valign=\"top\">F</th>\n",
              "      <th rowspan=\"2\" valign=\"top\">5</th>\n",
              "      <th>train</th>\n",
              "      <td>67</td>\n",
              "      <td>67</td>\n",
              "    </tr>\n",
              "    <tr>\n",
              "      <th>val</th>\n",
              "      <td>29</td>\n",
              "      <td>29</td>\n",
              "    </tr>\n",
              "    <tr>\n",
              "      <th rowspan=\"2\" valign=\"top\">G</th>\n",
              "      <th rowspan=\"2\" valign=\"top\">6</th>\n",
              "      <th>train</th>\n",
              "      <td>45</td>\n",
              "      <td>45</td>\n",
              "    </tr>\n",
              "    <tr>\n",
              "      <th>val</th>\n",
              "      <td>19</td>\n",
              "      <td>19</td>\n",
              "    </tr>\n",
              "    <tr>\n",
              "      <th rowspan=\"2\" valign=\"top\">H</th>\n",
              "      <th rowspan=\"2\" valign=\"top\">7</th>\n",
              "      <th>train</th>\n",
              "      <td>151</td>\n",
              "      <td>151</td>\n",
              "    </tr>\n",
              "    <tr>\n",
              "      <th>val</th>\n",
              "      <td>65</td>\n",
              "      <td>65</td>\n",
              "    </tr>\n",
              "    <tr>\n",
              "      <th rowspan=\"2\" valign=\"top\">I</th>\n",
              "      <th rowspan=\"2\" valign=\"top\">8</th>\n",
              "      <th>train</th>\n",
              "      <td>41</td>\n",
              "      <td>41</td>\n",
              "    </tr>\n",
              "    <tr>\n",
              "      <th>val</th>\n",
              "      <td>18</td>\n",
              "      <td>18</td>\n",
              "    </tr>\n",
              "    <tr>\n",
              "      <th rowspan=\"2\" valign=\"top\">J</th>\n",
              "      <th rowspan=\"2\" valign=\"top\">9</th>\n",
              "      <th>train</th>\n",
              "      <td>49</td>\n",
              "      <td>49</td>\n",
              "    </tr>\n",
              "    <tr>\n",
              "      <th>val</th>\n",
              "      <td>21</td>\n",
              "      <td>21</td>\n",
              "    </tr>\n",
              "    <tr>\n",
              "      <th rowspan=\"2\" valign=\"top\">K</th>\n",
              "      <th rowspan=\"2\" valign=\"top\">10</th>\n",
              "      <th>train</th>\n",
              "      <td>142</td>\n",
              "      <td>142</td>\n",
              "    </tr>\n",
              "    <tr>\n",
              "      <th>val</th>\n",
              "      <td>61</td>\n",
              "      <td>61</td>\n",
              "    </tr>\n",
              "    <tr>\n",
              "      <th rowspan=\"2\" valign=\"top\">L</th>\n",
              "      <th rowspan=\"2\" valign=\"top\">11</th>\n",
              "      <th>train</th>\n",
              "      <td>38</td>\n",
              "      <td>38</td>\n",
              "    </tr>\n",
              "    <tr>\n",
              "      <th>val</th>\n",
              "      <td>17</td>\n",
              "      <td>17</td>\n",
              "    </tr>\n",
              "    <tr>\n",
              "      <th rowspan=\"2\" valign=\"top\">M</th>\n",
              "      <th rowspan=\"2\" valign=\"top\">12</th>\n",
              "      <th>train</th>\n",
              "      <td>85</td>\n",
              "      <td>85</td>\n",
              "    </tr>\n",
              "    <tr>\n",
              "      <th>val</th>\n",
              "      <td>37</td>\n",
              "      <td>37</td>\n",
              "    </tr>\n",
              "    <tr>\n",
              "      <th rowspan=\"2\" valign=\"top\">N</th>\n",
              "      <th rowspan=\"2\" valign=\"top\">13</th>\n",
              "      <th>train</th>\n",
              "      <td>45</td>\n",
              "      <td>45</td>\n",
              "    </tr>\n",
              "    <tr>\n",
              "      <th>val</th>\n",
              "      <td>19</td>\n",
              "      <td>19</td>\n",
              "    </tr>\n",
              "  </tbody>\n",
              "</table>\n",
              "</div>"
            ],
            "text/plain": [
              "                            description  encoded\n",
              "major_code label data_type                      \n",
              "A          0     train               52       52\n",
              "                 val                 22       22\n",
              "B          1     train               28       28\n",
              "                 val                 12       12\n",
              "C          2     train               31       31\n",
              "                 val                 13       13\n",
              "D          3     train               52       52\n",
              "                 val                 22       22\n",
              "E          4     train               46       46\n",
              "                 val                 20       20\n",
              "F          5     train               67       67\n",
              "                 val                 29       29\n",
              "G          6     train               45       45\n",
              "                 val                 19       19\n",
              "H          7     train              151      151\n",
              "                 val                 65       65\n",
              "I          8     train               41       41\n",
              "                 val                 18       18\n",
              "J          9     train               49       49\n",
              "                 val                 21       21\n",
              "K          10    train              142      142\n",
              "                 val                 61       61\n",
              "L          11    train               38       38\n",
              "                 val                 17       17\n",
              "M          12    train               85       85\n",
              "                 val                 37       37\n",
              "N          13    train               45       45\n",
              "                 val                 19       19"
            ]
          },
          "metadata": {
            "tags": []
          },
          "execution_count": 93
        }
      ]
    },
    {
      "cell_type": "code",
      "metadata": {
        "id": "I11HPA-boY9R"
      },
      "source": [
        "class DescriptionDataset(Dataset):\n",
        "    def __init__(self, X, Y):\n",
        "        self.X = X\n",
        "        self.y = Y\n",
        "        \n",
        "    def __len__(self):\n",
        "        return len(self.y)\n",
        "    \n",
        "    def __getitem__(self, idx):\n",
        "        return torch.from_numpy(self.X[idx][0].astype(np.int32)), self.y[idx], self.X[idx][1]"
      ],
      "execution_count": null,
      "outputs": []
    },
    {
      "cell_type": "code",
      "metadata": {
        "id": "TcTuzjJkkjqV"
      },
      "source": [
        "train_ds = DescriptionDataset(X_train, y_train)\n",
        "valid_ds = DescriptionDataset(X_valid, y_valid)"
      ],
      "execution_count": null,
      "outputs": []
    },
    {
      "cell_type": "code",
      "metadata": {
        "id": "1fHUKzgj8W4B"
      },
      "source": [
        "batch_size = 5000 # Essayer de comprendre ce paramètre, quand on réduit ça augmente le temps de calcul\n",
        "vocab_size = len(words)\n",
        "train_dl = DataLoader(train_ds, batch_size=batch_size, shuffle=True)\n",
        "val_dl = DataLoader(valid_ds, batch_size=batch_size)"
      ],
      "execution_count": null,
      "outputs": []
    },
    {
      "cell_type": "code",
      "metadata": {
        "colab": {
          "base_uri": "https://localhost:8080/"
        },
        "id": "GzmPfWcM7SSF",
        "outputId": "731e905e-af87-4984-b296-6b7d42b1ef2a"
      },
      "source": [
        "!nvidia-smi"
      ],
      "execution_count": null,
      "outputs": [
        {
          "output_type": "stream",
          "text": [
            "Mon Apr 12 12:50:21 2021       \n",
            "+-----------------------------------------------------------------------------+\n",
            "| NVIDIA-SMI 460.67       Driver Version: 460.32.03    CUDA Version: 11.2     |\n",
            "|-------------------------------+----------------------+----------------------+\n",
            "| GPU  Name        Persistence-M| Bus-Id        Disp.A | Volatile Uncorr. ECC |\n",
            "| Fan  Temp  Perf  Pwr:Usage/Cap|         Memory-Usage | GPU-Util  Compute M. |\n",
            "|                               |                      |               MIG M. |\n",
            "|===============================+======================+======================|\n",
            "|   0  Tesla K80           Off  | 00000000:00:04.0 Off |                    0 |\n",
            "| N/A   32C    P8    29W / 149W |      0MiB / 11441MiB |      0%      Default |\n",
            "|                               |                      |                  N/A |\n",
            "+-------------------------------+----------------------+----------------------+\n",
            "                                                                               \n",
            "+-----------------------------------------------------------------------------+\n",
            "| Processes:                                                                  |\n",
            "|  GPU   GI   CI        PID   Type   Process name                  GPU Memory |\n",
            "|        ID   ID                                                   Usage      |\n",
            "|=============================================================================|\n",
            "|  No running processes found                                                 |\n",
            "+-----------------------------------------------------------------------------+\n"
          ],
          "name": "stdout"
        }
      ]
    },
    {
      "cell_type": "code",
      "metadata": {
        "colab": {
          "base_uri": "https://localhost:8080/"
        },
        "id": "gYMwFfOb7SSG",
        "outputId": "bfe1a526-6b00-4c00-89f6-917300a02bf6"
      },
      "source": [
        "device = torch.device('cuda' if torch.cuda.is_available() else 'cpu')\n",
        "\n",
        "print(device)"
      ],
      "execution_count": null,
      "outputs": [
        {
          "output_type": "stream",
          "text": [
            "cuda\n"
          ],
          "name": "stdout"
        }
      ]
    },
    {
      "cell_type": "code",
      "metadata": {
        "id": "aJqHVpu7QTBH"
      },
      "source": [
        "def train_model(model, epochs=10, lr=0.001):\n",
        "  model.to(device)\n",
        "  parameters = filter(lambda p: p.requires_grad, model.parameters())\n",
        "  optimizer = torch.optim.Adam(parameters, lr=lr)\n",
        "  loss_function = F.cross_entropy\n",
        "  for i in range(epochs):\n",
        "      model.train()\n",
        "      sum_loss = 0.0\n",
        "      total = 0\n",
        "      for x, y, l in train_dl:\n",
        "          x = x.long().to(device)\n",
        "          y = y.long().to(device)\n",
        "          y_pred = model(x, l)\n",
        "          optimizer.zero_grad()\n",
        "          loss = loss_function(y_pred, y)\n",
        "          loss.backward()\n",
        "          optimizer.step()\n",
        "          sum_loss += loss.item()*y.shape[0]\n",
        "          total += y.shape[0]\n",
        "      val_loss, val_acc = validation_metrics(model, val_dl)\n",
        "      if i % 20 == 1:\n",
        "          print(\"train loss %.3f, val loss %.3f, val accuracy %.3f\" % (sum_loss/total, val_loss, val_acc))\n",
        "\n",
        "def validation_metrics (model, valid_dl):\n",
        "  model.eval()\n",
        "  correct = 0\n",
        "  total = 0\n",
        "  sum_loss = 0.0\n",
        "  for x, y, l in valid_dl:\n",
        "      x = x.long().to(device)\n",
        "      y = y.long().to(device)\n",
        "      y_hat = model(x, l)\n",
        "      loss = F.cross_entropy(y_hat, y)\n",
        "      pred = torch.max(y_hat, 1)[1]\n",
        "      correct += (pred == y).float().sum()\n",
        "      total += y.shape[0]\n",
        "      sum_loss += loss.item()*y.shape[0]\n",
        "      #sum_rmse += np.sqrt(mean_squared_error(pred, y.unsqueeze(-1)))*y.shape[0]\n",
        "  return sum_loss/total, correct/total"
      ],
      "execution_count": null,
      "outputs": []
    },
    {
      "cell_type": "code",
      "metadata": {
        "id": "Ex145gOjkipw"
      },
      "source": [
        "class LSTM_fixed_len(torch.nn.Module) :\n",
        "  def __init__(self, vocab_size, embedding_dim, hidden_dim) :\n",
        "      super().__init__()\n",
        "      self.embeddings = nn.Embedding(vocab_size, embedding_dim, padding_idx=0)\n",
        "      self.lstm = nn.LSTM(embedding_dim, hidden_dim, batch_first=True)\n",
        "      self.linear = nn.Linear(hidden_dim, len(tag_to_ix))\n",
        "      self.dropout = nn.Dropout(0.2)\n",
        "      \n",
        "  def forward(self, x, l):\n",
        "      x = self.embeddings(x)\n",
        "      x = self.dropout(x)\n",
        "      lstm_out, (ht, ct) = self.lstm(x)\n",
        "      return self.linear(ht[-1])"
      ],
      "execution_count": null,
      "outputs": []
    },
    {
      "cell_type": "code",
      "metadata": {
        "id": "lw5bAq1FquYa"
      },
      "source": [
        "# this model accepts variable-length inputs (number of words in the sentence)\n",
        "class LSTM_variable_input(torch.nn.Module) :\n",
        "  def __init__(self, vocab_size, embedding_dim, hidden_dim) :\n",
        "      super().__init__()\n",
        "      self.hidden_dim = hidden_dim\n",
        "      self.dropout = nn.Dropout(0.3)\n",
        "      self.embeddings = nn.Embedding(vocab_size, embedding_dim, padding_idx=0)\n",
        "      self.lstm = nn.LSTM(embedding_dim, hidden_dim, batch_first=True)\n",
        "      self.linear = nn.Linear(hidden_dim, len(tag_to_ix))\n",
        "      \n",
        "  def forward(self, x, s):\n",
        "      x = self.embeddings(x)\n",
        "      x = self.dropout(x)\n",
        "      x_pack = pack_padded_sequence(x, s, batch_first=True, enforce_sorted=False)\n",
        "      out_pack, (ht, ct) = self.lstm(x_pack)\n",
        "      out = self.linear(ht[-1])\n",
        "      return out"
      ],
      "execution_count": null,
      "outputs": []
    },
    {
      "cell_type": "code",
      "metadata": {
        "id": "XDclkHCGCssT"
      },
      "source": [
        "def get_emb_matrix(pretrained, word_counts):\n",
        "    \"\"\" Creates embedding matrix from word vectors\"\"\"\n",
        "    emb_size = pretrained.vector_size\n",
        "    vocab_size = len(word_counts) + 2\n",
        "    vocab_to_idx = {}\n",
        "    vocab = [\"\", \"UNK\"]\n",
        "    W = np.zeros((vocab_size, emb_size), dtype=\"float32\")\n",
        "    W[0] = np.zeros(emb_size, dtype='float32') # adding a vector for padding\n",
        "    W[1] = np.random.uniform(-0.25, 0.25, emb_size) # adding a vector for unknown words \n",
        "    vocab_to_idx[\"UNK\"] = 1\n",
        "    i = 2\n",
        "    for word in word_counts:\n",
        "        if word in pretrained.vocab:\n",
        "            W[i] = pretrained[word]\n",
        "        else:\n",
        "            W[i] = np.random.uniform(-0.25,0.25, emb_size)\n",
        "        vocab_to_idx[word] = i\n",
        "        vocab.append(word)\n",
        "        i += 1   \n",
        "    return W, np.array(vocab), vocab_to_idx"
      ],
      "execution_count": null,
      "outputs": []
    },
    {
      "cell_type": "code",
      "metadata": {
        "id": "IEzi_6XMCssU"
      },
      "source": [
        "pretrained_weights, vocab, vocab2index = get_emb_matrix(w2vecembedding, counts)"
      ],
      "execution_count": null,
      "outputs": []
    },
    {
      "cell_type": "code",
      "metadata": {
        "id": "KIr5dhTJCssU"
      },
      "source": [
        "class LSTM_w2vec(torch.nn.Module) :\n",
        "    def __init__(self, vocab_size, embedding_dim, hidden_dim, vec_weights, freeze_emd=True) :\n",
        "        super().__init__()\n",
        "        self.embeddings = nn.Embedding(vocab_size, embedding_dim, padding_idx=0)\n",
        "        self.embeddings.weight.data.copy_(torch.from_numpy(vec_weights))\n",
        "        if freeze_emd:\n",
        "          self.embeddings.weight.requires_grad = False ## freeze embeddings\n",
        "        self.lstm = nn.LSTM(embedding_dim, hidden_dim, batch_first=True)\n",
        "        self.linear = nn.Linear(hidden_dim, len(tag_to_ix))\n",
        "        self.dropout = nn.Dropout(0.2)\n",
        "        \n",
        "    def forward(self, x, l):\n",
        "        x = self.embeddings(x)\n",
        "        x = self.dropout(x)\n",
        "        lstm_out, (ht, ct) = self.lstm(x)\n",
        "        return self.linear(ht[-1])"
      ],
      "execution_count": null,
      "outputs": []
    },
    {
      "cell_type": "code",
      "metadata": {
        "id": "p35RMqbmQcT8",
        "colab": {
          "base_uri": "https://localhost:8080/"
        },
        "outputId": "366a9ecf-4ce6-457b-9670-dea0f4e9381b"
      },
      "source": [
        "model_fixed =  LSTM_fixed_len(vocab_size, 50, 50)\n",
        "train_model(model_fixed, epochs=500, lr=0.01)"
      ],
      "execution_count": null,
      "outputs": [
        {
          "output_type": "stream",
          "text": [
            "train loss 2.616, val loss 2.599, val accuracy 0.101\n",
            "train loss 1.926, val loss 2.608, val accuracy 0.136\n",
            "train loss 1.426, val loss 2.834, val accuracy 0.165\n",
            "train loss 1.179, val loss 3.114, val accuracy 0.160\n",
            "train loss 1.144, val loss 3.292, val accuracy 0.149\n",
            "train loss 1.034, val loss 3.402, val accuracy 0.176\n",
            "train loss 1.162, val loss 3.437, val accuracy 0.155\n",
            "train loss 0.968, val loss 3.620, val accuracy 0.152\n",
            "train loss 0.873, val loss 3.748, val accuracy 0.179\n",
            "train loss 0.750, val loss 4.073, val accuracy 0.171\n",
            "train loss 0.699, val loss 3.879, val accuracy 0.205\n",
            "train loss 0.604, val loss 4.088, val accuracy 0.205\n",
            "train loss 0.479, val loss 4.312, val accuracy 0.216\n",
            "train loss 0.431, val loss 4.192, val accuracy 0.227\n",
            "train loss 0.331, val loss 4.479, val accuracy 0.213\n",
            "train loss 0.272, val loss 4.712, val accuracy 0.195\n",
            "train loss 0.264, val loss 4.902, val accuracy 0.213\n",
            "train loss 0.249, val loss 4.858, val accuracy 0.221\n",
            "train loss 0.306, val loss 4.731, val accuracy 0.213\n",
            "train loss 0.255, val loss 4.747, val accuracy 0.181\n",
            "train loss 0.164, val loss 4.808, val accuracy 0.200\n",
            "train loss 0.138, val loss 5.207, val accuracy 0.224\n",
            "train loss 0.131, val loss 5.318, val accuracy 0.219\n",
            "train loss 0.113, val loss 5.341, val accuracy 0.219\n",
            "train loss 0.100, val loss 5.566, val accuracy 0.227\n"
          ],
          "name": "stdout"
        }
      ]
    },
    {
      "cell_type": "code",
      "metadata": {
        "colab": {
          "base_uri": "https://localhost:8080/"
        },
        "id": "9saMKLO2qxtS",
        "outputId": "9c468ca5-15a1-44a5-b08d-8b5f9cc42148"
      },
      "source": [
        "model_variable = LSTM_variable_input(vocab_size, 50, 50)\n",
        "train_model(model_variable, epochs=500, lr=0.01)"
      ],
      "execution_count": null,
      "outputs": [
        {
          "output_type": "stream",
          "text": [
            "train loss 2.563, val loss 2.502, val accuracy 0.187\n",
            "train loss 1.914, val loss 2.426, val accuracy 0.253\n",
            "train loss 0.891, val loss 2.842, val accuracy 0.299\n",
            "train loss 0.331, val loss 3.296, val accuracy 0.336\n",
            "train loss 0.151, val loss 3.859, val accuracy 0.315\n",
            "train loss 0.067, val loss 4.095, val accuracy 0.325\n",
            "train loss 0.045, val loss 4.158, val accuracy 0.320\n",
            "train loss 0.028, val loss 4.391, val accuracy 0.336\n",
            "train loss 0.020, val loss 4.312, val accuracy 0.344\n",
            "train loss 0.023, val loss 4.340, val accuracy 0.317\n",
            "train loss 0.019, val loss 4.460, val accuracy 0.363\n",
            "train loss 0.018, val loss 4.427, val accuracy 0.368\n",
            "train loss 0.015, val loss 4.677, val accuracy 0.333\n",
            "train loss 0.009, val loss 4.490, val accuracy 0.365\n",
            "train loss 0.010, val loss 4.806, val accuracy 0.315\n",
            "train loss 0.014, val loss 4.682, val accuracy 0.320\n",
            "train loss 0.009, val loss 4.740, val accuracy 0.341\n",
            "train loss 0.015, val loss 4.651, val accuracy 0.349\n",
            "train loss 0.003, val loss 4.755, val accuracy 0.347\n",
            "train loss 0.007, val loss 4.717, val accuracy 0.360\n",
            "train loss 0.003, val loss 4.815, val accuracy 0.365\n",
            "train loss 0.005, val loss 4.845, val accuracy 0.339\n",
            "train loss 0.008, val loss 4.816, val accuracy 0.339\n",
            "train loss 0.003, val loss 4.884, val accuracy 0.339\n",
            "train loss 0.006, val loss 4.993, val accuracy 0.344\n"
          ],
          "name": "stdout"
        }
      ]
    },
    {
      "cell_type": "code",
      "metadata": {
        "colab": {
          "base_uri": "https://localhost:8080/"
        },
        "id": "-MqLjA-kDSm8",
        "outputId": "20d29e68-dc5e-41de-af4e-5db0ce500d46"
      },
      "source": [
        "model_w2vec = LSTM_w2vec(vocab_size, w2vecembedding.vector_size, 50, pretrained_weights,True)\n",
        "train_model(model_w2vec, epochs=500, lr=0.01)"
      ],
      "execution_count": null,
      "outputs": [
        {
          "output_type": "stream",
          "text": [
            "train loss 2.568, val loss 2.523, val accuracy 0.168\n",
            "train loss 2.300, val loss 2.465, val accuracy 0.184\n",
            "train loss 2.030, val loss 2.432, val accuracy 0.189\n",
            "train loss 1.876, val loss 2.550, val accuracy 0.256\n",
            "train loss 1.730, val loss 2.405, val accuracy 0.283\n",
            "train loss 1.646, val loss 2.476, val accuracy 0.205\n",
            "train loss 1.372, val loss 2.492, val accuracy 0.248\n",
            "train loss 1.528, val loss 2.593, val accuracy 0.195\n",
            "train loss 1.265, val loss 2.571, val accuracy 0.277\n",
            "train loss 1.184, val loss 2.638, val accuracy 0.304\n",
            "train loss 1.162, val loss 2.683, val accuracy 0.336\n",
            "train loss 1.116, val loss 2.612, val accuracy 0.307\n",
            "train loss 0.961, val loss 2.421, val accuracy 0.357\n",
            "train loss 0.958, val loss 2.465, val accuracy 0.365\n",
            "train loss 0.993, val loss 2.498, val accuracy 0.368\n",
            "train loss 0.848, val loss 2.478, val accuracy 0.400\n",
            "train loss 0.789, val loss 2.400, val accuracy 0.411\n",
            "train loss 0.650, val loss 2.416, val accuracy 0.405\n",
            "train loss 0.648, val loss 2.371, val accuracy 0.411\n",
            "train loss 0.717, val loss 2.589, val accuracy 0.411\n",
            "train loss 0.672, val loss 2.445, val accuracy 0.432\n",
            "train loss 0.556, val loss 2.535, val accuracy 0.440\n",
            "train loss 0.702, val loss 2.447, val accuracy 0.405\n",
            "train loss 0.485, val loss 2.473, val accuracy 0.427\n",
            "train loss 0.572, val loss 2.492, val accuracy 0.464\n"
          ],
          "name": "stdout"
        }
      ]
    },
    {
      "cell_type": "code",
      "metadata": {
        "colab": {
          "base_uri": "https://localhost:8080/"
        },
        "id": "6w0tVnqVEEbs",
        "outputId": "ad6e64f9-fe62-4f91-f8c3-dbba47818bd8"
      },
      "source": [
        "model_w2vec2 = LSTM_w2vec(vocab_size, w2vecembedding.vector_size, 50, pretrained_weights,False)\n",
        "train_model(model_w2vec2, epochs=500, lr=0.01)"
      ],
      "execution_count": null,
      "outputs": [
        {
          "output_type": "stream",
          "text": [
            "train loss 2.585, val loss 2.549, val accuracy 0.165\n",
            "train loss 1.329, val loss 2.811, val accuracy 0.269\n",
            "train loss 1.004, val loss 2.912, val accuracy 0.221\n",
            "train loss 0.930, val loss 3.626, val accuracy 0.184\n",
            "train loss 1.288, val loss 2.931, val accuracy 0.155\n",
            "train loss 1.168, val loss 2.993, val accuracy 0.157\n",
            "train loss 1.129, val loss 3.095, val accuracy 0.173\n",
            "train loss 1.098, val loss 3.177, val accuracy 0.173\n",
            "train loss 1.076, val loss 3.269, val accuracy 0.176\n",
            "train loss 1.051, val loss 3.395, val accuracy 0.171\n",
            "train loss 1.013, val loss 3.488, val accuracy 0.173\n",
            "train loss 1.093, val loss 3.410, val accuracy 0.179\n",
            "train loss 1.028, val loss 3.454, val accuracy 0.184\n",
            "train loss 0.993, val loss 3.547, val accuracy 0.179\n",
            "train loss 0.938, val loss 3.712, val accuracy 0.179\n",
            "train loss 0.853, val loss 3.854, val accuracy 0.184\n",
            "train loss 0.853, val loss 4.066, val accuracy 0.173\n",
            "train loss 0.743, val loss 4.042, val accuracy 0.184\n",
            "train loss 0.649, val loss 4.268, val accuracy 0.195\n",
            "train loss 0.645, val loss 4.485, val accuracy 0.213\n",
            "train loss 0.553, val loss 4.491, val accuracy 0.187\n",
            "train loss 0.443, val loss 4.744, val accuracy 0.168\n",
            "train loss 0.404, val loss 5.073, val accuracy 0.171\n",
            "train loss 0.453, val loss 5.447, val accuracy 0.144\n",
            "train loss 0.516, val loss 4.770, val accuracy 0.184\n"
          ],
          "name": "stdout"
        }
      ]
    },
    {
      "cell_type": "code",
      "metadata": {
        "id": "E8-C7DwnrO_I"
      },
      "source": [
        "key_list = list(tag_to_ix.keys())\n",
        "val_list = list(tag_to_ix.values())"
      ],
      "execution_count": null,
      "outputs": []
    },
    {
      "cell_type": "code",
      "metadata": {
        "id": "7L7Qklm5rGbK"
      },
      "source": [
        "def diagnostics(model, valid_dl):\n",
        "  model.eval()\n",
        "  y_true = []\n",
        "  y_pred = []\n",
        "  y_hat = np.array([], dtype=np.int32).reshape(0,len(tag_to_ix))\n",
        "  for x, y, l in valid_dl:\n",
        "    x = x.long().to(device)\n",
        "    y = y.long().to(device)\n",
        "    y_hat_tmp = model(x, l).cpu()\n",
        "    y_hat = np.concatenate(( y_hat, y_hat_tmp.detach().numpy()))\n",
        "    pred = torch.max(y_hat_tmp, 1)[1]\n",
        "    y_true += [key_list[val_list.index(i)] for i in y]\n",
        "    y_pred += [key_list[val_list.index(i)] for i in pred]\n",
        "\n",
        "  print( classification_report(y_true, y_pred) )\n",
        "  cm = confusion_matrix(y_true, y_pred , labels = key_list) \n",
        "  df_cm = pd.DataFrame(cm, index=key_list, columns=key_list)\n",
        "  # config plot sizes\n",
        "  sn.set(font_scale=1.2)\n",
        "  sn.heatmap(df_cm, annot=True, annot_kws={\"size\": 18}, cmap='coolwarm', linewidth=0.5, fmt=\"\")\n",
        "  plt.tick_params(axis='both', which='major', labelsize=10, labelbottom = False, bottom=False, top = False, labeltop=True)\n",
        "  plt.show()"
      ],
      "execution_count": null,
      "outputs": []
    },
    {
      "cell_type": "code",
      "metadata": {
        "colab": {
          "base_uri": "https://localhost:8080/",
          "height": 647
        },
        "id": "Oj3U8cmrrc-E",
        "outputId": "1dad30d9-ac86-4d83-81a7-c5b901f6a447"
      },
      "source": [
        "diagnostics(model_fixed, val_dl)"
      ],
      "execution_count": null,
      "outputs": [
        {
          "output_type": "stream",
          "text": [
            "              precision    recall  f1-score   support\n",
            "\n",
            "           A       0.10      0.09      0.10        22\n",
            "           B       0.06      0.17      0.09        12\n",
            "           C       0.07      0.08      0.07        13\n",
            "           D       0.10      0.14      0.11        22\n",
            "           E       0.17      0.15      0.16        20\n",
            "           F       0.18      0.14      0.16        29\n",
            "           G       0.07      0.11      0.09        19\n",
            "           H       0.49      0.31      0.38        65\n",
            "           I       0.08      0.06      0.07        18\n",
            "           J       0.09      0.10      0.09        21\n",
            "           K       0.27      0.28      0.28        61\n",
            "           L       0.17      0.06      0.09        17\n",
            "           M       0.21      0.24      0.23        37\n",
            "           N       0.23      0.32      0.27        19\n",
            "\n",
            "    accuracy                           0.19       375\n",
            "   macro avg       0.16      0.16      0.16       375\n",
            "weighted avg       0.22      0.19      0.20       375\n",
            "\n"
          ],
          "name": "stdout"
        },
        {
          "output_type": "display_data",
          "data": {
            "image/png": "[encoded data removed]",
            "text/plain": [
              "<Figure size 432x288 with 2 Axes>"
            ]
          },
          "metadata": {
            "tags": []
          }
        }
      ]
    },
    {
      "cell_type": "code",
      "metadata": {
        "colab": {
          "base_uri": "https://localhost:8080/",
          "height": 647
        },
        "id": "iEU2qZCJsDWq",
        "outputId": "498564df-79e6-41a0-d2d6-e12e9b23ada1"
      },
      "source": [
        "diagnostics(model_variable, val_dl)"
      ],
      "execution_count": null,
      "outputs": [
        {
          "output_type": "stream",
          "text": [
            "              precision    recall  f1-score   support\n",
            "\n",
            "           A       0.28      0.23      0.25        22\n",
            "           B       0.29      0.33      0.31        12\n",
            "           C       0.00      0.00      0.00        13\n",
            "           D       0.38      0.36      0.37        22\n",
            "           E       0.18      0.15      0.16        20\n",
            "           F       0.33      0.28      0.30        29\n",
            "           G       0.19      0.37      0.25        19\n",
            "           H       0.47      0.45      0.46        65\n",
            "           I       0.26      0.28      0.27        18\n",
            "           J       0.40      0.38      0.39        21\n",
            "           K       0.36      0.39      0.38        61\n",
            "           L       0.26      0.29      0.28        17\n",
            "           M       0.28      0.24      0.26        37\n",
            "           N       0.52      0.58      0.55        19\n",
            "\n",
            "    accuracy                           0.34       375\n",
            "   macro avg       0.30      0.31      0.30       375\n",
            "weighted avg       0.33      0.34      0.33       375\n",
            "\n"
          ],
          "name": "stdout"
        },
        {
          "output_type": "display_data",
          "data": {
            "image/png": "[encoded data removed]",
            "text/plain": [
              "<Figure size 432x288 with 2 Axes>"
            ]
          },
          "metadata": {
            "tags": []
          }
        }
      ]
    },
    {
      "cell_type": "code",
      "metadata": {
        "colab": {
          "base_uri": "https://localhost:8080/",
          "height": 647
        },
        "id": "5F0jMOkuFBhK",
        "outputId": "66a71ea6-a042-4e35-a320-bd76bb937a28"
      },
      "source": [
        "diagnostics(model_w2vec, val_dl)"
      ],
      "execution_count": null,
      "outputs": [
        {
          "output_type": "stream",
          "text": [
            "              precision    recall  f1-score   support\n",
            "\n",
            "           A       0.20      0.36      0.25        22\n",
            "           B       0.20      0.08      0.12        12\n",
            "           C       0.17      0.15      0.16        13\n",
            "           D       0.42      0.23      0.29        22\n",
            "           E       0.50      0.40      0.44        20\n",
            "           F       0.35      0.28      0.31        29\n",
            "           G       0.21      0.16      0.18        19\n",
            "           H       0.55      0.71      0.62        65\n",
            "           I       0.25      0.28      0.26        18\n",
            "           J       0.62      0.71      0.67        21\n",
            "           K       0.52      0.56      0.54        61\n",
            "           L       0.76      0.76      0.76        17\n",
            "           M       0.39      0.30      0.34        37\n",
            "           N       0.80      0.63      0.71        19\n",
            "\n",
            "    accuracy                           0.46       375\n",
            "   macro avg       0.43      0.40      0.40       375\n",
            "weighted avg       0.45      0.46      0.45       375\n",
            "\n"
          ],
          "name": "stdout"
        },
        {
          "output_type": "display_data",
          "data": {
            "image/png": "[encoded data removed]",
            "text/plain": [
              "<Figure size 432x288 with 2 Axes>"
            ]
          },
          "metadata": {
            "tags": []
          }
        }
      ]
    },
    {
      "cell_type": "code",
      "metadata": {
        "colab": {
          "base_uri": "https://localhost:8080/",
          "height": 647
        },
        "id": "kbcbL9MDFF_7",
        "outputId": "b64d8b54-1d59-45ea-b7cf-a1e092084334"
      },
      "source": [
        "diagnostics(model_w2vec2, val_dl)"
      ],
      "execution_count": null,
      "outputs": [
        {
          "output_type": "stream",
          "text": [
            "              precision    recall  f1-score   support\n",
            "\n",
            "           A       0.06      0.05      0.05        22\n",
            "           B       0.12      0.17      0.14        12\n",
            "           C       0.10      0.08      0.09        13\n",
            "           D       0.06      0.05      0.05        22\n",
            "           E       0.08      0.10      0.09        20\n",
            "           F       0.03      0.03      0.03        29\n",
            "           G       0.05      0.11      0.07        19\n",
            "           H       0.37      0.26      0.31        65\n",
            "           I       0.00      0.00      0.00        18\n",
            "           J       0.27      0.14      0.19        21\n",
            "           K       0.36      0.33      0.34        61\n",
            "           L       0.10      0.06      0.07        17\n",
            "           M       0.16      0.22      0.18        37\n",
            "           N       0.36      0.21      0.27        19\n",
            "\n",
            "    accuracy                           0.17       375\n",
            "   macro avg       0.15      0.13      0.13       375\n",
            "weighted avg       0.20      0.17      0.18       375\n",
            "\n"
          ],
          "name": "stdout"
        },
        {
          "output_type": "display_data",
          "data": {
            "image/png": "[encoded data removed]",
            "text/plain": [
              "<Figure size 432x288 with 2 Axes>"
            ]
          },
          "metadata": {
            "tags": []
          }
        }
      ]
    },
    {
      "cell_type": "code",
      "metadata": {
        "id": "N8G5mKoOS0OC"
      },
      "source": [
        "# même chose mais à la main pour faire des tests\n",
        "model = model_fixed\n",
        "valid_dl = val_dl"
      ],
      "execution_count": null,
      "outputs": []
    },
    {
      "cell_type": "code",
      "metadata": {
        "id": "PinT2pq6SZUi"
      },
      "source": [
        "model.eval()\n",
        "y_true = []\n",
        "y_pred = []\n",
        "y_hat = np.array([], dtype=np.int32).reshape(0,len(tag_to_ix))\n",
        "for x, y, l in valid_dl:\n",
        "    x = x.long()\n",
        "    y = y.long()\n",
        "    y_hat_tmp = model(x, l)\n",
        "    y_hat = np.concatenate(( y_hat, y_hat_tmp.detach().numpy()))\n",
        "    pred = torch.max(y_hat_tmp, 1)[1]\n",
        "    y_true += [key_list[val_list.index(i)] for i in y]\n",
        "    y_pred += [key_list[val_list.index(i)] for i in pred]"
      ],
      "execution_count": null,
      "outputs": []
    },
    {
      "cell_type": "code",
      "metadata": {
        "colab": {
          "base_uri": "https://localhost:8080/",
          "height": 633
        },
        "id": "b8Eguw60TjOq",
        "outputId": "b06eac1a-c7dc-4f50-e4bc-a4eef181bf3e"
      },
      "source": [
        "print( classification_report(y_true, y_pred) )\n",
        "cm = confusion_matrix(y_true, y_pred , labels = key_list) \n",
        "df_cm = pd.DataFrame(cm, index=key_list, columns=key_list)\n",
        "# config plot sizes\n",
        "sn.set(font_scale=1.2)\n",
        "sn.heatmap(df_cm, annot=True, annot_kws={\"size\": 18}, cmap='coolwarm', linewidth=0.5, fmt=\"\")\n",
        "plt.show()"
      ],
      "execution_count": null,
      "outputs": [
        {
          "output_type": "stream",
          "text": [
            "              precision    recall  f1-score   support\n",
            "\n",
            "           A       0.42      0.36      0.39        22\n",
            "           B       0.25      0.18      0.21        11\n",
            "           C       0.26      0.50      0.34        10\n",
            "           D       0.54      0.50      0.52        26\n",
            "           E       0.45      0.28      0.34        18\n",
            "           F       0.27      0.17      0.21        18\n",
            "           G       0.50      0.29      0.36        14\n",
            "           H       0.51      0.71      0.59        49\n",
            "           I       0.47      0.47      0.47        17\n",
            "           J       0.21      0.27      0.24        11\n",
            "           K       0.56      0.44      0.49        57\n",
            "           L       0.29      0.38      0.33        13\n",
            "           M       0.43      0.43      0.43        35\n",
            "           N       0.48      0.58      0.52        19\n",
            "\n",
            "    accuracy                           0.44       320\n",
            "   macro avg       0.40      0.40      0.39       320\n",
            "weighted avg       0.45      0.44      0.44       320\n",
            "\n"
          ],
          "name": "stdout"
        },
        {
          "output_type": "display_data",
          "data": {
            "image/png": "[encoded data removed]",
            "text/plain": [
              "<Figure size 432x288 with 2 Axes>"
            ]
          },
          "metadata": {
            "tags": []
          }
        }
      ]
    },
    {
      "cell_type": "markdown",
      "metadata": {
        "id": "lV9clfxOpbGD"
      },
      "source": [
        "Pas sur que les courbes roc soient très adaptées mais je mets quand même le code au cas où"
      ]
    },
    {
      "cell_type": "code",
      "metadata": {
        "id": "JmkBWcRFpjaI"
      },
      "source": [
        "y_trueb = []\n",
        "for y in y_true:\n",
        "  tmp = [0]*len(tag_to_ix)\n",
        "  tmp[tag_to_ix[y]] = 1\n",
        "  y_trueb.append(tmp)\n",
        "y_trueb = np.array(y_trueb)"
      ],
      "execution_count": null,
      "outputs": []
    },
    {
      "cell_type": "code",
      "metadata": {
        "colab": {
          "base_uri": "https://localhost:8080/",
          "height": 1000
        },
        "id": "HKtn6sw-orZo",
        "outputId": "a8df8e89-1004-4617-d3a5-28821649b799"
      },
      "source": [
        "labels = tag_to_ix.keys()\n",
        "fpr = dict()\n",
        "tpr = dict()\n",
        "roc_auc = dict()\n",
        "for i, label in enumerate(labels):\n",
        "  fpr[i], tpr[i], _ = roc_curve(y_trueb[:, i], y_hat[:, i])\n",
        "  roc_auc[i] = auc(fpr[i], tpr[i])\n",
        "  print(label, roc_auc[i])\n",
        "\n",
        "for i, label in enumerate(labels):\n",
        "  plt.figure()\n",
        "  plt.plot(fpr[i], tpr[i], label='ROC curve (area = %0.2f)' % roc_auc[i])\n",
        "  plt.plot([0, 1], [0, 1], 'k--')\n",
        "  plt.xlim([0.0, 1.0])\n",
        "  plt.ylim([0.0, 1.05])\n",
        "  plt.xlabel('False Positive Rate')\n",
        "  plt.ylabel('True Positive Rate')\n",
        "  plt.title('Receiver operating characteristic for '+label)\n",
        "  plt.legend(loc=\"lower right\")\n",
        "  plt.show()\n"
      ],
      "execution_count": null,
      "outputs": [
        {
          "output_type": "stream",
          "text": [
            "A 0.7776082977425259\n",
            "B 0.752574286554869\n",
            "C 0.737741935483871\n",
            "D 0.7978806907378336\n",
            "E 0.6160779985283297\n",
            "F 0.48693892568064756\n",
            "G 0.7488328664799253\n",
            "H 0.8829731154454402\n",
            "I 0.865851291011454\n",
            "J 0.6922624301265077\n",
            "K 0.7525515309185511\n",
            "L 0.688048108243548\n",
            "M 0.7596491228070176\n",
            "N 0.7496065745759747\n"
          ],
          "name": "stdout"
        },
        {
          "output_type": "display_data",
          "data": {
            "image/png": "[encoded data removed]",
            "text/plain": [
              "<Figure size 432x288 with 1 Axes>"
            ]
          },
          "metadata": {
            "tags": []
          }
        },
        {
          "output_type": "display_data",
          "data": {
            "image/png": "[encoded data removed]",
            "text/plain": [
              "<Figure size 432x288 with 1 Axes>"
            ]
          },
          "metadata": {
            "tags": []
          }
        },
        {
          "output_type": "display_data",
          "data": {
            "image/png": "[encoded data removed]",
            "text/plain": [
              "<Figure size 432x288 with 1 Axes>"
            ]
          },
          "metadata": {
            "tags": []
          }
        },
        {
          "output_type": "display_data",
          "data": {
            "image/png": "[encoded data removed]",
            "text/plain": [
              "<Figure size 432x288 with 1 Axes>"
            ]
          },
          "metadata": {
            "tags": []
          }
        },
        {
          "output_type": "display_data",
          "data": {
            "image/png": "[encoded data removed]",
            "text/plain": [
              "<Figure size 432x288 with 1 Axes>"
            ]
          },
          "metadata": {
            "tags": []
          }
        },
        {
          "output_type": "display_data",
          "data": {
            "image/png": "[encoded data removed]",
            "text/plain": [
              "<Figure size 432x288 with 1 Axes>"
            ]
          },
          "metadata": {
            "tags": []
          }
        },
        {
          "output_type": "display_data",
          "data": {
            "image/png": "[encoded data removed]",
            "text/plain": [
              "<Figure size 432x288 with 1 Axes>"
            ]
          },
          "metadata": {
            "tags": []
          }
        },
        {
          "output_type": "display_data",
          "data": {
            "image/png": "[encoded data removed]",
            "text/plain": [
              "<Figure size 432x288 with 1 Axes>"
            ]
          },
          "metadata": {
            "tags": []
          }
        },
        {
          "output_type": "display_data",
          "data": {
            "image/png": "[encoded data removed]",
            "text/plain": [
              "<Figure size 432x288 with 1 Axes>"
            ]
          },
          "metadata": {
            "tags": []
          }
        },
        {
          "output_type": "display_data",
          "data": {
            "image/png": "[encoded data removed]",
            "text/plain": [
              "<Figure size 432x288 with 1 Axes>"
            ]
          },
          "metadata": {
            "tags": []
          }
        },
        {
          "output_type": "display_data",
          "data": {
            "image/png": "[encoded data removed]",
            "text/plain": [
              "<Figure size 432x288 with 1 Axes>"
            ]
          },
          "metadata": {
            "tags": []
          }
        },
        {
          "output_type": "display_data",
          "data": {
            "image/png": "[encoded data removed]",
            "text/plain": [
              "<Figure size 432x288 with 1 Axes>"
            ]
          },
          "metadata": {
            "tags": []
          }
        },
        {
          "output_type": "display_data",
          "data": {
            "image/png": "[encoded data removed]",
            "text/plain": [
              "<Figure size 432x288 with 1 Axes>"
            ]
          },
          "metadata": {
            "tags": []
          }
        },
        {
          "output_type": "display_data",
          "data": {
            "image/png": "[encoded data removed]",
            "text/plain": [
              "<Figure size 432x288 with 1 Axes>"
            ]
          },
          "metadata": {
            "tags": []
          }
        }
      ]
    },
    {
      "cell_type": "markdown",
      "metadata": {
        "id": "wbkxA24cPl-v"
      },
      "source": [
        "## 2.3 CAMEMBERT \n",
        "\n",
        "https://towardsdatascience.com/multi-class-text-classification-with-deep-learning-using-bert-b59ca2f5c613"
      ]
    },
    {
      "cell_type": "code",
      "metadata": {
        "colab": {
          "base_uri": "https://localhost:8080/"
        },
        "id": "5ni5GcA_yP4_",
        "outputId": "f0751781-c2f9-40b6-aef1-22a618645c44"
      },
      "source": [
        "!nvidia-smi"
      ],
      "execution_count": null,
      "outputs": [
        {
          "output_type": "stream",
          "text": [
            "Tue Apr  6 20:05:33 2021       \n",
            "+-----------------------------------------------------------------------------+\n",
            "| NVIDIA-SMI 460.67       Driver Version: 460.32.03    CUDA Version: 11.2     |\n",
            "|-------------------------------+----------------------+----------------------+\n",
            "| GPU  Name        Persistence-M| Bus-Id        Disp.A | Volatile Uncorr. ECC |\n",
            "| Fan  Temp  Perf  Pwr:Usage/Cap|         Memory-Usage | GPU-Util  Compute M. |\n",
            "|                               |                      |               MIG M. |\n",
            "|===============================+======================+======================|\n",
            "|   0  Tesla T4            Off  | 00000000:00:04.0 Off |                    0 |\n",
            "| N/A   47C    P8    10W /  70W |      0MiB / 15109MiB |      0%      Default |\n",
            "|                               |                      |                  N/A |\n",
            "+-------------------------------+----------------------+----------------------+\n",
            "                                                                               \n",
            "+-----------------------------------------------------------------------------+\n",
            "| Processes:                                                                  |\n",
            "|  GPU   GI   CI        PID   Type   Process name                  GPU Memory |\n",
            "|        ID   ID                                                   Usage      |\n",
            "|=============================================================================|\n",
            "|  No running processes found                                                 |\n",
            "+-----------------------------------------------------------------------------+\n"
          ],
          "name": "stdout"
        }
      ]
    },
    {
      "cell_type": "code",
      "metadata": {
        "colab": {
          "base_uri": "https://localhost:8080/",
          "height": 456
        },
        "id": "MQ2_f7gRPvfe",
        "outputId": "896d3ea6-8369-46de-ba2e-e2d5546e0d39"
      },
      "source": [
        "y_variable = \"major_code\"\n",
        "data_bert= data[[\"description\", y_variable]].copy()\n",
        "#data_bert = data_bert.rename(columns={\"major_code\": \"label\"})\n",
        "\n",
        "# we change the grades to 0-numbering\n",
        "tag_to_ix = {}\n",
        "i=0\n",
        "for code in data_bert[y_variable].unique():\n",
        "  tag_to_ix[code]=i\n",
        "  i += 1\n",
        "print(tag_to_ix)\n",
        "data_bert['label'] = data_bert[y_variable].replace(tag_to_ix)\n",
        "data_bert"
      ],
      "execution_count": null,
      "outputs": [
        {
          "output_type": "stream",
          "text": [
            "{'A': 0, 'B': 1, 'C': 2, 'D': 3, 'E': 4, 'F': 5, 'G': 6, 'H': 7, 'I': 8, 'J': 9, 'K': 10, 'L': 11, 'M': 12, 'N': 13}\n"
          ],
          "name": "stdout"
        },
        {
          "output_type": "execute_result",
          "data": {
            "text/html": [
              "<div>\n",
              "<style scoped>\n",
              "    .dataframe tbody tr th:only-of-type {\n",
              "        vertical-align: middle;\n",
              "    }\n",
              "\n",
              "    .dataframe tbody tr th {\n",
              "        vertical-align: top;\n",
              "    }\n",
              "\n",
              "    .dataframe thead th {\n",
              "        text-align: right;\n",
              "    }\n",
              "</style>\n",
              "<table border=\"1\" class=\"dataframe\">\n",
              "  <thead>\n",
              "    <tr style=\"text-align: right;\">\n",
              "      <th></th>\n",
              "      <th>description</th>\n",
              "      <th>major_code</th>\n",
              "      <th>label</th>\n",
              "    </tr>\n",
              "  </thead>\n",
              "  <tbody>\n",
              "    <tr>\n",
              "      <th>0</th>\n",
              "      <td>Réalise des travaux mécanisés agricoles, sylvi...</td>\n",
              "      <td>A</td>\n",
              "      <td>0</td>\n",
              "    </tr>\n",
              "    <tr>\n",
              "      <th>1</th>\n",
              "      <td>Tracteur, moissonneuse-batteuse, ensileuse, ép...</td>\n",
              "      <td>A</td>\n",
              "      <td>0</td>\n",
              "    </tr>\n",
              "    <tr>\n",
              "      <th>2</th>\n",
              "      <td>Depuis la cabine de sa machine, le conducteur ...</td>\n",
              "      <td>A</td>\n",
              "      <td>0</td>\n",
              "    </tr>\n",
              "    <tr>\n",
              "      <th>3</th>\n",
              "      <td>Réalise des opérations de coupe et d''entretie...</td>\n",
              "      <td>A</td>\n",
              "      <td>0</td>\n",
              "    </tr>\n",
              "    <tr>\n",
              "      <th>4</th>\n",
              "      <td>Avec ses cordes de rappel, son harnais, ses mo...</td>\n",
              "      <td>A</td>\n",
              "      <td>0</td>\n",
              "    </tr>\n",
              "    <tr>\n",
              "      <th>...</th>\n",
              "      <td>...</td>\n",
              "      <td>...</td>\n",
              "      <td>...</td>\n",
              "    </tr>\n",
              "    <tr>\n",
              "      <th>1242</th>\n",
              "      <td>Surveille et coordonne les mouvements des trai...</td>\n",
              "      <td>N</td>\n",
              "      <td>13</td>\n",
              "    </tr>\n",
              "    <tr>\n",
              "      <th>1243</th>\n",
              "      <td>Le technicien de la circulation ferroviaire SN...</td>\n",
              "      <td>N</td>\n",
              "      <td>13</td>\n",
              "    </tr>\n",
              "    <tr>\n",
              "      <th>1244</th>\n",
              "      <td>Réalise des opérations de mise en fonction, de...</td>\n",
              "      <td>N</td>\n",
              "      <td>13</td>\n",
              "    </tr>\n",
              "    <tr>\n",
              "      <th>1245</th>\n",
              "      <td>Sur les pistes de ski, une panne d'une télécab...</td>\n",
              "      <td>N</td>\n",
              "      <td>13</td>\n",
              "    </tr>\n",
              "    <tr>\n",
              "      <th>1246</th>\n",
              "      <td>Réalise des opérations de formation de trains ...</td>\n",
              "      <td>N</td>\n",
              "      <td>13</td>\n",
              "    </tr>\n",
              "  </tbody>\n",
              "</table>\n",
              "<p>1247 rows × 3 columns</p>\n",
              "</div>"
            ],
            "text/plain": [
              "                                            description major_code  label\n",
              "0     Réalise des travaux mécanisés agricoles, sylvi...          A      0\n",
              "1     Tracteur, moissonneuse-batteuse, ensileuse, ép...          A      0\n",
              "2     Depuis la cabine de sa machine, le conducteur ...          A      0\n",
              "3     Réalise des opérations de coupe et d''entretie...          A      0\n",
              "4     Avec ses cordes de rappel, son harnais, ses mo...          A      0\n",
              "...                                                 ...        ...    ...\n",
              "1242  Surveille et coordonne les mouvements des trai...          N     13\n",
              "1243  Le technicien de la circulation ferroviaire SN...          N     13\n",
              "1244  Réalise des opérations de mise en fonction, de...          N     13\n",
              "1245  Sur les pistes de ski, une panne d'une télécab...          N     13\n",
              "1246  Réalise des opérations de formation de trains ...          N     13\n",
              "\n",
              "[1247 rows x 3 columns]"
            ]
          },
          "metadata": {
            "tags": []
          },
          "execution_count": 147
        }
      ]
    },
    {
      "cell_type": "code",
      "metadata": {
        "colab": {
          "base_uri": "https://localhost:8080/",
          "height": 948
        },
        "id": "2EIcDU-0QMZe",
        "outputId": "1e15430a-d09e-4f9d-ee5d-983c3cb494f3"
      },
      "source": [
        "X_train, X_val, y_train, y_val = train_test_split(data_bert.index.values, \n",
        "                                                  data_bert.label.values, \n",
        "                                                  test_size=0.3, \n",
        "                                                  random_state=seed_val, \n",
        "                                                  stratify=data_bert.label.values)\n",
        "\n",
        "data_bert['data_type'] = 'not_set'#*data_bert.shape[0]\n",
        "data_bert.loc[X_train, 'data_type'] = 'train'\n",
        "data_bert.loc[X_val, 'data_type'] = 'val'\n",
        "\n",
        "data_bert.groupby(['major_code', 'label', 'data_type']).count()"
      ],
      "execution_count": null,
      "outputs": [
        {
          "output_type": "execute_result",
          "data": {
            "text/html": [
              "<div>\n",
              "<style scoped>\n",
              "    .dataframe tbody tr th:only-of-type {\n",
              "        vertical-align: middle;\n",
              "    }\n",
              "\n",
              "    .dataframe tbody tr th {\n",
              "        vertical-align: top;\n",
              "    }\n",
              "\n",
              "    .dataframe thead th {\n",
              "        text-align: right;\n",
              "    }\n",
              "</style>\n",
              "<table border=\"1\" class=\"dataframe\">\n",
              "  <thead>\n",
              "    <tr style=\"text-align: right;\">\n",
              "      <th></th>\n",
              "      <th></th>\n",
              "      <th></th>\n",
              "      <th>description</th>\n",
              "    </tr>\n",
              "    <tr>\n",
              "      <th>major_code</th>\n",
              "      <th>label</th>\n",
              "      <th>data_type</th>\n",
              "      <th></th>\n",
              "    </tr>\n",
              "  </thead>\n",
              "  <tbody>\n",
              "    <tr>\n",
              "      <th rowspan=\"2\" valign=\"top\">A</th>\n",
              "      <th rowspan=\"2\" valign=\"top\">0</th>\n",
              "      <th>train</th>\n",
              "      <td>52</td>\n",
              "    </tr>\n",
              "    <tr>\n",
              "      <th>val</th>\n",
              "      <td>22</td>\n",
              "    </tr>\n",
              "    <tr>\n",
              "      <th rowspan=\"2\" valign=\"top\">B</th>\n",
              "      <th rowspan=\"2\" valign=\"top\">1</th>\n",
              "      <th>train</th>\n",
              "      <td>28</td>\n",
              "    </tr>\n",
              "    <tr>\n",
              "      <th>val</th>\n",
              "      <td>12</td>\n",
              "    </tr>\n",
              "    <tr>\n",
              "      <th rowspan=\"2\" valign=\"top\">C</th>\n",
              "      <th rowspan=\"2\" valign=\"top\">2</th>\n",
              "      <th>train</th>\n",
              "      <td>31</td>\n",
              "    </tr>\n",
              "    <tr>\n",
              "      <th>val</th>\n",
              "      <td>13</td>\n",
              "    </tr>\n",
              "    <tr>\n",
              "      <th rowspan=\"2\" valign=\"top\">D</th>\n",
              "      <th rowspan=\"2\" valign=\"top\">3</th>\n",
              "      <th>train</th>\n",
              "      <td>52</td>\n",
              "    </tr>\n",
              "    <tr>\n",
              "      <th>val</th>\n",
              "      <td>22</td>\n",
              "    </tr>\n",
              "    <tr>\n",
              "      <th rowspan=\"2\" valign=\"top\">E</th>\n",
              "      <th rowspan=\"2\" valign=\"top\">4</th>\n",
              "      <th>train</th>\n",
              "      <td>46</td>\n",
              "    </tr>\n",
              "    <tr>\n",
              "      <th>val</th>\n",
              "      <td>20</td>\n",
              "    </tr>\n",
              "    <tr>\n",
              "      <th rowspan=\"2\" valign=\"top\">F</th>\n",
              "      <th rowspan=\"2\" valign=\"top\">5</th>\n",
              "      <th>train</th>\n",
              "      <td>67</td>\n",
              "    </tr>\n",
              "    <tr>\n",
              "      <th>val</th>\n",
              "      <td>29</td>\n",
              "    </tr>\n",
              "    <tr>\n",
              "      <th rowspan=\"2\" valign=\"top\">G</th>\n",
              "      <th rowspan=\"2\" valign=\"top\">6</th>\n",
              "      <th>train</th>\n",
              "      <td>45</td>\n",
              "    </tr>\n",
              "    <tr>\n",
              "      <th>val</th>\n",
              "      <td>19</td>\n",
              "    </tr>\n",
              "    <tr>\n",
              "      <th rowspan=\"2\" valign=\"top\">H</th>\n",
              "      <th rowspan=\"2\" valign=\"top\">7</th>\n",
              "      <th>train</th>\n",
              "      <td>151</td>\n",
              "    </tr>\n",
              "    <tr>\n",
              "      <th>val</th>\n",
              "      <td>65</td>\n",
              "    </tr>\n",
              "    <tr>\n",
              "      <th rowspan=\"2\" valign=\"top\">I</th>\n",
              "      <th rowspan=\"2\" valign=\"top\">8</th>\n",
              "      <th>train</th>\n",
              "      <td>41</td>\n",
              "    </tr>\n",
              "    <tr>\n",
              "      <th>val</th>\n",
              "      <td>18</td>\n",
              "    </tr>\n",
              "    <tr>\n",
              "      <th rowspan=\"2\" valign=\"top\">J</th>\n",
              "      <th rowspan=\"2\" valign=\"top\">9</th>\n",
              "      <th>train</th>\n",
              "      <td>49</td>\n",
              "    </tr>\n",
              "    <tr>\n",
              "      <th>val</th>\n",
              "      <td>21</td>\n",
              "    </tr>\n",
              "    <tr>\n",
              "      <th rowspan=\"2\" valign=\"top\">K</th>\n",
              "      <th rowspan=\"2\" valign=\"top\">10</th>\n",
              "      <th>train</th>\n",
              "      <td>142</td>\n",
              "    </tr>\n",
              "    <tr>\n",
              "      <th>val</th>\n",
              "      <td>61</td>\n",
              "    </tr>\n",
              "    <tr>\n",
              "      <th rowspan=\"2\" valign=\"top\">L</th>\n",
              "      <th rowspan=\"2\" valign=\"top\">11</th>\n",
              "      <th>train</th>\n",
              "      <td>38</td>\n",
              "    </tr>\n",
              "    <tr>\n",
              "      <th>val</th>\n",
              "      <td>17</td>\n",
              "    </tr>\n",
              "    <tr>\n",
              "      <th rowspan=\"2\" valign=\"top\">M</th>\n",
              "      <th rowspan=\"2\" valign=\"top\">12</th>\n",
              "      <th>train</th>\n",
              "      <td>85</td>\n",
              "    </tr>\n",
              "    <tr>\n",
              "      <th>val</th>\n",
              "      <td>37</td>\n",
              "    </tr>\n",
              "    <tr>\n",
              "      <th rowspan=\"2\" valign=\"top\">N</th>\n",
              "      <th rowspan=\"2\" valign=\"top\">13</th>\n",
              "      <th>train</th>\n",
              "      <td>45</td>\n",
              "    </tr>\n",
              "    <tr>\n",
              "      <th>val</th>\n",
              "      <td>19</td>\n",
              "    </tr>\n",
              "  </tbody>\n",
              "</table>\n",
              "</div>"
            ],
            "text/plain": [
              "                            description\n",
              "major_code label data_type             \n",
              "A          0     train               52\n",
              "                 val                 22\n",
              "B          1     train               28\n",
              "                 val                 12\n",
              "C          2     train               31\n",
              "                 val                 13\n",
              "D          3     train               52\n",
              "                 val                 22\n",
              "E          4     train               46\n",
              "                 val                 20\n",
              "F          5     train               67\n",
              "                 val                 29\n",
              "G          6     train               45\n",
              "                 val                 19\n",
              "H          7     train              151\n",
              "                 val                 65\n",
              "I          8     train               41\n",
              "                 val                 18\n",
              "J          9     train               49\n",
              "                 val                 21\n",
              "K          10    train              142\n",
              "                 val                 61\n",
              "L          11    train               38\n",
              "                 val                 17\n",
              "M          12    train               85\n",
              "                 val                 37\n",
              "N          13    train               45\n",
              "                 val                 19"
            ]
          },
          "metadata": {
            "tags": []
          },
          "execution_count": 148
        }
      ]
    },
    {
      "cell_type": "code",
      "metadata": {
        "id": "c4KTsIAtRNGe",
        "colab": {
          "base_uri": "https://localhost:8080/",
          "height": 66,
          "referenced_widgets": [
            "fde68fdaa23a439e8e95165a1838c9c2",
            "f6a2761ff54f46dfb4a03ff860f1752b",
            "2fdb00e20104419595e3da1a57d04d42",
            "922b64e65372434c8f80f23735c1b89d",
            "d618ff3d8a374ed28d8b09612b94fae9",
            "0dbf77e494164011b0e708c435af4c14",
            "d50c12bf4ecb4aba8723a3774f9c9c62",
            "c326baa33d1b4f05a2db3a8392bf4af0"
          ]
        },
        "outputId": "acf14d81-272b-428b-c682-cd59afe09cf8"
      },
      "source": [
        "tokenizer = CamembertTokenizer.from_pretrained(\"camembert-base\", \n",
        "                                          do_lower_case=True)\n",
        "                                          \n",
        "encoded_data_train = tokenizer.batch_encode_plus(\n",
        "    data_bert[data_bert.data_type=='train'].description.values, \n",
        "    add_special_tokens=True, \n",
        "    return_attention_mask=True, \n",
        "    pad_to_max_length=True, \n",
        "    max_length=256, \n",
        "    return_tensors='pt'\n",
        ")\n",
        "\n",
        "encoded_data_val = tokenizer.batch_encode_plus(\n",
        "    data_bert[data_bert.data_type=='val'].description.values, \n",
        "    add_special_tokens=True, \n",
        "    return_attention_mask=True, \n",
        "    pad_to_max_length=True, \n",
        "    max_length=256, \n",
        "    return_tensors='pt'\n",
        ")\n",
        "\n",
        "\n",
        "input_ids_train = encoded_data_train['input_ids']\n",
        "attention_masks_train = encoded_data_train['attention_mask']\n",
        "labels_train = torch.tensor(data_bert[data_bert.data_type=='train'].label.values)\n",
        "\n",
        "input_ids_val = encoded_data_val['input_ids']\n",
        "attention_masks_val = encoded_data_val['attention_mask']\n",
        "labels_val = torch.tensor(data_bert[data_bert.data_type=='val'].label.values)\n",
        "\n",
        "dataset_train = TensorDataset(input_ids_train, attention_masks_train, labels_train)\n",
        "dataset_val = TensorDataset(input_ids_val, attention_masks_val, labels_val)"
      ],
      "execution_count": null,
      "outputs": [
        {
          "output_type": "display_data",
          "data": {
            "application/vnd.jupyter.widget-view+json": {
              "model_id": "fde68fdaa23a439e8e95165a1838c9c2",
              "version_minor": 0,
              "version_major": 2
            },
            "text/plain": [
              "HBox(children=(FloatProgress(value=0.0, description='Downloading', max=810912.0, style=ProgressStyle(descripti…"
            ]
          },
          "metadata": {
            "tags": []
          }
        },
        {
          "output_type": "stream",
          "text": [
            "\n"
          ],
          "name": "stdout"
        }
      ]
    },
    {
      "cell_type": "code",
      "metadata": {
        "id": "9-dR03MURl6P"
      },
      "source": [
        "camembert = CamembertForSequenceClassification.from_pretrained(\"camembert-base\",\n",
        "                                                      num_labels=len(tag_to_ix),\n",
        "                                                      output_attentions=False,\n",
        "                                                      output_hidden_states=False)\n",
        "device = torch.device('cuda' if torch.cuda.is_available() else 'cpu')\n",
        "camembert.to(device)\n",
        "optimizer = AdamW(camembert.parameters(),\n",
        "                  lr=1e-5, \n",
        "                  eps=1e-8)\n",
        "                  \n",
        "epochs = 5\n",
        "\n",
        "scheduler = get_linear_schedule_with_warmup(optimizer, \n",
        "                                            num_warmup_steps=0,\n",
        "                                            num_training_steps=len(dataloader_train)*epochs)"
      ],
      "execution_count": null,
      "outputs": []
    },
    {
      "cell_type": "code",
      "metadata": {
        "id": "KSLftUhPRw2h"
      },
      "source": [
        "batch_size = 3\n",
        "\n",
        "dataloader_train = DataLoader(dataset_train, \n",
        "                              sampler=RandomSampler(dataset_train), \n",
        "                              batch_size=batch_size)\n",
        "\n",
        "dataloader_validation = DataLoader(dataset_val, \n",
        "                                   sampler=SequentialSampler(dataset_val), \n",
        "                                   batch_size=batch_size)"
      ],
      "execution_count": null,
      "outputs": []
    },
    {
      "cell_type": "code",
      "metadata": {
        "id": "QJcszLavR8tL"
      },
      "source": [
        "def f1_score_func(preds, labels):\n",
        "    preds_flat = np.argmax(preds, axis=1).flatten()\n",
        "    labels_flat = labels.flatten()\n",
        "    return f1_score(labels_flat, preds_flat, average='weighted')\n",
        "\n",
        "def accuracy_per_class(preds, labels):\n",
        "    label_dict_inverse = {v: k for k, v in tag_to_ix.items()}\n",
        "    \n",
        "    preds_flat = np.argmax(preds, axis=1).flatten()\n",
        "    labels_flat = labels.flatten()\n",
        "\n",
        "    for label in np.unique(labels_flat):\n",
        "        y_preds = preds_flat[labels_flat==label]\n",
        "        y_true = labels_flat[labels_flat==label]\n",
        "        print(f'Class: {label_dict_inverse[label]}')\n",
        "        print(f'Accuracy: {len(y_preds[y_preds==label])}/{len(y_true)}\\n')"
      ],
      "execution_count": null,
      "outputs": []
    },
    {
      "cell_type": "code",
      "metadata": {
        "id": "WRZQ8AdN8BSF"
      },
      "source": [
        "!mkdir data_volume"
      ],
      "execution_count": null,
      "outputs": []
    },
    {
      "cell_type": "code",
      "metadata": {
        "colab": {
          "base_uri": "https://localhost:8080/",
          "height": 596,
          "referenced_widgets": [
            "61f685acb1b04ec9b45c90c61ef69e65",
            "d8ead0408f384c2f86aec972587f5826",
            "68b5fd90ee0e4d1584c675f82f0979bd",
            "fcf41bc399ff406fa2e1777031861b8a",
            "6a0c023c2554416bbce85ba61da5d86a",
            "0467a3b13bf94e55bd3dd80a9ce6748b",
            "7ccd08f8618749069cde6b444082966b",
            "ad12feb49a7947a6b48bf1b25871d7fc",
            "e75466eb2bc047c585206253ca0d2bbe",
            "51d5ed25ae684da48b500bca685dd9ca",
            "85ff6390795b446194b49652bd900bea",
            "60e5225896fe41fab1fc890e82800044",
            "da6b05f1cb07484fa415e7ce72e669b9",
            "8c3bc3bb888c4afa85152d11822eb4a8",
            "2e80e549355d46baad94b00f01ac458c",
            "5af7c9cf3ed34c83954efee0a852319a",
            "ebe5e5d90c8549319213459bf6645535",
            "f920180f3ce94840befb35d4c0deb0ba",
            "5573b8cf008142118bb2505d37d67e6d",
            "d5d95edc888d4e5ab50c2e2b8f9ab012",
            "2eeb342ea9774acf8249dcfd65403e62",
            "503fb691aa8c4a0d986344e0c3fcf861",
            "230ae39c2b714a52affa4969dad9f9ba",
            "22cf2de7b10c4061a231005f6ed87ba8",
            "a04dba79fcab4ab5885467ebf1ed94e5",
            "4763bbbbec2a44e494d0a2396f23c01b",
            "009ee7dce6a44eed80b372dff3d0d204",
            "724ee4c06f9c418b921cc1063ca1ee97",
            "70792690172d40a9a12a347c6a8ca1bf",
            "ef93b2b014784cab91c71c2c3a8c3e8f",
            "170775295d8045fa8df81a4d918dbefd",
            "6092f57a23764cc098dbe5c7639ad373",
            "3105ddfa17e14b9e95129df1c610ed87",
            "c91b3f5656cb4d57aa487abdd4319536",
            "0b72bc9e37164a55a9b3002418158be4",
            "139c19fec2a6427fb38a9ef4d55630b8",
            "e09c47a4002a467da52c1e52cd0bc06c",
            "97eda7441f1f404cbf93f90e2a45b3ff",
            "3f03bb4bea4a4a61885baffaeb7b80d3",
            "4b88daa73cec499cb8ac4c8ed5ddf7f1",
            "1569afc7e27e46619d22922223ced8a6",
            "4550124ece1d4bb1b363bd8568d61729",
            "a32073f703cb45d38651dd593537e9dd",
            "6bbf61fb2f404ecd8c5453756069d637",
            "26902bf3ae394f69bf10fe6215315c9f",
            "3632e78cb8b9465aace179aff545b4d7",
            "5f8a54adea41492fbdf36a0503ea3500",
            "381c0ff47bca48459801d31545735a5d"
          ]
        },
        "id": "W8zY2ZXNSBQh",
        "outputId": "6cc712f7-ee74-405c-a915-349d37e53cc5"
      },
      "source": [
        "random.seed(seed_val)\n",
        "np.random.seed(seed_val)\n",
        "torch.manual_seed(seed_val)\n",
        "torch.cuda.manual_seed_all(seed_val)\n",
        "\n",
        "def evaluate(dataloader_val):\n",
        "\n",
        "    camembert.eval()\n",
        "    \n",
        "    loss_val_total = 0\n",
        "    predictions, true_vals = [], []\n",
        "    \n",
        "    for batch in dataloader_val:\n",
        "        \n",
        "        batch = tuple(b.to(device) for b in batch)\n",
        "        \n",
        "        inputs = {'input_ids':      batch[0],\n",
        "                  'attention_mask': batch[1],\n",
        "                  'labels':         batch[2],\n",
        "                 }\n",
        "\n",
        "        with torch.no_grad():        \n",
        "            outputs = camembert(**inputs)\n",
        "            \n",
        "        loss = outputs[0]\n",
        "        logits = outputs[1]\n",
        "        loss_val_total += loss.item()\n",
        "\n",
        "        logits = logits.detach().cpu().numpy()\n",
        "        label_ids = inputs['labels'].cpu().numpy()\n",
        "        predictions.append(logits)\n",
        "        true_vals.append(label_ids)\n",
        "    \n",
        "    loss_val_avg = loss_val_total/len(dataloader_val) \n",
        "    \n",
        "    predictions = np.concatenate(predictions, axis=0)\n",
        "    true_vals = np.concatenate(true_vals, axis=0)\n",
        "            \n",
        "    return loss_val_avg, predictions, true_vals\n",
        "    \n",
        "for epoch in tqdm(range(1, epochs+1)):\n",
        "    \n",
        "    camembert.train()\n",
        "    \n",
        "    loss_train_total = 0\n",
        "\n",
        "    progress_bar = tqdm(dataloader_train, desc='Epoch {:1d}'.format(epoch), leave=False, disable=False)\n",
        "    for batch in progress_bar:\n",
        "\n",
        "        camembert.zero_grad()\n",
        "        \n",
        "        batch = tuple(b.to(device) for b in batch)\n",
        "        \n",
        "        inputs = {'input_ids':      batch[0],\n",
        "                  'attention_mask': batch[1],\n",
        "                  'labels':         batch[2],\n",
        "                 }       \n",
        "\n",
        "        outputs = camembert(**inputs)\n",
        "        \n",
        "        loss = outputs[0]\n",
        "        loss_train_total += loss.item()\n",
        "        loss.backward()\n",
        "\n",
        "        torch.nn.utils.clip_grad_norm_(camembert.parameters(), 1.0)\n",
        "\n",
        "        optimizer.step()\n",
        "        scheduler.step()\n",
        "        \n",
        "        progress_bar.set_postfix({'training_loss': '{:.3f}'.format(loss.item()/len(batch))})\n",
        "         \n",
        "        \n",
        "    torch.save(camembert.state_dict(), f'data_volume/finetuned_CAMEMBERT_epoch_{epoch}.model')\n",
        "        \n",
        "    tqdm.write(f'\\nEpoch {epoch}')\n",
        "    \n",
        "    loss_train_avg = loss_train_total/len(dataloader_train)            \n",
        "    tqdm.write(f'Training loss: {loss_train_avg}')\n",
        "    \n",
        "    val_loss, predictions, true_vals = evaluate(dataloader_validation)\n",
        "    val_f1 = f1_score_func(predictions, true_vals)\n",
        "    tqdm.write(f'Validation loss: {val_loss}')\n",
        "    tqdm.write(f'F1 Score (Weighted): {val_f1}')"
      ],
      "execution_count": null,
      "outputs": [
        {
          "output_type": "display_data",
          "data": {
            "application/vnd.jupyter.widget-view+json": {
              "model_id": "61f685acb1b04ec9b45c90c61ef69e65",
              "version_minor": 0,
              "version_major": 2
            },
            "text/plain": [
              "HBox(children=(FloatProgress(value=0.0, max=5.0), HTML(value='')))"
            ]
          },
          "metadata": {
            "tags": []
          }
        },
        {
          "output_type": "display_data",
          "data": {
            "application/vnd.jupyter.widget-view+json": {
              "model_id": "e75466eb2bc047c585206253ca0d2bbe",
              "version_minor": 0,
              "version_major": 2
            },
            "text/plain": [
              "HBox(children=(FloatProgress(value=0.0, description='Epoch 1', max=291.0, style=ProgressStyle(description_widt…"
            ]
          },
          "metadata": {
            "tags": []
          }
        },
        {
          "output_type": "stream",
          "text": [
            "/usr/local/lib/python3.7/dist-packages/transformers/optimization.py:155: UserWarning: This overload of add_ is deprecated:\n",
            "\tadd_(Number alpha, Tensor other)\n",
            "Consider using one of the following signatures instead:\n",
            "\tadd_(Tensor other, *, Number alpha) (Triggered internally at  /pytorch/torch/csrc/utils/python_arg_parser.cpp:1005.)\n",
            "  exp_avg.mul_(beta1).add_(1.0 - beta1, grad)\n"
          ],
          "name": "stderr"
        },
        {
          "output_type": "stream",
          "text": [
            "\r\n",
            "Epoch 1\n",
            "Training loss: 2.4905653360373377\n",
            "Validation loss: 2.2874675817489623\n",
            "F1 Score (Weighted): 0.23993064119165267\n"
          ],
          "name": "stdout"
        },
        {
          "output_type": "display_data",
          "data": {
            "application/vnd.jupyter.widget-view+json": {
              "model_id": "ebe5e5d90c8549319213459bf6645535",
              "version_minor": 0,
              "version_major": 2
            },
            "text/plain": [
              "HBox(children=(FloatProgress(value=0.0, description='Epoch 2', max=291.0, style=ProgressStyle(description_widt…"
            ]
          },
          "metadata": {
            "tags": []
          }
        },
        {
          "output_type": "stream",
          "text": [
            "\r\n",
            "Epoch 2\n",
            "Training loss: 2.1244957381507374\n",
            "Validation loss: 1.9262643041610719\n",
            "F1 Score (Weighted): 0.6635148677620832\n"
          ],
          "name": "stdout"
        },
        {
          "output_type": "display_data",
          "data": {
            "application/vnd.jupyter.widget-view+json": {
              "model_id": "a04dba79fcab4ab5885467ebf1ed94e5",
              "version_minor": 0,
              "version_major": 2
            },
            "text/plain": [
              "HBox(children=(FloatProgress(value=0.0, description='Epoch 3', max=291.0, style=ProgressStyle(description_widt…"
            ]
          },
          "metadata": {
            "tags": []
          }
        },
        {
          "output_type": "stream",
          "text": [
            "\r\n",
            "Epoch 3\n",
            "Training loss: 1.796069031318848\n",
            "Validation loss: 1.703319622516632\n",
            "F1 Score (Weighted): 0.7258020989942536\n"
          ],
          "name": "stdout"
        },
        {
          "output_type": "display_data",
          "data": {
            "application/vnd.jupyter.widget-view+json": {
              "model_id": "3105ddfa17e14b9e95129df1c610ed87",
              "version_minor": 0,
              "version_major": 2
            },
            "text/plain": [
              "HBox(children=(FloatProgress(value=0.0, description='Epoch 4', max=291.0, style=ProgressStyle(description_widt…"
            ]
          },
          "metadata": {
            "tags": []
          }
        },
        {
          "output_type": "stream",
          "text": [
            "\r\n",
            "Epoch 4\n",
            "Training loss: 1.5699943730101962\n",
            "Validation loss: 1.5690401253700257\n",
            "F1 Score (Weighted): 0.7312772269785316\n"
          ],
          "name": "stdout"
        },
        {
          "output_type": "display_data",
          "data": {
            "application/vnd.jupyter.widget-view+json": {
              "model_id": "1569afc7e27e46619d22922223ced8a6",
              "version_minor": 0,
              "version_major": 2
            },
            "text/plain": [
              "HBox(children=(FloatProgress(value=0.0, description='Epoch 5', max=291.0, style=ProgressStyle(description_widt…"
            ]
          },
          "metadata": {
            "tags": []
          }
        },
        {
          "output_type": "stream",
          "text": [
            "\r\n",
            "Epoch 5\n",
            "Training loss: 1.4525894383384599\n",
            "Validation loss: 1.5311820526123048\n",
            "F1 Score (Weighted): 0.736787324252963\n",
            "\n"
          ],
          "name": "stdout"
        }
      ]
    },
    {
      "cell_type": "code",
      "metadata": {
        "id": "7SP8LFLuDFfT"
      },
      "source": [
        "val_loss, predictions, true_vals = evaluate(dataloader_validation)\n",
        "preds_flat = np.argmax(predictions, axis=1).flatten()\n",
        "labels_flat = true_vals.flatten()"
      ],
      "execution_count": null,
      "outputs": []
    },
    {
      "cell_type": "code",
      "metadata": {
        "id": "QVimNVyWFjqr"
      },
      "source": [
        "key_list = list(tag_to_ix.keys())\n",
        "val_list = list(tag_to_ix.values())\n",
        " \n",
        "# print key with val 100\n",
        "y_true = [key_list[val_list.index(i)] for i in true_vals]\n",
        "y_pred = [key_list[val_list.index(i)] for i in preds_flat]"
      ],
      "execution_count": null,
      "outputs": []
    },
    {
      "cell_type": "code",
      "metadata": {
        "colab": {
          "base_uri": "https://localhost:8080/",
          "height": 633
        },
        "id": "hftc50JqDTWz",
        "outputId": "7d852082-82c1-45b2-a7ff-5d10eac192b1"
      },
      "source": [
        "print( classification_report(y_true, y_pred ) )\n",
        "cm = confusion_matrix(y_true, y_pred , labels = key_list) \n",
        "df_cm = pd.DataFrame(cm, index=key_list, columns=key_list)\n",
        "# config plot sizes\n",
        "sn.set(font_scale=1.2)\n",
        "sn.heatmap(df_cm, annot=True, annot_kws={\"size\": 18}, cmap='coolwarm', linewidth=0.5, fmt=\"\")\n",
        "plt.tick_params(axis='both', which='major', labelsize=10, labelbottom = False, bottom=False, top = False, labeltop=True)\n",
        "plt.show()"
      ],
      "execution_count": null,
      "outputs": [
        {
          "output_type": "stream",
          "text": [
            "              precision    recall  f1-score   support\n",
            "\n",
            "           A       0.85      0.77      0.81        22\n",
            "           B       0.80      0.33      0.47        12\n",
            "           C       1.00      0.69      0.82        13\n",
            "           D       0.77      0.91      0.83        22\n",
            "           E       0.90      0.45      0.60        20\n",
            "           F       0.68      0.72      0.70        29\n",
            "           G       0.89      0.89      0.89        19\n",
            "           H       0.65      0.86      0.74        65\n",
            "           I       1.00      0.06      0.11        18\n",
            "           J       0.83      0.71      0.77        21\n",
            "           K       0.75      0.89      0.81        61\n",
            "           L       0.81      1.00      0.89        17\n",
            "           M       0.73      0.73      0.73        37\n",
            "           N       0.85      0.89      0.87        19\n",
            "\n",
            "    accuracy                           0.76       375\n",
            "   macro avg       0.82      0.71      0.72       375\n",
            "weighted avg       0.78      0.76      0.74       375\n",
            "\n"
          ],
          "name": "stdout"
        },
        {
          "output_type": "display_data",
          "data": {
            "image/png": "[encoded data removed]",
            "text/plain": [
              "<Figure size 432x288 with 2 Axes>"
            ]
          },
          "metadata": {
            "tags": []
          }
        }
      ]
    },
    {
      "cell_type": "code",
      "metadata": {
        "colab": {
          "base_uri": "https://localhost:8080/"
        },
        "id": "3pv3TWUGN17B",
        "outputId": "3acb462e-0150-4066-f91f-97deedba1e7d"
      },
      "source": [
        "accuracy_per_class(predictions, true_vals)"
      ],
      "execution_count": null,
      "outputs": [
        {
          "output_type": "stream",
          "text": [
            "Class: A\n",
            "Accuracy: 17/17\n",
            "\n",
            "Class: B\n",
            "Accuracy: 4/7\n",
            "\n",
            "Class: C\n",
            "Accuracy: 7/7\n",
            "\n",
            "Class: D\n",
            "Accuracy: 18/18\n",
            "\n",
            "Class: E\n",
            "Accuracy: 8/14\n",
            "\n",
            "Class: F\n",
            "Accuracy: 16/17\n",
            "\n",
            "Class: G\n",
            "Accuracy: 12/12\n",
            "\n",
            "Class: H\n",
            "Accuracy: 39/42\n",
            "\n",
            "Class: I\n",
            "Accuracy: 5/11\n",
            "\n",
            "Class: J\n",
            "Accuracy: 10/13\n",
            "\n",
            "Class: K\n",
            "Accuracy: 32/38\n",
            "\n",
            "Class: L\n",
            "Accuracy: 9/9\n",
            "\n",
            "Class: M\n",
            "Accuracy: 20/23\n",
            "\n",
            "Class: N\n",
            "Accuracy: 12/12\n",
            "\n"
          ],
          "name": "stdout"
        }
      ]
    },
    {
      "cell_type": "markdown",
      "metadata": {
        "id": "HJaWOsahOd-H"
      },
      "source": [
        "## 2.4 A faire"
      ]
    }
  ]
}