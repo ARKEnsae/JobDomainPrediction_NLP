{
  "nbformat": 4,
  "nbformat_minor": 0,
  "metadata": {
    "colab": {
      "name": "Prévision catégorie métier ROME AQLT.ipynb",
      "provenance": [],
      "collapsed_sections": [
        "bRG15JGFBGcS",
        "ANuV5ccwBMqi"
      ],
      "toc_visible": true,
      "include_colab_link": true
    },
    "kernelspec": {
      "display_name": "Python 3",
      "name": "python3"
    },
    "accelerator": "GPU",
    "widgets": {
      "application/vnd.jupyter.widget-state+json": {
        "cd083cd220bf4d0eb636e6dcec5aab7d": {
          "model_module": "@jupyter-widgets/controls",
          "model_name": "HBoxModel",
          "state": {
            "_view_name": "HBoxView",
            "_dom_classes": [],
            "_model_name": "HBoxModel",
            "_view_module": "@jupyter-widgets/controls",
            "_model_module_version": "1.5.0",
            "_view_count": null,
            "_view_module_version": "1.5.0",
            "box_style": "",
            "layout": "IPY_MODEL_2ed76e171feb44d987dbb184de27b81a",
            "_model_module": "@jupyter-widgets/controls",
            "children": [
              "IPY_MODEL_1cf5fb8f9dde44248b53b1ea9a00564d",
              "IPY_MODEL_c050320c200a4ed9a20c2e7116e487f1"
            ]
          }
        },
        "2ed76e171feb44d987dbb184de27b81a": {
          "model_module": "@jupyter-widgets/base",
          "model_name": "LayoutModel",
          "state": {
            "_view_name": "LayoutView",
            "grid_template_rows": null,
            "right": null,
            "justify_content": null,
            "_view_module": "@jupyter-widgets/base",
            "overflow": null,
            "_model_module_version": "1.2.0",
            "_view_count": null,
            "flex_flow": null,
            "width": null,
            "min_width": null,
            "border": null,
            "align_items": null,
            "bottom": null,
            "_model_module": "@jupyter-widgets/base",
            "top": null,
            "grid_column": null,
            "overflow_y": null,
            "overflow_x": null,
            "grid_auto_flow": null,
            "grid_area": null,
            "grid_template_columns": null,
            "flex": null,
            "_model_name": "LayoutModel",
            "justify_items": null,
            "grid_row": null,
            "max_height": null,
            "align_content": null,
            "visibility": null,
            "align_self": null,
            "height": null,
            "min_height": null,
            "padding": null,
            "grid_auto_rows": null,
            "grid_gap": null,
            "max_width": null,
            "order": null,
            "_view_module_version": "1.2.0",
            "grid_template_areas": null,
            "object_position": null,
            "object_fit": null,
            "grid_auto_columns": null,
            "margin": null,
            "display": null,
            "left": null
          }
        },
        "1cf5fb8f9dde44248b53b1ea9a00564d": {
          "model_module": "@jupyter-widgets/controls",
          "model_name": "FloatProgressModel",
          "state": {
            "_view_name": "ProgressView",
            "style": "IPY_MODEL_e6e969673b664f21a7f81aa0eed804bd",
            "_dom_classes": [],
            "description": "Downloading: 100%",
            "_model_name": "FloatProgressModel",
            "bar_style": "success",
            "max": 810912,
            "_view_module": "@jupyter-widgets/controls",
            "_model_module_version": "1.5.0",
            "value": 810912,
            "_view_count": null,
            "_view_module_version": "1.5.0",
            "orientation": "horizontal",
            "min": 0,
            "description_tooltip": null,
            "_model_module": "@jupyter-widgets/controls",
            "layout": "IPY_MODEL_7e907b7c914142f1943124526d5e73bf"
          }
        },
        "c050320c200a4ed9a20c2e7116e487f1": {
          "model_module": "@jupyter-widgets/controls",
          "model_name": "HTMLModel",
          "state": {
            "_view_name": "HTMLView",
            "style": "IPY_MODEL_c815c608615444c4bb9e540864dc25d7",
            "_dom_classes": [],
            "description": "",
            "_model_name": "HTMLModel",
            "placeholder": "​",
            "_view_module": "@jupyter-widgets/controls",
            "_model_module_version": "1.5.0",
            "value": " 811k/811k [00:00&lt;00:00, 2.23MB/s]",
            "_view_count": null,
            "_view_module_version": "1.5.0",
            "description_tooltip": null,
            "_model_module": "@jupyter-widgets/controls",
            "layout": "IPY_MODEL_94e41e99779f4c6b9952a47c5119a782"
          }
        },
        "e6e969673b664f21a7f81aa0eed804bd": {
          "model_module": "@jupyter-widgets/controls",
          "model_name": "ProgressStyleModel",
          "state": {
            "_view_name": "StyleView",
            "_model_name": "ProgressStyleModel",
            "description_width": "initial",
            "_view_module": "@jupyter-widgets/base",
            "_model_module_version": "1.5.0",
            "_view_count": null,
            "_view_module_version": "1.2.0",
            "bar_color": null,
            "_model_module": "@jupyter-widgets/controls"
          }
        },
        "7e907b7c914142f1943124526d5e73bf": {
          "model_module": "@jupyter-widgets/base",
          "model_name": "LayoutModel",
          "state": {
            "_view_name": "LayoutView",
            "grid_template_rows": null,
            "right": null,
            "justify_content": null,
            "_view_module": "@jupyter-widgets/base",
            "overflow": null,
            "_model_module_version": "1.2.0",
            "_view_count": null,
            "flex_flow": null,
            "width": null,
            "min_width": null,
            "border": null,
            "align_items": null,
            "bottom": null,
            "_model_module": "@jupyter-widgets/base",
            "top": null,
            "grid_column": null,
            "overflow_y": null,
            "overflow_x": null,
            "grid_auto_flow": null,
            "grid_area": null,
            "grid_template_columns": null,
            "flex": null,
            "_model_name": "LayoutModel",
            "justify_items": null,
            "grid_row": null,
            "max_height": null,
            "align_content": null,
            "visibility": null,
            "align_self": null,
            "height": null,
            "min_height": null,
            "padding": null,
            "grid_auto_rows": null,
            "grid_gap": null,
            "max_width": null,
            "order": null,
            "_view_module_version": "1.2.0",
            "grid_template_areas": null,
            "object_position": null,
            "object_fit": null,
            "grid_auto_columns": null,
            "margin": null,
            "display": null,
            "left": null
          }
        },
        "c815c608615444c4bb9e540864dc25d7": {
          "model_module": "@jupyter-widgets/controls",
          "model_name": "DescriptionStyleModel",
          "state": {
            "_view_name": "StyleView",
            "_model_name": "DescriptionStyleModel",
            "description_width": "",
            "_view_module": "@jupyter-widgets/base",
            "_model_module_version": "1.5.0",
            "_view_count": null,
            "_view_module_version": "1.2.0",
            "_model_module": "@jupyter-widgets/controls"
          }
        },
        "94e41e99779f4c6b9952a47c5119a782": {
          "model_module": "@jupyter-widgets/base",
          "model_name": "LayoutModel",
          "state": {
            "_view_name": "LayoutView",
            "grid_template_rows": null,
            "right": null,
            "justify_content": null,
            "_view_module": "@jupyter-widgets/base",
            "overflow": null,
            "_model_module_version": "1.2.0",
            "_view_count": null,
            "flex_flow": null,
            "width": null,
            "min_width": null,
            "border": null,
            "align_items": null,
            "bottom": null,
            "_model_module": "@jupyter-widgets/base",
            "top": null,
            "grid_column": null,
            "overflow_y": null,
            "overflow_x": null,
            "grid_auto_flow": null,
            "grid_area": null,
            "grid_template_columns": null,
            "flex": null,
            "_model_name": "LayoutModel",
            "justify_items": null,
            "grid_row": null,
            "max_height": null,
            "align_content": null,
            "visibility": null,
            "align_self": null,
            "height": null,
            "min_height": null,
            "padding": null,
            "grid_auto_rows": null,
            "grid_gap": null,
            "max_width": null,
            "order": null,
            "_view_module_version": "1.2.0",
            "grid_template_areas": null,
            "object_position": null,
            "object_fit": null,
            "grid_auto_columns": null,
            "margin": null,
            "display": null,
            "left": null
          }
        }
      }
    }
  },
  "cells": [
    {
      "cell_type": "markdown",
      "metadata": {
        "id": "view-in-github",
        "colab_type": "text"
      },
      "source": [
        "<a href=\"https://colab.research.google.com/github/AQLT/NLP/blob/main/Pr%C3%A9vision_cat%C3%A9gorie_m%C3%A9tier_ROME.ipynb\" target=\"_parent\"><img src=\"https://colab.research.google.com/assets/colab-badge.svg\" alt=\"Open In Colab\"/></a>"
      ]
    },
    {
      "cell_type": "markdown",
      "metadata": {
        "id": "unKdmyC8ldp2"
      },
      "source": [
        "# Guessing the domain of a job from its description"
      ]
    },
    {
      "cell_type": "markdown",
      "metadata": {
        "id": "XXQThGHdN2E5"
      },
      "source": [
        "# 0 Downloading the database [optional]\n",
        "\n",
        "All the data are gathered in a gist repository. You don't need to run the code of this section where we :\n",
        "\n",
        "1. Download description from the Onisep database with webscrapping (https://data.laregion.fr/explore/dataset/onisep-metiers-onisep/table/)\n",
        "\n",
        "2. Shape Pole Emploi databases (https://www.pole-emploi.org/opendata/repertoire-operationnel-des-meti.html?type=article)\n",
        "\n",
        "Data : https://www.data.gouv.fr/fr/datasets/repertoire-operationnel-des-metiers-et-des-emplois-rome/#_\n",
        "\n",
        "Link onisep : https://data.laregion.fr/explore/dataset/onisep-metiers-onisep/table/\n",
        "\n",
        "Link ROME description : \n",
        "https://candidat.pole-emploi.fr/marche-du-travail/fichemetierrome?codeRome=E1301\n",
        "\n",
        "[NOT USED] Link between ROME and other nomenclatures (PCS for example) : https://www.pole-emploi.org/opendata/repertoire-operationnel-des-meti.html?type=article\n",
        "\n"
      ]
    },
    {
      "cell_type": "markdown",
      "metadata": {
        "id": "bRG15JGFBGcS"
      },
      "source": [
        "## 0.1 Onisep (webscraping)"
      ]
    },
    {
      "cell_type": "code",
      "metadata": {
        "id": "7ChdiVrtDBOQ"
      },
      "source": [
        "import pandas as pd\n",
        "import re\n",
        "import requests\n",
        "from bs4 import BeautifulSoup"
      ],
      "execution_count": null,
      "outputs": []
    },
    {
      "cell_type": "markdown",
      "metadata": {
        "id": "RuTli7w1GCHV"
      },
      "source": [
        "First we download a file containing the links to webscrap : 1 link per job or more precisely be \"appellation\"."
      ]
    },
    {
      "cell_type": "code",
      "metadata": {
        "colab": {
          "base_uri": "https://localhost:8080/"
        },
        "id": "mzdsSo0OiCbr",
        "outputId": "426610c1-1c40-4551-e46b-b6d29aadee43"
      },
      "source": [
        "!wget 'https://data.laregion.fr/explore/dataset/onisep-metiers-onisep/download/?format=csv&timezone=Europe/Berlin&lang=fr&use_labels_for_header=true&csv_separator=%3B' -O onisep.csv"
      ],
      "execution_count": null,
      "outputs": [
        {
          "output_type": "stream",
          "text": [
            "--2021-04-14 15:56:36--  https://data.laregion.fr/explore/dataset/onisep-metiers-onisep/download/?format=csv&timezone=Europe/Berlin&lang=fr&use_labels_for_header=true&csv_separator=%3B\n",
            "Resolving data.laregion.fr (data.laregion.fr)... 171.33.103.241, 109.232.232.161\n",
            "Connecting to data.laregion.fr (data.laregion.fr)|171.33.103.241|:443... connected.\n",
            "HTTP request sent, awaiting response... 200 OK\n",
            "Length: unspecified [application/csv]\n",
            "Saving to: ‘onisep.csv’\n",
            "\n",
            "onisep.csv              [     <=>            ] 460.52K   449KB/s    in 1.0s    \n",
            "\n",
            "2021-04-14 15:56:40 (449 KB/s) - ‘onisep.csv’ saved [471572]\n",
            "\n"
          ],
          "name": "stdout"
        }
      ]
    },
    {
      "cell_type": "markdown",
      "metadata": {
        "id": "c-N4kpLkGnmT"
      },
      "source": [
        "We shape this database."
      ]
    },
    {
      "cell_type": "code",
      "metadata": {
        "colab": {
          "base_uri": "https://localhost:8080/",
          "height": 864
        },
        "id": "ovo42qLIhsn3",
        "outputId": "55d0baa1-0de5-459f-f2ed-f4943e5d225a"
      },
      "source": [
        "onisep_table = pd.read_csv(\"onisep.csv\",sep=\";\")\n",
        "onisep_table = onisep_table.dropna(subset=['code ROME', 'lien site onisep.fr'])\n",
        "onisep_table = onisep_table[[\"libellé métier\", \"lien site onisep.fr\", \"GFE\", \"domaine/sous-domaine ONISEP\",\"code ROME\"]]\n",
        "onisep_table = onisep_table.rename(columns={\"libellé métier\": \"metier\",\n",
        "                                            \"lien site onisep.fr\": \"url\",\n",
        "                                            \"domaine/sous-domaine ONISEP\": \"domaine_ONISEP\",\n",
        "                                            \"code ROME\": \"rome_code\"})\n",
        "onisep_table[\"sous_domaine_ONISEP\"] = onisep_table[\"domaine_ONISEP\"].apply(lambda x: re.sub(\".*/\",\"\",x))\n",
        "onisep_table[\"domaine_ONISEP\"] = onisep_table[\"domaine_ONISEP\"].apply(lambda x: re.sub(\"/.*\",\"\",x))\n",
        "onisep_table = onisep_table.drop_duplicates(subset=['url']) # some url are duplicated\n",
        "onisep_table"
      ],
      "execution_count": null,
      "outputs": [
        {
          "output_type": "execute_result",
          "data": {
            "text/html": [
              "<div>\n",
              "<style scoped>\n",
              "    .dataframe tbody tr th:only-of-type {\n",
              "        vertical-align: middle;\n",
              "    }\n",
              "\n",
              "    .dataframe tbody tr th {\n",
              "        vertical-align: top;\n",
              "    }\n",
              "\n",
              "    .dataframe thead th {\n",
              "        text-align: right;\n",
              "    }\n",
              "</style>\n",
              "<table border=\"1\" class=\"dataframe\">\n",
              "  <thead>\n",
              "    <tr style=\"text-align: right;\">\n",
              "      <th></th>\n",
              "      <th>metier</th>\n",
              "      <th>url</th>\n",
              "      <th>GFE</th>\n",
              "      <th>domaine_ONISEP</th>\n",
              "      <th>rome_code</th>\n",
              "      <th>sous_domaine_ONISEP</th>\n",
              "    </tr>\n",
              "  </thead>\n",
              "  <tbody>\n",
              "    <tr>\n",
              "      <th>0</th>\n",
              "      <td>architecte</td>\n",
              "      <td>http://www.onisep.fr/http/redirection/metier/i...</td>\n",
              "      <td>C : Bâtiment</td>\n",
              "      <td>construction - architecture - travaux publics</td>\n",
              "      <td>F1101</td>\n",
              "      <td>architecture</td>\n",
              "    </tr>\n",
              "    <tr>\n",
              "      <th>1</th>\n",
              "      <td>géomètre-topographe</td>\n",
              "      <td>http://www.onisep.fr/http/redirection/metier/i...</td>\n",
              "      <td>C : Bâtiment</td>\n",
              "      <td>construction - architecture - travaux publics</td>\n",
              "      <td>F1108</td>\n",
              "      <td>sciences de la Terre</td>\n",
              "    </tr>\n",
              "    <tr>\n",
              "      <th>2</th>\n",
              "      <td>technicien / technicienne de maintenance en gé...</td>\n",
              "      <td>http://www.onisep.fr/http/redirection/metier/i...</td>\n",
              "      <td>H : Electricité, énergie, électronique</td>\n",
              "      <td>construction - architecture - travaux publics</td>\n",
              "      <td>I1308</td>\n",
              "      <td>énergies</td>\n",
              "    </tr>\n",
              "    <tr>\n",
              "      <th>3</th>\n",
              "      <td>menuisier / menuisière</td>\n",
              "      <td>http://www.onisep.fr/http/redirection/metier/i...</td>\n",
              "      <td>M : Travail du bois</td>\n",
              "      <td>construction - architecture - travaux publics</td>\n",
              "      <td>H2202</td>\n",
              "      <td>bois</td>\n",
              "    </tr>\n",
              "    <tr>\n",
              "      <th>4</th>\n",
              "      <td>acheteur / acheteuse</td>\n",
              "      <td>http://www.onisep.fr/http/redirection/metier/i...</td>\n",
              "      <td>Q : Commerce, gestion, finances</td>\n",
              "      <td>commerce, marketing, vente</td>\n",
              "      <td>M1101</td>\n",
              "      <td>grande distribution et petits commerces</td>\n",
              "    </tr>\n",
              "    <tr>\n",
              "      <th>...</th>\n",
              "      <td>...</td>\n",
              "      <td>...</td>\n",
              "      <td>...</td>\n",
              "      <td>...</td>\n",
              "      <td>...</td>\n",
              "      <td>...</td>\n",
              "    </tr>\n",
              "    <tr>\n",
              "      <th>1131</th>\n",
              "      <td>pédologue</td>\n",
              "      <td>http://www.onisep.fr/http/redirection/metier/i...</td>\n",
              "      <td>T : Environnement, nettoyage, sécurité</td>\n",
              "      <td>sciences</td>\n",
              "      <td>F1105</td>\n",
              "      <td>sciences de la Terre</td>\n",
              "    </tr>\n",
              "    <tr>\n",
              "      <th>1136</th>\n",
              "      <td>statisticien industriel / statisticienne indus...</td>\n",
              "      <td>http://www.onisep.fr/http/redirection/metier/i...</td>\n",
              "      <td>P : Gestion et traitement de l'information (in...</td>\n",
              "      <td>sciences</td>\n",
              "      <td>M1403</td>\n",
              "      <td>mathématiques</td>\n",
              "    </tr>\n",
              "    <tr>\n",
              "      <th>1138</th>\n",
              "      <td>ingénieur / ingénieure en caractérisation des ...</td>\n",
              "      <td>http://www.onisep.fr/http/redirection/metier/i...</td>\n",
              "      <td>J : Transformation des matériaux, procédés (bi...</td>\n",
              "      <td>matières premières, fabrication, industries</td>\n",
              "      <td>H1206</td>\n",
              "      <td>matériaux</td>\n",
              "    </tr>\n",
              "    <tr>\n",
              "      <th>1140</th>\n",
              "      <td>metteur / metteuse en scène</td>\n",
              "      <td>http://www.onisep.fr/http/redirection/metier/i...</td>\n",
              "      <td>V : Arts, spectacle, audiovisuel</td>\n",
              "      <td>arts, culture, artisanat</td>\n",
              "      <td>L1301</td>\n",
              "      <td>arts du spectacle</td>\n",
              "    </tr>\n",
              "    <tr>\n",
              "      <th>1141</th>\n",
              "      <td>expert / experte en assurances</td>\n",
              "      <td>http://www.onisep.fr/http/redirection/metier/i...</td>\n",
              "      <td>Q : Commerce, gestion, finances</td>\n",
              "      <td>banque - assurances - immobilier</td>\n",
              "      <td>C1106</td>\n",
              "      <td>assurances</td>\n",
              "    </tr>\n",
              "  </tbody>\n",
              "</table>\n",
              "<p>715 rows × 6 columns</p>\n",
              "</div>"
            ],
            "text/plain": [
              "                                                 metier  ...                      sous_domaine_ONISEP\n",
              "0                                            architecte  ...                             architecture\n",
              "1                                   géomètre-topographe  ...                     sciences de la Terre\n",
              "2     technicien / technicienne de maintenance en gé...  ...                                 énergies\n",
              "3                                menuisier / menuisière  ...                                     bois\n",
              "4                                  acheteur / acheteuse  ...  grande distribution et petits commerces\n",
              "...                                                 ...  ...                                      ...\n",
              "1131                                          pédologue  ...                     sciences de la Terre\n",
              "1136  statisticien industriel / statisticienne indus...  ...                            mathématiques\n",
              "1138  ingénieur / ingénieure en caractérisation des ...  ...                                matériaux\n",
              "1140                        metteur / metteuse en scène  ...                        arts du spectacle\n",
              "1141                     expert / experte en assurances  ...                               assurances\n",
              "\n",
              "[715 rows x 6 columns]"
            ]
          },
          "metadata": {
            "tags": []
          },
          "execution_count": 5
        }
      ]
    },
    {
      "cell_type": "markdown",
      "metadata": {
        "id": "GkNElpWlGugC"
      },
      "source": [
        "And we perform a webscraping to get the description of each job."
      ]
    },
    {
      "cell_type": "code",
      "metadata": {
        "id": "z1ICbW1ykthd"
      },
      "source": [
        "#20 minutes to run\n",
        "def dl_description(url):\n",
        "  page = requests.get(url)\n",
        "  soup = BeautifulSoup(page.content, 'html.parser')\n",
        "  results = soup.find(id=\"en-quoi-consiste-ce-metier\")\n",
        "  paragraph = results.find_all('p')\n",
        "  return (\"\\n\".join([text.get_text() for text in paragraph]))\n",
        "onisep_table[\"description\"] = onisep_table.url.apply(dl_description)"
      ],
      "execution_count": null,
      "outputs": []
    },
    {
      "cell_type": "markdown",
      "metadata": {
        "id": "Wo16lMAkG57Q"
      },
      "source": [
        "We tidy the database."
      ]
    },
    {
      "cell_type": "code",
      "metadata": {
        "colab": {
          "base_uri": "https://localhost:8080/",
          "height": 912
        },
        "id": "bs9Fws3Ntb54",
        "outputId": "030ae352-35bd-4327-ac82-a7413f5d2960"
      },
      "source": [
        "onisep_table[\"description\"] = onisep_table[\"description\"].apply(lambda x: re.sub(\"\\xa0\", \" \", x))\n",
        "onisep_table = onisep_table.rename(columns={\"onisep_description\": \"description\"}).drop(columns=[\"url\"])\n",
        "onisep_table.to_csv(\"onisep_description.csv\", index=False)\n",
        "#we have the database in csv and we put it on gist\n",
        "onisep_table"
      ],
      "execution_count": null,
      "outputs": [
        {
          "output_type": "execute_result",
          "data": {
            "text/html": [
              "<div>\n",
              "<style scoped>\n",
              "    .dataframe tbody tr th:only-of-type {\n",
              "        vertical-align: middle;\n",
              "    }\n",
              "\n",
              "    .dataframe tbody tr th {\n",
              "        vertical-align: top;\n",
              "    }\n",
              "\n",
              "    .dataframe thead th {\n",
              "        text-align: right;\n",
              "    }\n",
              "</style>\n",
              "<table border=\"1\" class=\"dataframe\">\n",
              "  <thead>\n",
              "    <tr style=\"text-align: right;\">\n",
              "      <th></th>\n",
              "      <th>metier</th>\n",
              "      <th>GFE</th>\n",
              "      <th>domaine_ONISEP</th>\n",
              "      <th>rome_code</th>\n",
              "      <th>sous_domaine_ONISEP</th>\n",
              "      <th>description</th>\n",
              "    </tr>\n",
              "  </thead>\n",
              "  <tbody>\n",
              "    <tr>\n",
              "      <th>0</th>\n",
              "      <td>architecte</td>\n",
              "      <td>C : Bâtiment</td>\n",
              "      <td>construction - architecture - travaux publics</td>\n",
              "      <td>F1101</td>\n",
              "      <td>architecture</td>\n",
              "      <td>Construction d'un immeuble, réaménagement d'un...</td>\n",
              "    </tr>\n",
              "    <tr>\n",
              "      <th>1</th>\n",
              "      <td>géomètre-topographe</td>\n",
              "      <td>C : Bâtiment</td>\n",
              "      <td>construction - architecture - travaux publics</td>\n",
              "      <td>F1108</td>\n",
              "      <td>sciences de la Terre</td>\n",
              "      <td>L'oeil rivé dans le viseur de son tachéomètre,...</td>\n",
              "    </tr>\n",
              "    <tr>\n",
              "      <th>2</th>\n",
              "      <td>technicien / technicienne de maintenance en gé...</td>\n",
              "      <td>H : Electricité, énergie, électronique</td>\n",
              "      <td>construction - architecture - travaux publics</td>\n",
              "      <td>I1308</td>\n",
              "      <td>énergies</td>\n",
              "      <td>Professionnel de l'ambiance et du confort, le ...</td>\n",
              "    </tr>\n",
              "    <tr>\n",
              "      <th>3</th>\n",
              "      <td>menuisier / menuisière</td>\n",
              "      <td>M : Travail du bois</td>\n",
              "      <td>construction - architecture - travaux publics</td>\n",
              "      <td>H2202</td>\n",
              "      <td>bois</td>\n",
              "      <td>Travailler le bois, lui donner une seconde vie...</td>\n",
              "    </tr>\n",
              "    <tr>\n",
              "      <th>4</th>\n",
              "      <td>acheteur / acheteuse</td>\n",
              "      <td>Q : Commerce, gestion, finances</td>\n",
              "      <td>commerce, marketing, vente</td>\n",
              "      <td>M1101</td>\n",
              "      <td>grande distribution et petits commerces</td>\n",
              "      <td>Le rôle d'un acheteur est d'acheter des produi...</td>\n",
              "    </tr>\n",
              "    <tr>\n",
              "      <th>...</th>\n",
              "      <td>...</td>\n",
              "      <td>...</td>\n",
              "      <td>...</td>\n",
              "      <td>...</td>\n",
              "      <td>...</td>\n",
              "      <td>...</td>\n",
              "    </tr>\n",
              "    <tr>\n",
              "      <th>1131</th>\n",
              "      <td>pédologue</td>\n",
              "      <td>T : Environnement, nettoyage, sécurité</td>\n",
              "      <td>sciences</td>\n",
              "      <td>F1105</td>\n",
              "      <td>sciences de la Terre</td>\n",
              "      <td>Le pédologue est un scientifique spécialiste d...</td>\n",
              "    </tr>\n",
              "    <tr>\n",
              "      <th>1136</th>\n",
              "      <td>statisticien industriel / statisticienne indus...</td>\n",
              "      <td>P : Gestion et traitement de l'information (in...</td>\n",
              "      <td>sciences</td>\n",
              "      <td>M1403</td>\n",
              "      <td>mathématiques</td>\n",
              "      <td>Prévoir la durée de vie d'un produit industrie...</td>\n",
              "    </tr>\n",
              "    <tr>\n",
              "      <th>1138</th>\n",
              "      <td>ingénieur / ingénieure en caractérisation des ...</td>\n",
              "      <td>J : Transformation des matériaux, procédés (bi...</td>\n",
              "      <td>matières premières, fabrication, industries</td>\n",
              "      <td>H1206</td>\n",
              "      <td>matériaux</td>\n",
              "      <td>L'ingénieur en caractérisation des matériaux c...</td>\n",
              "    </tr>\n",
              "    <tr>\n",
              "      <th>1140</th>\n",
              "      <td>metteur / metteuse en scène</td>\n",
              "      <td>V : Arts, spectacle, audiovisuel</td>\n",
              "      <td>arts, culture, artisanat</td>\n",
              "      <td>L1301</td>\n",
              "      <td>arts du spectacle</td>\n",
              "      <td>Quand les 3 coups résonnent dans la salle et q...</td>\n",
              "    </tr>\n",
              "    <tr>\n",
              "      <th>1141</th>\n",
              "      <td>expert / experte en assurances</td>\n",
              "      <td>Q : Commerce, gestion, finances</td>\n",
              "      <td>banque - assurances - immobilier</td>\n",
              "      <td>C1106</td>\n",
              "      <td>assurances</td>\n",
              "      <td>Conseiller technique et souvent arbitre, l'exp...</td>\n",
              "    </tr>\n",
              "  </tbody>\n",
              "</table>\n",
              "<p>715 rows × 6 columns</p>\n",
              "</div>"
            ],
            "text/plain": [
              "                                                 metier  ...                                        description\n",
              "0                                            architecte  ...  Construction d'un immeuble, réaménagement d'un...\n",
              "1                                   géomètre-topographe  ...  L'oeil rivé dans le viseur de son tachéomètre,...\n",
              "2     technicien / technicienne de maintenance en gé...  ...  Professionnel de l'ambiance et du confort, le ...\n",
              "3                                menuisier / menuisière  ...  Travailler le bois, lui donner une seconde vie...\n",
              "4                                  acheteur / acheteuse  ...  Le rôle d'un acheteur est d'acheter des produi...\n",
              "...                                                 ...  ...                                                ...\n",
              "1131                                          pédologue  ...  Le pédologue est un scientifique spécialiste d...\n",
              "1136  statisticien industriel / statisticienne indus...  ...  Prévoir la durée de vie d'un produit industrie...\n",
              "1138  ingénieur / ingénieure en caractérisation des ...  ...  L'ingénieur en caractérisation des matériaux c...\n",
              "1140                        metteur / metteuse en scène  ...  Quand les 3 coups résonnent dans la salle et q...\n",
              "1141                     expert / experte en assurances  ...  Conseiller technique et souvent arbitre, l'exp...\n",
              "\n",
              "[715 rows x 6 columns]"
            ]
          },
          "metadata": {
            "tags": []
          },
          "execution_count": 7
        }
      ]
    },
    {
      "cell_type": "markdown",
      "metadata": {
        "id": "ANuV5ccwBMqi"
      },
      "source": [
        "## 0.2 Pole Emploi"
      ]
    },
    {
      "cell_type": "code",
      "metadata": {
        "id": "j0Zj6izxPRsp"
      },
      "source": [
        "import pandas as pd\n",
        "import re"
      ],
      "execution_count": null,
      "outputs": []
    },
    {
      "cell_type": "markdown",
      "metadata": {
        "id": "zyTmTYAUHWQF"
      },
      "source": [
        "First we download the files from the Pole Emploi API."
      ]
    },
    {
      "cell_type": "code",
      "metadata": {
        "colab": {
          "base_uri": "https://localhost:8080/"
        },
        "id": "6z09KLJgfZ6f",
        "outputId": "3d215137-294f-43c2-e8e2-412b19b0568c"
      },
      "source": [
        "!wget https://api.emploi-store.fr/api/docs/romeopen/REF_ROME_CSV/1/RefRomeCsv.zip -O metadata.zip\n",
        "!unzip metadata.zip\n",
        "!rm metadata.zip"
      ],
      "execution_count": null,
      "outputs": [
        {
          "output_type": "stream",
          "text": [
            "--2021-04-09 12:42:25--  https://api.emploi-store.fr/api/docs/romeopen/REF_ROME_CSV/1/RefRomeCsv.zip\n",
            "Resolving api.emploi-store.fr (api.emploi-store.fr)... 185.215.64.15\n",
            "Connecting to api.emploi-store.fr (api.emploi-store.fr)|185.215.64.15|:443... connected.\n",
            "HTTP request sent, awaiting response... 200 \n",
            "Length: 1509706 (1.4M) [application/zip]\n",
            "Saving to: ‘metadata.zip’\n",
            "\n",
            "metadata.zip        100%[===================>]   1.44M   235KB/s    in 6.3s    \n",
            "\n",
            "2021-04-09 12:42:33 (233 KB/s) - ‘metadata.zip’ saved [1509706/1509706]\n",
            "\n",
            "Archive:  metadata.zip\n",
            "  inflating: unix_coherence_item_v346_utf8.csv  \n",
            "  inflating: unix_composition_bloc_v346_utf8.csv  \n",
            "  inflating: unix_cr_gd_dp_appellations_v346_utf8.csv  \n",
            "  inflating: unix_cr_gd_dp_v346_utf8.csv  \n",
            "  inflating: unix_descriptif_rubrique_v346_utf8.csv  \n",
            "  inflating: unix_domaine_professionnel_v346_utf8.csv  \n",
            "  inflating: unix_grand_domaine_v346_utf8.csv  \n",
            "  inflating: unix_item_arborescence_v346_utf8.csv  \n",
            "  inflating: unix_item_v346_utf8.csv  \n",
            "  inflating: unix_liens_rome_referentiels_v346_utf8.csv  \n",
            "  inflating: unix_referentiel_activite_riasec_v346_utf8.csv  \n",
            "  inflating: unix_referentiel_activite_v346_utf8.csv  \n",
            "  inflating: unix_referentiel_appellation_v346_utf8.csv  \n",
            "  inflating: unix_referentiel_code_rome_riasec_v346_utf8.csv  \n",
            "  inflating: unix_referentiel_code_rome_v346_utf8.csv  \n",
            "  inflating: unix_referentiel_competence_v346_utf8.csv  \n",
            "  inflating: unix_referentiel_env_travail_v346_utf8.csv  \n",
            "  inflating: unix_rubrique_mobilite_v346_utf8.csv  \n",
            "  inflating: unix_texte_v346_utf8.csv  \n",
            "  inflating: unix_type_referentiel_v346_utf8.csv  \n"
          ],
          "name": "stdout"
        }
      ]
    },
    {
      "cell_type": "markdown",
      "metadata": {
        "id": "xLL3VA6ECwh2"
      },
      "source": [
        "In the ROME database, there are two tree views:\n",
        "\n",
        "- The principal one (`code_type_referentiel = 6`) organised in 4 levels:\n",
        "  * 14 major fields (*grands domaines*) => **Our future classes**\n",
        "  * 110 professional fields (*domaines professionnels*)\n",
        "  * 532 ROME forms (*fiches ROME*)\n",
        "  * 11 112 job names (*appellations métier*)\n",
        "- The thematic one (`code_type_referentiel = 7`) with 17 main fields associated to 509 ROME forms: not all ROME forms are included in this tree and some of them are in several main fields at the same time (in total, 295 different ROME forms are used). That's why we will mainly focus on major the principal tree.\n",
        "\n",
        "In the Pole Emploi database we have exhaustive description of the ROME jobs (532 observations), whereas in the Onisep database we have non exhaustive description of 715 job appellations (with the associated ROME forms, 354 ROME forms are observed)."
      ]
    },
    {
      "cell_type": "markdown",
      "metadata": {
        "id": "dzJMy_sOIA7d"
      },
      "source": [
        "We now load and tidy the different databases."
      ]
    },
    {
      "cell_type": "code",
      "metadata": {
        "id": "PMKsWu7CHbBl"
      },
      "source": [
        "arbo = pd.read_csv(\"unix_item_arborescence_v346_utf8.csv\")"
      ],
      "execution_count": null,
      "outputs": []
    },
    {
      "cell_type": "code",
      "metadata": {
        "colab": {
          "base_uri": "https://localhost:8080/",
          "height": 1000
        },
        "id": "UTB58cvZFLVV",
        "outputId": "64b50539-bfd8-408f-9933-68ae39c045ea"
      },
      "source": [
        "thematic_tree = arbo[(arbo[\"code_type_noeud\"]==3)&(arbo[\"code_type_referentiel\"]==7)]\n",
        "thematic_tree = thematic_tree.rename(columns={\"code_noeud\": \"rome_code\",\n",
        "                                              \"code_pere\": \"thematic_code\",\n",
        "                                              \"libelle_item_arbo\": \"rome_title\"})\n",
        "thematic_tree = thematic_tree.drop(columns = ['code_ogr', 'code_item_arbo_associe', 'code_type_noeud',\n",
        "       'libelle_type_noeud', 'statut',\"code_type_referentiel\"])\n",
        "print(thematic_tree)\n",
        "th_tree_desc = arbo[(arbo[\"code_type_noeud\"]==2)&(arbo[\"code_type_referentiel\"]==7)]\n",
        "th_tree_desc = th_tree_desc.drop(columns = ['code_ogr', 'code_item_arbo_associe', 'code_type_noeud',\n",
        "       'libelle_type_noeud', 'code_pere',\"statut\",\"code_type_referentiel\"])\n",
        "th_tree_desc = th_tree_desc.rename(columns={\"code_noeud\": \"thematic_code\",\n",
        "                                            \"libelle_item_arbo\": \"thematic_title\"})\n",
        "print(th_tree_desc)\n",
        "thematic_tree = pd.merge(th_tree_desc,thematic_tree)\n",
        "thematic_tree"
      ],
      "execution_count": null,
      "outputs": [
        {
          "output_type": "stream",
          "text": [
            "     thematic_code rome_code                                         rome_title\n",
            "675            001     A1201                            Bûcheronnage et élagage\n",
            "676            001     A1202                     Entretien des espaces naturels\n",
            "677            001     A1203         Aménagement et entretien des espaces verts\n",
            "678            014     A1203         Aménagement et entretien des espaces verts\n",
            "679            003     A1204                   Protection du patrimoine naturel\n",
            "...            ...       ...                                                ...\n",
            "1179           017     N4104                      Courses et livraisons express\n",
            "1180           013     N4104                      Courses et livraisons express\n",
            "1181           014     N4105  Conduite et livraison par tournées sur courte ...\n",
            "1182           017     N4105  Conduite et livraison par tournées sur courte ...\n",
            "1183           013     N4402  Exploitation et manoeuvre des remontées mécani...\n",
            "\n",
            "[509 rows x 3 columns]\n",
            "    thematic_code                                     thematic_title\n",
            "658           001  Métiers de l'environnement et du développement...\n",
            "659           002  Métiers de la défense et de la sécurité publiq...\n",
            "660           003  Métiers du patrimoine et de la restauration d'...\n",
            "661           004               Métiers de l'intelligence économique\n",
            "662           005                            Métiers de la recherche\n",
            "663           006  Métiers de la mer, du nautisme et de la constr...\n",
            "664           007                          Métiers de l'aéronautique\n",
            "665           008          Métiers de la sécurité publique et privée\n",
            "666           009                              Métiers du multimédia\n",
            "667           010  Métiers de l'humanitaire (hors santé et tertia...\n",
            "668           011                               Métiers du nucléaire\n",
            "669           012                         Métiers auprès des enfants\n",
            "670           013      Métiers saisonniers, de vacances / Jobs d'été\n",
            "671           014      Métiers des services à la personne à domicile\n",
            "672           015                Métiers du sport et autour du sport\n",
            "673           016                            Métiers de l'ingénierie\n",
            "674           017  Métiers accessibles sans diplôme et sans expér...\n"
          ],
          "name": "stdout"
        },
        {
          "output_type": "execute_result",
          "data": {
            "text/html": [
              "<div>\n",
              "<style scoped>\n",
              "    .dataframe tbody tr th:only-of-type {\n",
              "        vertical-align: middle;\n",
              "    }\n",
              "\n",
              "    .dataframe tbody tr th {\n",
              "        vertical-align: top;\n",
              "    }\n",
              "\n",
              "    .dataframe thead th {\n",
              "        text-align: right;\n",
              "    }\n",
              "</style>\n",
              "<table border=\"1\" class=\"dataframe\">\n",
              "  <thead>\n",
              "    <tr style=\"text-align: right;\">\n",
              "      <th></th>\n",
              "      <th>thematic_code</th>\n",
              "      <th>thematic_title</th>\n",
              "      <th>rome_code</th>\n",
              "      <th>rome_title</th>\n",
              "    </tr>\n",
              "  </thead>\n",
              "  <tbody>\n",
              "    <tr>\n",
              "      <th>0</th>\n",
              "      <td>001</td>\n",
              "      <td>Métiers de l'environnement et du développement...</td>\n",
              "      <td>A1201</td>\n",
              "      <td>Bûcheronnage et élagage</td>\n",
              "    </tr>\n",
              "    <tr>\n",
              "      <th>1</th>\n",
              "      <td>001</td>\n",
              "      <td>Métiers de l'environnement et du développement...</td>\n",
              "      <td>A1202</td>\n",
              "      <td>Entretien des espaces naturels</td>\n",
              "    </tr>\n",
              "    <tr>\n",
              "      <th>2</th>\n",
              "      <td>001</td>\n",
              "      <td>Métiers de l'environnement et du développement...</td>\n",
              "      <td>A1203</td>\n",
              "      <td>Aménagement et entretien des espaces verts</td>\n",
              "    </tr>\n",
              "    <tr>\n",
              "      <th>3</th>\n",
              "      <td>001</td>\n",
              "      <td>Métiers de l'environnement et du développement...</td>\n",
              "      <td>A1204</td>\n",
              "      <td>Protection du patrimoine naturel</td>\n",
              "    </tr>\n",
              "    <tr>\n",
              "      <th>4</th>\n",
              "      <td>001</td>\n",
              "      <td>Métiers de l'environnement et du développement...</td>\n",
              "      <td>A1205</td>\n",
              "      <td>Sylviculture</td>\n",
              "    </tr>\n",
              "    <tr>\n",
              "      <th>...</th>\n",
              "      <td>...</td>\n",
              "      <td>...</td>\n",
              "      <td>...</td>\n",
              "      <td>...</td>\n",
              "    </tr>\n",
              "    <tr>\n",
              "      <th>504</th>\n",
              "      <td>017</td>\n",
              "      <td>Métiers accessibles sans diplôme et sans expér...</td>\n",
              "      <td>N4101</td>\n",
              "      <td>Conduite de transport de marchandises sur long...</td>\n",
              "    </tr>\n",
              "    <tr>\n",
              "      <th>505</th>\n",
              "      <td>017</td>\n",
              "      <td>Métiers accessibles sans diplôme et sans expér...</td>\n",
              "      <td>N4102</td>\n",
              "      <td>Conduite de transport de particuliers</td>\n",
              "    </tr>\n",
              "    <tr>\n",
              "      <th>506</th>\n",
              "      <td>017</td>\n",
              "      <td>Métiers accessibles sans diplôme et sans expér...</td>\n",
              "      <td>N4103</td>\n",
              "      <td>Conduite de transport en commun sur route</td>\n",
              "    </tr>\n",
              "    <tr>\n",
              "      <th>507</th>\n",
              "      <td>017</td>\n",
              "      <td>Métiers accessibles sans diplôme et sans expér...</td>\n",
              "      <td>N4104</td>\n",
              "      <td>Courses et livraisons express</td>\n",
              "    </tr>\n",
              "    <tr>\n",
              "      <th>508</th>\n",
              "      <td>017</td>\n",
              "      <td>Métiers accessibles sans diplôme et sans expér...</td>\n",
              "      <td>N4105</td>\n",
              "      <td>Conduite et livraison par tournées sur courte ...</td>\n",
              "    </tr>\n",
              "  </tbody>\n",
              "</table>\n",
              "<p>509 rows × 4 columns</p>\n",
              "</div>"
            ],
            "text/plain": [
              "    thematic_code  ...                                         rome_title\n",
              "0             001  ...                            Bûcheronnage et élagage\n",
              "1             001  ...                     Entretien des espaces naturels\n",
              "2             001  ...         Aménagement et entretien des espaces verts\n",
              "3             001  ...                   Protection du patrimoine naturel\n",
              "4             001  ...                                       Sylviculture\n",
              "..            ...  ...                                                ...\n",
              "504           017  ...  Conduite de transport de marchandises sur long...\n",
              "505           017  ...              Conduite de transport de particuliers\n",
              "506           017  ...          Conduite de transport en commun sur route\n",
              "507           017  ...                      Courses et livraisons express\n",
              "508           017  ...  Conduite et livraison par tournées sur courte ...\n",
              "\n",
              "[509 rows x 4 columns]"
            ]
          },
          "metadata": {
            "tags": []
          },
          "execution_count": 27
        }
      ]
    },
    {
      "cell_type": "code",
      "metadata": {
        "colab": {
          "base_uri": "https://localhost:8080/",
          "height": 1000
        },
        "id": "20h9GKBJFSF7",
        "outputId": "3150e7cc-70db-4159-d497-a204a011df24"
      },
      "source": [
        "principal_tree = arbo[(arbo[\"code_type_noeud\"]==3)&(arbo[\"code_type_referentiel\"]==6)]\n",
        "principal_tree = principal_tree.rename(columns={\"code_noeud\": \"rome_code\",\n",
        "                                              \"code_pere\": \"professional_code\",\n",
        "                                              \"libelle_item_arbo\": \"rome_title\"})\n",
        "principal_tree = principal_tree.drop(columns = ['code_ogr', 'code_item_arbo_associe', 'code_type_noeud',\n",
        "       'libelle_type_noeud', 'statut',\"code_type_referentiel\"])\n",
        "print(principal_tree)\n",
        "pr_tree_desc = arbo[(arbo[\"code_type_noeud\"]==2)&(arbo[\"code_type_referentiel\"]==6)&(arbo[\"code_pere\"]!=\"Racine AP\")]\n",
        "pr_tree_desc = pr_tree_desc.drop(columns = ['code_ogr', 'code_item_arbo_associe', 'code_type_noeud',\n",
        "       'libelle_type_noeud',\"statut\",\"code_type_referentiel\"])\n",
        "pr_tree_desc = pr_tree_desc.rename(columns={\"code_noeud\": \"professional_code\",\n",
        "                                            \"code_pere\": \"major_code\",\n",
        "                                            \"libelle_item_arbo\": \"professional_title\",})\n",
        "print(pr_tree_desc)\n",
        "maj_tree_desc = arbo[(arbo[\"code_type_noeud\"]==2)&(arbo[\"code_type_referentiel\"]==6)&(arbo[\"code_pere\"]==\"Racine AP\")]\n",
        "maj_tree_desc = maj_tree_desc.drop(columns = ['code_ogr', 'code_item_arbo_associe', 'code_type_noeud',\n",
        "       'libelle_type_noeud',\"statut\",\"code_type_referentiel\", \"code_pere\"])\n",
        "maj_tree_desc = maj_tree_desc.rename(columns={\"code_noeud\": \"major_code\",\n",
        "                                            \"libelle_item_arbo\": \"major_title\"})\n",
        "print(principal_tree)\n",
        "principal_tree = pd.merge(pd.merge(maj_tree_desc,pr_tree_desc),\n",
        "                          principal_tree)\n",
        "principal_tree"
      ],
      "execution_count": null,
      "outputs": [
        {
          "output_type": "stream",
          "text": [
            "    professional_code  ...                                         rome_title\n",
            "125               A11  ...          Conduite d'engins agricoles et forestiers\n",
            "126               A12  ...                            Bûcheronnage et élagage\n",
            "127               A12  ...                     Entretien des espaces naturels\n",
            "128               A12  ...         Aménagement et entretien des espaces verts\n",
            "129               A12  ...                   Protection du patrimoine naturel\n",
            "..                ...  ...                                                ...\n",
            "652               N43  ...                                 Conduite sur rails\n",
            "653               N43  ...                  Contrôle des transports en commun\n",
            "654               N44  ...                        Circulation du réseau ferré\n",
            "655               N44  ...  Exploitation et manoeuvre des remontées mécani...\n",
            "656               N44  ...                          Manoeuvre du réseau ferré\n",
            "\n",
            "[532 rows x 3 columns]\n",
            "    major_code  ...                                 professional_title\n",
            "2            A  ...                     Engins agricoles et forestiers\n",
            "3            A  ...                  Espaces naturels et espaces verts\n",
            "4            A  ...                     Etudes et assistance technique\n",
            "5            A  ...                                         Production\n",
            "6            A  ...                                  Soins aux animaux\n",
            "..         ...  ...                                                ...\n",
            "120          N  ...  Personnel sédentaire du transport maritime et ...\n",
            "121          N  ...         Personnel de conduite du transport routier\n",
            "122          N  ...       Personnel d'encadrement du transport routier\n",
            "123          N  ...          Personnel navigant du transport terrestre\n",
            "124          N  ...  Personnel sédentaire du transport ferroviaire ...\n",
            "\n",
            "[110 rows x 3 columns]\n",
            "    professional_code  ...                                         rome_title\n",
            "125               A11  ...          Conduite d'engins agricoles et forestiers\n",
            "126               A12  ...                            Bûcheronnage et élagage\n",
            "127               A12  ...                     Entretien des espaces naturels\n",
            "128               A12  ...         Aménagement et entretien des espaces verts\n",
            "129               A12  ...                   Protection du patrimoine naturel\n",
            "..                ...  ...                                                ...\n",
            "652               N43  ...                                 Conduite sur rails\n",
            "653               N43  ...                  Contrôle des transports en commun\n",
            "654               N44  ...                        Circulation du réseau ferré\n",
            "655               N44  ...  Exploitation et manoeuvre des remontées mécani...\n",
            "656               N44  ...                          Manoeuvre du réseau ferré\n",
            "\n",
            "[532 rows x 3 columns]\n"
          ],
          "name": "stdout"
        },
        {
          "output_type": "execute_result",
          "data": {
            "text/html": [
              "<div>\n",
              "<style scoped>\n",
              "    .dataframe tbody tr th:only-of-type {\n",
              "        vertical-align: middle;\n",
              "    }\n",
              "\n",
              "    .dataframe tbody tr th {\n",
              "        vertical-align: top;\n",
              "    }\n",
              "\n",
              "    .dataframe thead th {\n",
              "        text-align: right;\n",
              "    }\n",
              "</style>\n",
              "<table border=\"1\" class=\"dataframe\">\n",
              "  <thead>\n",
              "    <tr style=\"text-align: right;\">\n",
              "      <th></th>\n",
              "      <th>major_code</th>\n",
              "      <th>major_title</th>\n",
              "      <th>professional_code</th>\n",
              "      <th>professional_title</th>\n",
              "      <th>rome_code</th>\n",
              "      <th>rome_title</th>\n",
              "    </tr>\n",
              "  </thead>\n",
              "  <tbody>\n",
              "    <tr>\n",
              "      <th>0</th>\n",
              "      <td>A</td>\n",
              "      <td>Agriculture et Pêche, Espaces naturels et Espa...</td>\n",
              "      <td>A11</td>\n",
              "      <td>Engins agricoles et forestiers</td>\n",
              "      <td>A1101</td>\n",
              "      <td>Conduite d'engins agricoles et forestiers</td>\n",
              "    </tr>\n",
              "    <tr>\n",
              "      <th>1</th>\n",
              "      <td>A</td>\n",
              "      <td>Agriculture et Pêche, Espaces naturels et Espa...</td>\n",
              "      <td>A12</td>\n",
              "      <td>Espaces naturels et espaces verts</td>\n",
              "      <td>A1201</td>\n",
              "      <td>Bûcheronnage et élagage</td>\n",
              "    </tr>\n",
              "    <tr>\n",
              "      <th>2</th>\n",
              "      <td>A</td>\n",
              "      <td>Agriculture et Pêche, Espaces naturels et Espa...</td>\n",
              "      <td>A12</td>\n",
              "      <td>Espaces naturels et espaces verts</td>\n",
              "      <td>A1202</td>\n",
              "      <td>Entretien des espaces naturels</td>\n",
              "    </tr>\n",
              "    <tr>\n",
              "      <th>3</th>\n",
              "      <td>A</td>\n",
              "      <td>Agriculture et Pêche, Espaces naturels et Espa...</td>\n",
              "      <td>A12</td>\n",
              "      <td>Espaces naturels et espaces verts</td>\n",
              "      <td>A1203</td>\n",
              "      <td>Aménagement et entretien des espaces verts</td>\n",
              "    </tr>\n",
              "    <tr>\n",
              "      <th>4</th>\n",
              "      <td>A</td>\n",
              "      <td>Agriculture et Pêche, Espaces naturels et Espa...</td>\n",
              "      <td>A12</td>\n",
              "      <td>Espaces naturels et espaces verts</td>\n",
              "      <td>A1204</td>\n",
              "      <td>Protection du patrimoine naturel</td>\n",
              "    </tr>\n",
              "    <tr>\n",
              "      <th>...</th>\n",
              "      <td>...</td>\n",
              "      <td>...</td>\n",
              "      <td>...</td>\n",
              "      <td>...</td>\n",
              "      <td>...</td>\n",
              "      <td>...</td>\n",
              "    </tr>\n",
              "    <tr>\n",
              "      <th>527</th>\n",
              "      <td>N</td>\n",
              "      <td>Transport et Logistique</td>\n",
              "      <td>N43</td>\n",
              "      <td>Personnel navigant du transport terrestre</td>\n",
              "      <td>N4301</td>\n",
              "      <td>Conduite sur rails</td>\n",
              "    </tr>\n",
              "    <tr>\n",
              "      <th>528</th>\n",
              "      <td>N</td>\n",
              "      <td>Transport et Logistique</td>\n",
              "      <td>N43</td>\n",
              "      <td>Personnel navigant du transport terrestre</td>\n",
              "      <td>N4302</td>\n",
              "      <td>Contrôle des transports en commun</td>\n",
              "    </tr>\n",
              "    <tr>\n",
              "      <th>529</th>\n",
              "      <td>N</td>\n",
              "      <td>Transport et Logistique</td>\n",
              "      <td>N44</td>\n",
              "      <td>Personnel sédentaire du transport ferroviaire ...</td>\n",
              "      <td>N4401</td>\n",
              "      <td>Circulation du réseau ferré</td>\n",
              "    </tr>\n",
              "    <tr>\n",
              "      <th>530</th>\n",
              "      <td>N</td>\n",
              "      <td>Transport et Logistique</td>\n",
              "      <td>N44</td>\n",
              "      <td>Personnel sédentaire du transport ferroviaire ...</td>\n",
              "      <td>N4402</td>\n",
              "      <td>Exploitation et manoeuvre des remontées mécani...</td>\n",
              "    </tr>\n",
              "    <tr>\n",
              "      <th>531</th>\n",
              "      <td>N</td>\n",
              "      <td>Transport et Logistique</td>\n",
              "      <td>N44</td>\n",
              "      <td>Personnel sédentaire du transport ferroviaire ...</td>\n",
              "      <td>N4403</td>\n",
              "      <td>Manoeuvre du réseau ferré</td>\n",
              "    </tr>\n",
              "  </tbody>\n",
              "</table>\n",
              "<p>532 rows × 6 columns</p>\n",
              "</div>"
            ],
            "text/plain": [
              "    major_code  ...                                         rome_title\n",
              "0            A  ...          Conduite d'engins agricoles et forestiers\n",
              "1            A  ...                            Bûcheronnage et élagage\n",
              "2            A  ...                     Entretien des espaces naturels\n",
              "3            A  ...         Aménagement et entretien des espaces verts\n",
              "4            A  ...                   Protection du patrimoine naturel\n",
              "..         ...  ...                                                ...\n",
              "527          N  ...                                 Conduite sur rails\n",
              "528          N  ...                  Contrôle des transports en commun\n",
              "529          N  ...                        Circulation du réseau ferré\n",
              "530          N  ...  Exploitation et manoeuvre des remontées mécani...\n",
              "531          N  ...                          Manoeuvre du réseau ferré\n",
              "\n",
              "[532 rows x 6 columns]"
            ]
          },
          "metadata": {
            "tags": []
          },
          "execution_count": 29
        }
      ]
    },
    {
      "cell_type": "code",
      "metadata": {
        "id": "W0QqK02UJogF"
      },
      "source": [
        "principal_tree.to_csv(\"principal_tree.csv\", index=False)\n",
        "thematic_tree.to_csv(\"thematic_tree.csv\", index=False)"
      ],
      "execution_count": null,
      "outputs": []
    },
    {
      "cell_type": "markdown",
      "metadata": {
        "id": "7dugeYglHtXR"
      },
      "source": [
        "In the Pole Emploi database, there are many kinds of texts associated to a ROME form. In the `unix_texte_v346_utf8.csv` database, you have three categories:\n",
        "\n",
        "1. `definition`: a description of the job => **used**\n",
        "2. `acces_a_em`: the required experience/diploma \n",
        "3. `cond_exercice_activite`: condition for exercising activity (for example \"The activity may involve handling loads\").\n",
        "\n",
        "For this project, we only used the `definition`."
      ]
    },
    {
      "cell_type": "code",
      "metadata": {
        "colab": {
          "base_uri": "https://localhost:8080/",
          "height": 423
        },
        "id": "R93asmTYgfCZ",
        "outputId": "18779697-2ac2-4ce1-9bbf-9ede106174de"
      },
      "source": [
        "rome_text = pd.read_csv(\"unix_texte_v346_utf8.csv\")\n",
        "rome_def = rome_text[rome_text[\"libelle_type_texte\"]=='definition']\n",
        "rome_def= rome_def.rename(columns={\"libelle_texte\": \"description\",\n",
        "                                   \"code_rome\": \"rome_code\"}).drop(columns = [\"position_libelle_txt\",\"code_type_texte\",\"libelle_type_texte\"])\n",
        "rome_def"
      ],
      "execution_count": null,
      "outputs": [
        {
          "output_type": "execute_result",
          "data": {
            "text/html": [
              "<div>\n",
              "<style scoped>\n",
              "    .dataframe tbody tr th:only-of-type {\n",
              "        vertical-align: middle;\n",
              "    }\n",
              "\n",
              "    .dataframe tbody tr th {\n",
              "        vertical-align: top;\n",
              "    }\n",
              "\n",
              "    .dataframe thead th {\n",
              "        text-align: right;\n",
              "    }\n",
              "</style>\n",
              "<table border=\"1\" class=\"dataframe\">\n",
              "  <thead>\n",
              "    <tr style=\"text-align: right;\">\n",
              "      <th></th>\n",
              "      <th>rome_code</th>\n",
              "      <th>description</th>\n",
              "    </tr>\n",
              "  </thead>\n",
              "  <tbody>\n",
              "    <tr>\n",
              "      <th>0</th>\n",
              "      <td>A1101</td>\n",
              "      <td>Réalise des travaux mécanisés agricoles, sylvi...</td>\n",
              "    </tr>\n",
              "    <tr>\n",
              "      <th>1</th>\n",
              "      <td>A1201</td>\n",
              "      <td>Réalise des opérations de coupe et d''entretie...</td>\n",
              "    </tr>\n",
              "    <tr>\n",
              "      <th>2</th>\n",
              "      <td>A1201</td>\n",
              "      <td>Peut débarder les grumes. Peut estimer la vale...</td>\n",
              "    </tr>\n",
              "    <tr>\n",
              "      <th>3</th>\n",
              "      <td>A1201</td>\n",
              "      <td>Peut diriger une équipe ou diriger une entrepr...</td>\n",
              "    </tr>\n",
              "    <tr>\n",
              "      <th>4</th>\n",
              "      <td>A1202</td>\n",
              "      <td>Aménage et entretient des écosystèmes (espaces...</td>\n",
              "    </tr>\n",
              "    <tr>\n",
              "      <th>...</th>\n",
              "      <td>...</td>\n",
              "      <td>...</td>\n",
              "    </tr>\n",
              "    <tr>\n",
              "      <th>1497</th>\n",
              "      <td>N4402</td>\n",
              "      <td>Peut informer les clients sur les caractéristi...</td>\n",
              "    </tr>\n",
              "    <tr>\n",
              "      <th>1498</th>\n",
              "      <td>N4402</td>\n",
              "      <td>Peut coordonner l''activité d''une équipe.</td>\n",
              "    </tr>\n",
              "    <tr>\n",
              "      <th>1499</th>\n",
              "      <td>N4403</td>\n",
              "      <td>Réalise des opérations de formation de trains ...</td>\n",
              "    </tr>\n",
              "    <tr>\n",
              "      <th>1500</th>\n",
              "      <td>N4403</td>\n",
              "      <td>Peut acheminer une rame dans un périmètre limité.</td>\n",
              "    </tr>\n",
              "    <tr>\n",
              "      <th>1501</th>\n",
              "      <td>N4403</td>\n",
              "      <td>Peut coordonner l''activité de plusieurs salar...</td>\n",
              "    </tr>\n",
              "  </tbody>\n",
              "</table>\n",
              "<p>1502 rows × 2 columns</p>\n",
              "</div>"
            ],
            "text/plain": [
              "     rome_code                                        description\n",
              "0        A1101  Réalise des travaux mécanisés agricoles, sylvi...\n",
              "1        A1201  Réalise des opérations de coupe et d''entretie...\n",
              "2        A1201  Peut débarder les grumes. Peut estimer la vale...\n",
              "3        A1201  Peut diriger une équipe ou diriger une entrepr...\n",
              "4        A1202  Aménage et entretient des écosystèmes (espaces...\n",
              "...        ...                                                ...\n",
              "1497     N4402  Peut informer les clients sur les caractéristi...\n",
              "1498     N4402         Peut coordonner l''activité d''une équipe.\n",
              "1499     N4403  Réalise des opérations de formation de trains ...\n",
              "1500     N4403  Peut acheminer une rame dans un périmètre limité.\n",
              "1501     N4403  Peut coordonner l''activité de plusieurs salar...\n",
              "\n",
              "[1502 rows x 2 columns]"
            ]
          },
          "metadata": {
            "tags": []
          },
          "execution_count": 112
        }
      ]
    },
    {
      "cell_type": "code",
      "metadata": {
        "colab": {
          "base_uri": "https://localhost:8080/",
          "height": 423
        },
        "id": "Qf1SW1Xh51fi",
        "outputId": "6afce197-7e1d-4a8a-b4ab-6836b22df0ec"
      },
      "source": [
        "# Concatenation of multiple phrases\n",
        "rome_def = rome_def.groupby(['rome_code'])[\"description\"].apply(lambda x: '\\n'.join(x)).reset_index()\n",
        "rome_def"
      ],
      "execution_count": null,
      "outputs": [
        {
          "output_type": "execute_result",
          "data": {
            "text/html": [
              "<div>\n",
              "<style scoped>\n",
              "    .dataframe tbody tr th:only-of-type {\n",
              "        vertical-align: middle;\n",
              "    }\n",
              "\n",
              "    .dataframe tbody tr th {\n",
              "        vertical-align: top;\n",
              "    }\n",
              "\n",
              "    .dataframe thead th {\n",
              "        text-align: right;\n",
              "    }\n",
              "</style>\n",
              "<table border=\"1\" class=\"dataframe\">\n",
              "  <thead>\n",
              "    <tr style=\"text-align: right;\">\n",
              "      <th></th>\n",
              "      <th>rome_code</th>\n",
              "      <th>description</th>\n",
              "    </tr>\n",
              "  </thead>\n",
              "  <tbody>\n",
              "    <tr>\n",
              "      <th>0</th>\n",
              "      <td>A1101</td>\n",
              "      <td>Réalise des travaux mécanisés agricoles, sylvi...</td>\n",
              "    </tr>\n",
              "    <tr>\n",
              "      <th>1</th>\n",
              "      <td>A1201</td>\n",
              "      <td>Réalise des opérations de coupe et d''entretie...</td>\n",
              "    </tr>\n",
              "    <tr>\n",
              "      <th>2</th>\n",
              "      <td>A1202</td>\n",
              "      <td>Aménage et entretient des écosystèmes (espaces...</td>\n",
              "    </tr>\n",
              "    <tr>\n",
              "      <th>3</th>\n",
              "      <td>A1203</td>\n",
              "      <td>Aménage et entretient des espaces verts (parcs...</td>\n",
              "    </tr>\n",
              "    <tr>\n",
              "      <th>4</th>\n",
              "      <td>A1204</td>\n",
              "      <td>Effectue la surveillance de site (espaces natu...</td>\n",
              "    </tr>\n",
              "    <tr>\n",
              "      <th>...</th>\n",
              "      <td>...</td>\n",
              "      <td>...</td>\n",
              "    </tr>\n",
              "    <tr>\n",
              "      <th>527</th>\n",
              "      <td>N4301</td>\n",
              "      <td>Conduit un véhicule sur rails (train, métro, ....</td>\n",
              "    </tr>\n",
              "    <tr>\n",
              "      <th>528</th>\n",
              "      <td>N4302</td>\n",
              "      <td>Contrôle les droits d''accès des voyageurs aux...</td>\n",
              "    </tr>\n",
              "    <tr>\n",
              "      <th>529</th>\n",
              "      <td>N4401</td>\n",
              "      <td>Surveille et coordonne les mouvements des trai...</td>\n",
              "    </tr>\n",
              "    <tr>\n",
              "      <th>530</th>\n",
              "      <td>N4402</td>\n",
              "      <td>Réalise des opérations de mise en fonction, de...</td>\n",
              "    </tr>\n",
              "    <tr>\n",
              "      <th>531</th>\n",
              "      <td>N4403</td>\n",
              "      <td>Réalise des opérations de formation de trains ...</td>\n",
              "    </tr>\n",
              "  </tbody>\n",
              "</table>\n",
              "<p>532 rows × 2 columns</p>\n",
              "</div>"
            ],
            "text/plain": [
              "    rome_code                                        description\n",
              "0       A1101  Réalise des travaux mécanisés agricoles, sylvi...\n",
              "1       A1201  Réalise des opérations de coupe et d''entretie...\n",
              "2       A1202  Aménage et entretient des écosystèmes (espaces...\n",
              "3       A1203  Aménage et entretient des espaces verts (parcs...\n",
              "4       A1204  Effectue la surveillance de site (espaces natu...\n",
              "..        ...                                                ...\n",
              "527     N4301  Conduit un véhicule sur rails (train, métro, ....\n",
              "528     N4302  Contrôle les droits d''accès des voyageurs aux...\n",
              "529     N4401  Surveille et coordonne les mouvements des trai...\n",
              "530     N4402  Réalise des opérations de mise en fonction, de...\n",
              "531     N4403  Réalise des opérations de formation de trains ...\n",
              "\n",
              "[532 rows x 2 columns]"
            ]
          },
          "metadata": {
            "tags": []
          },
          "execution_count": 115
        }
      ]
    },
    {
      "cell_type": "code",
      "metadata": {
        "id": "nXR8SB0kKzMB"
      },
      "source": [
        "#we have the database in csv and we put it on gist\n",
        "rome_def.to_csv(\"rome_description.csv\",index=False)"
      ],
      "execution_count": null,
      "outputs": []
    },
    {
      "cell_type": "markdown",
      "metadata": {
        "id": "96KFULurob1_"
      },
      "source": [
        "# 1 Import of the data and the packages\n"
      ]
    },
    {
      "cell_type": "markdown",
      "metadata": {
        "id": "CGVQ7JoCCe-f"
      },
      "source": [
        "### 1.1 Import and installation of packages"
      ]
    },
    {
      "cell_type": "code",
      "metadata": {
        "id": "oW9nVzT-yxjT",
        "colab": {
          "base_uri": "https://localhost:8080/"
        },
        "outputId": "f3154258-df59-46d0-b3ff-f80cd8dbb99f"
      },
      "source": [
        "!pip install \"transformers==2.5.1\"\n",
        "#!pip install -U torchtext==0.8.0"
      ],
      "execution_count": 2,
      "outputs": [
        {
          "output_type": "stream",
          "text": [
            "Collecting transformers==2.5.1\n",
            "\u001b[?25l  Downloading https://files.pythonhosted.org/packages/13/33/ffb67897a6985a7b7d8e5e7878c3628678f553634bd3836404fef06ef19b/transformers-2.5.1-py3-none-any.whl (499kB)\n",
            "\r\u001b[K     |▋                               | 10kB 24.9MB/s eta 0:00:01\r\u001b[K     |█▎                              | 20kB 29.2MB/s eta 0:00:01\r\u001b[K     |██                              | 30kB 21.5MB/s eta 0:00:01\r\u001b[K     |██▋                             | 40kB 24.6MB/s eta 0:00:01\r\u001b[K     |███▎                            | 51kB 24.2MB/s eta 0:00:01\r\u001b[K     |████                            | 61kB 20.1MB/s eta 0:00:01\r\u001b[K     |████▋                           | 71kB 19.6MB/s eta 0:00:01\r\u001b[K     |█████▎                          | 81kB 20.5MB/s eta 0:00:01\r\u001b[K     |██████                          | 92kB 19.1MB/s eta 0:00:01\r\u001b[K     |██████▋                         | 102kB 19.3MB/s eta 0:00:01\r\u001b[K     |███████▏                        | 112kB 19.3MB/s eta 0:00:01\r\u001b[K     |███████▉                        | 122kB 19.3MB/s eta 0:00:01\r\u001b[K     |████████▌                       | 133kB 19.3MB/s eta 0:00:01\r\u001b[K     |█████████▏                      | 143kB 19.3MB/s eta 0:00:01\r\u001b[K     |█████████▉                      | 153kB 19.3MB/s eta 0:00:01\r\u001b[K     |██████████▌                     | 163kB 19.3MB/s eta 0:00:01\r\u001b[K     |███████████▏                    | 174kB 19.3MB/s eta 0:00:01\r\u001b[K     |███████████▉                    | 184kB 19.3MB/s eta 0:00:01\r\u001b[K     |████████████▌                   | 194kB 19.3MB/s eta 0:00:01\r\u001b[K     |█████████████▏                  | 204kB 19.3MB/s eta 0:00:01\r\u001b[K     |█████████████▉                  | 215kB 19.3MB/s eta 0:00:01\r\u001b[K     |██████████████▍                 | 225kB 19.3MB/s eta 0:00:01\r\u001b[K     |███████████████                 | 235kB 19.3MB/s eta 0:00:01\r\u001b[K     |███████████████▊                | 245kB 19.3MB/s eta 0:00:01\r\u001b[K     |████████████████▍               | 256kB 19.3MB/s eta 0:00:01\r\u001b[K     |█████████████████               | 266kB 19.3MB/s eta 0:00:01\r\u001b[K     |█████████████████▊              | 276kB 19.3MB/s eta 0:00:01\r\u001b[K     |██████████████████▍             | 286kB 19.3MB/s eta 0:00:01\r\u001b[K     |███████████████████             | 296kB 19.3MB/s eta 0:00:01\r\u001b[K     |███████████████████▊            | 307kB 19.3MB/s eta 0:00:01\r\u001b[K     |████████████████████▍           | 317kB 19.3MB/s eta 0:00:01\r\u001b[K     |█████████████████████           | 327kB 19.3MB/s eta 0:00:01\r\u001b[K     |█████████████████████▋          | 337kB 19.3MB/s eta 0:00:01\r\u001b[K     |██████████████████████▎         | 348kB 19.3MB/s eta 0:00:01\r\u001b[K     |███████████████████████         | 358kB 19.3MB/s eta 0:00:01\r\u001b[K     |███████████████████████▋        | 368kB 19.3MB/s eta 0:00:01\r\u001b[K     |████████████████████████▎       | 378kB 19.3MB/s eta 0:00:01\r\u001b[K     |█████████████████████████       | 389kB 19.3MB/s eta 0:00:01\r\u001b[K     |█████████████████████████▋      | 399kB 19.3MB/s eta 0:00:01\r\u001b[K     |██████████████████████████▎     | 409kB 19.3MB/s eta 0:00:01\r\u001b[K     |███████████████████████████     | 419kB 19.3MB/s eta 0:00:01\r\u001b[K     |███████████████████████████▋    | 430kB 19.3MB/s eta 0:00:01\r\u001b[K     |████████████████████████████▏   | 440kB 19.3MB/s eta 0:00:01\r\u001b[K     |████████████████████████████▉   | 450kB 19.3MB/s eta 0:00:01\r\u001b[K     |█████████████████████████████▌  | 460kB 19.3MB/s eta 0:00:01\r\u001b[K     |██████████████████████████████▏ | 471kB 19.3MB/s eta 0:00:01\r\u001b[K     |██████████████████████████████▉ | 481kB 19.3MB/s eta 0:00:01\r\u001b[K     |███████████████████████████████▌| 491kB 19.3MB/s eta 0:00:01\r\u001b[K     |████████████████████████████████| 501kB 19.3MB/s \n",
            "\u001b[?25hRequirement already satisfied: regex!=2019.12.17 in /usr/local/lib/python3.7/dist-packages (from transformers==2.5.1) (2019.12.20)\n",
            "Collecting tokenizers==0.5.2\n",
            "\u001b[?25l  Downloading https://files.pythonhosted.org/packages/d6/e3/5e49e9a83fb605aaa34a1c1173e607302fecae529428c28696fb18f1c2c9/tokenizers-0.5.2-cp37-cp37m-manylinux1_x86_64.whl (5.6MB)\n",
            "\u001b[K     |████████████████████████████████| 5.6MB 50.3MB/s \n",
            "\u001b[?25hCollecting boto3\n",
            "\u001b[?25l  Downloading https://files.pythonhosted.org/packages/c3/8c/bcaed1ce8d9e666496e4703cce8a6b6df9c9635f6ccbc9eb6632ee4b18ff/boto3-1.17.51-py2.py3-none-any.whl (131kB)\n",
            "\u001b[K     |████████████████████████████████| 133kB 36.3MB/s \n",
            "\u001b[?25hRequirement already satisfied: filelock in /usr/local/lib/python3.7/dist-packages (from transformers==2.5.1) (3.0.12)\n",
            "Collecting sacremoses\n",
            "\u001b[?25l  Downloading https://files.pythonhosted.org/packages/08/cd/342e584ee544d044fb573ae697404ce22ede086c9e87ce5960772084cad0/sacremoses-0.0.44.tar.gz (862kB)\n",
            "\u001b[K     |████████████████████████████████| 870kB 49.1MB/s \n",
            "\u001b[?25hRequirement already satisfied: numpy in /usr/local/lib/python3.7/dist-packages (from transformers==2.5.1) (1.19.5)\n",
            "Collecting sentencepiece\n",
            "\u001b[?25l  Downloading https://files.pythonhosted.org/packages/f5/99/e0808cb947ba10f575839c43e8fafc9cc44e4a7a2c8f79c60db48220a577/sentencepiece-0.1.95-cp37-cp37m-manylinux2014_x86_64.whl (1.2MB)\n",
            "\u001b[K     |████████████████████████████████| 1.2MB 40.0MB/s \n",
            "\u001b[?25hRequirement already satisfied: tqdm>=4.27 in /usr/local/lib/python3.7/dist-packages (from transformers==2.5.1) (4.41.1)\n",
            "Requirement already satisfied: requests in /usr/local/lib/python3.7/dist-packages (from transformers==2.5.1) (2.23.0)\n",
            "Collecting botocore<1.21.0,>=1.20.51\n",
            "\u001b[?25l  Downloading https://files.pythonhosted.org/packages/3c/1d/7a3741f17a10cc599bb3728351992b10094328ee07b8a129250ba2039642/botocore-1.20.51-py2.py3-none-any.whl (7.4MB)\n",
            "\u001b[K     |████████████████████████████████| 7.4MB 51.5MB/s \n",
            "\u001b[?25hCollecting s3transfer<0.4.0,>=0.3.0\n",
            "\u001b[?25l  Downloading https://files.pythonhosted.org/packages/00/89/0cb4e92c239e6425b9b0035227b8cdf9d3d098a5c9e95632c3815df63a09/s3transfer-0.3.7-py2.py3-none-any.whl (73kB)\n",
            "\u001b[K     |████████████████████████████████| 81kB 11.8MB/s \n",
            "\u001b[?25hCollecting jmespath<1.0.0,>=0.7.1\n",
            "  Downloading https://files.pythonhosted.org/packages/07/cb/5f001272b6faeb23c1c9e0acc04d48eaaf5c862c17709d20e3469c6e0139/jmespath-0.10.0-py2.py3-none-any.whl\n",
            "Requirement already satisfied: six in /usr/local/lib/python3.7/dist-packages (from sacremoses->transformers==2.5.1) (1.15.0)\n",
            "Requirement already satisfied: click in /usr/local/lib/python3.7/dist-packages (from sacremoses->transformers==2.5.1) (7.1.2)\n",
            "Requirement already satisfied: joblib in /usr/local/lib/python3.7/dist-packages (from sacremoses->transformers==2.5.1) (1.0.1)\n",
            "Requirement already satisfied: chardet<4,>=3.0.2 in /usr/local/lib/python3.7/dist-packages (from requests->transformers==2.5.1) (3.0.4)\n",
            "Requirement already satisfied: idna<3,>=2.5 in /usr/local/lib/python3.7/dist-packages (from requests->transformers==2.5.1) (2.10)\n",
            "Requirement already satisfied: urllib3!=1.25.0,!=1.25.1,<1.26,>=1.21.1 in /usr/local/lib/python3.7/dist-packages (from requests->transformers==2.5.1) (1.24.3)\n",
            "Requirement already satisfied: certifi>=2017.4.17 in /usr/local/lib/python3.7/dist-packages (from requests->transformers==2.5.1) (2020.12.5)\n",
            "Requirement already satisfied: python-dateutil<3.0.0,>=2.1 in /usr/local/lib/python3.7/dist-packages (from botocore<1.21.0,>=1.20.51->boto3->transformers==2.5.1) (2.8.1)\n",
            "Building wheels for collected packages: sacremoses\n",
            "  Building wheel for sacremoses (setup.py) ... \u001b[?25l\u001b[?25hdone\n",
            "  Created wheel for sacremoses: filename=sacremoses-0.0.44-cp37-none-any.whl size=886084 sha256=a38076179d76ff750ec27351875c08c14d91f2e28c110034c8712085750f7ad1\n",
            "  Stored in directory: /root/.cache/pip/wheels/3e/fb/c0/13ab4d63d537658f448366744654323077c4d90069b6512f3c\n",
            "Successfully built sacremoses\n",
            "\u001b[31mERROR: botocore 1.20.51 has requirement urllib3<1.27,>=1.25.4, but you'll have urllib3 1.24.3 which is incompatible.\u001b[0m\n",
            "Installing collected packages: tokenizers, jmespath, botocore, s3transfer, boto3, sacremoses, sentencepiece, transformers\n",
            "Successfully installed boto3-1.17.51 botocore-1.20.51 jmespath-0.10.0 s3transfer-0.3.7 sacremoses-0.0.44 sentencepiece-0.1.95 tokenizers-0.5.2 transformers-2.5.1\n"
          ],
          "name": "stdout"
        }
      ]
    },
    {
      "cell_type": "code",
      "metadata": {
        "id": "EqgZnEyuPpM5"
      },
      "source": [
        "import torch\n",
        "from tqdm.notebook import tqdm\n",
        "\n",
        "import torch\n",
        "import torch.nn as nn\n",
        "import torch.nn.functional as F\n",
        "from torch.utils.data import TensorDataset, DataLoader, RandomSampler, SequentialSampler, Dataset\n",
        "from torch.nn.utils.rnn import pack_padded_sequence, pad_packed_sequence\n",
        "\n",
        "from transformers.tokenization_camembert import CamembertTokenizer\n",
        "from transformers import CamembertForSequenceClassification, AdamW, get_linear_schedule_with_warmup\n",
        "\n",
        "from sklearn.metrics import classification_report, confusion_matrix, roc_curve, auc, plot_roc_curve, f1_score\n",
        "from sklearn.model_selection import train_test_split\n",
        "from sklearn import preprocessing,svm\n",
        "from sklearn.multiclass import OneVsRestClassifier\n",
        "from sklearn.svm import LinearSVC\n",
        "\n",
        "import matplotlib.pyplot as plt\n",
        "import seaborn as sn\n",
        "import numpy as np\n",
        "import pandas as pd\n",
        "\n",
        "from collections import Counter\n",
        "\n",
        "import nltk\n",
        "from tqdm import tqdm\n",
        "from gensim.models.phrases import Phrases, Phraser\n",
        "from nltk.tokenize import TreebankWordTokenizer, TweetTokenizer\n",
        "from gensim.models import KeyedVectors\n",
        "import random\n",
        "\n",
        "\n",
        "seed_val = 42"
      ],
      "execution_count": 3,
      "outputs": []
    },
    {
      "cell_type": "markdown",
      "metadata": {
        "id": "j5WUh2WxEBq_"
      },
      "source": [
        "### 1.2 Import of pretrained word2vec\n",
        "\n",
        "In this project, due to the few number of observations, we used pre-trained word embedding from a French corpus available at https://fauconnier.github.io. The model was trained in the [FrWac corpus](https://wacky.sslmit.unibo.it/doku.php?id=corpora) of  1.6 billion of words, with a skip-gram approach and an embedding size of 200."
      ]
    },
    {
      "cell_type": "code",
      "metadata": {
        "id": "RsrH5U4cwqXg",
        "colab": {
          "base_uri": "https://localhost:8080/"
        },
        "outputId": "fae64451-8c5d-4890-a856-7e27d5a2db8d"
      },
      "source": [
        "!wget  https://s3.us-east-2.amazonaws.com/embeddings.net/embeddings/frWac_non_lem_no_postag_no_phrase_200_skip_cut100.bin"
      ],
      "execution_count": 4,
      "outputs": [
        {
          "output_type": "stream",
          "text": [
            "--2021-04-14 19:25:52--  https://s3.us-east-2.amazonaws.com/embeddings.net/embeddings/frWac_non_lem_no_postag_no_phrase_200_skip_cut100.bin\n",
            "Resolving s3.us-east-2.amazonaws.com (s3.us-east-2.amazonaws.com)... 52.219.98.113\n",
            "Connecting to s3.us-east-2.amazonaws.com (s3.us-east-2.amazonaws.com)|52.219.98.113|:443... connected.\n",
            "HTTP request sent, awaiting response... 200 OK\n",
            "Length: 126052447 (120M) [application/octet-stream]\n",
            "Saving to: ‘frWac_non_lem_no_postag_no_phrase_200_skip_cut100.bin’\n",
            "\n",
            "frWac_non_lem_no_po 100%[===================>] 120.21M  62.4MB/s    in 1.9s    \n",
            "\n",
            "2021-04-14 19:25:54 (62.4 MB/s) - ‘frWac_non_lem_no_postag_no_phrase_200_skip_cut100.bin’ saved [126052447/126052447]\n",
            "\n"
          ],
          "name": "stdout"
        }
      ]
    },
    {
      "cell_type": "code",
      "metadata": {
        "id": "xEVYq-asxkyu"
      },
      "source": [
        "w2vecembedding = KeyedVectors.load_word2vec_format(\"frWac_non_lem_no_postag_no_phrase_200_skip_cut100.bin\", binary=True, unicode_errors=\"ignore\")"
      ],
      "execution_count": 5,
      "outputs": []
    },
    {
      "cell_type": "markdown",
      "metadata": {
        "id": "c3YTFMaFFCMK"
      },
      "source": [
        "### 1.3 Downloading the data"
      ]
    },
    {
      "cell_type": "code",
      "metadata": {
        "colab": {
          "base_uri": "https://localhost:8080/"
        },
        "id": "AKf1vfiCMs0f",
        "outputId": "a08b0bcb-9a49-4bf0-8053-8545f5bc6187"
      },
      "source": [
        "!wget https://gist.github.com/AQLT/329c4af5e9418e94debe0ed721ba71ea/archive/0db14b6a9c9be77cbef12e4b3804e5e279e42aee.zip -O data.zip\n",
        "!unzip -d data/ -j  -o data.zip\n",
        "!rm data.zip"
      ],
      "execution_count": 6,
      "outputs": [
        {
          "output_type": "stream",
          "text": [
            "--2021-04-14 19:25:56--  https://gist.github.com/AQLT/329c4af5e9418e94debe0ed721ba71ea/archive/0db14b6a9c9be77cbef12e4b3804e5e279e42aee.zip\n",
            "Resolving gist.github.com (gist.github.com)... 140.82.114.4\n",
            "Connecting to gist.github.com (gist.github.com)|140.82.114.4|:443... connected.\n",
            "HTTP request sent, awaiting response... 302 Found\n",
            "Location: https://codeload.github.com/gist/329c4af5e9418e94debe0ed721ba71ea/zip/0db14b6a9c9be77cbef12e4b3804e5e279e42aee [following]\n",
            "--2021-04-14 19:25:56--  https://codeload.github.com/gist/329c4af5e9418e94debe0ed721ba71ea/zip/0db14b6a9c9be77cbef12e4b3804e5e279e42aee\n",
            "Resolving codeload.github.com (codeload.github.com)... 140.82.113.9\n",
            "Connecting to codeload.github.com (codeload.github.com)|140.82.113.9|:443... connected.\n",
            "HTTP request sent, awaiting response... 200 OK\n",
            "Length: unspecified [application/zip]\n",
            "Saving to: ‘data.zip’\n",
            "\n",
            "\rdata.zip                [<=>                 ]       0  --.-KB/s               \rdata.zip                [ <=>                ] 329.92K  --.-KB/s    in 0.02s   \n",
            "\n",
            "2021-04-14 19:25:57 (19.5 MB/s) - ‘data.zip’ saved [337839]\n",
            "\n",
            "Archive:  data.zip\n",
            "0db14b6a9c9be77cbef12e4b3804e5e279e42aee\n",
            "  inflating: data/onisep_description.csv  \n",
            "  inflating: data/principal_tree.csv  \n",
            "  inflating: data/rome_description.csv  \n",
            "  inflating: data/thematic_tree.csv  \n"
          ],
          "name": "stdout"
        }
      ]
    },
    {
      "cell_type": "code",
      "metadata": {
        "colab": {
          "base_uri": "https://localhost:8080/",
          "height": 470
        },
        "id": "3Abf2rxOpC4f",
        "outputId": "d8209853-81bd-4608-a544-a3f1cf7bc975"
      },
      "source": [
        "principal_tree = pd.read_csv(\"data/principal_tree.csv\")\n",
        "thematic_tree = pd.read_csv(\"data/thematic_tree.csv\")\n",
        "onisep_description = pd.read_csv(\"data/onisep_description.csv\")\n",
        "rome_description = pd.read_csv(\"data/rome_description.csv\")\n",
        "rome_description[\"table\"] = \"rome\"\n",
        "onisep_description[\"table\"] = \"onisep\"\n",
        "onisep_description = onisep_description.drop(columns=[\"metier\",\"GFE\",\"domaine_ONISEP\",\"sous_domaine_ONISEP\"])\n",
        "print(\"Number of ROME descriptions (Pôle Emploi) : \",len(rome_description))\n",
        "print(\"Number of JOB APPELLATION descriptions (Onisep) : \", len(onisep_description))\n",
        "data = pd.concat([rome_description, onisep_description])\n",
        "print(\"Total number of job descriptions : \", len(data))\n",
        "data"
      ],
      "execution_count": 7,
      "outputs": [
        {
          "output_type": "stream",
          "text": [
            "Number of ROME descriptions (Pôle Emploi) :  532\n",
            "Number of JOB APPELLATION descriptions (Onisep) :  715\n",
            "Total number of job descriptions :  1247\n"
          ],
          "name": "stdout"
        },
        {
          "output_type": "execute_result",
          "data": {
            "text/html": [
              "<div>\n",
              "<style scoped>\n",
              "    .dataframe tbody tr th:only-of-type {\n",
              "        vertical-align: middle;\n",
              "    }\n",
              "\n",
              "    .dataframe tbody tr th {\n",
              "        vertical-align: top;\n",
              "    }\n",
              "\n",
              "    .dataframe thead th {\n",
              "        text-align: right;\n",
              "    }\n",
              "</style>\n",
              "<table border=\"1\" class=\"dataframe\">\n",
              "  <thead>\n",
              "    <tr style=\"text-align: right;\">\n",
              "      <th></th>\n",
              "      <th>rome_code</th>\n",
              "      <th>description</th>\n",
              "      <th>table</th>\n",
              "    </tr>\n",
              "  </thead>\n",
              "  <tbody>\n",
              "    <tr>\n",
              "      <th>0</th>\n",
              "      <td>A1101</td>\n",
              "      <td>Réalise des travaux mécanisés agricoles, sylvi...</td>\n",
              "      <td>rome</td>\n",
              "    </tr>\n",
              "    <tr>\n",
              "      <th>1</th>\n",
              "      <td>A1201</td>\n",
              "      <td>Réalise des opérations de coupe et d''entretie...</td>\n",
              "      <td>rome</td>\n",
              "    </tr>\n",
              "    <tr>\n",
              "      <th>2</th>\n",
              "      <td>A1202</td>\n",
              "      <td>Aménage et entretient des écosystèmes (espaces...</td>\n",
              "      <td>rome</td>\n",
              "    </tr>\n",
              "    <tr>\n",
              "      <th>3</th>\n",
              "      <td>A1203</td>\n",
              "      <td>Aménage et entretient des espaces verts (parcs...</td>\n",
              "      <td>rome</td>\n",
              "    </tr>\n",
              "    <tr>\n",
              "      <th>4</th>\n",
              "      <td>A1204</td>\n",
              "      <td>Effectue la surveillance de site (espaces natu...</td>\n",
              "      <td>rome</td>\n",
              "    </tr>\n",
              "    <tr>\n",
              "      <th>...</th>\n",
              "      <td>...</td>\n",
              "      <td>...</td>\n",
              "      <td>...</td>\n",
              "    </tr>\n",
              "    <tr>\n",
              "      <th>710</th>\n",
              "      <td>F1105</td>\n",
              "      <td>Le pédologue est un scientifique spécialiste d...</td>\n",
              "      <td>onisep</td>\n",
              "    </tr>\n",
              "    <tr>\n",
              "      <th>711</th>\n",
              "      <td>M1403</td>\n",
              "      <td>Prévoir la durée de vie d'un produit industrie...</td>\n",
              "      <td>onisep</td>\n",
              "    </tr>\n",
              "    <tr>\n",
              "      <th>712</th>\n",
              "      <td>H1206</td>\n",
              "      <td>L'ingénieur en caractérisation des matériaux c...</td>\n",
              "      <td>onisep</td>\n",
              "    </tr>\n",
              "    <tr>\n",
              "      <th>713</th>\n",
              "      <td>L1301</td>\n",
              "      <td>Quand les 3 coups résonnent dans la salle et q...</td>\n",
              "      <td>onisep</td>\n",
              "    </tr>\n",
              "    <tr>\n",
              "      <th>714</th>\n",
              "      <td>C1106</td>\n",
              "      <td>Conseiller technique et souvent arbitre, l'exp...</td>\n",
              "      <td>onisep</td>\n",
              "    </tr>\n",
              "  </tbody>\n",
              "</table>\n",
              "<p>1247 rows × 3 columns</p>\n",
              "</div>"
            ],
            "text/plain": [
              "    rome_code                                        description   table\n",
              "0       A1101  Réalise des travaux mécanisés agricoles, sylvi...    rome\n",
              "1       A1201  Réalise des opérations de coupe et d''entretie...    rome\n",
              "2       A1202  Aménage et entretient des écosystèmes (espaces...    rome\n",
              "3       A1203  Aménage et entretient des espaces verts (parcs...    rome\n",
              "4       A1204  Effectue la surveillance de site (espaces natu...    rome\n",
              "..        ...                                                ...     ...\n",
              "710     F1105  Le pédologue est un scientifique spécialiste d...  onisep\n",
              "711     M1403  Prévoir la durée de vie d'un produit industrie...  onisep\n",
              "712     H1206  L'ingénieur en caractérisation des matériaux c...  onisep\n",
              "713     L1301  Quand les 3 coups résonnent dans la salle et q...  onisep\n",
              "714     C1106  Conseiller technique et souvent arbitre, l'exp...  onisep\n",
              "\n",
              "[1247 rows x 3 columns]"
            ]
          },
          "metadata": {
            "tags": []
          },
          "execution_count": 7
        }
      ]
    },
    {
      "cell_type": "markdown",
      "metadata": {
        "id": "0z_AfhUtyhZB"
      },
      "source": [
        "As described in the section 1, we will focus on the principal tree. We will try to predict the *major_code* (there are 14 major fields) with the description obtained in of 532 ROME forms provided by Pole Emploi and 715 job descriptions provided by Onisep."
      ]
    },
    {
      "cell_type": "code",
      "metadata": {
        "colab": {
          "base_uri": "https://localhost:8080/",
          "height": 589
        },
        "id": "f8uIdojvt9oq",
        "outputId": "1582f306-574b-45fb-eef2-470c99caa5e6"
      },
      "source": [
        "data = pd.merge(data, principal_tree)\n",
        "data = data.drop(columns = [\"professional_code\", \"code_type_referentiel\",\"professional_title\"])\n",
        "data"
      ],
      "execution_count": 8,
      "outputs": [
        {
          "output_type": "execute_result",
          "data": {
            "text/html": [
              "<div>\n",
              "<style scoped>\n",
              "    .dataframe tbody tr th:only-of-type {\n",
              "        vertical-align: middle;\n",
              "    }\n",
              "\n",
              "    .dataframe tbody tr th {\n",
              "        vertical-align: top;\n",
              "    }\n",
              "\n",
              "    .dataframe thead th {\n",
              "        text-align: right;\n",
              "    }\n",
              "</style>\n",
              "<table border=\"1\" class=\"dataframe\">\n",
              "  <thead>\n",
              "    <tr style=\"text-align: right;\">\n",
              "      <th></th>\n",
              "      <th>rome_code</th>\n",
              "      <th>description</th>\n",
              "      <th>table</th>\n",
              "      <th>major_code</th>\n",
              "      <th>major_title</th>\n",
              "      <th>rome_title</th>\n",
              "    </tr>\n",
              "  </thead>\n",
              "  <tbody>\n",
              "    <tr>\n",
              "      <th>0</th>\n",
              "      <td>A1101</td>\n",
              "      <td>Réalise des travaux mécanisés agricoles, sylvi...</td>\n",
              "      <td>rome</td>\n",
              "      <td>A</td>\n",
              "      <td>Agriculture et Pêche, Espaces naturels et Espa...</td>\n",
              "      <td>Conduite d'engins agricoles et forestiers</td>\n",
              "    </tr>\n",
              "    <tr>\n",
              "      <th>1</th>\n",
              "      <td>A1101</td>\n",
              "      <td>Tracteur, moissonneuse-batteuse, ensileuse, ép...</td>\n",
              "      <td>onisep</td>\n",
              "      <td>A</td>\n",
              "      <td>Agriculture et Pêche, Espaces naturels et Espa...</td>\n",
              "      <td>Conduite d'engins agricoles et forestiers</td>\n",
              "    </tr>\n",
              "    <tr>\n",
              "      <th>2</th>\n",
              "      <td>A1101</td>\n",
              "      <td>Depuis la cabine de sa machine, le conducteur ...</td>\n",
              "      <td>onisep</td>\n",
              "      <td>A</td>\n",
              "      <td>Agriculture et Pêche, Espaces naturels et Espa...</td>\n",
              "      <td>Conduite d'engins agricoles et forestiers</td>\n",
              "    </tr>\n",
              "    <tr>\n",
              "      <th>3</th>\n",
              "      <td>A1201</td>\n",
              "      <td>Réalise des opérations de coupe et d''entretie...</td>\n",
              "      <td>rome</td>\n",
              "      <td>A</td>\n",
              "      <td>Agriculture et Pêche, Espaces naturels et Espa...</td>\n",
              "      <td>Bûcheronnage et élagage</td>\n",
              "    </tr>\n",
              "    <tr>\n",
              "      <th>4</th>\n",
              "      <td>A1201</td>\n",
              "      <td>Avec ses cordes de rappel, son harnais, ses mo...</td>\n",
              "      <td>onisep</td>\n",
              "      <td>A</td>\n",
              "      <td>Agriculture et Pêche, Espaces naturels et Espa...</td>\n",
              "      <td>Bûcheronnage et élagage</td>\n",
              "    </tr>\n",
              "    <tr>\n",
              "      <th>...</th>\n",
              "      <td>...</td>\n",
              "      <td>...</td>\n",
              "      <td>...</td>\n",
              "      <td>...</td>\n",
              "      <td>...</td>\n",
              "      <td>...</td>\n",
              "    </tr>\n",
              "    <tr>\n",
              "      <th>1242</th>\n",
              "      <td>N4401</td>\n",
              "      <td>Surveille et coordonne les mouvements des trai...</td>\n",
              "      <td>rome</td>\n",
              "      <td>N</td>\n",
              "      <td>Transport et Logistique</td>\n",
              "      <td>Circulation du réseau ferré</td>\n",
              "    </tr>\n",
              "    <tr>\n",
              "      <th>1243</th>\n",
              "      <td>N4401</td>\n",
              "      <td>Le technicien de la circulation ferroviaire SN...</td>\n",
              "      <td>onisep</td>\n",
              "      <td>N</td>\n",
              "      <td>Transport et Logistique</td>\n",
              "      <td>Circulation du réseau ferré</td>\n",
              "    </tr>\n",
              "    <tr>\n",
              "      <th>1244</th>\n",
              "      <td>N4402</td>\n",
              "      <td>Réalise des opérations de mise en fonction, de...</td>\n",
              "      <td>rome</td>\n",
              "      <td>N</td>\n",
              "      <td>Transport et Logistique</td>\n",
              "      <td>Exploitation et manoeuvre des remontées mécani...</td>\n",
              "    </tr>\n",
              "    <tr>\n",
              "      <th>1245</th>\n",
              "      <td>N4402</td>\n",
              "      <td>Sur les pistes de ski, une panne d'une télécab...</td>\n",
              "      <td>onisep</td>\n",
              "      <td>N</td>\n",
              "      <td>Transport et Logistique</td>\n",
              "      <td>Exploitation et manoeuvre des remontées mécani...</td>\n",
              "    </tr>\n",
              "    <tr>\n",
              "      <th>1246</th>\n",
              "      <td>N4403</td>\n",
              "      <td>Réalise des opérations de formation de trains ...</td>\n",
              "      <td>rome</td>\n",
              "      <td>N</td>\n",
              "      <td>Transport et Logistique</td>\n",
              "      <td>Manoeuvre du réseau ferré</td>\n",
              "    </tr>\n",
              "  </tbody>\n",
              "</table>\n",
              "<p>1247 rows × 6 columns</p>\n",
              "</div>"
            ],
            "text/plain": [
              "     rome_code  ...                                         rome_title\n",
              "0        A1101  ...          Conduite d'engins agricoles et forestiers\n",
              "1        A1101  ...          Conduite d'engins agricoles et forestiers\n",
              "2        A1101  ...          Conduite d'engins agricoles et forestiers\n",
              "3        A1201  ...                            Bûcheronnage et élagage\n",
              "4        A1201  ...                            Bûcheronnage et élagage\n",
              "...        ...  ...                                                ...\n",
              "1242     N4401  ...                        Circulation du réseau ferré\n",
              "1243     N4401  ...                        Circulation du réseau ferré\n",
              "1244     N4402  ...  Exploitation et manoeuvre des remontées mécani...\n",
              "1245     N4402  ...  Exploitation et manoeuvre des remontées mécani...\n",
              "1246     N4403  ...                          Manoeuvre du réseau ferré\n",
              "\n",
              "[1247 rows x 6 columns]"
            ]
          },
          "metadata": {
            "tags": []
          },
          "execution_count": 8
        }
      ]
    },
    {
      "cell_type": "markdown",
      "metadata": {
        "id": "NLN0XAx4gN1w"
      },
      "source": [
        "We can notice that the dataset is not perfectly balanced :"
      ]
    },
    {
      "cell_type": "code",
      "metadata": {
        "id": "yaMnW_zmgKgW",
        "colab": {
          "base_uri": "https://localhost:8080/",
          "height": 948
        },
        "outputId": "34c090e7-604b-40c2-b26a-f28a6595a82d"
      },
      "source": [
        "data[['major_code', 'table',\"rome_code\"]].groupby(['major_code', 'table']).count()"
      ],
      "execution_count": 9,
      "outputs": [
        {
          "output_type": "execute_result",
          "data": {
            "text/html": [
              "<div>\n",
              "<style scoped>\n",
              "    .dataframe tbody tr th:only-of-type {\n",
              "        vertical-align: middle;\n",
              "    }\n",
              "\n",
              "    .dataframe tbody tr th {\n",
              "        vertical-align: top;\n",
              "    }\n",
              "\n",
              "    .dataframe thead th {\n",
              "        text-align: right;\n",
              "    }\n",
              "</style>\n",
              "<table border=\"1\" class=\"dataframe\">\n",
              "  <thead>\n",
              "    <tr style=\"text-align: right;\">\n",
              "      <th></th>\n",
              "      <th></th>\n",
              "      <th>rome_code</th>\n",
              "    </tr>\n",
              "    <tr>\n",
              "      <th>major_code</th>\n",
              "      <th>table</th>\n",
              "      <th></th>\n",
              "    </tr>\n",
              "  </thead>\n",
              "  <tbody>\n",
              "    <tr>\n",
              "      <th rowspan=\"2\" valign=\"top\">A</th>\n",
              "      <th>onisep</th>\n",
              "      <td>44</td>\n",
              "    </tr>\n",
              "    <tr>\n",
              "      <th>rome</th>\n",
              "      <td>30</td>\n",
              "    </tr>\n",
              "    <tr>\n",
              "      <th rowspan=\"2\" valign=\"top\">B</th>\n",
              "      <th>onisep</th>\n",
              "      <td>21</td>\n",
              "    </tr>\n",
              "    <tr>\n",
              "      <th>rome</th>\n",
              "      <td>19</td>\n",
              "    </tr>\n",
              "    <tr>\n",
              "      <th rowspan=\"2\" valign=\"top\">C</th>\n",
              "      <th>onisep</th>\n",
              "      <td>19</td>\n",
              "    </tr>\n",
              "    <tr>\n",
              "      <th>rome</th>\n",
              "      <td>25</td>\n",
              "    </tr>\n",
              "    <tr>\n",
              "      <th rowspan=\"2\" valign=\"top\">D</th>\n",
              "      <th>onisep</th>\n",
              "      <td>35</td>\n",
              "    </tr>\n",
              "    <tr>\n",
              "      <th>rome</th>\n",
              "      <td>39</td>\n",
              "    </tr>\n",
              "    <tr>\n",
              "      <th rowspan=\"2\" valign=\"top\">E</th>\n",
              "      <th>onisep</th>\n",
              "      <td>43</td>\n",
              "    </tr>\n",
              "    <tr>\n",
              "      <th>rome</th>\n",
              "      <td>23</td>\n",
              "    </tr>\n",
              "    <tr>\n",
              "      <th rowspan=\"2\" valign=\"top\">F</th>\n",
              "      <th>onisep</th>\n",
              "      <td>58</td>\n",
              "    </tr>\n",
              "    <tr>\n",
              "      <th>rome</th>\n",
              "      <td>38</td>\n",
              "    </tr>\n",
              "    <tr>\n",
              "      <th rowspan=\"2\" valign=\"top\">G</th>\n",
              "      <th>onisep</th>\n",
              "      <td>34</td>\n",
              "    </tr>\n",
              "    <tr>\n",
              "      <th>rome</th>\n",
              "      <td>30</td>\n",
              "    </tr>\n",
              "    <tr>\n",
              "      <th rowspan=\"2\" valign=\"top\">H</th>\n",
              "      <th>onisep</th>\n",
              "      <td>122</td>\n",
              "    </tr>\n",
              "    <tr>\n",
              "      <th>rome</th>\n",
              "      <td>94</td>\n",
              "    </tr>\n",
              "    <tr>\n",
              "      <th rowspan=\"2\" valign=\"top\">I</th>\n",
              "      <th>onisep</th>\n",
              "      <td>31</td>\n",
              "    </tr>\n",
              "    <tr>\n",
              "      <th>rome</th>\n",
              "      <td>28</td>\n",
              "    </tr>\n",
              "    <tr>\n",
              "      <th rowspan=\"2\" valign=\"top\">J</th>\n",
              "      <th>onisep</th>\n",
              "      <td>38</td>\n",
              "    </tr>\n",
              "    <tr>\n",
              "      <th>rome</th>\n",
              "      <td>32</td>\n",
              "    </tr>\n",
              "    <tr>\n",
              "      <th rowspan=\"2\" valign=\"top\">K</th>\n",
              "      <th>onisep</th>\n",
              "      <td>132</td>\n",
              "    </tr>\n",
              "    <tr>\n",
              "      <th>rome</th>\n",
              "      <td>71</td>\n",
              "    </tr>\n",
              "    <tr>\n",
              "      <th rowspan=\"2\" valign=\"top\">L</th>\n",
              "      <th>onisep</th>\n",
              "      <td>33</td>\n",
              "    </tr>\n",
              "    <tr>\n",
              "      <th>rome</th>\n",
              "      <td>22</td>\n",
              "    </tr>\n",
              "    <tr>\n",
              "      <th rowspan=\"2\" valign=\"top\">M</th>\n",
              "      <th>onisep</th>\n",
              "      <td>78</td>\n",
              "    </tr>\n",
              "    <tr>\n",
              "      <th>rome</th>\n",
              "      <td>44</td>\n",
              "    </tr>\n",
              "    <tr>\n",
              "      <th rowspan=\"2\" valign=\"top\">N</th>\n",
              "      <th>onisep</th>\n",
              "      <td>27</td>\n",
              "    </tr>\n",
              "    <tr>\n",
              "      <th>rome</th>\n",
              "      <td>37</td>\n",
              "    </tr>\n",
              "  </tbody>\n",
              "</table>\n",
              "</div>"
            ],
            "text/plain": [
              "                   rome_code\n",
              "major_code table            \n",
              "A          onisep         44\n",
              "           rome           30\n",
              "B          onisep         21\n",
              "           rome           19\n",
              "C          onisep         19\n",
              "           rome           25\n",
              "D          onisep         35\n",
              "           rome           39\n",
              "E          onisep         43\n",
              "           rome           23\n",
              "F          onisep         58\n",
              "           rome           38\n",
              "G          onisep         34\n",
              "           rome           30\n",
              "H          onisep        122\n",
              "           rome           94\n",
              "I          onisep         31\n",
              "           rome           28\n",
              "J          onisep         38\n",
              "           rome           32\n",
              "K          onisep        132\n",
              "           rome           71\n",
              "L          onisep         33\n",
              "           rome           22\n",
              "M          onisep         78\n",
              "           rome           44\n",
              "N          onisep         27\n",
              "           rome           37"
            ]
          },
          "metadata": {
            "tags": []
          },
          "execution_count": 9
        }
      ]
    },
    {
      "cell_type": "markdown",
      "metadata": {
        "id": "yFii0Rg1Cxt0"
      },
      "source": [
        "# 2 Baseline : SVM on sentence-embeddings"
      ]
    },
    {
      "cell_type": "code",
      "metadata": {
        "colab": {
          "base_uri": "https://localhost:8080/",
          "height": 419
        },
        "id": "-xVqrxRV0w85",
        "outputId": "aa3c3f2f-d500-4e26-8fa7-cdaa8db39d52"
      },
      "source": [
        "# We keep only the relevant columns : we want to predict the major code (grand domaine)\n",
        "# using the description\n",
        "y_variable = \"major_code\"\n",
        "data_baseline = data[[\"description\", y_variable]].copy()\n",
        "data_baseline"
      ],
      "execution_count": null,
      "outputs": [
        {
          "output_type": "execute_result",
          "data": {
            "text/html": [
              "<div>\n",
              "<style scoped>\n",
              "    .dataframe tbody tr th:only-of-type {\n",
              "        vertical-align: middle;\n",
              "    }\n",
              "\n",
              "    .dataframe tbody tr th {\n",
              "        vertical-align: top;\n",
              "    }\n",
              "\n",
              "    .dataframe thead th {\n",
              "        text-align: right;\n",
              "    }\n",
              "</style>\n",
              "<table border=\"1\" class=\"dataframe\">\n",
              "  <thead>\n",
              "    <tr style=\"text-align: right;\">\n",
              "      <th></th>\n",
              "      <th>description</th>\n",
              "      <th>major_code</th>\n",
              "    </tr>\n",
              "  </thead>\n",
              "  <tbody>\n",
              "    <tr>\n",
              "      <th>0</th>\n",
              "      <td>Réalise des travaux mécanisés agricoles, sylvi...</td>\n",
              "      <td>A</td>\n",
              "    </tr>\n",
              "    <tr>\n",
              "      <th>1</th>\n",
              "      <td>Tracteur, moissonneuse-batteuse, ensileuse, ép...</td>\n",
              "      <td>A</td>\n",
              "    </tr>\n",
              "    <tr>\n",
              "      <th>2</th>\n",
              "      <td>Depuis la cabine de sa machine, le conducteur ...</td>\n",
              "      <td>A</td>\n",
              "    </tr>\n",
              "    <tr>\n",
              "      <th>3</th>\n",
              "      <td>Réalise des opérations de coupe et d''entretie...</td>\n",
              "      <td>A</td>\n",
              "    </tr>\n",
              "    <tr>\n",
              "      <th>4</th>\n",
              "      <td>Avec ses cordes de rappel, son harnais, ses mo...</td>\n",
              "      <td>A</td>\n",
              "    </tr>\n",
              "    <tr>\n",
              "      <th>...</th>\n",
              "      <td>...</td>\n",
              "      <td>...</td>\n",
              "    </tr>\n",
              "    <tr>\n",
              "      <th>1242</th>\n",
              "      <td>Surveille et coordonne les mouvements des trai...</td>\n",
              "      <td>N</td>\n",
              "    </tr>\n",
              "    <tr>\n",
              "      <th>1243</th>\n",
              "      <td>Le technicien de la circulation ferroviaire SN...</td>\n",
              "      <td>N</td>\n",
              "    </tr>\n",
              "    <tr>\n",
              "      <th>1244</th>\n",
              "      <td>Réalise des opérations de mise en fonction, de...</td>\n",
              "      <td>N</td>\n",
              "    </tr>\n",
              "    <tr>\n",
              "      <th>1245</th>\n",
              "      <td>Sur les pistes de ski, une panne d'une télécab...</td>\n",
              "      <td>N</td>\n",
              "    </tr>\n",
              "    <tr>\n",
              "      <th>1246</th>\n",
              "      <td>Réalise des opérations de formation de trains ...</td>\n",
              "      <td>N</td>\n",
              "    </tr>\n",
              "  </tbody>\n",
              "</table>\n",
              "<p>1247 rows × 2 columns</p>\n",
              "</div>"
            ],
            "text/plain": [
              "                                            description major_code\n",
              "0     Réalise des travaux mécanisés agricoles, sylvi...          A\n",
              "1     Tracteur, moissonneuse-batteuse, ensileuse, ép...          A\n",
              "2     Depuis la cabine de sa machine, le conducteur ...          A\n",
              "3     Réalise des opérations de coupe et d''entretie...          A\n",
              "4     Avec ses cordes de rappel, son harnais, ses mo...          A\n",
              "...                                                 ...        ...\n",
              "1242  Surveille et coordonne les mouvements des trai...          N\n",
              "1243  Le technicien de la circulation ferroviaire SN...          N\n",
              "1244  Réalise des opérations de mise en fonction, de...          N\n",
              "1245  Sur les pistes de ski, une panne d'une télécab...          N\n",
              "1246  Réalise des opérations de formation de trains ...          N\n",
              "\n",
              "[1247 rows x 2 columns]"
            ]
          },
          "metadata": {
            "tags": []
          },
          "execution_count": 9
        }
      ]
    },
    {
      "cell_type": "code",
      "metadata": {
        "colab": {
          "base_uri": "https://localhost:8080/"
        },
        "id": "3b02b0EI0w86",
        "outputId": "c66ae238-9810-4cfc-a325-c798bb685291"
      },
      "source": [
        "# we change the grades to 0-numbering because it is the classical way to do to perform the models\n",
        "tag_to_ix = {}\n",
        "i=0\n",
        "for code in data_baseline[y_variable].unique():\n",
        "  tag_to_ix[code]=i\n",
        "  i += 1\n",
        "print(tag_to_ix)\n",
        "data_baseline['label'] = data_baseline[y_variable].replace(tag_to_ix)"
      ],
      "execution_count": null,
      "outputs": [
        {
          "output_type": "stream",
          "text": [
            "{'A': 0, 'B': 1, 'C': 2, 'D': 3, 'E': 4, 'F': 5, 'G': 6, 'H': 7, 'I': 8, 'J': 9, 'K': 10, 'L': 11, 'M': 12, 'N': 13}\n"
          ],
          "name": "stdout"
        }
      ]
    },
    {
      "cell_type": "code",
      "metadata": {
        "id": "n_nDgNbx0w86"
      },
      "source": [
        "# we tokenize using tweetTokenizer because the descriptions are quite short\n",
        "tokenizer = TweetTokenizer()\n",
        "def tokenize (text):\n",
        "  tokens = tokenizer.tokenize(text)\n",
        "  tokens = list(map(lambda x: x.lower(), tokens))\n",
        "  return tokens"
      ],
      "execution_count": null,
      "outputs": []
    },
    {
      "cell_type": "code",
      "metadata": {
        "colab": {
          "base_uri": "https://localhost:8080/"
        },
        "id": "tF4fpcmY0w87",
        "outputId": "b5bab2a7-6e1f-490b-dc5c-e18a1aeb52c0"
      },
      "source": [
        "#count  the number of occurences of each word\n",
        "counts = Counter()\n",
        "for index, row in data_baseline.iterrows():\n",
        "    counts.update(tokenize(row['description']))\n",
        "#deleting infrequent words\n",
        "print(\"num_words before:\",len(counts.keys()))\n",
        "for word in list(counts):\n",
        "    if counts[word] < 2:\n",
        "        del counts[word]\n",
        "print(\"num_words after:\",len(counts.keys()))"
      ],
      "execution_count": null,
      "outputs": [
        {
          "output_type": "stream",
          "text": [
            "num_words before: 12834\n",
            "num_words after: 6924\n"
          ],
          "name": "stdout"
        }
      ]
    },
    {
      "cell_type": "markdown",
      "metadata": {
        "id": "olyrs7nT0w87"
      },
      "source": [
        "We lost about 4 000 words! This is expected because our corpus is quite small, the chance of having repeated words is quite small."
      ]
    },
    {
      "cell_type": "code",
      "metadata": {
        "id": "RiQquGpX3_7m"
      },
      "source": [
        "# Create 3 objects\n",
        "## W : embedding_matrix (1 line = 1 token and columns = embedding dimensions)\n",
        "## vocab : vocabulary\n",
        "## vocab_to_idx : dictionnary containing the link between each token and its id\n",
        "def get_emb_matrix(pretrained, word_counts):\n",
        "    \"\"\" Creates embedding matrix from word vectors\"\"\"\n",
        "    emb_size = pretrained.vector_size\n",
        "    vocab_size = len(word_counts) + 2\n",
        "    vocab_to_idx = {}\n",
        "    vocab = [\"\", \"UNK\"]\n",
        "    W = np.zeros((vocab_size, emb_size), dtype=\"float32\")\n",
        "    W[0] = np.zeros(emb_size, dtype='float32') # adding a vector for padding\n",
        "    W[1] = np.random.uniform(-0.25, 0.25, emb_size) # adding a vector for unknown words \n",
        "    vocab_to_idx[\"UNK\"] = 1\n",
        "    i = 2\n",
        "    for word in word_counts:\n",
        "        if word in pretrained.vocab:\n",
        "            W[i] = pretrained[word]\n",
        "        else:\n",
        "            W[i] = np.random.uniform(-0.25,0.25, emb_size)\n",
        "        vocab_to_idx[word] = i\n",
        "        vocab.append(word)\n",
        "        i += 1   \n",
        "    return W, np.array(vocab), vocab_to_idx"
      ],
      "execution_count": null,
      "outputs": []
    },
    {
      "cell_type": "code",
      "metadata": {
        "id": "l5xS3GXW4mxW"
      },
      "source": [
        "pretrained_weights, vocab, vocab2index = get_emb_matrix(w2vecembedding, counts)"
      ],
      "execution_count": null,
      "outputs": []
    },
    {
      "cell_type": "code",
      "metadata": {
        "id": "op0xtnn64vAb"
      },
      "source": [
        "# Encode the sentence (sentence embedding = mean of word-embeddings)\n",
        "def encode_sentence(text,vocab2index,pretrained_weights, emb_size):\n",
        "    tokenized = tokenize(text)\n",
        "    encoded = np.zeros(emb_size)\n",
        "    for w in tokenized:\n",
        "      encoded+= pretrained_weights[vocab2index.get(w, vocab2index[\"UNK\"])]\n",
        "    encoded = encoded/len(tokenized)\n",
        "    return encoded#.tolist()"
      ],
      "execution_count": null,
      "outputs": []
    },
    {
      "cell_type": "code",
      "metadata": {
        "colab": {
          "base_uri": "https://localhost:8080/",
          "height": 289
        },
        "id": "W75-cVSB0w88",
        "outputId": "df154d30-5097-40b4-aa1d-e7db00d69c5c"
      },
      "source": [
        "# we create a new variable with the sentence embedding\n",
        "data_baseline['encoded'] = data_baseline['description'].apply(lambda x: encode_sentence(x,\n",
        "                                                                                vocab2index,\n",
        "                                                                                pretrained_weights,\n",
        "                                                                                w2vecembedding.vector_size))\n",
        "data_baseline.head()"
      ],
      "execution_count": null,
      "outputs": [
        {
          "output_type": "execute_result",
          "data": {
            "text/html": [
              "<div>\n",
              "<style scoped>\n",
              "    .dataframe tbody tr th:only-of-type {\n",
              "        vertical-align: middle;\n",
              "    }\n",
              "\n",
              "    .dataframe tbody tr th {\n",
              "        vertical-align: top;\n",
              "    }\n",
              "\n",
              "    .dataframe thead th {\n",
              "        text-align: right;\n",
              "    }\n",
              "</style>\n",
              "<table border=\"1\" class=\"dataframe\">\n",
              "  <thead>\n",
              "    <tr style=\"text-align: right;\">\n",
              "      <th></th>\n",
              "      <th>description</th>\n",
              "      <th>major_code</th>\n",
              "      <th>label</th>\n",
              "      <th>data_type</th>\n",
              "      <th>encoded</th>\n",
              "    </tr>\n",
              "  </thead>\n",
              "  <tbody>\n",
              "    <tr>\n",
              "      <th>0</th>\n",
              "      <td>Réalise des travaux mécanisés agricoles, sylvi...</td>\n",
              "      <td>A</td>\n",
              "      <td>0</td>\n",
              "      <td>train</td>\n",
              "      <td>[0.09663652949250089, -0.04476875321079905, -0...</td>\n",
              "    </tr>\n",
              "    <tr>\n",
              "      <th>1</th>\n",
              "      <td>Tracteur, moissonneuse-batteuse, ensileuse, ép...</td>\n",
              "      <td>A</td>\n",
              "      <td>0</td>\n",
              "      <td>val</td>\n",
              "      <td>[0.05907555880443449, -0.0845163175245693, -0....</td>\n",
              "    </tr>\n",
              "    <tr>\n",
              "      <th>2</th>\n",
              "      <td>Depuis la cabine de sa machine, le conducteur ...</td>\n",
              "      <td>A</td>\n",
              "      <td>0</td>\n",
              "      <td>val</td>\n",
              "      <td>[0.028769685698055922, -0.09517228087553611, 0...</td>\n",
              "    </tr>\n",
              "    <tr>\n",
              "      <th>3</th>\n",
              "      <td>Réalise des opérations de coupe et d''entretie...</td>\n",
              "      <td>A</td>\n",
              "      <td>0</td>\n",
              "      <td>train</td>\n",
              "      <td>[0.04006790666829182, -0.05334835316502501, -0...</td>\n",
              "    </tr>\n",
              "    <tr>\n",
              "      <th>4</th>\n",
              "      <td>Avec ses cordes de rappel, son harnais, ses mo...</td>\n",
              "      <td>A</td>\n",
              "      <td>0</td>\n",
              "      <td>train</td>\n",
              "      <td>[0.05140384838808901, -0.0791900143940718, -0....</td>\n",
              "    </tr>\n",
              "  </tbody>\n",
              "</table>\n",
              "</div>"
            ],
            "text/plain": [
              "                                         description  ...                                            encoded\n",
              "0  Réalise des travaux mécanisés agricoles, sylvi...  ...  [0.09663652949250089, -0.04476875321079905, -0...\n",
              "1  Tracteur, moissonneuse-batteuse, ensileuse, ép...  ...  [0.05907555880443449, -0.0845163175245693, -0....\n",
              "2  Depuis la cabine de sa machine, le conducteur ...  ...  [0.028769685698055922, -0.09517228087553611, 0...\n",
              "3  Réalise des opérations de coupe et d''entretie...  ...  [0.04006790666829182, -0.05334835316502501, -0...\n",
              "4  Avec ses cordes de rappel, son harnais, ses mo...  ...  [0.05140384838808901, -0.0791900143940718, -0....\n",
              "\n",
              "[5 rows x 5 columns]"
            ]
          },
          "metadata": {
            "tags": []
          },
          "execution_count": 18
        }
      ]
    },
    {
      "cell_type": "code",
      "metadata": {
        "id": "mmiyed6tQp__",
        "colab": {
          "base_uri": "https://localhost:8080/",
          "height": 232
        },
        "outputId": "40da3771-0b65-4a2a-af04-21507e666f7d"
      },
      "source": [
        "# create train 70 %\n",
        "# create test 30 %\n",
        "X_tr, X_val, y_train, y_valid = train_test_split(data_baseline.index.values, \n",
        "                                                  data_baseline.label.values, \n",
        "                                                  test_size=0.3, \n",
        "                                                  random_state=seed_val, \n",
        "                                                  stratify=data_baseline.label.values)\n",
        "data_baseline['data_type'] = 'not_set'\n",
        "data_baseline.loc[X_tr, 'data_type'] = 'train'\n",
        "data_baseline.loc[X_val, 'data_type'] = 'val'\n",
        "X_train = list(data_baseline.loc[X_tr,'encoded'])\n",
        "X_valid = list(data_baseline.loc[X_val,'encoded'])\n",
        "# To see the split between train and validation among all the label\n",
        "data_baseline.groupby(['major_code', 'data_type']).count()"
      ],
      "execution_count": 1,
      "outputs": [
        {
          "output_type": "error",
          "ename": "NameError",
          "evalue": "ignored",
          "traceback": [
            "\u001b[0;31m---------------------------------------------------------------------------\u001b[0m",
            "\u001b[0;31mNameError\u001b[0m                                 Traceback (most recent call last)",
            "\u001b[0;32m<ipython-input-1-3c196ed5bff1>\u001b[0m in \u001b[0;36m<module>\u001b[0;34m()\u001b[0m\n\u001b[1;32m      1\u001b[0m \u001b[0;31m# create train 70 %\u001b[0m\u001b[0;34m\u001b[0m\u001b[0;34m\u001b[0m\u001b[0;34m\u001b[0m\u001b[0m\n\u001b[1;32m      2\u001b[0m \u001b[0;31m# create test 30 %\u001b[0m\u001b[0;34m\u001b[0m\u001b[0;34m\u001b[0m\u001b[0;34m\u001b[0m\u001b[0m\n\u001b[0;32m----> 3\u001b[0;31m X_tr, X_val, y_train, y_valid = train_test_split(data_baseline.index.values, \n\u001b[0m\u001b[1;32m      4\u001b[0m                                                   \u001b[0mdata_baseline\u001b[0m\u001b[0;34m.\u001b[0m\u001b[0mlabel\u001b[0m\u001b[0;34m.\u001b[0m\u001b[0mvalues\u001b[0m\u001b[0;34m,\u001b[0m\u001b[0;34m\u001b[0m\u001b[0;34m\u001b[0m\u001b[0m\n\u001b[1;32m      5\u001b[0m                                                   \u001b[0mtest_size\u001b[0m\u001b[0;34m=\u001b[0m\u001b[0;36m0.3\u001b[0m\u001b[0;34m,\u001b[0m\u001b[0;34m\u001b[0m\u001b[0;34m\u001b[0m\u001b[0m\n",
            "\u001b[0;31mNameError\u001b[0m: name 'train_test_split' is not defined"
          ]
        }
      ]
    },
    {
      "cell_type": "code",
      "metadata": {
        "colab": {
          "base_uri": "https://localhost:8080/"
        },
        "id": "ubLvNI287T0i",
        "outputId": "42caeec4-53bd-46fe-ff0a-bc28b99140a6"
      },
      "source": [
        "# we reshape the data as a big array\n",
        "X_train_cv = np.vstack(np.array(X_train))\n",
        "print(X_train_cv.shape)\n",
        "X_val_cv = np.vstack(np.array(X_valid))\n",
        "X_val_cv.shape"
      ],
      "execution_count": null,
      "outputs": [
        {
          "output_type": "stream",
          "text": [
            "(872, 200)\n"
          ],
          "name": "stdout"
        },
        {
          "output_type": "execute_result",
          "data": {
            "text/plain": [
              "(375, 200)"
            ]
          },
          "metadata": {
            "tags": []
          },
          "execution_count": 23
        }
      ]
    },
    {
      "cell_type": "markdown",
      "metadata": {
        "id": "lceYgstu7T0i"
      },
      "source": [
        "We do a binarization of labels : instead of a number from 0 to 13 we will have a dummy variable of the number associated to a label\n",
        "\n",
        "https://scikit-learn.org/stable/modules/generated/sklearn.preprocessing.LabelBinarizer.html"
      ]
    },
    {
      "cell_type": "code",
      "metadata": {
        "colab": {
          "base_uri": "https://localhost:8080/"
        },
        "id": "YTht8lWu7T0j",
        "outputId": "07b7b330-b548-4e5c-ab05-1aee206294e9"
      },
      "source": [
        "lb = preprocessing.LabelBinarizer()\n",
        "lb_trained = lb.fit(y_train)\n",
        "y_train_lb = lb_trained.transform(y_train)\n",
        "y_valid_lb = lb_trained.transform(y_valid)\n",
        "print(y_train_lb.shape, y_valid_lb.shape)"
      ],
      "execution_count": null,
      "outputs": [
        {
          "output_type": "stream",
          "text": [
            "(872, 14) (375, 14)\n"
          ],
          "name": "stdout"
        }
      ]
    },
    {
      "cell_type": "code",
      "metadata": {
        "id": "xznRdfDM7T0j"
      },
      "source": [
        "# SVM model\n",
        "svc = LinearSVC(verbose=1, random_state=42)\n",
        "clf_svm = OneVsRestClassifier(svc, n_jobs=-1 ).fit(X_train_cv, y_train_lb)"
      ],
      "execution_count": null,
      "outputs": []
    },
    {
      "cell_type": "code",
      "metadata": {
        "colab": {
          "base_uri": "https://localhost:8080/"
        },
        "id": "MXbVxa5q7T0j",
        "outputId": "79760a86-478d-4b73-e475-f145ba1b7a2e"
      },
      "source": [
        "# We get the prediction\n",
        "y_pred_svm = clf_svm.predict(X_val_cv)\n",
        "print(y_pred_svm.shape)\n",
        "y_score_svm = clf_svm.decision_function(X_val_cv)"
      ],
      "execution_count": null,
      "outputs": [
        {
          "output_type": "stream",
          "text": [
            "(375, 14)\n"
          ],
          "name": "stdout"
        }
      ]
    },
    {
      "cell_type": "code",
      "metadata": {
        "id": "oZCXVQ6l-jfC"
      },
      "source": [
        "# List to go from the number associated to a label to the label\n",
        "key_list = list(tag_to_ix.keys())\n",
        "val_list = list(tag_to_ix.values())"
      ],
      "execution_count": null,
      "outputs": []
    },
    {
      "cell_type": "code",
      "metadata": {
        "id": "9RWhTHcM7T0k"
      },
      "source": [
        "def show_eval(y_true, y_pred, lb_trained, clf):\n",
        "  ''' \n",
        "  Show eval metrics.  Takes binarized y true and pred along with trained binarizer for label names\n",
        "  '''\n",
        "  y_true_names = lb_trained.inverse_transform(y_true)\n",
        "  y_pred_names = lb_trained.inverse_transform(y_pred)\n",
        "  y_pred_names = [key_list[val_list.index(i)] for i in y_pred_names]\n",
        "  y_true_names = [key_list[val_list.index(i)] for i in y_true_names]\n",
        "  print( classification_report(y_true_names, y_pred_names) )\n",
        "  labels = list(tag_to_ix.keys())\n",
        "  cm = confusion_matrix(y_true_names, y_pred_names , labels = key_list) \n",
        "  \n",
        "  df_cm = pd.DataFrame(cm, index=labels, columns=labels)\n",
        "  # config plot sizes\n",
        "  sn.set(font_scale=1.2)\n",
        "  sn.heatmap(df_cm, annot=True, annot_kws={\"size\": 18}, cmap='coolwarm', linewidth=0.5, fmt=\"\")\n",
        "  plt.tick_params(axis='both', which='major', labelsize=10, labelbottom = False, bottom=False, top = False, labeltop=True)\n",
        "  plt.show()"
      ],
      "execution_count": null,
      "outputs": []
    },
    {
      "cell_type": "code",
      "metadata": {
        "colab": {
          "base_uri": "https://localhost:8080/",
          "height": 633
        },
        "id": "NMBPZ1AY7T0k",
        "outputId": "98e8c858-72ce-47f1-fd4f-a2afb3c1811f"
      },
      "source": [
        "show_eval(y_valid_lb, y_pred_svm, lb_trained, clf_svm)"
      ],
      "execution_count": null,
      "outputs": [
        {
          "output_type": "stream",
          "text": [
            "              precision    recall  f1-score   support\n",
            "\n",
            "           A       0.10      1.00      0.18        22\n",
            "           B       1.00      0.17      0.29        12\n",
            "           C       1.00      0.08      0.14        13\n",
            "           D       1.00      0.32      0.48        22\n",
            "           E       1.00      0.15      0.26        20\n",
            "           F       0.90      0.31      0.46        29\n",
            "           G       1.00      0.32      0.48        19\n",
            "           H       0.84      0.55      0.67        65\n",
            "           I       0.80      0.22      0.35        18\n",
            "           J       1.00      0.76      0.86        21\n",
            "           K       0.97      0.49      0.65        61\n",
            "           L       1.00      0.59      0.74        17\n",
            "           M       1.00      0.30      0.46        37\n",
            "           N       1.00      0.58      0.73        19\n",
            "\n",
            "    accuracy                           0.45       375\n",
            "   macro avg       0.90      0.42      0.48       375\n",
            "weighted avg       0.90      0.45      0.53       375\n",
            "\n"
          ],
          "name": "stdout"
        },
        {
          "output_type": "display_data",
          "data": {
            "image/png": "[encoded data removed]",
            "text/plain": [
              "<Figure size 432x288 with 2 Axes>"
            ]
          },
          "metadata": {
            "tags": []
          }
        }
      ]
    },
    {
      "cell_type": "markdown",
      "metadata": {
        "id": "L5XkLK_TzoFv"
      },
      "source": [
        "# 3 LSTM\n",
        "\n",
        "article : https://towardsdatascience.com/multiclass-text-classification-using-lstm-in-pytorch-eac56baed8df\n",
        "\n",
        "code : https://jovian.ai/aakanksha-ns/lstm-multiclass-text-classification\n",
        "\n",
        "pour bien comprendre les paramètes de nn.embedding : https://discuss.pytorch.org/t/how-should-i-understand-the-num-embeddings-and-embedding-dim-arguments-for-nn-embedding/60442/3\n",
        "\n",
        "À réfléchir :\n",
        "\n",
        "- changer le tokenizer ? Pas forcément, tester en enlevant les mots peu fréquents ou non\n",
        "\n",
        "- choix des paramètres, notamment dimension, tester\n",
        "\n",
        "- qualité de la prévision sur quelques phrases, également à faire sur Bert\n",
        "\n",
        "- Remplacer output accuracy par F1 weighted\n"
      ]
    },
    {
      "cell_type": "code",
      "metadata": {
        "colab": {
          "base_uri": "https://localhost:8080/",
          "height": 419
        },
        "id": "kGIgPZwNf8VF",
        "outputId": "ee586bde-02eb-436c-db28-a3844afded19"
      },
      "source": [
        "# We keep only the relevant columns : we want to predict the major code (grand domaine)\n",
        "# using the description\n",
        "y_variable = \"major_code\"\n",
        "data_lstm = data[[\"description\", y_variable]].copy()\n",
        "data_lstm"
      ],
      "execution_count": 10,
      "outputs": [
        {
          "output_type": "execute_result",
          "data": {
            "text/html": [
              "<div>\n",
              "<style scoped>\n",
              "    .dataframe tbody tr th:only-of-type {\n",
              "        vertical-align: middle;\n",
              "    }\n",
              "\n",
              "    .dataframe tbody tr th {\n",
              "        vertical-align: top;\n",
              "    }\n",
              "\n",
              "    .dataframe thead th {\n",
              "        text-align: right;\n",
              "    }\n",
              "</style>\n",
              "<table border=\"1\" class=\"dataframe\">\n",
              "  <thead>\n",
              "    <tr style=\"text-align: right;\">\n",
              "      <th></th>\n",
              "      <th>description</th>\n",
              "      <th>major_code</th>\n",
              "    </tr>\n",
              "  </thead>\n",
              "  <tbody>\n",
              "    <tr>\n",
              "      <th>0</th>\n",
              "      <td>Réalise des travaux mécanisés agricoles, sylvi...</td>\n",
              "      <td>A</td>\n",
              "    </tr>\n",
              "    <tr>\n",
              "      <th>1</th>\n",
              "      <td>Tracteur, moissonneuse-batteuse, ensileuse, ép...</td>\n",
              "      <td>A</td>\n",
              "    </tr>\n",
              "    <tr>\n",
              "      <th>2</th>\n",
              "      <td>Depuis la cabine de sa machine, le conducteur ...</td>\n",
              "      <td>A</td>\n",
              "    </tr>\n",
              "    <tr>\n",
              "      <th>3</th>\n",
              "      <td>Réalise des opérations de coupe et d''entretie...</td>\n",
              "      <td>A</td>\n",
              "    </tr>\n",
              "    <tr>\n",
              "      <th>4</th>\n",
              "      <td>Avec ses cordes de rappel, son harnais, ses mo...</td>\n",
              "      <td>A</td>\n",
              "    </tr>\n",
              "    <tr>\n",
              "      <th>...</th>\n",
              "      <td>...</td>\n",
              "      <td>...</td>\n",
              "    </tr>\n",
              "    <tr>\n",
              "      <th>1242</th>\n",
              "      <td>Surveille et coordonne les mouvements des trai...</td>\n",
              "      <td>N</td>\n",
              "    </tr>\n",
              "    <tr>\n",
              "      <th>1243</th>\n",
              "      <td>Le technicien de la circulation ferroviaire SN...</td>\n",
              "      <td>N</td>\n",
              "    </tr>\n",
              "    <tr>\n",
              "      <th>1244</th>\n",
              "      <td>Réalise des opérations de mise en fonction, de...</td>\n",
              "      <td>N</td>\n",
              "    </tr>\n",
              "    <tr>\n",
              "      <th>1245</th>\n",
              "      <td>Sur les pistes de ski, une panne d'une télécab...</td>\n",
              "      <td>N</td>\n",
              "    </tr>\n",
              "    <tr>\n",
              "      <th>1246</th>\n",
              "      <td>Réalise des opérations de formation de trains ...</td>\n",
              "      <td>N</td>\n",
              "    </tr>\n",
              "  </tbody>\n",
              "</table>\n",
              "<p>1247 rows × 2 columns</p>\n",
              "</div>"
            ],
            "text/plain": [
              "                                            description major_code\n",
              "0     Réalise des travaux mécanisés agricoles, sylvi...          A\n",
              "1     Tracteur, moissonneuse-batteuse, ensileuse, ép...          A\n",
              "2     Depuis la cabine de sa machine, le conducteur ...          A\n",
              "3     Réalise des opérations de coupe et d''entretie...          A\n",
              "4     Avec ses cordes de rappel, son harnais, ses mo...          A\n",
              "...                                                 ...        ...\n",
              "1242  Surveille et coordonne les mouvements des trai...          N\n",
              "1243  Le technicien de la circulation ferroviaire SN...          N\n",
              "1244  Réalise des opérations de mise en fonction, de...          N\n",
              "1245  Sur les pistes de ski, une panne d'une télécab...          N\n",
              "1246  Réalise des opérations de formation de trains ...          N\n",
              "\n",
              "[1247 rows x 2 columns]"
            ]
          },
          "metadata": {
            "tags": []
          },
          "execution_count": 10
        }
      ]
    },
    {
      "cell_type": "code",
      "metadata": {
        "colab": {
          "base_uri": "https://localhost:8080/"
        },
        "id": "kb51HnpghuT1",
        "outputId": "848c474f-2dd3-42f6-bea9-897c6ca8106b"
      },
      "source": [
        "# we change the grades to 0-numbering because it is the classical way to do to perform the models\n",
        "tag_to_ix = {}\n",
        "i=0\n",
        "for code in data_lstm[y_variable].unique():\n",
        "  tag_to_ix[code]=i\n",
        "  i += 1\n",
        "print(tag_to_ix)\n",
        "data_lstm['label'] = data_lstm[y_variable].replace(tag_to_ix)"
      ],
      "execution_count": 11,
      "outputs": [
        {
          "output_type": "stream",
          "text": [
            "{'A': 0, 'B': 1, 'C': 2, 'D': 3, 'E': 4, 'F': 5, 'G': 6, 'H': 7, 'I': 8, 'J': 9, 'K': 10, 'L': 11, 'M': 12, 'N': 13}\n"
          ],
          "name": "stdout"
        }
      ]
    },
    {
      "cell_type": "code",
      "metadata": {
        "id": "Pn5CRkdZi6cH"
      },
      "source": [
        "# we tokenize using tweetTokenizer because the descriptions are quite short\n",
        "#tokenizer = TreebankWordTokenizer()\n",
        "tokenizer = TweetTokenizer()\n",
        "\n",
        "def tokenize (text):\n",
        "  tokens = tokenizer.tokenize(text)\n",
        "  tokens = list(map(lambda x: x.lower(), tokens))\n",
        "  return tokens"
      ],
      "execution_count": 12,
      "outputs": []
    },
    {
      "cell_type": "code",
      "metadata": {
        "colab": {
          "base_uri": "https://localhost:8080/"
        },
        "id": "vj_6WMs7jHLq",
        "outputId": "807e4a99-35ac-44a7-d493-32dd27e41ee0"
      },
      "source": [
        "#count number of occurences of each word\n",
        "counts = Counter()\n",
        "for index, row in data_lstm.iterrows():\n",
        "    counts.update(tokenize(row['description']))\n",
        "#deleting infrequent words\n",
        "print(\"num_words before:\",len(counts.keys()))\n",
        "for word in list(counts):\n",
        "    if counts[word] < 2:\n",
        "        del counts[word]\n",
        "print(\"num_words after:\",len(counts.keys()))"
      ],
      "execution_count": 13,
      "outputs": [
        {
          "output_type": "stream",
          "text": [
            "num_words before: 12834\n",
            "num_words after: 6924\n"
          ],
          "name": "stdout"
        }
      ]
    },
    {
      "cell_type": "markdown",
      "metadata": {
        "id": "ctS9iqdHnz5i"
      },
      "source": [
        "We lost about 4 000 words! This is expected because our corpus is quite small, the chance of having repeated words is quite small.\n",
        "We then create a vocabulary to index mapping and encode our description text using this mapping. We choose the maximum length of any description to be 130 words (function `encode_sentence`) because the average length of description was around 107: putting this value too high dramatically increases the computational time and deteriorate the quality of the models."
      ]
    },
    {
      "cell_type": "code",
      "metadata": {
        "colab": {
          "base_uri": "https://localhost:8080/"
        },
        "id": "Mn4NO8ABHlM_",
        "outputId": "f816800b-4174-456e-ebeb-30cab7268ca8"
      },
      "source": [
        "len_description = data_lstm.description.apply(lambda x: len(tokenize(x)))\n",
        "print(\"mean:\",np.mean(len_description))\n",
        "np.quantile(len_description,q=[0,0.25,0.5,0.75,1])"
      ],
      "execution_count": 14,
      "outputs": [
        {
          "output_type": "stream",
          "text": [
            "mean: 126.00481154771451\n"
          ],
          "name": "stdout"
        },
        {
          "output_type": "execute_result",
          "data": {
            "text/plain": [
              "array([ 23.,  69., 127., 177., 346.])"
            ]
          },
          "metadata": {
            "tags": []
          },
          "execution_count": 14
        }
      ]
    },
    {
      "cell_type": "code",
      "metadata": {
        "id": "brMn9xfBkrKD"
      },
      "source": [
        "#creating vocabulary\n",
        "vocab2index = {\"\":0, \"UNK\":1}\n",
        "words = [\"\", \"UNK\"]\n",
        "for word in counts:\n",
        "    vocab2index[word] = len(words)\n",
        "    words.append(word)"
      ],
      "execution_count": 15,
      "outputs": []
    },
    {
      "cell_type": "code",
      "metadata": {
        "id": "LZJecSzvk1Cd"
      },
      "source": [
        "# Encode the sentence (sentence embedding = mean of word-embeddings)\n",
        "def encode_sentence(text, vocab2index, N=130):\n",
        "    tokenized = tokenize(text)\n",
        "    encoded = np.zeros(N, dtype=int)\n",
        "    enc1 = np.array([vocab2index.get(word, vocab2index[\"UNK\"]) for word in tokenized])\n",
        "    length = min(N, len(enc1))\n",
        "    encoded[:length] = enc1[:length]\n",
        "    return encoded, length"
      ],
      "execution_count": 16,
      "outputs": []
    },
    {
      "cell_type": "code",
      "metadata": {
        "colab": {
          "base_uri": "https://localhost:8080/",
          "height": 204
        },
        "id": "qGZfuN3Vk5iL",
        "outputId": "fa2d5354-8ae8-45a3-dc4b-ad292ffdfc94"
      },
      "source": [
        "# we create an encoding for each sentence that contains the index of the first N words of the sentence\n",
        "data_lstm['encoded'] = data_lstm['description'].apply(lambda x: np.array(encode_sentence(x,vocab2index ),dtype=object))\n",
        "data_lstm.head()"
      ],
      "execution_count": 17,
      "outputs": [
        {
          "output_type": "execute_result",
          "data": {
            "text/html": [
              "<div>\n",
              "<style scoped>\n",
              "    .dataframe tbody tr th:only-of-type {\n",
              "        vertical-align: middle;\n",
              "    }\n",
              "\n",
              "    .dataframe tbody tr th {\n",
              "        vertical-align: top;\n",
              "    }\n",
              "\n",
              "    .dataframe thead th {\n",
              "        text-align: right;\n",
              "    }\n",
              "</style>\n",
              "<table border=\"1\" class=\"dataframe\">\n",
              "  <thead>\n",
              "    <tr style=\"text-align: right;\">\n",
              "      <th></th>\n",
              "      <th>description</th>\n",
              "      <th>major_code</th>\n",
              "      <th>label</th>\n",
              "      <th>encoded</th>\n",
              "    </tr>\n",
              "  </thead>\n",
              "  <tbody>\n",
              "    <tr>\n",
              "      <th>0</th>\n",
              "      <td>Réalise des travaux mécanisés agricoles, sylvi...</td>\n",
              "      <td>A</td>\n",
              "      <td>0</td>\n",
              "      <td>[[2, 3, 4, 5, 6, 7, 8, 9, 10, 11, 12, 3, 13, 7...</td>\n",
              "    </tr>\n",
              "    <tr>\n",
              "      <th>1</th>\n",
              "      <td>Tracteur, moissonneuse-batteuse, ensileuse, ép...</td>\n",
              "      <td>A</td>\n",
              "      <td>0</td>\n",
              "      <td>[[38, 7, 39, 7, 1, 7, 1, 1, 7, 40, 41, 42, 43,...</td>\n",
              "    </tr>\n",
              "    <tr>\n",
              "      <th>2</th>\n",
              "      <td>Depuis la cabine de sa machine, le conducteur ...</td>\n",
              "      <td>A</td>\n",
              "      <td>0</td>\n",
              "      <td>[[105, 27, 106, 23, 107, 108, 7, 42, 43, 109, ...</td>\n",
              "    </tr>\n",
              "    <tr>\n",
              "      <th>3</th>\n",
              "      <td>Réalise des opérations de coupe et d''entretie...</td>\n",
              "      <td>A</td>\n",
              "      <td>0</td>\n",
              "      <td>[[2, 3, 172, 23, 110, 34, 173, 17, 11, 16, 7, ...</td>\n",
              "    </tr>\n",
              "    <tr>\n",
              "      <th>4</th>\n",
              "      <td>Avec ses cordes de rappel, son harnais, ses mo...</td>\n",
              "      <td>A</td>\n",
              "      <td>0</td>\n",
              "      <td>[[142, 158, 193, 23, 1, 7, 134, 194, 7, 158, 1...</td>\n",
              "    </tr>\n",
              "  </tbody>\n",
              "</table>\n",
              "</div>"
            ],
            "text/plain": [
              "                                         description  ...                                            encoded\n",
              "0  Réalise des travaux mécanisés agricoles, sylvi...  ...  [[2, 3, 4, 5, 6, 7, 8, 9, 10, 11, 12, 3, 13, 7...\n",
              "1  Tracteur, moissonneuse-batteuse, ensileuse, ép...  ...  [[38, 7, 39, 7, 1, 7, 1, 1, 7, 40, 41, 42, 43,...\n",
              "2  Depuis la cabine de sa machine, le conducteur ...  ...  [[105, 27, 106, 23, 107, 108, 7, 42, 43, 109, ...\n",
              "3  Réalise des opérations de coupe et d''entretie...  ...  [[2, 3, 172, 23, 110, 34, 173, 17, 11, 16, 7, ...\n",
              "4  Avec ses cordes de rappel, son harnais, ses mo...  ...  [[142, 158, 193, 23, 1, 7, 134, 194, 7, 158, 1...\n",
              "\n",
              "[5 rows x 4 columns]"
            ]
          },
          "metadata": {
            "tags": []
          },
          "execution_count": 17
        }
      ]
    },
    {
      "cell_type": "code",
      "metadata": {
        "colab": {
          "base_uri": "https://localhost:8080/",
          "height": 948
        },
        "id": "zHDBSMwyK_oy",
        "outputId": "237b5c3f-8497-4f72-a9ff-c14e46679808"
      },
      "source": [
        "# create train 70 %\n",
        "# create test 30 %\n",
        "X_tr, X_val, y_train, y_valid = train_test_split(data_lstm.index.values, \n",
        "                                                  data_lstm.label.values, \n",
        "                                                  test_size=0.3, \n",
        "                                                  random_state=seed_val, \n",
        "                                                  stratify=data_lstm.label.values)\n",
        "\n",
        "data_lstm['data_type'] = 'not_set'\n",
        "data_lstm.loc[X_tr, 'data_type'] = 'train'\n",
        "data_lstm.loc[X_val, 'data_type'] = 'val'\n",
        "X_train = list(data_lstm.loc[X_tr,'encoded'])\n",
        "X_valid = list(data_lstm.loc[X_val,'encoded'])\n",
        "data_lstm.groupby(['major_code', 'label', 'data_type']).count()"
      ],
      "execution_count": 18,
      "outputs": [
        {
          "output_type": "execute_result",
          "data": {
            "text/html": [
              "<div>\n",
              "<style scoped>\n",
              "    .dataframe tbody tr th:only-of-type {\n",
              "        vertical-align: middle;\n",
              "    }\n",
              "\n",
              "    .dataframe tbody tr th {\n",
              "        vertical-align: top;\n",
              "    }\n",
              "\n",
              "    .dataframe thead th {\n",
              "        text-align: right;\n",
              "    }\n",
              "</style>\n",
              "<table border=\"1\" class=\"dataframe\">\n",
              "  <thead>\n",
              "    <tr style=\"text-align: right;\">\n",
              "      <th></th>\n",
              "      <th></th>\n",
              "      <th></th>\n",
              "      <th>description</th>\n",
              "      <th>encoded</th>\n",
              "    </tr>\n",
              "    <tr>\n",
              "      <th>major_code</th>\n",
              "      <th>label</th>\n",
              "      <th>data_type</th>\n",
              "      <th></th>\n",
              "      <th></th>\n",
              "    </tr>\n",
              "  </thead>\n",
              "  <tbody>\n",
              "    <tr>\n",
              "      <th rowspan=\"2\" valign=\"top\">A</th>\n",
              "      <th rowspan=\"2\" valign=\"top\">0</th>\n",
              "      <th>train</th>\n",
              "      <td>52</td>\n",
              "      <td>52</td>\n",
              "    </tr>\n",
              "    <tr>\n",
              "      <th>val</th>\n",
              "      <td>22</td>\n",
              "      <td>22</td>\n",
              "    </tr>\n",
              "    <tr>\n",
              "      <th rowspan=\"2\" valign=\"top\">B</th>\n",
              "      <th rowspan=\"2\" valign=\"top\">1</th>\n",
              "      <th>train</th>\n",
              "      <td>28</td>\n",
              "      <td>28</td>\n",
              "    </tr>\n",
              "    <tr>\n",
              "      <th>val</th>\n",
              "      <td>12</td>\n",
              "      <td>12</td>\n",
              "    </tr>\n",
              "    <tr>\n",
              "      <th rowspan=\"2\" valign=\"top\">C</th>\n",
              "      <th rowspan=\"2\" valign=\"top\">2</th>\n",
              "      <th>train</th>\n",
              "      <td>31</td>\n",
              "      <td>31</td>\n",
              "    </tr>\n",
              "    <tr>\n",
              "      <th>val</th>\n",
              "      <td>13</td>\n",
              "      <td>13</td>\n",
              "    </tr>\n",
              "    <tr>\n",
              "      <th rowspan=\"2\" valign=\"top\">D</th>\n",
              "      <th rowspan=\"2\" valign=\"top\">3</th>\n",
              "      <th>train</th>\n",
              "      <td>52</td>\n",
              "      <td>52</td>\n",
              "    </tr>\n",
              "    <tr>\n",
              "      <th>val</th>\n",
              "      <td>22</td>\n",
              "      <td>22</td>\n",
              "    </tr>\n",
              "    <tr>\n",
              "      <th rowspan=\"2\" valign=\"top\">E</th>\n",
              "      <th rowspan=\"2\" valign=\"top\">4</th>\n",
              "      <th>train</th>\n",
              "      <td>46</td>\n",
              "      <td>46</td>\n",
              "    </tr>\n",
              "    <tr>\n",
              "      <th>val</th>\n",
              "      <td>20</td>\n",
              "      <td>20</td>\n",
              "    </tr>\n",
              "    <tr>\n",
              "      <th rowspan=\"2\" valign=\"top\">F</th>\n",
              "      <th rowspan=\"2\" valign=\"top\">5</th>\n",
              "      <th>train</th>\n",
              "      <td>67</td>\n",
              "      <td>67</td>\n",
              "    </tr>\n",
              "    <tr>\n",
              "      <th>val</th>\n",
              "      <td>29</td>\n",
              "      <td>29</td>\n",
              "    </tr>\n",
              "    <tr>\n",
              "      <th rowspan=\"2\" valign=\"top\">G</th>\n",
              "      <th rowspan=\"2\" valign=\"top\">6</th>\n",
              "      <th>train</th>\n",
              "      <td>45</td>\n",
              "      <td>45</td>\n",
              "    </tr>\n",
              "    <tr>\n",
              "      <th>val</th>\n",
              "      <td>19</td>\n",
              "      <td>19</td>\n",
              "    </tr>\n",
              "    <tr>\n",
              "      <th rowspan=\"2\" valign=\"top\">H</th>\n",
              "      <th rowspan=\"2\" valign=\"top\">7</th>\n",
              "      <th>train</th>\n",
              "      <td>151</td>\n",
              "      <td>151</td>\n",
              "    </tr>\n",
              "    <tr>\n",
              "      <th>val</th>\n",
              "      <td>65</td>\n",
              "      <td>65</td>\n",
              "    </tr>\n",
              "    <tr>\n",
              "      <th rowspan=\"2\" valign=\"top\">I</th>\n",
              "      <th rowspan=\"2\" valign=\"top\">8</th>\n",
              "      <th>train</th>\n",
              "      <td>41</td>\n",
              "      <td>41</td>\n",
              "    </tr>\n",
              "    <tr>\n",
              "      <th>val</th>\n",
              "      <td>18</td>\n",
              "      <td>18</td>\n",
              "    </tr>\n",
              "    <tr>\n",
              "      <th rowspan=\"2\" valign=\"top\">J</th>\n",
              "      <th rowspan=\"2\" valign=\"top\">9</th>\n",
              "      <th>train</th>\n",
              "      <td>49</td>\n",
              "      <td>49</td>\n",
              "    </tr>\n",
              "    <tr>\n",
              "      <th>val</th>\n",
              "      <td>21</td>\n",
              "      <td>21</td>\n",
              "    </tr>\n",
              "    <tr>\n",
              "      <th rowspan=\"2\" valign=\"top\">K</th>\n",
              "      <th rowspan=\"2\" valign=\"top\">10</th>\n",
              "      <th>train</th>\n",
              "      <td>142</td>\n",
              "      <td>142</td>\n",
              "    </tr>\n",
              "    <tr>\n",
              "      <th>val</th>\n",
              "      <td>61</td>\n",
              "      <td>61</td>\n",
              "    </tr>\n",
              "    <tr>\n",
              "      <th rowspan=\"2\" valign=\"top\">L</th>\n",
              "      <th rowspan=\"2\" valign=\"top\">11</th>\n",
              "      <th>train</th>\n",
              "      <td>38</td>\n",
              "      <td>38</td>\n",
              "    </tr>\n",
              "    <tr>\n",
              "      <th>val</th>\n",
              "      <td>17</td>\n",
              "      <td>17</td>\n",
              "    </tr>\n",
              "    <tr>\n",
              "      <th rowspan=\"2\" valign=\"top\">M</th>\n",
              "      <th rowspan=\"2\" valign=\"top\">12</th>\n",
              "      <th>train</th>\n",
              "      <td>85</td>\n",
              "      <td>85</td>\n",
              "    </tr>\n",
              "    <tr>\n",
              "      <th>val</th>\n",
              "      <td>37</td>\n",
              "      <td>37</td>\n",
              "    </tr>\n",
              "    <tr>\n",
              "      <th rowspan=\"2\" valign=\"top\">N</th>\n",
              "      <th rowspan=\"2\" valign=\"top\">13</th>\n",
              "      <th>train</th>\n",
              "      <td>45</td>\n",
              "      <td>45</td>\n",
              "    </tr>\n",
              "    <tr>\n",
              "      <th>val</th>\n",
              "      <td>19</td>\n",
              "      <td>19</td>\n",
              "    </tr>\n",
              "  </tbody>\n",
              "</table>\n",
              "</div>"
            ],
            "text/plain": [
              "                            description  encoded\n",
              "major_code label data_type                      \n",
              "A          0     train               52       52\n",
              "                 val                 22       22\n",
              "B          1     train               28       28\n",
              "                 val                 12       12\n",
              "C          2     train               31       31\n",
              "                 val                 13       13\n",
              "D          3     train               52       52\n",
              "                 val                 22       22\n",
              "E          4     train               46       46\n",
              "                 val                 20       20\n",
              "F          5     train               67       67\n",
              "                 val                 29       29\n",
              "G          6     train               45       45\n",
              "                 val                 19       19\n",
              "H          7     train              151      151\n",
              "                 val                 65       65\n",
              "I          8     train               41       41\n",
              "                 val                 18       18\n",
              "J          9     train               49       49\n",
              "                 val                 21       21\n",
              "K          10    train              142      142\n",
              "                 val                 61       61\n",
              "L          11    train               38       38\n",
              "                 val                 17       17\n",
              "M          12    train               85       85\n",
              "                 val                 37       37\n",
              "N          13    train               45       45\n",
              "                 val                 19       19"
            ]
          },
          "metadata": {
            "tags": []
          },
          "execution_count": 18
        }
      ]
    },
    {
      "cell_type": "code",
      "metadata": {
        "id": "I11HPA-boY9R"
      },
      "source": [
        "# we create a class for a dataset\n",
        "# the __getitem__ returns :\n",
        "## - the word indices of the sentence\n",
        "## - the label of the sentence\n",
        "## - the number of words in the sentence\n",
        "class DescriptionDataset(Dataset):\n",
        "    def __init__(self, X, Y):\n",
        "        self.X = X\n",
        "        self.y = Y\n",
        "        \n",
        "    def __len__(self):\n",
        "        return len(self.y)\n",
        "    \n",
        "    def __getitem__(self, idx):\n",
        "        return torch.from_numpy(self.X[idx][0].astype(np.int32)), self.y[idx], self.X[idx][1]"
      ],
      "execution_count": 19,
      "outputs": []
    },
    {
      "cell_type": "code",
      "metadata": {
        "id": "TcTuzjJkkjqV"
      },
      "source": [
        "train_ds = DescriptionDataset(X_train, y_train)\n",
        "valid_ds = DescriptionDataset(X_valid, y_valid)"
      ],
      "execution_count": 20,
      "outputs": []
    },
    {
      "cell_type": "code",
      "metadata": {
        "id": "1fHUKzgj8W4B"
      },
      "source": [
        "batch_size = 5000 # Essayer de comprendre ce paramètre, quand on réduit ça augmente le temps de calcul\n",
        "vocab_size = len(words)\n",
        "train_dl = DataLoader(train_ds, batch_size=batch_size, shuffle=True)\n",
        "val_dl = DataLoader(valid_ds, batch_size=batch_size)"
      ],
      "execution_count": 21,
      "outputs": []
    },
    {
      "cell_type": "code",
      "metadata": {
        "colab": {
          "base_uri": "https://localhost:8080/"
        },
        "id": "GzmPfWcM7SSF",
        "outputId": "1a5a8782-d296-4c9e-d093-f1f6f5e7725b"
      },
      "source": [
        "!nvidia-smi"
      ],
      "execution_count": 22,
      "outputs": [
        {
          "output_type": "stream",
          "text": [
            "Wed Apr 14 19:32:44 2021       \n",
            "+-----------------------------------------------------------------------------+\n",
            "| NVIDIA-SMI 460.67       Driver Version: 460.32.03    CUDA Version: 11.2     |\n",
            "|-------------------------------+----------------------+----------------------+\n",
            "| GPU  Name        Persistence-M| Bus-Id        Disp.A | Volatile Uncorr. ECC |\n",
            "| Fan  Temp  Perf  Pwr:Usage/Cap|         Memory-Usage | GPU-Util  Compute M. |\n",
            "|                               |                      |               MIG M. |\n",
            "|===============================+======================+======================|\n",
            "|   0  Tesla T4            Off  | 00000000:00:04.0 Off |                    0 |\n",
            "| N/A   33C    P8     9W /  70W |      0MiB / 15109MiB |      0%      Default |\n",
            "|                               |                      |                  N/A |\n",
            "+-------------------------------+----------------------+----------------------+\n",
            "                                                                               \n",
            "+-----------------------------------------------------------------------------+\n",
            "| Processes:                                                                  |\n",
            "|  GPU   GI   CI        PID   Type   Process name                  GPU Memory |\n",
            "|        ID   ID                                                   Usage      |\n",
            "|=============================================================================|\n",
            "|  No running processes found                                                 |\n",
            "+-----------------------------------------------------------------------------+\n"
          ],
          "name": "stdout"
        }
      ]
    },
    {
      "cell_type": "code",
      "metadata": {
        "colab": {
          "base_uri": "https://localhost:8080/"
        },
        "id": "gYMwFfOb7SSG",
        "outputId": "f1756d0f-1112-4ea6-e1fc-d52b4dabb463"
      },
      "source": [
        "device = torch.device('cuda' if torch.cuda.is_available() else 'cpu')\n",
        "\n",
        "print(device)"
      ],
      "execution_count": 23,
      "outputs": [
        {
          "output_type": "stream",
          "text": [
            "cuda\n"
          ],
          "name": "stdout"
        }
      ]
    },
    {
      "cell_type": "code",
      "metadata": {
        "id": "aJqHVpu7QTBH"
      },
      "source": [
        "# General function to train the models\n",
        "def train_model(model, epochs=10, lr=0.001):\n",
        "  random.seed(seed_val)\n",
        "  np.random.seed(seed_val)\n",
        "  torch.manual_seed(seed_val)\n",
        "  torch.cuda.manual_seed_all(seed_val)\n",
        "  model.to(device)\n",
        "  parameters = filter(lambda p: p.requires_grad, model.parameters())\n",
        "  optimizer = torch.optim.Adam(parameters, lr=lr)\n",
        "  loss_function = F.cross_entropy\n",
        "  for i in range(epochs):\n",
        "      model.train()\n",
        "      sum_loss = 0.0\n",
        "      total = 0\n",
        "      for x, y, l in train_dl:\n",
        "          x = x.long().to(device)\n",
        "          y = y.long().to(device)\n",
        "          y_pred = model(x, l)\n",
        "          optimizer.zero_grad()\n",
        "          loss = loss_function(y_pred, y)\n",
        "          loss.backward()\n",
        "          optimizer.step()\n",
        "          sum_loss += loss.item()*y.shape[0]\n",
        "          total += y.shape[0]\n",
        "      val_loss, val_acc = validation_metrics(model, val_dl)\n",
        "      if i % 20 == 1:\n",
        "          print(\"train loss %.3f, val loss %.3f, val accuracy %.3f\" % (sum_loss/total, val_loss, val_acc))\n",
        "\n",
        "def validation_metrics (model, valid_dl):\n",
        "  model.eval()\n",
        "  correct = 0\n",
        "  total = 0\n",
        "  sum_loss = 0.0\n",
        "  for x, y, l in valid_dl:\n",
        "      x = x.long().to(device)\n",
        "      y = y.long().to(device)\n",
        "      y_hat = model(x, l)\n",
        "      loss = F.cross_entropy(y_hat, y)\n",
        "      pred = torch.max(y_hat, 1)[1]\n",
        "      correct += (pred == y).float().sum()\n",
        "      total += y.shape[0]\n",
        "      sum_loss += loss.item()*y.shape[0]\n",
        "  return sum_loss/total, correct/total"
      ],
      "execution_count": 48,
      "outputs": []
    },
    {
      "cell_type": "code",
      "metadata": {
        "id": "Ex145gOjkipw"
      },
      "source": [
        "class LSTM_fixed_len(torch.nn.Module) :\n",
        "  def __init__(self, vocab_size, embedding_dim, hidden_dim) :\n",
        "      super().__init__()\n",
        "      self.embeddings = nn.Embedding(vocab_size, embedding_dim, padding_idx=0)\n",
        "      self.lstm = nn.LSTM(embedding_dim, hidden_dim, batch_first=True)\n",
        "      self.linear = nn.Linear(hidden_dim, len(tag_to_ix))\n",
        "      self.dropout = nn.Dropout(0.2)\n",
        "      \n",
        "  def forward(self, x, l):\n",
        "      x = self.embeddings(x)\n",
        "      x = self.dropout(x)\n",
        "      lstm_out, (ht, ct) = self.lstm(x)\n",
        "      return self.linear(ht[-1])"
      ],
      "execution_count": 27,
      "outputs": []
    },
    {
      "cell_type": "code",
      "metadata": {
        "id": "lw5bAq1FquYa"
      },
      "source": [
        "# this model accepts variable-length inputs (number of words in the sentence)\n",
        "class LSTM_variable_input(torch.nn.Module) :\n",
        "  def __init__(self, vocab_size, embedding_dim, hidden_dim) :\n",
        "      super().__init__()\n",
        "      self.hidden_dim = hidden_dim\n",
        "      self.dropout = nn.Dropout(0.3)\n",
        "      self.embeddings = nn.Embedding(vocab_size, embedding_dim, padding_idx=0)\n",
        "      self.lstm = nn.LSTM(embedding_dim, hidden_dim, batch_first=True)\n",
        "      self.linear = nn.Linear(hidden_dim, len(tag_to_ix))\n",
        "      \n",
        "  def forward(self, x, s):\n",
        "      x = self.embeddings(x)\n",
        "      x = self.dropout(x)\n",
        "      x_pack = pack_padded_sequence(x, s, batch_first=True, enforce_sorted=False)\n",
        "      out_pack, (ht, ct) = self.lstm(x_pack)\n",
        "      return self.linear(ht[-1])"
      ],
      "execution_count": 28,
      "outputs": []
    },
    {
      "cell_type": "code",
      "metadata": {
        "id": "XDclkHCGCssT"
      },
      "source": [
        "# Create 3 objects\n",
        "## W : embedding_matrix (1 line = 1 token and columns = embedding dimensions)\n",
        "## vocab : vocabulary\n",
        "## vocab_to_idx : dictionnary containing the link between each token and its id\n",
        "def get_emb_matrix(pretrained, word_counts):\n",
        "    \"\"\" Creates embedding matrix from word vectors\"\"\"\n",
        "    emb_size = pretrained.vector_size\n",
        "    vocab_size = len(word_counts) + 2\n",
        "    vocab_to_idx = {}\n",
        "    vocab = [\"\", \"UNK\"]\n",
        "    W = np.zeros((vocab_size, emb_size), dtype=\"float32\")\n",
        "    W[0] = np.zeros(emb_size, dtype='float32') # adding a vector for padding\n",
        "    W[1] = np.random.uniform(-0.25, 0.25, emb_size) # adding a vector for unknown words \n",
        "    vocab_to_idx[\"UNK\"] = 1\n",
        "    i = 2\n",
        "    for word in word_counts:\n",
        "        if word in pretrained.vocab:\n",
        "            W[i] = pretrained[word]\n",
        "        else:\n",
        "            W[i] = np.random.uniform(-0.25,0.25, emb_size)\n",
        "        vocab_to_idx[word] = i\n",
        "        vocab.append(word)\n",
        "        i += 1   \n",
        "    return W, np.array(vocab), vocab_to_idx"
      ],
      "execution_count": 119,
      "outputs": []
    },
    {
      "cell_type": "code",
      "metadata": {
        "id": "IEzi_6XMCssU"
      },
      "source": [
        "pretrained_weights, vocab, vocab2index = get_emb_matrix(w2vecembedding, counts)"
      ],
      "execution_count": 30,
      "outputs": []
    },
    {
      "cell_type": "code",
      "metadata": {
        "id": "KIr5dhTJCssU"
      },
      "source": [
        "class LSTM_w2vec_fixed_size(torch.nn.Module) :\n",
        "    def __init__(self, vocab_size, embedding_dim, hidden_dim, vec_weights, freeze_emd=True) :\n",
        "        super().__init__()\n",
        "        self.embeddings = nn.Embedding(vocab_size, embedding_dim, padding_idx=0)\n",
        "        self.embeddings.weight.data.copy_(torch.from_numpy(vec_weights))\n",
        "        if freeze_emd:\n",
        "          self.embeddings.weight.requires_grad = False ## freeze embeddings\n",
        "        self.lstm = nn.LSTM(embedding_dim, hidden_dim, batch_first=True)\n",
        "        self.linear = nn.Linear(hidden_dim, len(tag_to_ix))\n",
        "        self.dropout = nn.Dropout(0.2)\n",
        "        \n",
        "    def forward(self, x, l):\n",
        "        x = self.embeddings(x)\n",
        "        x = self.dropout(x)\n",
        "        lstm_out, (ht, ct) = self.lstm(x)\n",
        "        return self.linear(ht[-1])"
      ],
      "execution_count": 95,
      "outputs": []
    },
    {
      "cell_type": "code",
      "metadata": {
        "id": "56YFtNQw9Ztp"
      },
      "source": [
        "class LSTM_w2vec2_variable_size(torch.nn.Module) :\n",
        "    def __init__(self, vocab_size, embedding_dim, hidden_dim, vec_weights, freeze_emd=True) :\n",
        "        super().__init__()\n",
        "        self.embeddings = nn.Embedding(vocab_size, embedding_dim, padding_idx=0)\n",
        "        self.embeddings.weight.data.copy_(torch.from_numpy(vec_weights))\n",
        "        if freeze_emd:\n",
        "          self.embeddings.weight.requires_grad = False ## freeze embeddings\n",
        "        self.lstm = nn.LSTM(embedding_dim, hidden_dim, batch_first=True)\n",
        "        self.linear = nn.Linear(hidden_dim, len(tag_to_ix))\n",
        "        self.dropout = nn.Dropout(0.2)\n",
        "        \n",
        "    def forward(self, x, s):\n",
        "        x = self.embeddings(x)\n",
        "        x = self.dropout(x)\n",
        "        x_pack = pack_padded_sequence(x, s, batch_first=True, enforce_sorted=False)\n",
        "        out_pack, (ht, ct) = self.lstm(x_pack)\n",
        "        return self.linear(ht[-1])"
      ],
      "execution_count": 96,
      "outputs": []
    },
    {
      "cell_type": "code",
      "metadata": {
        "id": "p35RMqbmQcT8",
        "colab": {
          "base_uri": "https://localhost:8080/"
        },
        "outputId": "fb112410-3ced-42c3-f8c3-f69cc9531eca"
      },
      "source": [
        "model_fixed =  LSTM_fixed_len(vocab_size, embedding_dim = 50,\n",
        "                              hidden_dim = 50)\n",
        "train_model(model_fixed, epochs=200, lr=0.01)"
      ],
      "execution_count": 85,
      "outputs": [
        {
          "output_type": "stream",
          "text": [
            "train loss 2.595, val loss 2.570, val accuracy 0.160\n",
            "train loss 1.829, val loss 2.899, val accuracy 0.163\n",
            "train loss 1.312, val loss 3.067, val accuracy 0.141\n",
            "train loss 1.131, val loss 3.293, val accuracy 0.147\n",
            "train loss 1.065, val loss 3.401, val accuracy 0.160\n",
            "train loss 0.982, val loss 3.397, val accuracy 0.157\n",
            "train loss 0.932, val loss 3.520, val accuracy 0.165\n",
            "train loss 1.045, val loss 3.621, val accuracy 0.155\n",
            "train loss 0.857, val loss 3.526, val accuracy 0.237\n",
            "train loss 0.770, val loss 3.620, val accuracy 0.245\n",
            "train loss 0.726, val loss 3.993, val accuracy 0.205\n",
            "train loss 0.617, val loss 3.847, val accuracy 0.245\n",
            "train loss 0.614, val loss 3.931, val accuracy 0.213\n",
            "train loss 0.433, val loss 4.056, val accuracy 0.227\n",
            "train loss 0.416, val loss 4.048, val accuracy 0.245\n",
            "train loss 0.306, val loss 4.404, val accuracy 0.216\n",
            "train loss 0.267, val loss 4.374, val accuracy 0.237\n",
            "train loss 0.203, val loss 4.565, val accuracy 0.224\n",
            "train loss 0.142, val loss 4.752, val accuracy 0.243\n",
            "train loss 0.199, val loss 4.667, val accuracy 0.251\n",
            "train loss 0.152, val loss 4.836, val accuracy 0.253\n",
            "train loss 0.168, val loss 4.691, val accuracy 0.299\n",
            "train loss 0.149, val loss 4.753, val accuracy 0.256\n",
            "train loss 0.089, val loss 5.001, val accuracy 0.280\n",
            "train loss 0.082, val loss 5.079, val accuracy 0.275\n"
          ],
          "name": "stdout"
        }
      ]
    },
    {
      "cell_type": "code",
      "metadata": {
        "colab": {
          "base_uri": "https://localhost:8080/"
        },
        "id": "9saMKLO2qxtS",
        "outputId": "82bf7365-822c-4b52-a6ad-2274e24ff2eb"
      },
      "source": [
        "model_variable = LSTM_variable_input(vocab_size, embedding_dim = 50,\n",
        "                              hidden_dim = 50)\n",
        "train_model(model_variable, epochs=200, lr=0.01) #Faster convergence"
      ],
      "execution_count": 106,
      "outputs": [
        {
          "output_type": "stream",
          "text": [
            "train loss 2.578, val loss 2.551, val accuracy 0.173\n",
            "train loss 1.752, val loss 2.497, val accuracy 0.243\n",
            "train loss 0.809, val loss 3.088, val accuracy 0.277\n",
            "train loss 0.308, val loss 3.366, val accuracy 0.307\n",
            "train loss 0.102, val loss 3.753, val accuracy 0.312\n",
            "train loss 0.048, val loss 4.108, val accuracy 0.336\n",
            "train loss 0.045, val loss 4.098, val accuracy 0.312\n",
            "train loss 0.035, val loss 4.173, val accuracy 0.331\n",
            "train loss 0.015, val loss 4.129, val accuracy 0.355\n",
            "train loss 0.011, val loss 4.311, val accuracy 0.355\n"
          ],
          "name": "stdout"
        }
      ]
    },
    {
      "cell_type": "code",
      "metadata": {
        "colab": {
          "base_uri": "https://localhost:8080/"
        },
        "id": "-MqLjA-kDSm8",
        "outputId": "e2e1d17f-58fe-44ce-caa2-914515e8ca66"
      },
      "source": [
        "w2vec_fixeds_freeze = LSTM_w2vec_fixed_size(vocab_size,\n",
        "                         embedding_dim = w2vecembedding.vector_size,\n",
        "                         hidden_dim = 50,\n",
        "                         vec_weights = pretrained_weights,\n",
        "                         freeze_emd = True)\n",
        "train_model(w2vec_fixeds_freeze, epochs=200, lr=0.01)"
      ],
      "execution_count": 105,
      "outputs": [
        {
          "output_type": "stream",
          "text": [
            "train loss 2.593, val loss 2.553, val accuracy 0.163\n",
            "train loss 2.355, val loss 2.427, val accuracy 0.197\n",
            "train loss 2.117, val loss 2.416, val accuracy 0.219\n",
            "train loss 2.266, val loss 2.668, val accuracy 0.211\n",
            "train loss 1.687, val loss 2.338, val accuracy 0.272\n",
            "train loss 1.610, val loss 2.342, val accuracy 0.277\n",
            "train loss 1.382, val loss 2.242, val accuracy 0.317\n",
            "train loss 1.184, val loss 2.321, val accuracy 0.307\n",
            "train loss 1.122, val loss 2.382, val accuracy 0.296\n",
            "train loss 1.030, val loss 2.356, val accuracy 0.347\n"
          ],
          "name": "stdout"
        }
      ]
    },
    {
      "cell_type": "code",
      "metadata": {
        "colab": {
          "base_uri": "https://localhost:8080/"
        },
        "id": "6w0tVnqVEEbs",
        "outputId": "6a8d49e8-bcbe-402b-9f6b-ba39d4982cb6"
      },
      "source": [
        "w2vec_fixeds_notfreeze = LSTM_w2vec_fixed_size(vocab_size,\n",
        "                         embedding_dim = w2vecembedding.vector_size,\n",
        "                         hidden_dim = 50,\n",
        "                         vec_weights = pretrained_weights,\n",
        "                         freeze_emd = False)\n",
        "train_model(w2vec_fixeds_notfreeze, epochs=300, lr=0.01)"
      ],
      "execution_count": 107,
      "outputs": [
        {
          "output_type": "stream",
          "text": [
            "train loss 2.603, val loss 2.573, val accuracy 0.149\n",
            "train loss 1.340, val loss 2.698, val accuracy 0.184\n",
            "train loss 1.131, val loss 3.020, val accuracy 0.176\n",
            "train loss 1.104, val loss 3.152, val accuracy 0.165\n",
            "train loss 1.061, val loss 3.434, val accuracy 0.152\n",
            "train loss 1.164, val loss 3.453, val accuracy 0.155\n",
            "train loss 1.026, val loss 3.056, val accuracy 0.181\n",
            "train loss 0.839, val loss 3.368, val accuracy 0.200\n",
            "train loss 0.700, val loss 3.487, val accuracy 0.187\n",
            "train loss 0.527, val loss 3.561, val accuracy 0.253\n",
            "train loss 0.367, val loss 3.934, val accuracy 0.245\n",
            "train loss 0.346, val loss 3.905, val accuracy 0.251\n",
            "train loss 0.280, val loss 4.245, val accuracy 0.248\n",
            "train loss 0.124, val loss 4.664, val accuracy 0.240\n",
            "train loss 0.229, val loss 4.727, val accuracy 0.272\n"
          ],
          "name": "stdout"
        }
      ]
    },
    {
      "cell_type": "code",
      "metadata": {
        "colab": {
          "base_uri": "https://localhost:8080/"
        },
        "id": "J8di3DbX9pDM",
        "outputId": "2c86a550-b441-45ff-bf92-db4d38ad443f"
      },
      "source": [
        "w2vec_variables_freeze = LSTM_w2vec2_variable_size(vocab_size,\n",
        "                         embedding_dim = w2vecembedding.vector_size,\n",
        "                         hidden_dim = 50,\n",
        "                         vec_weights = pretrained_weights,\n",
        "                         freeze_emd = True)\n",
        "train_model(w2vec_variables_freeze, epochs=200, lr=0.01)"
      ],
      "execution_count": 102,
      "outputs": [
        {
          "output_type": "stream",
          "text": [
            "train loss 2.582, val loss 2.536, val accuracy 0.163\n",
            "train loss 2.111, val loss 2.215, val accuracy 0.227\n",
            "train loss 1.661, val loss 1.774, val accuracy 0.419\n",
            "train loss 1.339, val loss 1.596, val accuracy 0.491\n",
            "train loss 1.173, val loss 1.505, val accuracy 0.507\n",
            "train loss 0.816, val loss 1.324, val accuracy 0.595\n",
            "train loss 0.757, val loss 1.425, val accuracy 0.549\n",
            "train loss 0.437, val loss 1.360, val accuracy 0.573\n",
            "train loss 0.244, val loss 1.389, val accuracy 0.605\n",
            "train loss 0.145, val loss 1.511, val accuracy 0.627\n"
          ],
          "name": "stdout"
        }
      ]
    },
    {
      "cell_type": "code",
      "metadata": {
        "colab": {
          "base_uri": "https://localhost:8080/"
        },
        "id": "x1coe_tt97ph",
        "outputId": "cabf4b77-05a9-48ec-93cd-3cfbb430ea0c"
      },
      "source": [
        "w2vec_variables_notfreeze = LSTM_w2vec2_variable_size(vocab_size,\n",
        "                         embedding_dim = w2vecembedding.vector_size,\n",
        "                         hidden_dim = 50,\n",
        "                         vec_weights = pretrained_weights,\n",
        "                         freeze_emd = False)\n",
        "train_model(w2vec_variables_notfreeze, epochs=100, lr=0.01)"
      ],
      "execution_count": 103,
      "outputs": [
        {
          "output_type": "stream",
          "text": [
            "train loss 2.589, val loss 2.547, val accuracy 0.165\n",
            "train loss 0.457, val loss 2.522, val accuracy 0.312\n",
            "train loss 0.014, val loss 3.538, val accuracy 0.307\n",
            "train loss 0.002, val loss 3.922, val accuracy 0.320\n",
            "train loss 0.001, val loss 4.139, val accuracy 0.336\n"
          ],
          "name": "stdout"
        }
      ]
    },
    {
      "cell_type": "code",
      "metadata": {
        "id": "E8-C7DwnrO_I"
      },
      "source": [
        "key_list = list(tag_to_ix.keys())\n",
        "val_list = list(tag_to_ix.values())"
      ],
      "execution_count": 82,
      "outputs": []
    },
    {
      "cell_type": "code",
      "metadata": {
        "id": "7L7Qklm5rGbK"
      },
      "source": [
        "def diagnostics(model, valid_dl):\n",
        "  model.eval()\n",
        "  y_true = []\n",
        "  y_pred = []\n",
        "  y_hat = np.array([], dtype=np.int32).reshape(0,len(tag_to_ix))\n",
        "  for x, y, l in valid_dl:\n",
        "    x = x.long().to(device)\n",
        "    y = y.long().to(device)\n",
        "    y_hat_tmp = model(x, l).cpu()\n",
        "    y_hat = np.concatenate(( y_hat, y_hat_tmp.detach().numpy()))\n",
        "    pred = torch.max(y_hat_tmp, 1)[1]\n",
        "    y_true += [key_list[val_list.index(i)] for i in y]\n",
        "    y_pred += [key_list[val_list.index(i)] for i in pred]\n",
        "\n",
        "  print( classification_report(y_true, y_pred) )\n",
        "  cm = confusion_matrix(y_true, y_pred , labels = key_list) \n",
        "  df_cm = pd.DataFrame(cm, index=key_list, columns=key_list)\n",
        "  # config plot sizes\n",
        "  sn.set(font_scale=1.2)\n",
        "  sn.heatmap(df_cm, annot=True, annot_kws={\"size\": 18}, cmap='coolwarm', linewidth=0.5, fmt=\"\")\n",
        "  plt.tick_params(axis='both', which='major', labelsize=10, labelbottom = False, bottom=False, top = False, labeltop=True)\n",
        "  plt.show()"
      ],
      "execution_count": 80,
      "outputs": []
    },
    {
      "cell_type": "code",
      "metadata": {
        "colab": {
          "base_uri": "https://localhost:8080/",
          "height": 633
        },
        "id": "Oj3U8cmrrc-E",
        "outputId": "bd6d05ae-63d6-4b43-886f-67cdadeeec8a"
      },
      "source": [
        "diagnostics(model_fixed, val_dl)"
      ],
      "execution_count": 90,
      "outputs": [
        {
          "output_type": "stream",
          "text": [
            "              precision    recall  f1-score   support\n",
            "\n",
            "           A       0.08      0.09      0.09        22\n",
            "           B       0.00      0.00      0.00        12\n",
            "           C       0.06      0.08      0.07        13\n",
            "           D       0.14      0.18      0.16        22\n",
            "           E       0.11      0.10      0.10        20\n",
            "           F       0.29      0.21      0.24        29\n",
            "           G       0.22      0.11      0.14        19\n",
            "           H       0.38      0.40      0.39        65\n",
            "           I       0.14      0.17      0.15        18\n",
            "           J       0.08      0.05      0.06        21\n",
            "           K       0.19      0.16      0.17        61\n",
            "           L       0.05      0.06      0.06        17\n",
            "           M       0.02      0.03      0.02        37\n",
            "           N       0.14      0.16      0.15        19\n",
            "\n",
            "    accuracy                           0.17       375\n",
            "   macro avg       0.14      0.13      0.13       375\n",
            "weighted avg       0.17      0.17      0.17       375\n",
            "\n"
          ],
          "name": "stdout"
        },
        {
          "output_type": "display_data",
          "data": {
            "image/png": "[encoded data removed]",
            "text/plain": [
              "<Figure size 432x288 with 2 Axes>"
            ]
          },
          "metadata": {
            "tags": []
          }
        }
      ]
    },
    {
      "cell_type": "code",
      "metadata": {
        "colab": {
          "base_uri": "https://localhost:8080/",
          "height": 633
        },
        "id": "iEU2qZCJsDWq",
        "outputId": "c19a6865-07c1-468c-e179-8657f1417731"
      },
      "source": [
        "diagnostics(model_variable, val_dl)"
      ],
      "execution_count": 88,
      "outputs": [
        {
          "output_type": "stream",
          "text": [
            "              precision    recall  f1-score   support\n",
            "\n",
            "           A       0.38      0.27      0.32        22\n",
            "           B       0.57      0.33      0.42        12\n",
            "           C       0.44      0.31      0.36        13\n",
            "           D       0.46      0.55      0.50        22\n",
            "           E       0.25      0.10      0.14        20\n",
            "           F       0.23      0.21      0.22        29\n",
            "           G       0.47      0.37      0.41        19\n",
            "           H       0.46      0.55      0.50        65\n",
            "           I       0.43      0.17      0.24        18\n",
            "           J       0.38      0.24      0.29        21\n",
            "           K       0.42      0.56      0.48        61\n",
            "           L       0.36      0.24      0.29        17\n",
            "           M       0.25      0.41      0.31        37\n",
            "           N       0.47      0.47      0.47        19\n",
            "\n",
            "    accuracy                           0.39       375\n",
            "   macro avg       0.40      0.34      0.35       375\n",
            "weighted avg       0.39      0.39      0.38       375\n",
            "\n"
          ],
          "name": "stdout"
        },
        {
          "output_type": "display_data",
          "data": {
            "image/png": "[encoded data removed]",
            "text/plain": [
              "<Figure size 432x288 with 2 Axes>"
            ]
          },
          "metadata": {
            "tags": []
          }
        }
      ]
    },
    {
      "cell_type": "code",
      "metadata": {
        "colab": {
          "base_uri": "https://localhost:8080/",
          "height": 1000
        },
        "id": "5F0jMOkuFBhK",
        "outputId": "780c7825-65d6-4d72-d5da-5ef9064d86b8"
      },
      "source": [
        "print(\"***word2vec + LSTM, fixed size of the sentence, freezed embedding***\")\n",
        "diagnostics(w2vec_fixeds_notfreeze, val_dl)\n",
        "print(\"----------------------------------------------------------------------------\")\n",
        "print(\"***word2vec + LSTM, fixed size of the sentence, not freezed embedding***\")\n",
        "diagnostics(w2vec_fixeds_freeze, val_dl)\n",
        "print(\"----------------------------------------------------------------------------\")\n",
        "print(\"***word2vec + LSTM, variable size of the sentence, not freezed embedding***\")\n",
        "diagnostics(w2vec_variables_freeze, val_dl)\n",
        "print(\"----------------------------------------------------------------------------\")\n",
        "print(\"***word2vec + LSTM, variable size of the sentence, not freezed embedding***\")\n",
        "diagnostics(w2vec_variables_notfreeze, val_dl)"
      ],
      "execution_count": 112,
      "outputs": [
        {
          "output_type": "stream",
          "text": [
            "***word2vec + LSTM, fixed size of the sentence, freezed embedding***\n",
            "              precision    recall  f1-score   support\n",
            "\n",
            "           A       0.20      0.23      0.21        22\n",
            "           B       0.11      0.08      0.10        12\n",
            "           C       0.00      0.00      0.00        13\n",
            "           D       0.15      0.27      0.20        22\n",
            "           E       0.25      0.15      0.19        20\n",
            "           F       0.23      0.17      0.20        29\n",
            "           G       0.23      0.26      0.24        19\n",
            "           H       0.50      0.46      0.48        65\n",
            "           I       0.24      0.50      0.33        18\n",
            "           J       0.08      0.10      0.09        21\n",
            "           K       0.39      0.26      0.31        61\n",
            "           L       0.25      0.12      0.16        17\n",
            "           M       0.20      0.24      0.22        37\n",
            "           N       0.38      0.26      0.31        19\n",
            "\n",
            "    accuracy                           0.26       375\n",
            "   macro avg       0.23      0.22      0.22       375\n",
            "weighted avg       0.28      0.26      0.26       375\n",
            "\n"
          ],
          "name": "stdout"
        },
        {
          "output_type": "display_data",
          "data": {
            "image/png": "[encoded data removed]",
            "text/plain": [
              "<Figure size 432x288 with 2 Axes>"
            ]
          },
          "metadata": {
            "tags": []
          }
        },
        {
          "output_type": "stream",
          "text": [
            "----------------------------------------------------------------------------\n",
            "***word2vec + LSTM, fixed size of the sentence, not freezed embedding***\n",
            "              precision    recall  f1-score   support\n",
            "\n",
            "           A       0.11      0.05      0.06        22\n",
            "           B       0.20      0.08      0.12        12\n",
            "           C       0.00      0.00      0.00        13\n",
            "           D       0.00      0.00      0.00        22\n",
            "           E       0.32      0.30      0.31        20\n",
            "           F       0.50      0.28      0.36        29\n",
            "           G       0.50      0.16      0.24        19\n",
            "           H       0.36      0.78      0.49        65\n",
            "           I       0.29      0.11      0.16        18\n",
            "           J       0.40      0.19      0.26        21\n",
            "           K       0.43      0.43      0.43        61\n",
            "           L       0.75      0.35      0.48        17\n",
            "           M       0.20      0.43      0.28        37\n",
            "           N       0.17      0.05      0.08        19\n",
            "\n",
            "    accuracy                           0.33       375\n",
            "   macro avg       0.30      0.23      0.23       375\n",
            "weighted avg       0.32      0.33      0.29       375\n",
            "\n"
          ],
          "name": "stdout"
        },
        {
          "output_type": "display_data",
          "data": {
            "image/png": "[encoded data removed]",
            "text/plain": [
              "<Figure size 432x288 with 2 Axes>"
            ]
          },
          "metadata": {
            "tags": []
          }
        },
        {
          "output_type": "stream",
          "text": [
            "----------------------------------------------------------------------------\n",
            "***word2vec + LSTM, variable size of the sentence, not freezed embedding***\n",
            "              precision    recall  f1-score   support\n",
            "\n",
            "           A       0.79      0.50      0.61        22\n",
            "           B       0.67      0.67      0.67        12\n",
            "           C       0.46      0.46      0.46        13\n",
            "           D       0.63      0.55      0.59        22\n",
            "           E       0.56      0.45      0.50        20\n",
            "           F       0.57      0.59      0.58        29\n",
            "           G       0.65      0.79      0.71        19\n",
            "           H       0.70      0.74      0.72        65\n",
            "           I       0.54      0.39      0.45        18\n",
            "           J       0.71      0.71      0.71        21\n",
            "           K       0.60      0.59      0.60        61\n",
            "           L       0.79      0.88      0.83        17\n",
            "           M       0.53      0.62      0.57        37\n",
            "           N       0.70      0.84      0.76        19\n",
            "\n",
            "    accuracy                           0.63       375\n",
            "   macro avg       0.64      0.63      0.63       375\n",
            "weighted avg       0.64      0.63      0.63       375\n",
            "\n"
          ],
          "name": "stdout"
        },
        {
          "output_type": "display_data",
          "data": {
            "image/png": "[encoded data removed]",
            "text/plain": [
              "<Figure size 432x288 with 2 Axes>"
            ]
          },
          "metadata": {
            "tags": []
          }
        },
        {
          "output_type": "stream",
          "text": [
            "----------------------------------------------------------------------------\n",
            "***word2vec + LSTM, variable size of the sentence, not freezed embedding***\n",
            "              precision    recall  f1-score   support\n",
            "\n",
            "           A       0.26      0.23      0.24        22\n",
            "           B       0.26      0.42      0.32        12\n",
            "           C       0.20      0.23      0.21        13\n",
            "           D       0.26      0.45      0.33        22\n",
            "           E       0.28      0.25      0.26        20\n",
            "           F       0.71      0.17      0.28        29\n",
            "           G       0.23      0.26      0.24        19\n",
            "           H       0.41      0.37      0.39        65\n",
            "           I       0.13      0.28      0.18        18\n",
            "           J       0.34      0.48      0.40        21\n",
            "           K       0.42      0.36      0.39        61\n",
            "           L       0.46      0.35      0.40        17\n",
            "           M       0.14      0.08      0.10        37\n",
            "           N       0.30      0.37      0.33        19\n",
            "\n",
            "    accuracy                           0.31       375\n",
            "   macro avg       0.32      0.31      0.29       375\n",
            "weighted avg       0.34      0.31      0.31       375\n",
            "\n"
          ],
          "name": "stdout"
        },
        {
          "output_type": "display_data",
          "data": {
            "image/png": "[encoded data removed]",
            "text/plain": [
              "<Figure size 432x288 with 2 Axes>"
            ]
          },
          "metadata": {
            "tags": []
          }
        }
      ]
    },
    {
      "cell_type": "markdown",
      "metadata": {
        "id": "wbkxA24cPl-v"
      },
      "source": [
        "# 4 CAMEMBERT \n",
        "\n",
        "In this section we perform a fine-tuning of the pretrained model of CAMEMBERT for sequence classification\n",
        "\n",
        "https://towardsdatascience.com/multi-class-text-classification-with-deep-learning-using-bert-b59ca2f5c613"
      ]
    },
    {
      "cell_type": "code",
      "metadata": {
        "colab": {
          "base_uri": "https://localhost:8080/"
        },
        "id": "5ni5GcA_yP4_",
        "outputId": "94cf877d-1358-4bcd-e5f7-e0a8d55b4c1a"
      },
      "source": [
        "!nvidia-smi"
      ],
      "execution_count": 114,
      "outputs": [
        {
          "output_type": "stream",
          "text": [
            "Wed Apr 14 20:15:19 2021       \n",
            "+-----------------------------------------------------------------------------+\n",
            "| NVIDIA-SMI 460.67       Driver Version: 460.32.03    CUDA Version: 11.2     |\n",
            "|-------------------------------+----------------------+----------------------+\n",
            "| GPU  Name        Persistence-M| Bus-Id        Disp.A | Volatile Uncorr. ECC |\n",
            "| Fan  Temp  Perf  Pwr:Usage/Cap|         Memory-Usage | GPU-Util  Compute M. |\n",
            "|                               |                      |               MIG M. |\n",
            "|===============================+======================+======================|\n",
            "|   0  Tesla T4            Off  | 00000000:00:04.0 Off |                    0 |\n",
            "| N/A   46C    P0    27W /  70W |   1838MiB / 15109MiB |      0%      Default |\n",
            "|                               |                      |                  N/A |\n",
            "+-------------------------------+----------------------+----------------------+\n",
            "                                                                               \n",
            "+-----------------------------------------------------------------------------+\n",
            "| Processes:                                                                  |\n",
            "|  GPU   GI   CI        PID   Type   Process name                  GPU Memory |\n",
            "|        ID   ID                                                   Usage      |\n",
            "|=============================================================================|\n",
            "+-----------------------------------------------------------------------------+\n"
          ],
          "name": "stdout"
        }
      ]
    },
    {
      "cell_type": "code",
      "metadata": {
        "colab": {
          "base_uri": "https://localhost:8080/",
          "height": 456
        },
        "id": "MQ2_f7gRPvfe",
        "outputId": "4e9d374c-06e8-490a-b02c-abc2a564d99b"
      },
      "source": [
        "# We keep only the relevant columns : we want to predict the major code (grand domaine)\n",
        "# using the description\n",
        "y_variable = \"major_code\"\n",
        "data_bert= data[[\"description\", y_variable]].copy()\n",
        "\n",
        "# we change the grades to 0-numbering because it is the classical way to do to perform the models\n",
        "tag_to_ix = {}\n",
        "i=0\n",
        "for code in data_bert[y_variable].unique():\n",
        "  tag_to_ix[code]=i\n",
        "  i += 1\n",
        "print(tag_to_ix)\n",
        "data_bert['label'] = data_bert[y_variable].replace(tag_to_ix)\n",
        "data_bert"
      ],
      "execution_count": 115,
      "outputs": [
        {
          "output_type": "stream",
          "text": [
            "{'A': 0, 'B': 1, 'C': 2, 'D': 3, 'E': 4, 'F': 5, 'G': 6, 'H': 7, 'I': 8, 'J': 9, 'K': 10, 'L': 11, 'M': 12, 'N': 13}\n"
          ],
          "name": "stdout"
        },
        {
          "output_type": "execute_result",
          "data": {
            "text/html": [
              "<div>\n",
              "<style scoped>\n",
              "    .dataframe tbody tr th:only-of-type {\n",
              "        vertical-align: middle;\n",
              "    }\n",
              "\n",
              "    .dataframe tbody tr th {\n",
              "        vertical-align: top;\n",
              "    }\n",
              "\n",
              "    .dataframe thead th {\n",
              "        text-align: right;\n",
              "    }\n",
              "</style>\n",
              "<table border=\"1\" class=\"dataframe\">\n",
              "  <thead>\n",
              "    <tr style=\"text-align: right;\">\n",
              "      <th></th>\n",
              "      <th>description</th>\n",
              "      <th>major_code</th>\n",
              "      <th>label</th>\n",
              "    </tr>\n",
              "  </thead>\n",
              "  <tbody>\n",
              "    <tr>\n",
              "      <th>0</th>\n",
              "      <td>Réalise des travaux mécanisés agricoles, sylvi...</td>\n",
              "      <td>A</td>\n",
              "      <td>0</td>\n",
              "    </tr>\n",
              "    <tr>\n",
              "      <th>1</th>\n",
              "      <td>Tracteur, moissonneuse-batteuse, ensileuse, ép...</td>\n",
              "      <td>A</td>\n",
              "      <td>0</td>\n",
              "    </tr>\n",
              "    <tr>\n",
              "      <th>2</th>\n",
              "      <td>Depuis la cabine de sa machine, le conducteur ...</td>\n",
              "      <td>A</td>\n",
              "      <td>0</td>\n",
              "    </tr>\n",
              "    <tr>\n",
              "      <th>3</th>\n",
              "      <td>Réalise des opérations de coupe et d''entretie...</td>\n",
              "      <td>A</td>\n",
              "      <td>0</td>\n",
              "    </tr>\n",
              "    <tr>\n",
              "      <th>4</th>\n",
              "      <td>Avec ses cordes de rappel, son harnais, ses mo...</td>\n",
              "      <td>A</td>\n",
              "      <td>0</td>\n",
              "    </tr>\n",
              "    <tr>\n",
              "      <th>...</th>\n",
              "      <td>...</td>\n",
              "      <td>...</td>\n",
              "      <td>...</td>\n",
              "    </tr>\n",
              "    <tr>\n",
              "      <th>1242</th>\n",
              "      <td>Surveille et coordonne les mouvements des trai...</td>\n",
              "      <td>N</td>\n",
              "      <td>13</td>\n",
              "    </tr>\n",
              "    <tr>\n",
              "      <th>1243</th>\n",
              "      <td>Le technicien de la circulation ferroviaire SN...</td>\n",
              "      <td>N</td>\n",
              "      <td>13</td>\n",
              "    </tr>\n",
              "    <tr>\n",
              "      <th>1244</th>\n",
              "      <td>Réalise des opérations de mise en fonction, de...</td>\n",
              "      <td>N</td>\n",
              "      <td>13</td>\n",
              "    </tr>\n",
              "    <tr>\n",
              "      <th>1245</th>\n",
              "      <td>Sur les pistes de ski, une panne d'une télécab...</td>\n",
              "      <td>N</td>\n",
              "      <td>13</td>\n",
              "    </tr>\n",
              "    <tr>\n",
              "      <th>1246</th>\n",
              "      <td>Réalise des opérations de formation de trains ...</td>\n",
              "      <td>N</td>\n",
              "      <td>13</td>\n",
              "    </tr>\n",
              "  </tbody>\n",
              "</table>\n",
              "<p>1247 rows × 3 columns</p>\n",
              "</div>"
            ],
            "text/plain": [
              "                                            description major_code  label\n",
              "0     Réalise des travaux mécanisés agricoles, sylvi...          A      0\n",
              "1     Tracteur, moissonneuse-batteuse, ensileuse, ép...          A      0\n",
              "2     Depuis la cabine de sa machine, le conducteur ...          A      0\n",
              "3     Réalise des opérations de coupe et d''entretie...          A      0\n",
              "4     Avec ses cordes de rappel, son harnais, ses mo...          A      0\n",
              "...                                                 ...        ...    ...\n",
              "1242  Surveille et coordonne les mouvements des trai...          N     13\n",
              "1243  Le technicien de la circulation ferroviaire SN...          N     13\n",
              "1244  Réalise des opérations de mise en fonction, de...          N     13\n",
              "1245  Sur les pistes de ski, une panne d'une télécab...          N     13\n",
              "1246  Réalise des opérations de formation de trains ...          N     13\n",
              "\n",
              "[1247 rows x 3 columns]"
            ]
          },
          "metadata": {
            "tags": []
          },
          "execution_count": 115
        }
      ]
    },
    {
      "cell_type": "code",
      "metadata": {
        "colab": {
          "base_uri": "https://localhost:8080/",
          "height": 948
        },
        "id": "2EIcDU-0QMZe",
        "outputId": "bbe69ba5-1ce4-4b2f-8441-c612096c4552"
      },
      "source": [
        "# create train 70 %\n",
        "# create test 30 %\n",
        "X_train, X_val, y_train, y_val = train_test_split(data_bert.index.values, \n",
        "                                                  data_bert.label.values, \n",
        "                                                  test_size=0.3, \n",
        "                                                  random_state=seed_val, \n",
        "                                                  stratify=data_bert.label.values)\n",
        "\n",
        "data_bert['data_type'] = 'not_set'\n",
        "data_bert.loc[X_train, 'data_type'] = 'train'\n",
        "data_bert.loc[X_val, 'data_type'] = 'val'\n",
        "\n",
        "data_bert.groupby(['major_code', 'label', 'data_type']).count()"
      ],
      "execution_count": 116,
      "outputs": [
        {
          "output_type": "execute_result",
          "data": {
            "text/html": [
              "<div>\n",
              "<style scoped>\n",
              "    .dataframe tbody tr th:only-of-type {\n",
              "        vertical-align: middle;\n",
              "    }\n",
              "\n",
              "    .dataframe tbody tr th {\n",
              "        vertical-align: top;\n",
              "    }\n",
              "\n",
              "    .dataframe thead th {\n",
              "        text-align: right;\n",
              "    }\n",
              "</style>\n",
              "<table border=\"1\" class=\"dataframe\">\n",
              "  <thead>\n",
              "    <tr style=\"text-align: right;\">\n",
              "      <th></th>\n",
              "      <th></th>\n",
              "      <th></th>\n",
              "      <th>description</th>\n",
              "    </tr>\n",
              "    <tr>\n",
              "      <th>major_code</th>\n",
              "      <th>label</th>\n",
              "      <th>data_type</th>\n",
              "      <th></th>\n",
              "    </tr>\n",
              "  </thead>\n",
              "  <tbody>\n",
              "    <tr>\n",
              "      <th rowspan=\"2\" valign=\"top\">A</th>\n",
              "      <th rowspan=\"2\" valign=\"top\">0</th>\n",
              "      <th>train</th>\n",
              "      <td>52</td>\n",
              "    </tr>\n",
              "    <tr>\n",
              "      <th>val</th>\n",
              "      <td>22</td>\n",
              "    </tr>\n",
              "    <tr>\n",
              "      <th rowspan=\"2\" valign=\"top\">B</th>\n",
              "      <th rowspan=\"2\" valign=\"top\">1</th>\n",
              "      <th>train</th>\n",
              "      <td>28</td>\n",
              "    </tr>\n",
              "    <tr>\n",
              "      <th>val</th>\n",
              "      <td>12</td>\n",
              "    </tr>\n",
              "    <tr>\n",
              "      <th rowspan=\"2\" valign=\"top\">C</th>\n",
              "      <th rowspan=\"2\" valign=\"top\">2</th>\n",
              "      <th>train</th>\n",
              "      <td>31</td>\n",
              "    </tr>\n",
              "    <tr>\n",
              "      <th>val</th>\n",
              "      <td>13</td>\n",
              "    </tr>\n",
              "    <tr>\n",
              "      <th rowspan=\"2\" valign=\"top\">D</th>\n",
              "      <th rowspan=\"2\" valign=\"top\">3</th>\n",
              "      <th>train</th>\n",
              "      <td>52</td>\n",
              "    </tr>\n",
              "    <tr>\n",
              "      <th>val</th>\n",
              "      <td>22</td>\n",
              "    </tr>\n",
              "    <tr>\n",
              "      <th rowspan=\"2\" valign=\"top\">E</th>\n",
              "      <th rowspan=\"2\" valign=\"top\">4</th>\n",
              "      <th>train</th>\n",
              "      <td>46</td>\n",
              "    </tr>\n",
              "    <tr>\n",
              "      <th>val</th>\n",
              "      <td>20</td>\n",
              "    </tr>\n",
              "    <tr>\n",
              "      <th rowspan=\"2\" valign=\"top\">F</th>\n",
              "      <th rowspan=\"2\" valign=\"top\">5</th>\n",
              "      <th>train</th>\n",
              "      <td>67</td>\n",
              "    </tr>\n",
              "    <tr>\n",
              "      <th>val</th>\n",
              "      <td>29</td>\n",
              "    </tr>\n",
              "    <tr>\n",
              "      <th rowspan=\"2\" valign=\"top\">G</th>\n",
              "      <th rowspan=\"2\" valign=\"top\">6</th>\n",
              "      <th>train</th>\n",
              "      <td>45</td>\n",
              "    </tr>\n",
              "    <tr>\n",
              "      <th>val</th>\n",
              "      <td>19</td>\n",
              "    </tr>\n",
              "    <tr>\n",
              "      <th rowspan=\"2\" valign=\"top\">H</th>\n",
              "      <th rowspan=\"2\" valign=\"top\">7</th>\n",
              "      <th>train</th>\n",
              "      <td>151</td>\n",
              "    </tr>\n",
              "    <tr>\n",
              "      <th>val</th>\n",
              "      <td>65</td>\n",
              "    </tr>\n",
              "    <tr>\n",
              "      <th rowspan=\"2\" valign=\"top\">I</th>\n",
              "      <th rowspan=\"2\" valign=\"top\">8</th>\n",
              "      <th>train</th>\n",
              "      <td>41</td>\n",
              "    </tr>\n",
              "    <tr>\n",
              "      <th>val</th>\n",
              "      <td>18</td>\n",
              "    </tr>\n",
              "    <tr>\n",
              "      <th rowspan=\"2\" valign=\"top\">J</th>\n",
              "      <th rowspan=\"2\" valign=\"top\">9</th>\n",
              "      <th>train</th>\n",
              "      <td>49</td>\n",
              "    </tr>\n",
              "    <tr>\n",
              "      <th>val</th>\n",
              "      <td>21</td>\n",
              "    </tr>\n",
              "    <tr>\n",
              "      <th rowspan=\"2\" valign=\"top\">K</th>\n",
              "      <th rowspan=\"2\" valign=\"top\">10</th>\n",
              "      <th>train</th>\n",
              "      <td>142</td>\n",
              "    </tr>\n",
              "    <tr>\n",
              "      <th>val</th>\n",
              "      <td>61</td>\n",
              "    </tr>\n",
              "    <tr>\n",
              "      <th rowspan=\"2\" valign=\"top\">L</th>\n",
              "      <th rowspan=\"2\" valign=\"top\">11</th>\n",
              "      <th>train</th>\n",
              "      <td>38</td>\n",
              "    </tr>\n",
              "    <tr>\n",
              "      <th>val</th>\n",
              "      <td>17</td>\n",
              "    </tr>\n",
              "    <tr>\n",
              "      <th rowspan=\"2\" valign=\"top\">M</th>\n",
              "      <th rowspan=\"2\" valign=\"top\">12</th>\n",
              "      <th>train</th>\n",
              "      <td>85</td>\n",
              "    </tr>\n",
              "    <tr>\n",
              "      <th>val</th>\n",
              "      <td>37</td>\n",
              "    </tr>\n",
              "    <tr>\n",
              "      <th rowspan=\"2\" valign=\"top\">N</th>\n",
              "      <th rowspan=\"2\" valign=\"top\">13</th>\n",
              "      <th>train</th>\n",
              "      <td>45</td>\n",
              "    </tr>\n",
              "    <tr>\n",
              "      <th>val</th>\n",
              "      <td>19</td>\n",
              "    </tr>\n",
              "  </tbody>\n",
              "</table>\n",
              "</div>"
            ],
            "text/plain": [
              "                            description\n",
              "major_code label data_type             \n",
              "A          0     train               52\n",
              "                 val                 22\n",
              "B          1     train               28\n",
              "                 val                 12\n",
              "C          2     train               31\n",
              "                 val                 13\n",
              "D          3     train               52\n",
              "                 val                 22\n",
              "E          4     train               46\n",
              "                 val                 20\n",
              "F          5     train               67\n",
              "                 val                 29\n",
              "G          6     train               45\n",
              "                 val                 19\n",
              "H          7     train              151\n",
              "                 val                 65\n",
              "I          8     train               41\n",
              "                 val                 18\n",
              "J          9     train               49\n",
              "                 val                 21\n",
              "K          10    train              142\n",
              "                 val                 61\n",
              "L          11    train               38\n",
              "                 val                 17\n",
              "M          12    train               85\n",
              "                 val                 37\n",
              "N          13    train               45\n",
              "                 val                 19"
            ]
          },
          "metadata": {
            "tags": []
          },
          "execution_count": 116
        }
      ]
    },
    {
      "cell_type": "markdown",
      "metadata": {
        "id": "w-n0tSz-_xGs"
      },
      "source": [
        "In the following code we format the data so that it is easily usable in the model. In particular we specify a maximum length for the sentence (= maximum number of tokens) to 256. Indeed, we notice that to increase its value dramatically increases the time computation without any significant gain in the quality of the model: the first tokens are enough to predict the label. This value is higher than the one used in the previous section because CAMEMBERT divides the sentence in much more tokens (especially due to the bit-tokenization for unknown words).\n",
        "\n"
      ]
    },
    {
      "cell_type": "code",
      "metadata": {
        "id": "c4KTsIAtRNGe",
        "colab": {
          "base_uri": "https://localhost:8080/",
          "height": 66,
          "referenced_widgets": [
            "cd083cd220bf4d0eb636e6dcec5aab7d",
            "2ed76e171feb44d987dbb184de27b81a",
            "1cf5fb8f9dde44248b53b1ea9a00564d",
            "c050320c200a4ed9a20c2e7116e487f1",
            "e6e969673b664f21a7f81aa0eed804bd",
            "7e907b7c914142f1943124526d5e73bf",
            "c815c608615444c4bb9e540864dc25d7",
            "94e41e99779f4c6b9952a47c5119a782"
          ]
        },
        "outputId": "80b7d1f8-8ea2-42e1-f663-ca0d9dda0fad"
      },
      "source": [
        "tokenizer = CamembertTokenizer.from_pretrained(\"camembert-base\", \n",
        "                                          do_lower_case=True)\n",
        "                                          \n",
        "encoded_data_train = tokenizer.batch_encode_plus(\n",
        "    data_bert[data_bert.data_type=='train'].description.values, \n",
        "    add_special_tokens=True, \n",
        "    return_attention_mask=True, \n",
        "    pad_to_max_length=True, \n",
        "    max_length=256, \n",
        "    return_tensors='pt'\n",
        ")\n",
        "\n",
        "encoded_data_val = tokenizer.batch_encode_plus(\n",
        "    data_bert[data_bert.data_type=='val'].description.values, \n",
        "    add_special_tokens=True, \n",
        "    return_attention_mask=True, \n",
        "    pad_to_max_length=True, \n",
        "    max_length=256, \n",
        "    return_tensors='pt'\n",
        ")\n",
        "\n",
        "\n",
        "input_ids_train = encoded_data_train['input_ids']\n",
        "attention_masks_train = encoded_data_train['attention_mask']\n",
        "labels_train = torch.tensor(data_bert[data_bert.data_type=='train'].label.values)\n",
        "\n",
        "input_ids_val = encoded_data_val['input_ids']\n",
        "attention_masks_val = encoded_data_val['attention_mask']\n",
        "labels_val = torch.tensor(data_bert[data_bert.data_type=='val'].label.values)\n",
        "\n",
        "dataset_train = TensorDataset(input_ids_train, attention_masks_train, labels_train)\n",
        "dataset_val = TensorDataset(input_ids_val, attention_masks_val, labels_val)"
      ],
      "execution_count": 117,
      "outputs": [
        {
          "output_type": "display_data",
          "data": {
            "application/vnd.jupyter.widget-view+json": {
              "model_id": "cd083cd220bf4d0eb636e6dcec5aab7d",
              "version_minor": 0,
              "version_major": 2
            },
            "text/plain": [
              "HBox(children=(FloatProgress(value=0.0, description='Downloading', max=810912.0, style=ProgressStyle(descripti…"
            ]
          },
          "metadata": {
            "tags": []
          }
        },
        {
          "output_type": "stream",
          "text": [
            "\n"
          ],
          "name": "stdout"
        }
      ]
    },
    {
      "cell_type": "code",
      "metadata": {
        "colab": {
          "base_uri": "https://localhost:8080/"
        },
        "id": "2XPopTES8FlL",
        "outputId": "b03ec65f-8579-4888-f06f-1181b4e7779e"
      },
      "source": [
        "# To understand the previous max_length parameter two examples :\n",
        "## - in the first one the number of tokens is lower than max_len (the number 1 is used to complete the sentence)\n",
        "## - in the second one the number of tokens is higher than max_len (truncated sentence)\n",
        "print(tokenizer.tokenize(\"Bonjour, j'espère que vous apprécier la lecture de ce projet !\"))\n",
        "print(tokenizer.batch_encode_plus(\n",
        "    [\"Bonjour, j'espère que vous apprécier la lecture de ce projet !\"], \n",
        "    add_special_tokens=True, \n",
        "    return_attention_mask=True, \n",
        "    pad_to_max_length=True, \n",
        "    max_length=20, \n",
        "    return_tensors='pt'\n",
        ")['input_ids'])\n",
        "print(tokenizer.batch_encode_plus(\n",
        "    [\"Bonjour, j'espère que vous apprécier la lecture de ce projet !\"], \n",
        "    add_special_tokens=True, \n",
        "    return_attention_mask=True, \n",
        "    pad_to_max_length=True, \n",
        "    max_length=10, \n",
        "    return_tensors='pt'\n",
        ")['input_ids'])"
      ],
      "execution_count": 118,
      "outputs": [
        {
          "output_type": "stream",
          "text": [
            "['▁bonjour', ',', '▁j', \"'\", 'espère', '▁que', '▁vous', '▁apprécier', '▁la', '▁lecture', '▁de', '▁ce', '▁projet', '▁!']\n",
            "tensor([[   5, 5061,    7,   76,   11, 1612,   27,   39, 5593,   13, 1147,    8,\n",
            "           44,  327,   83,    6,    1,    1,    1,    1]])\n",
            "tensor([[   5, 5061,    7,   76,   11, 1612,   27,   39, 5593,    6]])\n"
          ],
          "name": "stdout"
        }
      ]
    },
    {
      "cell_type": "code",
      "metadata": {
        "id": "9-dR03MURl6P"
      },
      "source": [
        "#load the pretrained camembert model\n",
        "camembert = CamembertForSequenceClassification.from_pretrained(\"camembert-base\",\n",
        "                                                      num_labels=len(tag_to_ix),\n",
        "                                                      output_attentions=False,\n",
        "                                                      output_hidden_states=False)\n",
        "device = torch.device('cuda' if torch.cuda.is_available() else 'cpu')\n",
        "camembert.to(device)\n",
        "optimizer = AdamW(camembert.parameters(),\n",
        "                  lr=1e-5, \n",
        "                  eps=1e-8)"
      ],
      "execution_count": null,
      "outputs": []
    },
    {
      "cell_type": "code",
      "metadata": {
        "id": "KSLftUhPRw2h"
      },
      "source": [
        "# 5 epochs is enough to have good performance             \n",
        "epochs = 5\n",
        "batch_size = 3\n",
        "\n",
        "dataloader_train = DataLoader(dataset_train, \n",
        "                              sampler=RandomSampler(dataset_train), \n",
        "                              batch_size=batch_size)\n",
        "\n",
        "dataloader_validation = DataLoader(dataset_val, \n",
        "                                   sampler=SequentialSampler(dataset_val), \n",
        "                                   batch_size=batch_size)\n",
        "\n",
        "scheduler = get_linear_schedule_with_warmup(optimizer, \n",
        "                                            num_warmup_steps=0,\n",
        "                                            num_training_steps=len(dataloader_train)*epochs)"
      ],
      "execution_count": null,
      "outputs": []
    },
    {
      "cell_type": "code",
      "metadata": {
        "id": "QJcszLavR8tL"
      },
      "source": [
        "# To compute the f1-score\n",
        "def f1_score_func(preds, labels):\n",
        "    preds_flat = np.argmax(preds, axis=1).flatten()\n",
        "    labels_flat = labels.flatten()\n",
        "    return f1_score(labels_flat, preds_flat, average='weighted')\n",
        "# to compute an accuracy per class\n",
        "def accuracy_per_class(preds, labels):\n",
        "    label_dict_inverse = {v: k for k, v in tag_to_ix.items()}\n",
        "    \n",
        "    preds_flat = np.argmax(preds, axis=1).flatten()\n",
        "    labels_flat = labels.flatten()\n",
        "\n",
        "    for label in np.unique(labels_flat):\n",
        "        y_preds = preds_flat[labels_flat==label]\n",
        "        y_true = labels_flat[labels_flat==label]\n",
        "        print(f'Class: {label_dict_inverse[label]}')\n",
        "        print(f'Accuracy: {len(y_preds[y_preds==label])}/{len(y_true)}\\n')"
      ],
      "execution_count": null,
      "outputs": []
    },
    {
      "cell_type": "code",
      "metadata": {
        "id": "WRZQ8AdN8BSF"
      },
      "source": [
        "# The model by epoch is stored in a folder data_volum\n",
        "!mkdir data_volume"
      ],
      "execution_count": null,
      "outputs": []
    },
    {
      "cell_type": "code",
      "metadata": {
        "id": "W8zY2ZXNSBQh"
      },
      "source": [
        "random.seed(seed_val)\n",
        "np.random.seed(seed_val)\n",
        "torch.manual_seed(seed_val)\n",
        "torch.cuda.manual_seed_all(seed_val)\n",
        "\n",
        "#function to evaluate the model on the validation dataset\n",
        "def evaluate(dataloader_val):\n",
        "\n",
        "    camembert.eval()\n",
        "    \n",
        "    loss_val_total = 0\n",
        "    predictions, true_vals = [], []\n",
        "    \n",
        "    for batch in dataloader_val:\n",
        "        \n",
        "        batch = tuple(b.to(device) for b in batch)\n",
        "        \n",
        "        inputs = {'input_ids':      batch[0],\n",
        "                  'attention_mask': batch[1],\n",
        "                  'labels':         batch[2],\n",
        "                 }\n",
        "\n",
        "        with torch.no_grad():        \n",
        "            outputs = camembert(**inputs)\n",
        "            \n",
        "        loss = outputs[0]\n",
        "        logits = outputs[1]\n",
        "        loss_val_total += loss.item()\n",
        "\n",
        "        logits = logits.detach().cpu().numpy()\n",
        "        label_ids = inputs['labels'].cpu().numpy()\n",
        "        predictions.append(logits)\n",
        "        true_vals.append(label_ids)\n",
        "    \n",
        "    loss_val_avg = loss_val_total/len(dataloader_val) \n",
        "    \n",
        "    predictions = np.concatenate(predictions, axis=0)\n",
        "    true_vals = np.concatenate(true_vals, axis=0)\n",
        "            \n",
        "    return loss_val_avg, predictions, true_vals\n",
        "    \n",
        "for epoch in tqdm(range(1, epochs+1)):\n",
        "    \n",
        "    camembert.train()\n",
        "    \n",
        "    loss_train_total = 0\n",
        "\n",
        "    progress_bar = tqdm(dataloader_train, desc='Epoch {:1d}'.format(epoch), leave=False, disable=False)\n",
        "    for batch in progress_bar:\n",
        "\n",
        "        camembert.zero_grad()\n",
        "        \n",
        "        batch = tuple(b.to(device) for b in batch)\n",
        "        \n",
        "        inputs = {'input_ids':      batch[0],\n",
        "                  'attention_mask': batch[1],\n",
        "                  'labels':         batch[2],\n",
        "                 }       \n",
        "\n",
        "        outputs = camembert(**inputs)\n",
        "        \n",
        "        loss = outputs[0]\n",
        "        loss_train_total += loss.item()\n",
        "        loss.backward()\n",
        "\n",
        "        torch.nn.utils.clip_grad_norm_(camembert.parameters(), 1.0)\n",
        "\n",
        "        optimizer.step()\n",
        "        scheduler.step()\n",
        "        \n",
        "        progress_bar.set_postfix({'training_loss': '{:.3f}'.format(loss.item()/len(batch))})\n",
        "         \n",
        "        \n",
        "    torch.save(camembert.state_dict(), f'data_volume/finetuned_CAMEMBERT_epoch_{epoch}.model')\n",
        "        \n",
        "    tqdm.write(f'\\nEpoch {epoch}')\n",
        "    \n",
        "    loss_train_avg = loss_train_total/len(dataloader_train)            \n",
        "    tqdm.write(f'Training loss: {loss_train_avg}')\n",
        "    \n",
        "    val_loss, predictions, true_vals = evaluate(dataloader_validation)\n",
        "    val_f1 = f1_score_func(predictions, true_vals)\n",
        "    tqdm.write(f'Validation loss: {val_loss}')\n",
        "    tqdm.write(f'F1 Score (Weighted): {val_f1}')"
      ],
      "execution_count": null,
      "outputs": []
    },
    {
      "cell_type": "code",
      "metadata": {
        "id": "QVimNVyWFjqr"
      },
      "source": [
        "key_list = list(tag_to_ix.keys())\n",
        "val_list = list(tag_to_ix.values())\n",
        "\n",
        "# We retreive the predictions and the true values\n",
        "val_loss, predictions, true_vals = evaluate(dataloader_validation)\n",
        "preds_flat = np.argmax(predictions, axis=1).flatten()\n",
        "labels_flat = true_vals.flatten()\n",
        "# print key with val 100\n",
        "y_true = [key_list[val_list.index(i)] for i in true_vals]\n",
        "y_pred = [key_list[val_list.index(i)] for i in preds_flat]"
      ],
      "execution_count": null,
      "outputs": []
    },
    {
      "cell_type": "code",
      "metadata": {
        "colab": {
          "base_uri": "https://localhost:8080/",
          "height": 647
        },
        "id": "hftc50JqDTWz",
        "outputId": "37390b0e-2921-4b93-fee7-5b16d599df45"
      },
      "source": [
        "print( classification_report(y_true, y_pred ) )\n",
        "cm = confusion_matrix(y_true, y_pred , labels = key_list) \n",
        "df_cm = pd.DataFrame(cm, index=key_list, columns=key_list)\n",
        "# config plot sizes\n",
        "sn.set(font_scale=1.2)\n",
        "sn.heatmap(df_cm, annot=True, annot_kws={\"size\": 18}, cmap='coolwarm', linewidth=0.5, fmt=\"\")\n",
        "plt.tick_params(axis='both', which='major', labelsize=10, labelbottom = False, bottom=False, top = False, labeltop=True)\n",
        "plt.show()"
      ],
      "execution_count": null,
      "outputs": [
        {
          "output_type": "stream",
          "text": [
            "              precision    recall  f1-score   support\n",
            "\n",
            "           A       0.94      0.77      0.85        22\n",
            "           B       1.00      0.17      0.29        12\n",
            "           C       1.00      0.77      0.87        13\n",
            "           D       0.66      0.95      0.78        22\n",
            "           E       0.77      0.50      0.61        20\n",
            "           F       0.64      0.79      0.71        29\n",
            "           G       0.94      0.84      0.89        19\n",
            "           H       0.77      0.91      0.83        65\n",
            "           I       1.00      0.39      0.56        18\n",
            "           J       0.84      0.76      0.80        21\n",
            "           K       0.75      0.85      0.80        61\n",
            "           L       0.81      1.00      0.89        17\n",
            "           M       0.74      0.68      0.70        37\n",
            "           N       0.90      0.95      0.92        19\n",
            "\n",
            "    accuracy                           0.78       375\n",
            "   macro avg       0.84      0.74      0.75       375\n",
            "weighted avg       0.80      0.78      0.77       375\n",
            "\n"
          ],
          "name": "stdout"
        },
        {
          "output_type": "display_data",
          "data": {
            "image/png": "[encoded data removed]",
            "text/plain": [
              "<Figure size 432x288 with 2 Axes>"
            ]
          },
          "metadata": {
            "tags": []
          }
        }
      ]
    },
    {
      "cell_type": "code",
      "metadata": {
        "colab": {
          "base_uri": "https://localhost:8080/"
        },
        "id": "3pv3TWUGN17B",
        "outputId": "3acb462e-0150-4066-f91f-97deedba1e7d"
      },
      "source": [
        "accuracy_per_class(predictions, true_vals)"
      ],
      "execution_count": null,
      "outputs": [
        {
          "output_type": "stream",
          "text": [
            "Class: A\n",
            "Accuracy: 17/17\n",
            "\n",
            "Class: B\n",
            "Accuracy: 4/7\n",
            "\n",
            "Class: C\n",
            "Accuracy: 7/7\n",
            "\n",
            "Class: D\n",
            "Accuracy: 18/18\n",
            "\n",
            "Class: E\n",
            "Accuracy: 8/14\n",
            "\n",
            "Class: F\n",
            "Accuracy: 16/17\n",
            "\n",
            "Class: G\n",
            "Accuracy: 12/12\n",
            "\n",
            "Class: H\n",
            "Accuracy: 39/42\n",
            "\n",
            "Class: I\n",
            "Accuracy: 5/11\n",
            "\n",
            "Class: J\n",
            "Accuracy: 10/13\n",
            "\n",
            "Class: K\n",
            "Accuracy: 32/38\n",
            "\n",
            "Class: L\n",
            "Accuracy: 9/9\n",
            "\n",
            "Class: M\n",
            "Accuracy: 20/23\n",
            "\n",
            "Class: N\n",
            "Accuracy: 12/12\n",
            "\n"
          ],
          "name": "stdout"
        }
      ]
    },
    {
      "cell_type": "markdown",
      "metadata": {
        "id": "HJaWOsahOd-H"
      },
      "source": [
        "# 5 Best model with domain shift"
      ]
    },
    {
      "cell_type": "markdown",
      "metadata": {
        "id": "aD21fYm4DmRZ"
      },
      "source": [
        "# Conclusion"
      ]
    }
  ]
}